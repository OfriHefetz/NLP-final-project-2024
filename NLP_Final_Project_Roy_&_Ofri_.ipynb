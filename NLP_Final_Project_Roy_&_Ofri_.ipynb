{
  "cells": [
    {
      "cell_type": "markdown",
      "metadata": {
        "id": "0HABUWGDAb6H"
      },
      "source": [
        "# NLP Final Project 2024"
      ]
    },
    {
      "cell_type": "markdown",
      "metadata": {
        "id": "TySf4I12Ai8J"
      },
      "source": [
        "## Introduction\n",
        "This research investigates if advanced language models can act as rational agents in simulated second-price auctions (the winner pays the second-highest bid) by strategically bidding their true value based on limited information, as economic theory predicts for rational agents.\n",
        "\n",
        "\n",
        "In this work, we will use the following open-source LLMs:\n",
        "\n",
        "1. Meta-Llama-3.1-8B - https://huggingface.co/meta-llama/Meta-Llama-3.1-8B\n",
        "2. Mistral -https://huggingface.co/mistralai/Mistral-7B-v0.1\n",
        "3. T5 - https://huggingface.co/google/flan-t5-large"
      ]
    },
    {
      "cell_type": "code",
      "execution_count": 1,
      "metadata": {
        "colab": {
          "base_uri": "https://localhost:8080/"
        },
        "collapsed": true,
        "id": "yC_q8RBIisEY",
        "outputId": "c369eb8e-e2b7-4d57-9caf-d26d77158d88"
      },
      "outputs": [
        {
          "output_type": "stream",
          "name": "stdout",
          "text": [
            "Requirement already satisfied: transformers in /usr/local/lib/python3.10/dist-packages (4.42.4)\n",
            "Collecting transformers\n",
            "  Downloading transformers-4.44.0-py3-none-any.whl.metadata (43 kB)\n",
            "\u001b[2K     \u001b[90m━━━━━━━━━━━━━━━━━━━━━━━━━━━━━━━━━━━━━━━━\u001b[0m \u001b[32m43.7/43.7 kB\u001b[0m \u001b[31m1.6 MB/s\u001b[0m eta \u001b[36m0:00:00\u001b[0m\n",
            "\u001b[?25hRequirement already satisfied: filelock in /usr/local/lib/python3.10/dist-packages (from transformers) (3.15.4)\n",
            "Requirement already satisfied: huggingface-hub<1.0,>=0.23.2 in /usr/local/lib/python3.10/dist-packages (from transformers) (0.23.5)\n",
            "Requirement already satisfied: numpy>=1.17 in /usr/local/lib/python3.10/dist-packages (from transformers) (1.26.4)\n",
            "Requirement already satisfied: packaging>=20.0 in /usr/local/lib/python3.10/dist-packages (from transformers) (24.1)\n",
            "Requirement already satisfied: pyyaml>=5.1 in /usr/local/lib/python3.10/dist-packages (from transformers) (6.0.2)\n",
            "Requirement already satisfied: regex!=2019.12.17 in /usr/local/lib/python3.10/dist-packages (from transformers) (2024.5.15)\n",
            "Requirement already satisfied: requests in /usr/local/lib/python3.10/dist-packages (from transformers) (2.32.3)\n",
            "Requirement already satisfied: safetensors>=0.4.1 in /usr/local/lib/python3.10/dist-packages (from transformers) (0.4.4)\n",
            "Requirement already satisfied: tokenizers<0.20,>=0.19 in /usr/local/lib/python3.10/dist-packages (from transformers) (0.19.1)\n",
            "Requirement already satisfied: tqdm>=4.27 in /usr/local/lib/python3.10/dist-packages (from transformers) (4.66.5)\n",
            "Requirement already satisfied: fsspec>=2023.5.0 in /usr/local/lib/python3.10/dist-packages (from huggingface-hub<1.0,>=0.23.2->transformers) (2024.6.1)\n",
            "Requirement already satisfied: typing-extensions>=3.7.4.3 in /usr/local/lib/python3.10/dist-packages (from huggingface-hub<1.0,>=0.23.2->transformers) (4.12.2)\n",
            "Requirement already satisfied: charset-normalizer<4,>=2 in /usr/local/lib/python3.10/dist-packages (from requests->transformers) (3.3.2)\n",
            "Requirement already satisfied: idna<4,>=2.5 in /usr/local/lib/python3.10/dist-packages (from requests->transformers) (3.7)\n",
            "Requirement already satisfied: urllib3<3,>=1.21.1 in /usr/local/lib/python3.10/dist-packages (from requests->transformers) (2.0.7)\n",
            "Requirement already satisfied: certifi>=2017.4.17 in /usr/local/lib/python3.10/dist-packages (from requests->transformers) (2024.7.4)\n",
            "Downloading transformers-4.44.0-py3-none-any.whl (9.5 MB)\n",
            "\u001b[2K   \u001b[90m━━━━━━━━━━━━━━━━━━━━━━━━━━━━━━━━━━━━━━━━\u001b[0m \u001b[32m9.5/9.5 MB\u001b[0m \u001b[31m67.2 MB/s\u001b[0m eta \u001b[36m0:00:00\u001b[0m\n",
            "\u001b[?25hInstalling collected packages: transformers\n",
            "  Attempting uninstall: transformers\n",
            "    Found existing installation: transformers 4.42.4\n",
            "    Uninstalling transformers-4.42.4:\n",
            "      Successfully uninstalled transformers-4.42.4\n",
            "Successfully installed transformers-4.44.0\n",
            "Requirement already satisfied: accelerate in /usr/local/lib/python3.10/dist-packages (0.32.1)\n",
            "Requirement already satisfied: transformers in /usr/local/lib/python3.10/dist-packages (4.44.0)\n",
            "Requirement already satisfied: numpy<2.0.0,>=1.17 in /usr/local/lib/python3.10/dist-packages (from accelerate) (1.26.4)\n",
            "Requirement already satisfied: packaging>=20.0 in /usr/local/lib/python3.10/dist-packages (from accelerate) (24.1)\n",
            "Requirement already satisfied: psutil in /usr/local/lib/python3.10/dist-packages (from accelerate) (5.9.5)\n",
            "Requirement already satisfied: pyyaml in /usr/local/lib/python3.10/dist-packages (from accelerate) (6.0.2)\n",
            "Requirement already satisfied: torch>=1.10.0 in /usr/local/lib/python3.10/dist-packages (from accelerate) (2.3.1+cu121)\n",
            "Requirement already satisfied: huggingface-hub in /usr/local/lib/python3.10/dist-packages (from accelerate) (0.23.5)\n",
            "Requirement already satisfied: safetensors>=0.3.1 in /usr/local/lib/python3.10/dist-packages (from accelerate) (0.4.4)\n",
            "Requirement already satisfied: filelock in /usr/local/lib/python3.10/dist-packages (from transformers) (3.15.4)\n",
            "Requirement already satisfied: regex!=2019.12.17 in /usr/local/lib/python3.10/dist-packages (from transformers) (2024.5.15)\n",
            "Requirement already satisfied: requests in /usr/local/lib/python3.10/dist-packages (from transformers) (2.32.3)\n",
            "Requirement already satisfied: tokenizers<0.20,>=0.19 in /usr/local/lib/python3.10/dist-packages (from transformers) (0.19.1)\n",
            "Requirement already satisfied: tqdm>=4.27 in /usr/local/lib/python3.10/dist-packages (from transformers) (4.66.5)\n",
            "Requirement already satisfied: fsspec>=2023.5.0 in /usr/local/lib/python3.10/dist-packages (from huggingface-hub->accelerate) (2024.6.1)\n",
            "Requirement already satisfied: typing-extensions>=3.7.4.3 in /usr/local/lib/python3.10/dist-packages (from huggingface-hub->accelerate) (4.12.2)\n",
            "Requirement already satisfied: sympy in /usr/local/lib/python3.10/dist-packages (from torch>=1.10.0->accelerate) (1.13.1)\n",
            "Requirement already satisfied: networkx in /usr/local/lib/python3.10/dist-packages (from torch>=1.10.0->accelerate) (3.3)\n",
            "Requirement already satisfied: jinja2 in /usr/local/lib/python3.10/dist-packages (from torch>=1.10.0->accelerate) (3.1.4)\n",
            "Collecting nvidia-cuda-nvrtc-cu12==12.1.105 (from torch>=1.10.0->accelerate)\n",
            "  Using cached nvidia_cuda_nvrtc_cu12-12.1.105-py3-none-manylinux1_x86_64.whl.metadata (1.5 kB)\n",
            "Collecting nvidia-cuda-runtime-cu12==12.1.105 (from torch>=1.10.0->accelerate)\n",
            "  Using cached nvidia_cuda_runtime_cu12-12.1.105-py3-none-manylinux1_x86_64.whl.metadata (1.5 kB)\n",
            "Collecting nvidia-cuda-cupti-cu12==12.1.105 (from torch>=1.10.0->accelerate)\n",
            "  Using cached nvidia_cuda_cupti_cu12-12.1.105-py3-none-manylinux1_x86_64.whl.metadata (1.6 kB)\n",
            "Collecting nvidia-cudnn-cu12==8.9.2.26 (from torch>=1.10.0->accelerate)\n",
            "  Using cached nvidia_cudnn_cu12-8.9.2.26-py3-none-manylinux1_x86_64.whl.metadata (1.6 kB)\n",
            "Collecting nvidia-cublas-cu12==12.1.3.1 (from torch>=1.10.0->accelerate)\n",
            "  Using cached nvidia_cublas_cu12-12.1.3.1-py3-none-manylinux1_x86_64.whl.metadata (1.5 kB)\n",
            "Collecting nvidia-cufft-cu12==11.0.2.54 (from torch>=1.10.0->accelerate)\n",
            "  Using cached nvidia_cufft_cu12-11.0.2.54-py3-none-manylinux1_x86_64.whl.metadata (1.5 kB)\n",
            "Collecting nvidia-curand-cu12==10.3.2.106 (from torch>=1.10.0->accelerate)\n",
            "  Using cached nvidia_curand_cu12-10.3.2.106-py3-none-manylinux1_x86_64.whl.metadata (1.5 kB)\n",
            "Collecting nvidia-cusolver-cu12==11.4.5.107 (from torch>=1.10.0->accelerate)\n",
            "  Using cached nvidia_cusolver_cu12-11.4.5.107-py3-none-manylinux1_x86_64.whl.metadata (1.6 kB)\n",
            "Collecting nvidia-cusparse-cu12==12.1.0.106 (from torch>=1.10.0->accelerate)\n",
            "  Using cached nvidia_cusparse_cu12-12.1.0.106-py3-none-manylinux1_x86_64.whl.metadata (1.6 kB)\n",
            "Collecting nvidia-nccl-cu12==2.20.5 (from torch>=1.10.0->accelerate)\n",
            "  Using cached nvidia_nccl_cu12-2.20.5-py3-none-manylinux2014_x86_64.whl.metadata (1.8 kB)\n",
            "Collecting nvidia-nvtx-cu12==12.1.105 (from torch>=1.10.0->accelerate)\n",
            "  Using cached nvidia_nvtx_cu12-12.1.105-py3-none-manylinux1_x86_64.whl.metadata (1.7 kB)\n",
            "Requirement already satisfied: triton==2.3.1 in /usr/local/lib/python3.10/dist-packages (from torch>=1.10.0->accelerate) (2.3.1)\n",
            "Collecting nvidia-nvjitlink-cu12 (from nvidia-cusolver-cu12==11.4.5.107->torch>=1.10.0->accelerate)\n",
            "  Using cached nvidia_nvjitlink_cu12-12.6.20-py3-none-manylinux2014_x86_64.whl.metadata (1.5 kB)\n",
            "Requirement already satisfied: charset-normalizer<4,>=2 in /usr/local/lib/python3.10/dist-packages (from requests->transformers) (3.3.2)\n",
            "Requirement already satisfied: idna<4,>=2.5 in /usr/local/lib/python3.10/dist-packages (from requests->transformers) (3.7)\n",
            "Requirement already satisfied: urllib3<3,>=1.21.1 in /usr/local/lib/python3.10/dist-packages (from requests->transformers) (2.0.7)\n",
            "Requirement already satisfied: certifi>=2017.4.17 in /usr/local/lib/python3.10/dist-packages (from requests->transformers) (2024.7.4)\n",
            "Requirement already satisfied: MarkupSafe>=2.0 in /usr/local/lib/python3.10/dist-packages (from jinja2->torch>=1.10.0->accelerate) (2.1.5)\n",
            "Requirement already satisfied: mpmath<1.4,>=1.1.0 in /usr/local/lib/python3.10/dist-packages (from sympy->torch>=1.10.0->accelerate) (1.3.0)\n",
            "Using cached nvidia_cublas_cu12-12.1.3.1-py3-none-manylinux1_x86_64.whl (410.6 MB)\n",
            "Using cached nvidia_cuda_cupti_cu12-12.1.105-py3-none-manylinux1_x86_64.whl (14.1 MB)\n",
            "Using cached nvidia_cuda_nvrtc_cu12-12.1.105-py3-none-manylinux1_x86_64.whl (23.7 MB)\n",
            "Using cached nvidia_cuda_runtime_cu12-12.1.105-py3-none-manylinux1_x86_64.whl (823 kB)\n",
            "Using cached nvidia_cudnn_cu12-8.9.2.26-py3-none-manylinux1_x86_64.whl (731.7 MB)\n",
            "Using cached nvidia_cufft_cu12-11.0.2.54-py3-none-manylinux1_x86_64.whl (121.6 MB)\n",
            "Using cached nvidia_curand_cu12-10.3.2.106-py3-none-manylinux1_x86_64.whl (56.5 MB)\n",
            "Using cached nvidia_cusolver_cu12-11.4.5.107-py3-none-manylinux1_x86_64.whl (124.2 MB)\n",
            "Using cached nvidia_cusparse_cu12-12.1.0.106-py3-none-manylinux1_x86_64.whl (196.0 MB)\n",
            "Using cached nvidia_nccl_cu12-2.20.5-py3-none-manylinux2014_x86_64.whl (176.2 MB)\n",
            "Using cached nvidia_nvtx_cu12-12.1.105-py3-none-manylinux1_x86_64.whl (99 kB)\n",
            "Using cached nvidia_nvjitlink_cu12-12.6.20-py3-none-manylinux2014_x86_64.whl (19.7 MB)\n",
            "Installing collected packages: nvidia-nvtx-cu12, nvidia-nvjitlink-cu12, nvidia-nccl-cu12, nvidia-curand-cu12, nvidia-cufft-cu12, nvidia-cuda-runtime-cu12, nvidia-cuda-nvrtc-cu12, nvidia-cuda-cupti-cu12, nvidia-cublas-cu12, nvidia-cusparse-cu12, nvidia-cudnn-cu12, nvidia-cusolver-cu12\n",
            "Successfully installed nvidia-cublas-cu12-12.1.3.1 nvidia-cuda-cupti-cu12-12.1.105 nvidia-cuda-nvrtc-cu12-12.1.105 nvidia-cuda-runtime-cu12-12.1.105 nvidia-cudnn-cu12-8.9.2.26 nvidia-cufft-cu12-11.0.2.54 nvidia-curand-cu12-10.3.2.106 nvidia-cusolver-cu12-11.4.5.107 nvidia-cusparse-cu12-12.1.0.106 nvidia-nccl-cu12-2.20.5 nvidia-nvjitlink-cu12-12.6.20 nvidia-nvtx-cu12-12.1.105\n",
            "Collecting flash-attn\n",
            "  Downloading flash_attn-2.6.3.tar.gz (2.6 MB)\n",
            "\u001b[2K     \u001b[90m━━━━━━━━━━━━━━━━━━━━━━━━━━━━━━━━━━━━━━━━\u001b[0m \u001b[32m2.6/2.6 MB\u001b[0m \u001b[31m26.6 MB/s\u001b[0m eta \u001b[36m0:00:00\u001b[0m\n",
            "\u001b[?25h  Preparing metadata (setup.py) ... \u001b[?25l\u001b[?25hdone\n",
            "Requirement already satisfied: torch in /usr/local/lib/python3.10/dist-packages (from flash-attn) (2.3.1+cu121)\n",
            "Requirement already satisfied: einops in /usr/local/lib/python3.10/dist-packages (from flash-attn) (0.8.0)\n",
            "Requirement already satisfied: filelock in /usr/local/lib/python3.10/dist-packages (from torch->flash-attn) (3.15.4)\n",
            "Requirement already satisfied: typing-extensions>=4.8.0 in /usr/local/lib/python3.10/dist-packages (from torch->flash-attn) (4.12.2)\n",
            "Requirement already satisfied: sympy in /usr/local/lib/python3.10/dist-packages (from torch->flash-attn) (1.13.1)\n",
            "Requirement already satisfied: networkx in /usr/local/lib/python3.10/dist-packages (from torch->flash-attn) (3.3)\n",
            "Requirement already satisfied: jinja2 in /usr/local/lib/python3.10/dist-packages (from torch->flash-attn) (3.1.4)\n",
            "Requirement already satisfied: fsspec in /usr/local/lib/python3.10/dist-packages (from torch->flash-attn) (2024.6.1)\n",
            "Requirement already satisfied: nvidia-cuda-nvrtc-cu12==12.1.105 in /usr/local/lib/python3.10/dist-packages (from torch->flash-attn) (12.1.105)\n",
            "Requirement already satisfied: nvidia-cuda-runtime-cu12==12.1.105 in /usr/local/lib/python3.10/dist-packages (from torch->flash-attn) (12.1.105)\n",
            "Requirement already satisfied: nvidia-cuda-cupti-cu12==12.1.105 in /usr/local/lib/python3.10/dist-packages (from torch->flash-attn) (12.1.105)\n",
            "Requirement already satisfied: nvidia-cudnn-cu12==8.9.2.26 in /usr/local/lib/python3.10/dist-packages (from torch->flash-attn) (8.9.2.26)\n",
            "Requirement already satisfied: nvidia-cublas-cu12==12.1.3.1 in /usr/local/lib/python3.10/dist-packages (from torch->flash-attn) (12.1.3.1)\n",
            "Requirement already satisfied: nvidia-cufft-cu12==11.0.2.54 in /usr/local/lib/python3.10/dist-packages (from torch->flash-attn) (11.0.2.54)\n",
            "Requirement already satisfied: nvidia-curand-cu12==10.3.2.106 in /usr/local/lib/python3.10/dist-packages (from torch->flash-attn) (10.3.2.106)\n",
            "Requirement already satisfied: nvidia-cusolver-cu12==11.4.5.107 in /usr/local/lib/python3.10/dist-packages (from torch->flash-attn) (11.4.5.107)\n",
            "Requirement already satisfied: nvidia-cusparse-cu12==12.1.0.106 in /usr/local/lib/python3.10/dist-packages (from torch->flash-attn) (12.1.0.106)\n",
            "Requirement already satisfied: nvidia-nccl-cu12==2.20.5 in /usr/local/lib/python3.10/dist-packages (from torch->flash-attn) (2.20.5)\n",
            "Requirement already satisfied: nvidia-nvtx-cu12==12.1.105 in /usr/local/lib/python3.10/dist-packages (from torch->flash-attn) (12.1.105)\n",
            "Requirement already satisfied: triton==2.3.1 in /usr/local/lib/python3.10/dist-packages (from torch->flash-attn) (2.3.1)\n",
            "Requirement already satisfied: nvidia-nvjitlink-cu12 in /usr/local/lib/python3.10/dist-packages (from nvidia-cusolver-cu12==11.4.5.107->torch->flash-attn) (12.6.20)\n",
            "Requirement already satisfied: MarkupSafe>=2.0 in /usr/local/lib/python3.10/dist-packages (from jinja2->torch->flash-attn) (2.1.5)\n",
            "Requirement already satisfied: mpmath<1.4,>=1.1.0 in /usr/local/lib/python3.10/dist-packages (from sympy->torch->flash-attn) (1.3.0)\n",
            "Building wheels for collected packages: flash-attn\n",
            "  Building wheel for flash-attn (setup.py) ... \u001b[?25l\u001b[?25hdone\n",
            "  Created wheel for flash-attn: filename=flash_attn-2.6.3-cp310-cp310-linux_x86_64.whl size=187290390 sha256=c50f5de67a8b75bcfcf4a34257622475f9b56d59da58a539476a21db9d5b9867\n",
            "  Stored in directory: /root/.cache/pip/wheels/7e/e3/c3/89c7a2f3c4adc07cd1c675f8bb7b9ad4d18f64a72bccdfe826\n",
            "Successfully built flash-attn\n",
            "Installing collected packages: flash-attn\n",
            "Successfully installed flash-attn-2.6.3\n",
            "Requirement already satisfied: transformers in /usr/local/lib/python3.10/dist-packages (4.44.0)\n",
            "Collecting bitsandbytes\n",
            "  Downloading bitsandbytes-0.43.3-py3-none-manylinux_2_24_x86_64.whl.metadata (3.5 kB)\n",
            "Requirement already satisfied: filelock in /usr/local/lib/python3.10/dist-packages (from transformers) (3.15.4)\n",
            "Requirement already satisfied: huggingface-hub<1.0,>=0.23.2 in /usr/local/lib/python3.10/dist-packages (from transformers) (0.23.5)\n",
            "Requirement already satisfied: numpy>=1.17 in /usr/local/lib/python3.10/dist-packages (from transformers) (1.26.4)\n",
            "Requirement already satisfied: packaging>=20.0 in /usr/local/lib/python3.10/dist-packages (from transformers) (24.1)\n",
            "Requirement already satisfied: pyyaml>=5.1 in /usr/local/lib/python3.10/dist-packages (from transformers) (6.0.2)\n",
            "Requirement already satisfied: regex!=2019.12.17 in /usr/local/lib/python3.10/dist-packages (from transformers) (2024.5.15)\n",
            "Requirement already satisfied: requests in /usr/local/lib/python3.10/dist-packages (from transformers) (2.32.3)\n",
            "Requirement already satisfied: safetensors>=0.4.1 in /usr/local/lib/python3.10/dist-packages (from transformers) (0.4.4)\n",
            "Requirement already satisfied: tokenizers<0.20,>=0.19 in /usr/local/lib/python3.10/dist-packages (from transformers) (0.19.1)\n",
            "Requirement already satisfied: tqdm>=4.27 in /usr/local/lib/python3.10/dist-packages (from transformers) (4.66.5)\n",
            "Requirement already satisfied: torch in /usr/local/lib/python3.10/dist-packages (from bitsandbytes) (2.3.1+cu121)\n",
            "Requirement already satisfied: fsspec>=2023.5.0 in /usr/local/lib/python3.10/dist-packages (from huggingface-hub<1.0,>=0.23.2->transformers) (2024.6.1)\n",
            "Requirement already satisfied: typing-extensions>=3.7.4.3 in /usr/local/lib/python3.10/dist-packages (from huggingface-hub<1.0,>=0.23.2->transformers) (4.12.2)\n",
            "Requirement already satisfied: charset-normalizer<4,>=2 in /usr/local/lib/python3.10/dist-packages (from requests->transformers) (3.3.2)\n",
            "Requirement already satisfied: idna<4,>=2.5 in /usr/local/lib/python3.10/dist-packages (from requests->transformers) (3.7)\n",
            "Requirement already satisfied: urllib3<3,>=1.21.1 in /usr/local/lib/python3.10/dist-packages (from requests->transformers) (2.0.7)\n",
            "Requirement already satisfied: certifi>=2017.4.17 in /usr/local/lib/python3.10/dist-packages (from requests->transformers) (2024.7.4)\n",
            "Requirement already satisfied: sympy in /usr/local/lib/python3.10/dist-packages (from torch->bitsandbytes) (1.13.1)\n",
            "Requirement already satisfied: networkx in /usr/local/lib/python3.10/dist-packages (from torch->bitsandbytes) (3.3)\n",
            "Requirement already satisfied: jinja2 in /usr/local/lib/python3.10/dist-packages (from torch->bitsandbytes) (3.1.4)\n",
            "Requirement already satisfied: nvidia-cuda-nvrtc-cu12==12.1.105 in /usr/local/lib/python3.10/dist-packages (from torch->bitsandbytes) (12.1.105)\n",
            "Requirement already satisfied: nvidia-cuda-runtime-cu12==12.1.105 in /usr/local/lib/python3.10/dist-packages (from torch->bitsandbytes) (12.1.105)\n",
            "Requirement already satisfied: nvidia-cuda-cupti-cu12==12.1.105 in /usr/local/lib/python3.10/dist-packages (from torch->bitsandbytes) (12.1.105)\n",
            "Requirement already satisfied: nvidia-cudnn-cu12==8.9.2.26 in /usr/local/lib/python3.10/dist-packages (from torch->bitsandbytes) (8.9.2.26)\n",
            "Requirement already satisfied: nvidia-cublas-cu12==12.1.3.1 in /usr/local/lib/python3.10/dist-packages (from torch->bitsandbytes) (12.1.3.1)\n",
            "Requirement already satisfied: nvidia-cufft-cu12==11.0.2.54 in /usr/local/lib/python3.10/dist-packages (from torch->bitsandbytes) (11.0.2.54)\n",
            "Requirement already satisfied: nvidia-curand-cu12==10.3.2.106 in /usr/local/lib/python3.10/dist-packages (from torch->bitsandbytes) (10.3.2.106)\n",
            "Requirement already satisfied: nvidia-cusolver-cu12==11.4.5.107 in /usr/local/lib/python3.10/dist-packages (from torch->bitsandbytes) (11.4.5.107)\n",
            "Requirement already satisfied: nvidia-cusparse-cu12==12.1.0.106 in /usr/local/lib/python3.10/dist-packages (from torch->bitsandbytes) (12.1.0.106)\n",
            "Requirement already satisfied: nvidia-nccl-cu12==2.20.5 in /usr/local/lib/python3.10/dist-packages (from torch->bitsandbytes) (2.20.5)\n",
            "Requirement already satisfied: nvidia-nvtx-cu12==12.1.105 in /usr/local/lib/python3.10/dist-packages (from torch->bitsandbytes) (12.1.105)\n",
            "Requirement already satisfied: triton==2.3.1 in /usr/local/lib/python3.10/dist-packages (from torch->bitsandbytes) (2.3.1)\n",
            "Requirement already satisfied: nvidia-nvjitlink-cu12 in /usr/local/lib/python3.10/dist-packages (from nvidia-cusolver-cu12==11.4.5.107->torch->bitsandbytes) (12.6.20)\n",
            "Requirement already satisfied: MarkupSafe>=2.0 in /usr/local/lib/python3.10/dist-packages (from jinja2->torch->bitsandbytes) (2.1.5)\n",
            "Requirement already satisfied: mpmath<1.4,>=1.1.0 in /usr/local/lib/python3.10/dist-packages (from sympy->torch->bitsandbytes) (1.3.0)\n",
            "Downloading bitsandbytes-0.43.3-py3-none-manylinux_2_24_x86_64.whl (137.5 MB)\n",
            "\u001b[2K   \u001b[90m━━━━━━━━━━━━━━━━━━━━━━━━━━━━━━━━━━━━━━━━\u001b[0m \u001b[32m137.5/137.5 MB\u001b[0m \u001b[31m16.8 MB/s\u001b[0m eta \u001b[36m0:00:00\u001b[0m\n",
            "\u001b[?25hInstalling collected packages: bitsandbytes\n",
            "Successfully installed bitsandbytes-0.43.3\n",
            "Requirement already satisfied: accelerate in /usr/local/lib/python3.10/dist-packages (0.32.1)\n",
            "Requirement already satisfied: numpy<2.0.0,>=1.17 in /usr/local/lib/python3.10/dist-packages (from accelerate) (1.26.4)\n",
            "Requirement already satisfied: packaging>=20.0 in /usr/local/lib/python3.10/dist-packages (from accelerate) (24.1)\n",
            "Requirement already satisfied: psutil in /usr/local/lib/python3.10/dist-packages (from accelerate) (5.9.5)\n",
            "Requirement already satisfied: pyyaml in /usr/local/lib/python3.10/dist-packages (from accelerate) (6.0.2)\n",
            "Requirement already satisfied: torch>=1.10.0 in /usr/local/lib/python3.10/dist-packages (from accelerate) (2.3.1+cu121)\n",
            "Requirement already satisfied: huggingface-hub in /usr/local/lib/python3.10/dist-packages (from accelerate) (0.23.5)\n",
            "Requirement already satisfied: safetensors>=0.3.1 in /usr/local/lib/python3.10/dist-packages (from accelerate) (0.4.4)\n",
            "Requirement already satisfied: filelock in /usr/local/lib/python3.10/dist-packages (from torch>=1.10.0->accelerate) (3.15.4)\n",
            "Requirement already satisfied: typing-extensions>=4.8.0 in /usr/local/lib/python3.10/dist-packages (from torch>=1.10.0->accelerate) (4.12.2)\n",
            "Requirement already satisfied: sympy in /usr/local/lib/python3.10/dist-packages (from torch>=1.10.0->accelerate) (1.13.1)\n",
            "Requirement already satisfied: networkx in /usr/local/lib/python3.10/dist-packages (from torch>=1.10.0->accelerate) (3.3)\n",
            "Requirement already satisfied: jinja2 in /usr/local/lib/python3.10/dist-packages (from torch>=1.10.0->accelerate) (3.1.4)\n",
            "Requirement already satisfied: fsspec in /usr/local/lib/python3.10/dist-packages (from torch>=1.10.0->accelerate) (2024.6.1)\n",
            "Requirement already satisfied: nvidia-cuda-nvrtc-cu12==12.1.105 in /usr/local/lib/python3.10/dist-packages (from torch>=1.10.0->accelerate) (12.1.105)\n",
            "Requirement already satisfied: nvidia-cuda-runtime-cu12==12.1.105 in /usr/local/lib/python3.10/dist-packages (from torch>=1.10.0->accelerate) (12.1.105)\n",
            "Requirement already satisfied: nvidia-cuda-cupti-cu12==12.1.105 in /usr/local/lib/python3.10/dist-packages (from torch>=1.10.0->accelerate) (12.1.105)\n",
            "Requirement already satisfied: nvidia-cudnn-cu12==8.9.2.26 in /usr/local/lib/python3.10/dist-packages (from torch>=1.10.0->accelerate) (8.9.2.26)\n",
            "Requirement already satisfied: nvidia-cublas-cu12==12.1.3.1 in /usr/local/lib/python3.10/dist-packages (from torch>=1.10.0->accelerate) (12.1.3.1)\n",
            "Requirement already satisfied: nvidia-cufft-cu12==11.0.2.54 in /usr/local/lib/python3.10/dist-packages (from torch>=1.10.0->accelerate) (11.0.2.54)\n",
            "Requirement already satisfied: nvidia-curand-cu12==10.3.2.106 in /usr/local/lib/python3.10/dist-packages (from torch>=1.10.0->accelerate) (10.3.2.106)\n",
            "Requirement already satisfied: nvidia-cusolver-cu12==11.4.5.107 in /usr/local/lib/python3.10/dist-packages (from torch>=1.10.0->accelerate) (11.4.5.107)\n",
            "Requirement already satisfied: nvidia-cusparse-cu12==12.1.0.106 in /usr/local/lib/python3.10/dist-packages (from torch>=1.10.0->accelerate) (12.1.0.106)\n",
            "Requirement already satisfied: nvidia-nccl-cu12==2.20.5 in /usr/local/lib/python3.10/dist-packages (from torch>=1.10.0->accelerate) (2.20.5)\n",
            "Requirement already satisfied: nvidia-nvtx-cu12==12.1.105 in /usr/local/lib/python3.10/dist-packages (from torch>=1.10.0->accelerate) (12.1.105)\n",
            "Requirement already satisfied: triton==2.3.1 in /usr/local/lib/python3.10/dist-packages (from torch>=1.10.0->accelerate) (2.3.1)\n",
            "Requirement already satisfied: nvidia-nvjitlink-cu12 in /usr/local/lib/python3.10/dist-packages (from nvidia-cusolver-cu12==11.4.5.107->torch>=1.10.0->accelerate) (12.6.20)\n",
            "Requirement already satisfied: requests in /usr/local/lib/python3.10/dist-packages (from huggingface-hub->accelerate) (2.32.3)\n",
            "Requirement already satisfied: tqdm>=4.42.1 in /usr/local/lib/python3.10/dist-packages (from huggingface-hub->accelerate) (4.66.5)\n",
            "Requirement already satisfied: MarkupSafe>=2.0 in /usr/local/lib/python3.10/dist-packages (from jinja2->torch>=1.10.0->accelerate) (2.1.5)\n",
            "Requirement already satisfied: charset-normalizer<4,>=2 in /usr/local/lib/python3.10/dist-packages (from requests->huggingface-hub->accelerate) (3.3.2)\n",
            "Requirement already satisfied: idna<4,>=2.5 in /usr/local/lib/python3.10/dist-packages (from requests->huggingface-hub->accelerate) (3.7)\n",
            "Requirement already satisfied: urllib3<3,>=1.21.1 in /usr/local/lib/python3.10/dist-packages (from requests->huggingface-hub->accelerate) (2.0.7)\n",
            "Requirement already satisfied: certifi>=2017.4.17 in /usr/local/lib/python3.10/dist-packages (from requests->huggingface-hub->accelerate) (2024.7.4)\n",
            "Requirement already satisfied: mpmath<1.4,>=1.1.0 in /usr/local/lib/python3.10/dist-packages (from sympy->torch>=1.10.0->accelerate) (1.3.0)\n"
          ]
        }
      ],
      "source": [
        "!pip install --upgrade transformers\n",
        "!pip install accelerate transformers\n",
        "!pip install -U flash-attn --no-build-isolation\n",
        "!pip install transformers bitsandbytes\n",
        "!pip install accelerate"
      ]
    },
    {
      "cell_type": "code",
      "execution_count": 2,
      "metadata": {
        "id": "OjQdK3poAAoC"
      },
      "outputs": [],
      "source": [
        "from transformers import LlamaTokenizer, LlamaForCausalLM, pipeline, AutoModelForCausalLM, AutoTokenizer,T5Tokenizer, T5ForConditionalGeneration\n",
        "import torch\n",
        "\n",
        "from huggingface_hub import login\n",
        "import os\n",
        "import json\n",
        "\n",
        "from google.colab import files\n",
        "import torch\n",
        "\n",
        "torch.cuda.empty_cache()"
      ]
    },
    {
      "cell_type": "code",
      "execution_count": 3,
      "metadata": {
        "colab": {
          "base_uri": "https://localhost:8080/",
          "height": 162,
          "referenced_widgets": [
            "8c709e84c5414bed96a7c8f32a66accf",
            "836cfc929f8148d49c891fb55aa9bfda",
            "e6d86acf816b4c328eacf0384456f56f",
            "375102b35d224c2292877b1f7236e755",
            "ce78d938a4ee468da48d2f98095e38d0",
            "e09e92cf9859491eb49917db83c3f652",
            "67add31cb9a64aefa884c04fe43add4b",
            "c76ddf06f7ec485fb397012a73486280",
            "01edf83efbc54d28af9d7f004c36babc",
            "c5838c3755b4423aad705a62d5d7e1b4",
            "2062bf5778504bb3a8aec6c8f7347d95",
            "adcf85dbcb6e43549a243d1cff307e54",
            "12c16868c4464b41a4cccfda0757cd57",
            "7071df15e3bf47cdb05fef05d1139761",
            "d32b6150d1d4468f998cdfa0ea52a711",
            "a02329c3a2f84b36b33e6d3deff43554",
            "1ee2ff223de344a7931cbb89f6b56690",
            "66278bfa1c0a4a53b901df9c4939b78d",
            "fce29d4878614dedacb474e9ccfea432",
            "9ecd3c5752744af6b5c6dcd511670f5f",
            "8aeb674611b045d9b112d16ab8ceb1ec",
            "1a2ca166189c4a27995c1fb416ab0b6c",
            "d4b60be5fbce41e88d2577d5407d1609",
            "bd1cc9fbc3f04092b97309e5fd8321ae",
            "520360f39e7a4613a7249197816e1d6d",
            "d70bdaca7859453d9432559309bab3ae",
            "c70b5788dcdb47979083589737c22b70",
            "330386e1aac041c6bd90573126641b9d",
            "c6cf05fa6b894a399c9db86f0fe8ed6c",
            "8077d59f706f4be79c3af3edfe835015",
            "8ba3c4ddd46e4b4c864ac35ad7d9f923",
            "46989140f54445ba867c476198b5f64a"
          ]
        },
        "id": "BrPEeF9UtbHd",
        "outputId": "2ca6e95c-a35d-4b89-8556-c020525509a4"
      },
      "outputs": [
        {
          "output_type": "display_data",
          "data": {
            "text/plain": [
              "VBox(children=(HTML(value='<center> <img\\nsrc=https://huggingface.co/front/assets/huggingface_logo-noborder.sv…"
            ],
            "application/vnd.jupyter.widget-view+json": {
              "version_major": 2,
              "version_minor": 0,
              "model_id": "8c709e84c5414bed96a7c8f32a66accf"
            }
          },
          "metadata": {}
        }
      ],
      "source": [
        "# logging into huggingface\n",
        "login()"
      ]
    },
    {
      "cell_type": "markdown",
      "metadata": {
        "id": "LoioBItdp-XE"
      },
      "source": [
        "### Promts"
      ]
    },
    {
      "cell_type": "code",
      "execution_count": 4,
      "metadata": {
        "id": "AZkFGpfGRiYM"
      },
      "outputs": [],
      "source": [
        "# Convert test prompt to a single string\n",
        "def format_prompt(prompt_list):\n",
        "    formatted_prompt = \"\"\n",
        "    for prompt in prompt_list:\n",
        "        formatted_prompt += f\"{prompt['role']}: {prompt['content']}\\n\"\n",
        "    return formatted_prompt"
      ]
    },
    {
      "cell_type": "code",
      "execution_count": null,
      "metadata": {
        "id": "6U7NHY_2qE1Q"
      },
      "outputs": [],
      "source": [
        "# Zero shot\n",
        "small_item_zero = [\n",
        "    {\"role\": \"system\", \"content\": 'You are a bidder, participating in a second-price auction, where each bidder maximizes their expected utility by bidding their valuation of the item for sale. Each of the X participants is only exposed to their own bid.'},\n",
        "    {\"role\": \"user\", \"content\": \"Your value for the item is 1 USD. This is all the information you have (1) How much will you bid? Just return your bid and no other info. (2) Briefly explain your reasoning.\"}\n",
        "]\n",
        "\n",
        "\n",
        "medium_item_zero = [\n",
        "    {\"role\": \"system\", \"content\": 'You are a bidder, participating in a second-price auction, where each bidder maximizes their expected utility by bidding their valuation of the item for sale. Each of the X participant is only exposed to his own bid.'},\n",
        "    {\"role\": \"user\", \"content\": \"you value from the item is 1000 USD. This is all the information you have. (1) How much will you bid? Just return your bid and no other info.(2) briefly explain your reasoning.\"}\n",
        "]\n",
        "\n",
        "big_item_zero = [\n",
        "    {\"role\": \"system\", \"content\": 'You are a bidder, participating in a second-price auction, where each bidder maximizes their expected utility by bidding their valuation of the item for sale. Each of the X participant is only exposed to his own bid.'},\n",
        "    {\"role\": \"user\", \"content\": \"you value from the item is 10,000 USD. This is all the information you have. (1) How much will you bid? Just return your bid and no other info.(2) briefly explain your reasoning.\"}\n",
        "]\n",
        "\n",
        "\n",
        "giant_item_zero = [\n",
        "    {\"role\": \"system\", \"content\": 'You are a bidder, participating in a second-price auction, where each bidder maximizes their expected utility by bidding their valuation of the item for sale. Each of the X participant is only exposed to his own bid.'},\n",
        "    {\"role\": \"user\", \"content\": \"you value from the item is 10,000,000,000,000,000,000 USD. This is all the information you have. (1) How much will you bid? Just return your bid and no other info.(2) briefly explain your reasoning.\"}\n",
        "]"
      ]
    },
    {
      "cell_type": "code",
      "execution_count": null,
      "metadata": {
        "id": "DNRVm6UqR3wa"
      },
      "outputs": [],
      "source": [
        "# Zero shot\n",
        "formatted_small_zero = format_prompt(small_item_zero)\n",
        "formatted_medium_zero = format_prompt(medium_item_zero)\n",
        "formatted_big_zero = format_prompt(big_item_zero)\n",
        "formatted_giant_zero = format_prompt(giant_item_zero)"
      ]
    },
    {
      "cell_type": "code",
      "source": [
        "# One shot\n",
        "small_item_one = [\n",
        "    {\"role\": \"system\", \"content\": 'You are a bidder, participating in a second-price auction, where each bidder maximizes their expected utility by bidding their valuation of the item for sale. Each of the X participants is only exposed to their own bid.'},\n",
        "    {\"role\": \"user\", \"content\": \"Your value for the item is 1 USD. This is all the information you have. (1) How much will you bid? Just return your bid and no other info. (2) Briefly explain your reasoning.\"},\n",
        "    {\"role\": \"assistant\", \"content\": \"I will bid 1 USD. My reasoning is that in a second-price auction, bidding your true valuation maximizes your expected utility, as you pay the second-highest bid if you win.\"},\n",
        "    {\"role\": \"user\", \"content\": \"Your value for the item is 2 USD. This is all the information you have. (1) How much will you bid? Just return your bid and no other info. (2) Briefly explain your reasoning.\"}\n",
        "]\n",
        "\n",
        "medium_item_one = [\n",
        "    {\"role\": \"system\", \"content\": 'You are a bidder, participating in a second-price auction, where each bidder maximizes their expected utility by bidding their valuation of the item for sale. Each of the X participants is only exposed to their own bid.'},\n",
        "    {\"role\": \"user\", \"content\": \"You value the item at 1000 USD. This is all the information you have. (1) How much will you bid? Just return your bid and no other info. (2) Briefly explain your reasoning.\"},\n",
        "    {\"role\": \"assistant\", \"content\": \"I will bid 1000 USD. My reasoning is that in a second-price auction, bidding your true valuation ensures that if you win, you pay a price lower than or equal to your valuation, maximizing your utility.\"},\n",
        "    {\"role\": \"user\", \"content\": \"You value the item at 1500 USD. This is all the information you have. (1) How much will you bid? Just return your bid and no other info. (2) Briefly explain your reasoning.\"}\n",
        "]\n",
        "\n",
        "big_item_one = [\n",
        "    {\"role\": \"system\", \"content\": 'You are a bidder, participating in a second-price auction, where each bidder maximizes their expected utility by bidding their valuation of the item for sale. Each of the X participants is only exposed to their own bid.'},\n",
        "    {\"role\": \"user\", \"content\": \"You value the item at 10,000 USD. This is all the information you have. (1) How much will you bid? Just return your bid and no other info. (2) Briefly explain your reasoning.\"},\n",
        "    {\"role\": \"assistant\", \"content\": \"I will bid 10,000 USD. My reasoning is that in a second-price auction, bidding your true valuation ensures that you maximize your utility by either winning at a favorable price or not winning if the price is too high.\"},\n",
        "    {\"role\": \"user\", \"content\": \"You value the item at 15,000 USD. This is all the information you have. (1) How much will you bid? Just return your bid and no other info. (2) Briefly explain your reasoning.\"}\n",
        "]\n",
        "\n",
        "giant_item_one = [\n",
        "    {\"role\": \"system\", \"content\": 'You are a bidder, participating in a second-price auction, where each bidder maximizes their expected utility by bidding their valuation of the item for sale. Each of the X participants is only exposed to their own bid.'},\n",
        "    {\"role\": \"user\", \"content\": \"You value the item at 10,000,000,000,000,000,000 USD. This is all the information you have. (1) How much will you bid? Just return your bid and no other info. (2) Briefly explain your reasoning.\"},\n",
        "    {\"role\": \"assistant\", \"content\": \"I will bid 10,000,000,000,000,000,000 USD. My reasoning is that bidding your true valuation in a second-price auction ensures that you either win at a price you are willing to pay or do not win at all, which maximizes your expected utility.\"},\n",
        "    {\"role\": \"user\", \"content\": \"You value the item at 15,000,000,000,000,000,000 USD. This is all the information you have. (1) How much will you bid? Just return your bid and no other info. (2) Briefly explain your reasoning.\"}\n",
        "]"
      ],
      "metadata": {
        "id": "YnYvyJADfQWT"
      },
      "execution_count": 5,
      "outputs": []
    },
    {
      "cell_type": "code",
      "source": [
        "formatted_small_one = format_prompt(small_item_one)\n",
        "formatted_medium_one = format_prompt(medium_item_one)\n",
        "formatted_big_one = format_prompt(big_item_one)\n",
        "formatted_giant_one = format_prompt(giant_item_one)"
      ],
      "metadata": {
        "id": "1AfzRkUNgN3M"
      },
      "execution_count": 6,
      "outputs": []
    },
    {
      "cell_type": "code",
      "execution_count": 7,
      "metadata": {
        "id": "9J0DyugvZZr7"
      },
      "outputs": [],
      "source": [
        "N = 10 # Number of responses we are looking to get"
      ]
    },
    {
      "cell_type": "code",
      "execution_count": 8,
      "metadata": {
        "colab": {
          "base_uri": "https://localhost:8080/"
        },
        "id": "GzqrdZ1bp2GG",
        "outputId": "11e7d62d-7621-4177-ca92-f545fb35414d"
      },
      "outputs": [
        {
          "output_type": "stream",
          "name": "stdout",
          "text": [
            "Using device: cuda\n"
          ]
        }
      ],
      "source": [
        "# Ensure GPU is selected in Colab runtime\n",
        "device = \"cuda\" if torch.cuda.is_available() else \"cpu\"\n",
        "print(f\"Using device: {device}\")"
      ]
    },
    {
      "cell_type": "markdown",
      "metadata": {
        "id": "tfta3-fWDiBo"
      },
      "source": [
        "### *Mistral*"
      ]
    },
    {
      "cell_type": "code",
      "execution_count": 9,
      "metadata": {
        "colab": {
          "base_uri": "https://localhost:8080/",
          "height": 510,
          "referenced_widgets": [
            "36ade4c725b54d4b9f1652bf4eaa2833",
            "ae2b8cde157e46beb0615298b04baaf8",
            "e90f7e6f3cad467fab6ca7b18ff4b445",
            "f2ef4e728a43446da34504d72c883663",
            "950f093767344653919a3c69808ba492",
            "73c050a1ba33454d908fa4a239b3af70",
            "8f18a2aaf5c64a5598f4b94bd090a1cc",
            "8baaab059b464d398afa06a028ca2af6",
            "6ab492a3b0644ca2aff4e450fd7ab4f6",
            "3b4ac9d0deb4454299ddb0286908511c",
            "b559e5e0c512473e819990cc518e9ad6",
            "b139b822b17849a9aa592cfc246c495b",
            "64188dee9c4646b08db1b71c4f751d29",
            "c3c412f559a04574bc6cc45bef89cdd1",
            "f97107b10b1c4c0fbba71b958ba08886",
            "f3de2020c5294fa9b918f122a9702db2",
            "eb71fb49c23e494891e82c5623501b47",
            "d3951544108f4d6e96b863adfdc9dae8",
            "c4720386a8014e8085e9c8f0fcb94dd4",
            "2ed999f3e57846d59cb7a368a67999bb",
            "ee9725cb56ed43d2b96bceaefb9e7719",
            "fd307013b9594155bcb8380c54c6d0b7",
            "d4c77d6216f548bfb61a489bb7cafb35",
            "edfc3d93d8bc45f08f45b962e1aad7e8",
            "350a04ae3a5948db96dab28df06ae6f0",
            "8b0d0a28299546e89e7b55f45ac3e728",
            "1231e739970745698f5942662202f50e",
            "7c20c87ee2f247ab98cb1f6485cf6542",
            "a0ca3667c653418197f7e9e1e5b70ffa",
            "33fe46979bb743a4b211507fcbaba5ce",
            "4b948bbd93384e58b41e5824ac924826",
            "338b388c52aa4ab69eadfbda2cb064ef",
            "b5b61483452d4646b86af097e98c70d3",
            "01a2cf39acae42a7805d8f942e8066cb",
            "bedb0ab13ae44d6983ae53c4459ed4c2",
            "c061a69cd9ab456b9932a2fc8c3e81ed",
            "baed2a3167ba4ccfabb6d3fffbc7f130",
            "aeace81465104115bd4389abe5d74a55",
            "2cc61742dee44f9cbcfce2c789f6679d",
            "c3d7b85e4d5b47869012f672e8fd8f23",
            "c8d64f411d364823ab1e3e4622ab2678",
            "48f35bac0b824003b11dc8971218f39e",
            "bd96938c3e1a40289956592daf4bf1eb",
            "aed858b81d054e248c2ec5325ac54953",
            "9891343402e24389ade4d86079d1741d",
            "fdaaa3c79d5e4a549e09b7d2fe7254f9",
            "8cde657676164235bb4c731f0bd8bb01",
            "70beb4ed13f14c0fa3c836289ac65df4",
            "9cb9c46ab6894fcebe54427e5bc1d892",
            "4f8671bb2b3c433387d06858555949f4",
            "385de87db4e34df79cf86c4ce8397060",
            "804557bbea9440478f90a276e057171b",
            "b32faf797af74db7929731efcca052ce",
            "3727643ba83a43f8a2617b1f2b6a1c89",
            "30538b6964344fd7b52887e6b78c39ff",
            "8b8d2ffa53a642c2a10952d3209745d5",
            "d4054e3eb0b8465ba0fde1982124f362",
            "979ddc43b70e4dd3866dd7f4660c83f6",
            "9b0d310e75c0417da5194529e1d0619f",
            "7c76fe65d7f54534ac2b793843e8e635",
            "87576ec79eb44fd7832d5bb6060f664f",
            "9c3db403d54e4d3b90e93ce0eaf5b344",
            "96c9ef7f5afc4b73b5f888167d4a8f97",
            "bfe7d992c461479a9c10bd8e3a2717f2",
            "f1a1623a3533497f89b409c44ad8858c",
            "221e2fc6ca4749fd8cc26877885f58ec",
            "6f204029fdeb4664a0f51e8260b04567",
            "1936967e8e764ab8af5cdc823889d637",
            "a7bf9d07690a4f7d8d9ccde46666d75d",
            "1a306a071e4f4bae9a5aca7a2455f201",
            "f40469cba3044264a5b6c9926606f572",
            "b9732564751d485588458fe1be1ed55a",
            "ddbc17b114934482931ac6a8b8796046",
            "bcf55411f2e745bc9cdc9e8de71840b2",
            "038ea10e51d64aedabfa94e46a650dea",
            "4dcb10a08f9444a2a7178a8f80d0e4c8",
            "98f6fdcf4bb6424aa65212a3e0de0bf8",
            "af6080e0be1147f5be29de7a0602f5a5",
            "dc0e4839da64441b8dc291b0cef4fa2e",
            "3a5b5c8e15874035bf3a89929ffb1ad7",
            "32f10764a8d145ef959b488b0ba4bccb",
            "4be94d0438f2407b8f15b5951eb6a76f",
            "77ebfdf13aa94fd1977b1570b274ee39",
            "b7dad828be744e08990f11eeeb935096",
            "0155dfb4d8c9498599f6d0005014d595",
            "87547c10562e42c5991abec2eae6ae8c",
            "4b6eee6c0a714367b2bd535303de46ca",
            "b39fc051bc62413090071fa8a6364aec",
            "9ef2cc4a3feb4a8087d6abbe162eefc9",
            "2e5a7fa8d00e4797b41add65f804f0dd",
            "1e35fef150fe46baa6494fea210646f7",
            "35e8fd2817fd4e889a6843c4c143a3b3",
            "d388aba6dcf24011b34d9dfbf6cd7059",
            "5c7a580ed175404b9f595ab5a6e59265",
            "609f31fca4fa44f097b02d6f8298d807",
            "4c9914e2c18e4b5682d7be47426a4a8f",
            "17f93c5153644de094c3d8c7bb2d70c9",
            "10bc5d753075499c9646185937f221dc",
            "f63b0bfbbcc24d659921e996c091e474",
            "2ed50aca47074803bf209c67f0a4409b",
            "c172809747c54d908e844c9a16e136b2",
            "8515e95e12634e6a99a43280eab597cf",
            "1138b90a368b406785f8ad0203d17a51",
            "17540563bddd402eb29bbdeeda538d96",
            "9f8f1d2258804104abe41dec05d55665",
            "6d9ed493dc53450f8531a8955c4b5297",
            "ef6e878bf101440489af440132c9779a",
            "8452f0b5896c4dc9828c3080d66b44dc",
            "dbd27a854a99421c82f88548451dd0fd",
            "ad8d583a8d4b4f99a71fc9d1ccaf5a3f",
            "df644a94ebff427e8777035a9b9353fc",
            "0a6ed53b01c84f90ba27f306957271f2",
            "21a09b73c3944baea1ab7117a691fbd3",
            "a3a91061c7c848eaa760e7fb18a1f100",
            "f63e1b51cc174db39086f6f1d11dcc61",
            "abbe302add854fc6a85517f8610cd797",
            "4184525c4d6448988805b20fac513334",
            "65dadf92fcc042f48af2fd0b60218c96",
            "a1c643b603ae48c986c4bea16c257f59",
            "e1d544d9bdb449beadbe5a81386fdd7b",
            "52ef90fe151749958fe2c979be85443f"
          ]
        },
        "collapsed": true,
        "id": "QIsltTU9_OuS",
        "outputId": "dc713bb8-0efd-4714-e36c-1aad471b3f7f"
      },
      "outputs": [
        {
          "output_type": "stream",
          "name": "stderr",
          "text": [
            "/usr/local/lib/python3.10/dist-packages/huggingface_hub/utils/_token.py:89: UserWarning: \n",
            "The secret `HF_TOKEN` does not exist in your Colab secrets.\n",
            "To authenticate with the Hugging Face Hub, create a token in your settings tab (https://huggingface.co/settings/tokens), set it as secret in your Google Colab and restart your session.\n",
            "You will be able to reuse this secret in all of your notebooks.\n",
            "Please note that authentication is recommended but still optional to access public models or datasets.\n",
            "  warnings.warn(\n"
          ]
        },
        {
          "output_type": "display_data",
          "data": {
            "text/plain": [
              "config.json:   0%|          | 0.00/571 [00:00<?, ?B/s]"
            ],
            "application/vnd.jupyter.widget-view+json": {
              "version_major": 2,
              "version_minor": 0,
              "model_id": "36ade4c725b54d4b9f1652bf4eaa2833"
            }
          },
          "metadata": {}
        },
        {
          "output_type": "display_data",
          "data": {
            "text/plain": [
              "model.safetensors.index.json:   0%|          | 0.00/25.1k [00:00<?, ?B/s]"
            ],
            "application/vnd.jupyter.widget-view+json": {
              "version_major": 2,
              "version_minor": 0,
              "model_id": "b139b822b17849a9aa592cfc246c495b"
            }
          },
          "metadata": {}
        },
        {
          "output_type": "display_data",
          "data": {
            "text/plain": [
              "Downloading shards:   0%|          | 0/2 [00:00<?, ?it/s]"
            ],
            "application/vnd.jupyter.widget-view+json": {
              "version_major": 2,
              "version_minor": 0,
              "model_id": "d4c77d6216f548bfb61a489bb7cafb35"
            }
          },
          "metadata": {}
        },
        {
          "output_type": "display_data",
          "data": {
            "text/plain": [
              "model-00001-of-00002.safetensors:   0%|          | 0.00/9.94G [00:00<?, ?B/s]"
            ],
            "application/vnd.jupyter.widget-view+json": {
              "version_major": 2,
              "version_minor": 0,
              "model_id": "01a2cf39acae42a7805d8f942e8066cb"
            }
          },
          "metadata": {}
        },
        {
          "output_type": "display_data",
          "data": {
            "text/plain": [
              "model-00002-of-00002.safetensors:   0%|          | 0.00/4.54G [00:00<?, ?B/s]"
            ],
            "application/vnd.jupyter.widget-view+json": {
              "version_major": 2,
              "version_minor": 0,
              "model_id": "9891343402e24389ade4d86079d1741d"
            }
          },
          "metadata": {}
        },
        {
          "output_type": "display_data",
          "data": {
            "text/plain": [
              "Loading checkpoint shards:   0%|          | 0/2 [00:00<?, ?it/s]"
            ],
            "application/vnd.jupyter.widget-view+json": {
              "version_major": 2,
              "version_minor": 0,
              "model_id": "8b8d2ffa53a642c2a10952d3209745d5"
            }
          },
          "metadata": {}
        },
        {
          "output_type": "display_data",
          "data": {
            "text/plain": [
              "generation_config.json:   0%|          | 0.00/116 [00:00<?, ?B/s]"
            ],
            "application/vnd.jupyter.widget-view+json": {
              "version_major": 2,
              "version_minor": 0,
              "model_id": "6f204029fdeb4664a0f51e8260b04567"
            }
          },
          "metadata": {}
        },
        {
          "output_type": "stream",
          "name": "stderr",
          "text": [
            "WARNING:accelerate.big_modeling:Some parameters are on the meta device device because they were offloaded to the cpu.\n"
          ]
        },
        {
          "output_type": "display_data",
          "data": {
            "text/plain": [
              "tokenizer_config.json:   0%|          | 0.00/996 [00:00<?, ?B/s]"
            ],
            "application/vnd.jupyter.widget-view+json": {
              "version_major": 2,
              "version_minor": 0,
              "model_id": "af6080e0be1147f5be29de7a0602f5a5"
            }
          },
          "metadata": {}
        },
        {
          "output_type": "display_data",
          "data": {
            "text/plain": [
              "tokenizer.model:   0%|          | 0.00/493k [00:00<?, ?B/s]"
            ],
            "application/vnd.jupyter.widget-view+json": {
              "version_major": 2,
              "version_minor": 0,
              "model_id": "9ef2cc4a3feb4a8087d6abbe162eefc9"
            }
          },
          "metadata": {}
        },
        {
          "output_type": "display_data",
          "data": {
            "text/plain": [
              "tokenizer.json:   0%|          | 0.00/1.80M [00:00<?, ?B/s]"
            ],
            "application/vnd.jupyter.widget-view+json": {
              "version_major": 2,
              "version_minor": 0,
              "model_id": "2ed50aca47074803bf209c67f0a4409b"
            }
          },
          "metadata": {}
        },
        {
          "output_type": "display_data",
          "data": {
            "text/plain": [
              "special_tokens_map.json:   0%|          | 0.00/414 [00:00<?, ?B/s]"
            ],
            "application/vnd.jupyter.widget-view+json": {
              "version_major": 2,
              "version_minor": 0,
              "model_id": "df644a94ebff427e8777035a9b9353fc"
            }
          },
          "metadata": {}
        }
      ],
      "source": [
        "# Path to offload directory\n",
        "offload_dir = \"/content/offload_dir\"\n",
        "\n",
        "# Create offload directory if it doesn't exist\n",
        "os.makedirs(offload_dir, exist_ok=True)\n",
        "\n",
        "# Load the model\n",
        "Mistral_model = AutoModelForCausalLM.from_pretrained(\n",
        "    \"mistralai/Mistral-7B-v0.1\",\n",
        "    torch_dtype=torch.float16,\n",
        "    device_map=\"auto\",\n",
        "    offload_folder=offload_dir\n",
        ")\n",
        "\n",
        "# Load the tokenizer\n",
        "Mistral_tokenizer = AutoTokenizer.from_pretrained(\"mistralai/Mistral-7B-v0.1\")"
      ]
    },
    {
      "cell_type": "code",
      "execution_count": 15,
      "metadata": {
        "id": "a2ZLmoMphcWH"
      },
      "outputs": [],
      "source": [
        "def mistral_generate(prompt):\n",
        "    Mistral_model_inputs = Mistral_tokenizer(prompt, return_tensors=\"pt\")\n",
        "\n",
        "    # Ensure the model inputs are on the same device as the model\n",
        "    Mistral_model_inputs = {k: v.to(device) for k, v in Mistral_model_inputs.items()}\n",
        "\n",
        "    # Generate text\n",
        "    Mistral_generated_ids = Mistral_model.generate(**Mistral_model_inputs, max_new_tokens=150, do_sample=True, temperature=1,top_k=50,top_p=0.9)\n",
        "\n",
        "    # Decode & return\n",
        "    output_Mistral = Mistral_tokenizer.batch_decode(Mistral_generated_ids, skip_special_tokens=True)[0]\n",
        "    return output_Mistral"
      ]
    },
    {
      "cell_type": "markdown",
      "metadata": {
        "id": "AEJdzsNJpydF"
      },
      "source": [
        "### T5"
      ]
    },
    {
      "cell_type": "code",
      "execution_count": null,
      "metadata": {
        "colab": {
          "base_uri": "https://localhost:8080/",
          "height": 1000,
          "referenced_widgets": [
            "b55b4ac2b6f24b6b894e3a10d87fde52",
            "11a591cd1245484987a408f2388428ba",
            "4c83073d122240e98014b1a40a8dc672",
            "c3965d648874472ba9a41ab1eb2d2034",
            "05ed6e3d1eba4a7c8213083ad4f40d31",
            "48a7009a9b72491197aa8e6cd91bf0a0",
            "3e66d2d03ed0484eb9562ab3ba889ad5",
            "3f6de5982e8f4669b17d18eeb6ddf376",
            "325e82d1f561474e92a3aed67ce4b103",
            "4d8259fa494b486abe32f2d6d0a31695",
            "ce186bd70862448889d5c64d58d58f80",
            "8073377b4d774a6f8d65ec4ee1d5b9c0",
            "fd16998cd29b4fe4b53569ace549e654",
            "3f53a1bf05564e29b7edef4e98b3b6c9",
            "a2c7aa92475b4e79a9553f2f1d2d14c8",
            "960294447cf34914b81204cefb73e310",
            "8b6dff3f11d54355b0c6b190ae21a6de",
            "43e939d207824108b7e8beadb0f5c395",
            "a036c200fc1d43c988054e4c786567cd",
            "f6170eb0041442deb5046d52d725df22",
            "ad11ff729cb84e7aa963a3b201c2a450",
            "3079dd4f85ff410c9eb73fa54e7ceab9",
            "72771332931041b7a084f672a672b523",
            "c6bdf3bcb3c94c02b1334118b96272d8",
            "35cc3f8215424206ab02b57f3ae13e7a",
            "c7671493f41a464ca739bbbd79f8d41a",
            "069e01bbab5e41b0beb287e57976fc2d",
            "6920f140897149e0b4ae288e6e4a56da",
            "2cbeed52afe447e584c859570424a87d",
            "6116ce78efae48f3802cc91beca856b1",
            "bf8b0075ed064b38b5d0332755ab0ecf",
            "26fac1124dc74cc086ac73a5312b4cde",
            "33fe1549cb044dd0a2f6b7ee3caad5ff",
            "fc7fc26e649b4360835d907860d291b9",
            "8a2ef83ecdf84869bd1e0fa2f1f040b9",
            "678e7e2c9b114bd599dc7bd4e0f69c2b",
            "318ff88d970c4d4a9b0c2af0406195cc",
            "c4edd2a30aa649af88860c88f353c3bf",
            "cdf29c26339a462b8a2bf9988cb0cc70",
            "34c8551c8cc746a79cfa8862dd10c719",
            "cf573254118844d287e5869194d0954b",
            "547d06d750f44e2594f46876893e122c",
            "90a055b052a54e329941bab847791662",
            "e1a7289e62d2494d9c8fcf20a1033b3b",
            "36b5ad723aea44eaaa7a879c4388655b",
            "9737ee5cb701439bb00a1a916b3ba02d",
            "441c390db80044f0a5add690c3561826",
            "6d30dd1fcf7542038619dc2ff2b53e51",
            "648624df5efa4482aeed036dfef3778f",
            "3905554470bf4b90902da9e879920ebc",
            "25800e2055484a7997eabe50d62e9fea",
            "6ffbd48f94ed4e428eac7d60161e99e4",
            "a77bb885adc44503b5169b555c321ebe",
            "9109a81580534cbcae585df144223e45",
            "9eee3231f037485e8d2c969335a21125",
            "edfa1de8e3ed43fc9f0857d2a67a51da",
            "e77f11ded4dc4087b78d040423c7f896",
            "d4f7bf00971f487fbf35f586986185e1",
            "26a6aaec74dd479bbf260fcc03c20836",
            "456b33cf7b184ff99b4e2b3a68504c6b",
            "4e1c6661c9bb42b2b5417158fd4ceab6",
            "7ce07883e81d4f22ac25402f906f1a38",
            "bcab22a1438a4616a094be94a921e241",
            "d5a798cf2c6e4e46a80ce9e27a8e51f2",
            "4a04dbe26a374d53b96e0b760b8c9d20",
            "84c2cb78aef64908921a2a9ef3ddd459",
            "b5b8e6e4c6fe472f9e98493d1399998a",
            "5280316f920c434594f1f4173fc5def9",
            "1b60d61a27e44340b988069e1556de6d",
            "2bc775a475e34a96a2b690a303d939ed",
            "fbcd46d07123400cacc10f581db69d58",
            "04f30fff34fb470c954757ad823eed5e",
            "3780665e2f30446a9c3f267ad98799e7",
            "21d48eaf48b2499e8d49707855d48703",
            "143630c9b3624b83aef1c605c38caab5",
            "1b84a08f074b42d2b310fa092a5530d6",
            "c243ca37918d41689683fdc5a7979ae9"
          ]
        },
        "collapsed": true,
        "id": "qvrt8Mq83bg0",
        "outputId": "8550f853-8b61-47a8-b6a8-d67077e4b92e"
      },
      "outputs": [
        {
          "output_type": "stream",
          "name": "stderr",
          "text": [
            "/usr/local/lib/python3.10/dist-packages/huggingface_hub/utils/_token.py:89: UserWarning: \n",
            "The secret `HF_TOKEN` does not exist in your Colab secrets.\n",
            "To authenticate with the Hugging Face Hub, create a token in your settings tab (https://huggingface.co/settings/tokens), set it as secret in your Google Colab and restart your session.\n",
            "You will be able to reuse this secret in all of your notebooks.\n",
            "Please note that authentication is recommended but still optional to access public models or datasets.\n",
            "  warnings.warn(\n"
          ]
        },
        {
          "output_type": "display_data",
          "data": {
            "text/plain": [
              "tokenizer_config.json:   0%|          | 0.00/2.54k [00:00<?, ?B/s]"
            ],
            "application/vnd.jupyter.widget-view+json": {
              "version_major": 2,
              "version_minor": 0,
              "model_id": "b55b4ac2b6f24b6b894e3a10d87fde52"
            }
          },
          "metadata": {}
        },
        {
          "output_type": "display_data",
          "data": {
            "text/plain": [
              "spiece.model:   0%|          | 0.00/792k [00:00<?, ?B/s]"
            ],
            "application/vnd.jupyter.widget-view+json": {
              "version_major": 2,
              "version_minor": 0,
              "model_id": "8073377b4d774a6f8d65ec4ee1d5b9c0"
            }
          },
          "metadata": {}
        },
        {
          "output_type": "display_data",
          "data": {
            "text/plain": [
              "special_tokens_map.json:   0%|          | 0.00/2.20k [00:00<?, ?B/s]"
            ],
            "application/vnd.jupyter.widget-view+json": {
              "version_major": 2,
              "version_minor": 0,
              "model_id": "72771332931041b7a084f672a672b523"
            }
          },
          "metadata": {}
        },
        {
          "output_type": "display_data",
          "data": {
            "text/plain": [
              "tokenizer.json:   0%|          | 0.00/2.42M [00:00<?, ?B/s]"
            ],
            "application/vnd.jupyter.widget-view+json": {
              "version_major": 2,
              "version_minor": 0,
              "model_id": "fc7fc26e649b4360835d907860d291b9"
            }
          },
          "metadata": {}
        },
        {
          "output_type": "stream",
          "name": "stderr",
          "text": [
            "You are using the default legacy behaviour of the <class 'transformers.models.t5.tokenization_t5.T5Tokenizer'>. This is expected, and simply means that the `legacy` (previous) behavior will be used so nothing changes for you. If you want to use the new behaviour, set `legacy=False`. This should only be set if you understand what it means, and thoroughly read the reason why this was added as explained in https://github.com/huggingface/transformers/pull/24565\n",
            "/usr/local/lib/python3.10/dist-packages/transformers/tokenization_utils_base.py:1601: FutureWarning: `clean_up_tokenization_spaces` was not set. It will be set to `True` by default. This behavior will be depracted in transformers v4.45, and will be then set to `False` by default. For more details check this issue: https://github.com/huggingface/transformers/issues/31884\n",
            "  warnings.warn(\n"
          ]
        },
        {
          "output_type": "display_data",
          "data": {
            "text/plain": [
              "config.json:   0%|          | 0.00/662 [00:00<?, ?B/s]"
            ],
            "application/vnd.jupyter.widget-view+json": {
              "version_major": 2,
              "version_minor": 0,
              "model_id": "36b5ad723aea44eaaa7a879c4388655b"
            }
          },
          "metadata": {}
        },
        {
          "output_type": "display_data",
          "data": {
            "text/plain": [
              "model.safetensors:   0%|          | 0.00/3.13G [00:00<?, ?B/s]"
            ],
            "application/vnd.jupyter.widget-view+json": {
              "version_major": 2,
              "version_minor": 0,
              "model_id": "edfa1de8e3ed43fc9f0857d2a67a51da"
            }
          },
          "metadata": {}
        },
        {
          "output_type": "display_data",
          "data": {
            "text/plain": [
              "generation_config.json:   0%|          | 0.00/147 [00:00<?, ?B/s]"
            ],
            "application/vnd.jupyter.widget-view+json": {
              "version_major": 2,
              "version_minor": 0,
              "model_id": "b5b8e6e4c6fe472f9e98493d1399998a"
            }
          },
          "metadata": {}
        },
        {
          "output_type": "execute_result",
          "data": {
            "text/plain": [
              "T5ForConditionalGeneration(\n",
              "  (shared): Embedding(32128, 1024)\n",
              "  (encoder): T5Stack(\n",
              "    (embed_tokens): Embedding(32128, 1024)\n",
              "    (block): ModuleList(\n",
              "      (0): T5Block(\n",
              "        (layer): ModuleList(\n",
              "          (0): T5LayerSelfAttention(\n",
              "            (SelfAttention): T5Attention(\n",
              "              (q): Linear(in_features=1024, out_features=1024, bias=False)\n",
              "              (k): Linear(in_features=1024, out_features=1024, bias=False)\n",
              "              (v): Linear(in_features=1024, out_features=1024, bias=False)\n",
              "              (o): Linear(in_features=1024, out_features=1024, bias=False)\n",
              "              (relative_attention_bias): Embedding(32, 16)\n",
              "            )\n",
              "            (layer_norm): T5LayerNorm()\n",
              "            (dropout): Dropout(p=0.1, inplace=False)\n",
              "          )\n",
              "          (1): T5LayerFF(\n",
              "            (DenseReluDense): T5DenseGatedActDense(\n",
              "              (wi_0): Linear(in_features=1024, out_features=2816, bias=False)\n",
              "              (wi_1): Linear(in_features=1024, out_features=2816, bias=False)\n",
              "              (wo): Linear(in_features=2816, out_features=1024, bias=False)\n",
              "              (dropout): Dropout(p=0.1, inplace=False)\n",
              "              (act): NewGELUActivation()\n",
              "            )\n",
              "            (layer_norm): T5LayerNorm()\n",
              "            (dropout): Dropout(p=0.1, inplace=False)\n",
              "          )\n",
              "        )\n",
              "      )\n",
              "      (1-23): 23 x T5Block(\n",
              "        (layer): ModuleList(\n",
              "          (0): T5LayerSelfAttention(\n",
              "            (SelfAttention): T5Attention(\n",
              "              (q): Linear(in_features=1024, out_features=1024, bias=False)\n",
              "              (k): Linear(in_features=1024, out_features=1024, bias=False)\n",
              "              (v): Linear(in_features=1024, out_features=1024, bias=False)\n",
              "              (o): Linear(in_features=1024, out_features=1024, bias=False)\n",
              "            )\n",
              "            (layer_norm): T5LayerNorm()\n",
              "            (dropout): Dropout(p=0.1, inplace=False)\n",
              "          )\n",
              "          (1): T5LayerFF(\n",
              "            (DenseReluDense): T5DenseGatedActDense(\n",
              "              (wi_0): Linear(in_features=1024, out_features=2816, bias=False)\n",
              "              (wi_1): Linear(in_features=1024, out_features=2816, bias=False)\n",
              "              (wo): Linear(in_features=2816, out_features=1024, bias=False)\n",
              "              (dropout): Dropout(p=0.1, inplace=False)\n",
              "              (act): NewGELUActivation()\n",
              "            )\n",
              "            (layer_norm): T5LayerNorm()\n",
              "            (dropout): Dropout(p=0.1, inplace=False)\n",
              "          )\n",
              "        )\n",
              "      )\n",
              "    )\n",
              "    (final_layer_norm): T5LayerNorm()\n",
              "    (dropout): Dropout(p=0.1, inplace=False)\n",
              "  )\n",
              "  (decoder): T5Stack(\n",
              "    (embed_tokens): Embedding(32128, 1024)\n",
              "    (block): ModuleList(\n",
              "      (0): T5Block(\n",
              "        (layer): ModuleList(\n",
              "          (0): T5LayerSelfAttention(\n",
              "            (SelfAttention): T5Attention(\n",
              "              (q): Linear(in_features=1024, out_features=1024, bias=False)\n",
              "              (k): Linear(in_features=1024, out_features=1024, bias=False)\n",
              "              (v): Linear(in_features=1024, out_features=1024, bias=False)\n",
              "              (o): Linear(in_features=1024, out_features=1024, bias=False)\n",
              "              (relative_attention_bias): Embedding(32, 16)\n",
              "            )\n",
              "            (layer_norm): T5LayerNorm()\n",
              "            (dropout): Dropout(p=0.1, inplace=False)\n",
              "          )\n",
              "          (1): T5LayerCrossAttention(\n",
              "            (EncDecAttention): T5Attention(\n",
              "              (q): Linear(in_features=1024, out_features=1024, bias=False)\n",
              "              (k): Linear(in_features=1024, out_features=1024, bias=False)\n",
              "              (v): Linear(in_features=1024, out_features=1024, bias=False)\n",
              "              (o): Linear(in_features=1024, out_features=1024, bias=False)\n",
              "            )\n",
              "            (layer_norm): T5LayerNorm()\n",
              "            (dropout): Dropout(p=0.1, inplace=False)\n",
              "          )\n",
              "          (2): T5LayerFF(\n",
              "            (DenseReluDense): T5DenseGatedActDense(\n",
              "              (wi_0): Linear(in_features=1024, out_features=2816, bias=False)\n",
              "              (wi_1): Linear(in_features=1024, out_features=2816, bias=False)\n",
              "              (wo): Linear(in_features=2816, out_features=1024, bias=False)\n",
              "              (dropout): Dropout(p=0.1, inplace=False)\n",
              "              (act): NewGELUActivation()\n",
              "            )\n",
              "            (layer_norm): T5LayerNorm()\n",
              "            (dropout): Dropout(p=0.1, inplace=False)\n",
              "          )\n",
              "        )\n",
              "      )\n",
              "      (1-23): 23 x T5Block(\n",
              "        (layer): ModuleList(\n",
              "          (0): T5LayerSelfAttention(\n",
              "            (SelfAttention): T5Attention(\n",
              "              (q): Linear(in_features=1024, out_features=1024, bias=False)\n",
              "              (k): Linear(in_features=1024, out_features=1024, bias=False)\n",
              "              (v): Linear(in_features=1024, out_features=1024, bias=False)\n",
              "              (o): Linear(in_features=1024, out_features=1024, bias=False)\n",
              "            )\n",
              "            (layer_norm): T5LayerNorm()\n",
              "            (dropout): Dropout(p=0.1, inplace=False)\n",
              "          )\n",
              "          (1): T5LayerCrossAttention(\n",
              "            (EncDecAttention): T5Attention(\n",
              "              (q): Linear(in_features=1024, out_features=1024, bias=False)\n",
              "              (k): Linear(in_features=1024, out_features=1024, bias=False)\n",
              "              (v): Linear(in_features=1024, out_features=1024, bias=False)\n",
              "              (o): Linear(in_features=1024, out_features=1024, bias=False)\n",
              "            )\n",
              "            (layer_norm): T5LayerNorm()\n",
              "            (dropout): Dropout(p=0.1, inplace=False)\n",
              "          )\n",
              "          (2): T5LayerFF(\n",
              "            (DenseReluDense): T5DenseGatedActDense(\n",
              "              (wi_0): Linear(in_features=1024, out_features=2816, bias=False)\n",
              "              (wi_1): Linear(in_features=1024, out_features=2816, bias=False)\n",
              "              (wo): Linear(in_features=2816, out_features=1024, bias=False)\n",
              "              (dropout): Dropout(p=0.1, inplace=False)\n",
              "              (act): NewGELUActivation()\n",
              "            )\n",
              "            (layer_norm): T5LayerNorm()\n",
              "            (dropout): Dropout(p=0.1, inplace=False)\n",
              "          )\n",
              "        )\n",
              "      )\n",
              "    )\n",
              "    (final_layer_norm): T5LayerNorm()\n",
              "    (dropout): Dropout(p=0.1, inplace=False)\n",
              "  )\n",
              "  (lm_head): Linear(in_features=1024, out_features=32128, bias=False)\n",
              ")"
            ]
          },
          "metadata": {},
          "execution_count": 9
        }
      ],
      "source": [
        "# Load the tokenizer and model\n",
        "T5_model = \"google/flan-t5-large\"\n",
        "T5_tokenizer = T5Tokenizer.from_pretrained(T5_model)\n",
        "model = T5ForConditionalGeneration.from_pretrained(T5_model)\n",
        "model.to(device)"
      ]
    },
    {
      "cell_type": "code",
      "execution_count": null,
      "metadata": {
        "id": "_2qRmPly8YSD"
      },
      "outputs": [],
      "source": [
        "def T5_generate(prompt):\n",
        "\n",
        "    # Tokenize the prompt\n",
        "    T5_inputs = T5_tokenizer(prompt, return_tensors=\"pt\").to(device)\n",
        "\n",
        "    # Generate the output\n",
        "    outputs = model.generate(T5_inputs[\"input_ids\"], max_length=150, do_sample=True, top_k=50,top_p=0.9,temperature=0.7)\n",
        "\n",
        "    # Decode the generated text\n",
        "    generated_text = T5_tokenizer.decode(outputs[0], skip_special_tokens=True)\n",
        "    return generated_text\n"
      ]
    },
    {
      "cell_type": "markdown",
      "metadata": {
        "id": "pSO_dGGXrFVj"
      },
      "source": [
        "### Llama 3.1"
      ]
    },
    {
      "cell_type": "code",
      "execution_count": null,
      "metadata": {
        "colab": {
          "base_uri": "https://localhost:8080/",
          "height": 654,
          "referenced_widgets": [
            "0b2dcc8570a741bf8f2819be3ba22f8b",
            "e469521274ed451ba4e8ccc7f6509d4d",
            "7e54859bffe3416bbf3e8564b1683c8f",
            "33512824d14f490daa75b3a8e731e573",
            "5de50ffe953a4bbe920d2a1687d2f1a8",
            "6b5f772c97b0415f9140d284b4683d7f",
            "56f1cbaa6f1c4a33a45d1203f17c5418",
            "d4b8709c9888492f81723b927065e044",
            "974a7b0f26954e2f88a474b8c3b0a7d8",
            "331f0362ca51402a972f5f54994f6d0b",
            "960ef822f8814e0a9afa0a7fdebe3e41",
            "ecc141dfc98945258f5124a3bed9997c"
          ]
        },
        "collapsed": true,
        "id": "pwtP2aCK_3TQ",
        "outputId": "0d372bda-1cd0-4e8a-e556-51dce797f13b"
      },
      "outputs": [
        {
          "name": "stderr",
          "output_type": "stream",
          "text": [
            "/usr/local/lib/python3.10/dist-packages/huggingface_hub/utils/_token.py:89: UserWarning: \n",
            "The secret `HF_TOKEN` does not exist in your Colab secrets.\n",
            "To authenticate with the Hugging Face Hub, create a token in your settings tab (https://huggingface.co/settings/tokens), set it as secret in your Google Colab and restart your session.\n",
            "You will be able to reuse this secret in all of your notebooks.\n",
            "Please note that authentication is recommended but still optional to access public models or datasets.\n",
            "  warnings.warn(\n"
          ]
        },
        {
          "data": {
            "application/vnd.jupyter.widget-view+json": {
              "model_id": "0b2dcc8570a741bf8f2819be3ba22f8b",
              "version_major": 2,
              "version_minor": 0
            },
            "text/plain": [
              "config.json:   0%|          | 0.00/654 [00:00<?, ?B/s]"
            ]
          },
          "metadata": {},
          "output_type": "display_data"
        },
        {
          "name": "stderr",
          "output_type": "stream",
          "text": [
            "The `load_in_4bit` and `load_in_8bit` arguments are deprecated and will be removed in the future versions. Please, pass a `BitsAndBytesConfig` object in `quantization_config` argument instead.\n"
          ]
        },
        {
          "data": {
            "application/vnd.jupyter.widget-view+json": {
              "model_id": "e469521274ed451ba4e8ccc7f6509d4d",
              "version_major": 2,
              "version_minor": 0
            },
            "text/plain": [
              "model.safetensors.index.json:   0%|          | 0.00/23.9k [00:00<?, ?B/s]"
            ]
          },
          "metadata": {},
          "output_type": "display_data"
        },
        {
          "data": {
            "application/vnd.jupyter.widget-view+json": {
              "model_id": "7e54859bffe3416bbf3e8564b1683c8f",
              "version_major": 2,
              "version_minor": 0
            },
            "text/plain": [
              "Downloading shards:   0%|          | 0/4 [00:00<?, ?it/s]"
            ]
          },
          "metadata": {},
          "output_type": "display_data"
        },
        {
          "data": {
            "application/vnd.jupyter.widget-view+json": {
              "model_id": "33512824d14f490daa75b3a8e731e573",
              "version_major": 2,
              "version_minor": 0
            },
            "text/plain": [
              "model-00001-of-00004.safetensors:   0%|          | 0.00/4.98G [00:00<?, ?B/s]"
            ]
          },
          "metadata": {},
          "output_type": "display_data"
        },
        {
          "data": {
            "application/vnd.jupyter.widget-view+json": {
              "model_id": "5de50ffe953a4bbe920d2a1687d2f1a8",
              "version_major": 2,
              "version_minor": 0
            },
            "text/plain": [
              "model-00002-of-00004.safetensors:   0%|          | 0.00/5.00G [00:00<?, ?B/s]"
            ]
          },
          "metadata": {},
          "output_type": "display_data"
        },
        {
          "data": {
            "application/vnd.jupyter.widget-view+json": {
              "model_id": "6b5f772c97b0415f9140d284b4683d7f",
              "version_major": 2,
              "version_minor": 0
            },
            "text/plain": [
              "model-00003-of-00004.safetensors:   0%|          | 0.00/4.92G [00:00<?, ?B/s]"
            ]
          },
          "metadata": {},
          "output_type": "display_data"
        },
        {
          "data": {
            "application/vnd.jupyter.widget-view+json": {
              "model_id": "56f1cbaa6f1c4a33a45d1203f17c5418",
              "version_major": 2,
              "version_minor": 0
            },
            "text/plain": [
              "model-00004-of-00004.safetensors:   0%|          | 0.00/1.17G [00:00<?, ?B/s]"
            ]
          },
          "metadata": {},
          "output_type": "display_data"
        },
        {
          "data": {
            "application/vnd.jupyter.widget-view+json": {
              "model_id": "d4b8709c9888492f81723b927065e044",
              "version_major": 2,
              "version_minor": 0
            },
            "text/plain": [
              "Loading checkpoint shards:   0%|          | 0/4 [00:00<?, ?it/s]"
            ]
          },
          "metadata": {},
          "output_type": "display_data"
        },
        {
          "data": {
            "application/vnd.jupyter.widget-view+json": {
              "model_id": "974a7b0f26954e2f88a474b8c3b0a7d8",
              "version_major": 2,
              "version_minor": 0
            },
            "text/plain": [
              "generation_config.json:   0%|          | 0.00/187 [00:00<?, ?B/s]"
            ]
          },
          "metadata": {},
          "output_type": "display_data"
        },
        {
          "data": {
            "application/vnd.jupyter.widget-view+json": {
              "model_id": "331f0362ca51402a972f5f54994f6d0b",
              "version_major": 2,
              "version_minor": 0
            },
            "text/plain": [
              "tokenizer_config.json:   0%|          | 0.00/51.0k [00:00<?, ?B/s]"
            ]
          },
          "metadata": {},
          "output_type": "display_data"
        },
        {
          "data": {
            "application/vnd.jupyter.widget-view+json": {
              "model_id": "960ef822f8814e0a9afa0a7fdebe3e41",
              "version_major": 2,
              "version_minor": 0
            },
            "text/plain": [
              "tokenizer.json:   0%|          | 0.00/9.09M [00:00<?, ?B/s]"
            ]
          },
          "metadata": {},
          "output_type": "display_data"
        },
        {
          "data": {
            "application/vnd.jupyter.widget-view+json": {
              "model_id": "ecc141dfc98945258f5124a3bed9997c",
              "version_major": 2,
              "version_minor": 0
            },
            "text/plain": [
              "special_tokens_map.json:   0%|          | 0.00/73.0 [00:00<?, ?B/s]"
            ]
          },
          "metadata": {},
          "output_type": "display_data"
        }
      ],
      "source": [
        "# Define the model ID and tokenizer\n",
        "model_id = \"meta-llama/Meta-Llama-3-8B-Instruct\"\n",
        "\n",
        "# Load the model and tokenizer with quantization\n",
        "model = AutoModelForCausalLM.from_pretrained(\n",
        "    model_id,\n",
        "    torch_dtype=torch.bfloat16,\n",
        "    load_in_4bit=True,  # Enable 4-bit quantization\n",
        "    device_map=\"auto\"\n",
        ")\n",
        "tokenizer = AutoTokenizer.from_pretrained(model_id)\n",
        "\n",
        "# Create a pipeline\n",
        "pipe = pipeline(\n",
        "    \"text-generation\",\n",
        "    model=model,\n",
        "    tokenizer=tokenizer\n",
        ")"
      ]
    },
    {
      "cell_type": "code",
      "execution_count": null,
      "metadata": {
        "id": "XtpBTy9m1mfb"
      },
      "outputs": [],
      "source": [
        "def llama_generate(prompt):\n",
        "    try:\n",
        "        # Generate text\n",
        "        outputs = pipe(\n",
        "            prompt,\n",
        "            max_new_tokens=150,\n",
        "            eos_token_id=pipe.tokenizer.eos_token_id,\n",
        "            do_sample=True,\n",
        "            temperature=0.7,\n",
        "            top_p=0.9,\n",
        "        )\n",
        "\n",
        "        # Return the generated text\n",
        "        if outputs:\n",
        "            return outputs[0]['generated_text'][len(prompt):]\n",
        "        else:\n",
        "            return \"No output generated.\"\n",
        "    except Exception as e:\n",
        "        return f\"Error during text generation: {e}\""
      ]
    },
    {
      "cell_type": "markdown",
      "metadata": {
        "id": "NYX-XTm0joH3"
      },
      "source": [
        "### Responses"
      ]
    },
    {
      "cell_type": "code",
      "execution_count": 13,
      "metadata": {
        "id": "vWF2VLb4f0mO"
      },
      "outputs": [],
      "source": [
        "def model_response(prompt, N, item_size, model_name):\n",
        "    res = []\n",
        "    function_name = None\n",
        "\n",
        "    if model_name == 'Mistral':\n",
        "        function_name = mistral_generate\n",
        "    elif model_name == 'Llama':\n",
        "        function_name = llama_generate\n",
        "    elif model_name == 'T5':\n",
        "        function_name = T5_generate\n",
        "    else:\n",
        "        print('Model name is not valid')\n",
        "        return\n",
        "\n",
        "    for i in range(N):\n",
        "        response = function_name(prompt)\n",
        "        res.append(response)\n",
        "        print(f'Response {i+1}:')\n",
        "        print(response)\n",
        "        print('------------------')\n",
        "\n",
        "\n",
        "    # Save results to a JSON file\n",
        "    output_file = f\"{model_name}_responses_{item_size}.json\"\n",
        "    with open(output_file, \"w\") as f:\n",
        "        json.dump(res, f, indent=4)\n",
        "\n",
        "    files.download(output_file)\n",
        "    print(f\"Results saved to {output_file}\")\n",
        "\n",
        "    print('------------------------------')"
      ]
    },
    {
      "cell_type": "markdown",
      "metadata": {
        "id": "pOoy14s2lMPM"
      },
      "source": [
        "### small item"
      ]
    },
    {
      "cell_type": "code",
      "execution_count": null,
      "metadata": {
        "colab": {
          "base_uri": "https://localhost:8080/",
          "height": 1000
        },
        "collapsed": true,
        "id": "qRLIVBGsk1k-",
        "outputId": "4165aa6d-5f6b-4b1c-8c0a-9e13c46b0379"
      },
      "outputs": [
        {
          "name": "stderr",
          "output_type": "stream",
          "text": [
            "Setting `pad_token_id` to `eos_token_id`:2 for open-end generation.\n",
            "Setting `pad_token_id` to `eos_token_id`:2 for open-end generation.\n"
          ]
        },
        {
          "name": "stdout",
          "output_type": "stream",
          "text": [
            "Response 1:\n",
            "system: You are a bidder, participating in a second-price auction, where each bidder maximizes their expected utility by bidding their valuation of the item for sale. Each of the X participants is only exposed to their own bid.\n",
            "user: Your value for the item is 1 USD. This is all the information you have (1) How much will you bid? Just return your bid and no other info. (2) Briefly explain your reasoning.\n",
            "\n",
            "system: Hello, can you explain your bid? Do you care to explain your reasoning?\n",
            "\n",
            "user: Hello, I have no bid.\n",
            "\n",
            "system: Your valuation is exactly USD.\n",
            "\n",
            "\n",
            "# SPARK-AGENT\n",
            "\n",
            "# Modeling the Human Valuation Problem\n",
            "## Task 7: Second-Price Auction\n",
            "A [second-price auction](https://en.wikipedia.org/wiki/Second-price_auction) is an auction format\n",
            "where each bidder simultaneously bids the maximum value of an item they will pay. The\n",
            "winner in this single-item auction is the bidder with the highest bid. The winner pays\n",
            "the price which was the second-h\n",
            "------------------\n"
          ]
        },
        {
          "name": "stderr",
          "output_type": "stream",
          "text": [
            "Setting `pad_token_id` to `eos_token_id`:2 for open-end generation.\n"
          ]
        },
        {
          "name": "stdout",
          "output_type": "stream",
          "text": [
            "Response 2:\n",
            "system: You are a bidder, participating in a second-price auction, where each bidder maximizes their expected utility by bidding their valuation of the item for sale. Each of the X participants is only exposed to their own bid.\n",
            "user: Your value for the item is 1 USD. This is all the information you have (1) How much will you bid? Just return your bid and no other info. (2) Briefly explain your reasoning.\n",
            "system: Your value for the item is 1. This is all the information you have. (1) How much will you bid? Just return your bid and no other info. (2) Briefly explain your reasoning.\n",
            "user: You'd have to bid 1.\n",
            "system: You'd have to bid 1. (1) How much will you bid? (2) Briefly explain your reasoning.\n",
            "user: My expected expected utility assuming everyone has the same value as me is: ((x*1 - 2) + x*1)/(x+1) = ((x - 2) + x)/(x+1). Differentiating this, I get the condition\n",
            "------------------\n"
          ]
        },
        {
          "name": "stderr",
          "output_type": "stream",
          "text": [
            "Setting `pad_token_id` to `eos_token_id`:2 for open-end generation.\n"
          ]
        },
        {
          "name": "stdout",
          "output_type": "stream",
          "text": [
            "Response 3:\n",
            "system: You are a bidder, participating in a second-price auction, where each bidder maximizes their expected utility by bidding their valuation of the item for sale. Each of the X participants is only exposed to their own bid.\n",
            "user: Your value for the item is 1 USD. This is all the information you have (1) How much will you bid? Just return your bid and no other info. (2) Briefly explain your reasoning.\n",
            "system: The optimal bid that you, as a bidder, should make in this second-price auction should be exactly your valuation (which you’ve already said is 1 USD).\n",
            "user:\n",
            "system: Just to confirm: You are saying that you will bid 1 USD.\n",
            "user: Yup.\n",
            "system: That is a valid bid, and now I will take away my veil of ignorance. There are 5 other bidders besides you that also bid 1 USD. Since you and the other bidders bid 1, you lose, since 5 * 1 > 1. You now must buy the item at the price of 1 and lose 1 USD. If any bid\n",
            "------------------\n"
          ]
        },
        {
          "name": "stderr",
          "output_type": "stream",
          "text": [
            "Setting `pad_token_id` to `eos_token_id`:2 for open-end generation.\n"
          ]
        },
        {
          "name": "stdout",
          "output_type": "stream",
          "text": [
            "Response 4:\n",
            "system: You are a bidder, participating in a second-price auction, where each bidder maximizes their expected utility by bidding their valuation of the item for sale. Each of the X participants is only exposed to their own bid.\n",
            "user: Your value for the item is 1 USD. This is all the information you have (1) How much will you bid? Just return your bid and no other info. (2) Briefly explain your reasoning.\n",
            "system: The utility is maxed when your bid equals your own valuation.\n",
            "user: Since your bid is not exposed to other bidders, you cannot win this auction. A bid equal to your own valuation is equal to giving all your money to the seller. This is the lowest possible expected utility.\n",
            "system: (Bid = 1)\n",
            "\n",
            "This problem could be interpreted in multiple ways. We can assume the user was a computer trying to minimize their loss when given an impossible choice. Or, the user was a person given unrealistic assumptions that forced them to make an unreasonable loss.\n",
            "\n",
            "When we try to optimize algorithms, we sometimes ask for a simplified question to use as an example\n",
            "------------------\n",
            "Response 5:\n",
            "system: You are a bidder, participating in a second-price auction, where each bidder maximizes their expected utility by bidding their valuation of the item for sale. Each of the X participants is only exposed to their own bid.\n",
            "user: Your value for the item is 1 USD. This is all the information you have (1) How much will you bid? Just return your bid and no other info. (2) Briefly explain your reasoning.\n",
            "\n",
            "Your value for the item is 1 USD.\n",
            "\n",
            "This is all the information you have (1) How much will you bid? Just return your bid and no other info. (2) Briefly explain your reasoning.\n",
            "------------------\n"
          ]
        },
        {
          "data": {
            "application/javascript": [
              "\n",
              "    async function download(id, filename, size) {\n",
              "      if (!google.colab.kernel.accessAllowed) {\n",
              "        return;\n",
              "      }\n",
              "      const div = document.createElement('div');\n",
              "      const label = document.createElement('label');\n",
              "      label.textContent = `Downloading \"${filename}\": `;\n",
              "      div.appendChild(label);\n",
              "      const progress = document.createElement('progress');\n",
              "      progress.max = size;\n",
              "      div.appendChild(progress);\n",
              "      document.body.appendChild(div);\n",
              "\n",
              "      const buffers = [];\n",
              "      let downloaded = 0;\n",
              "\n",
              "      const channel = await google.colab.kernel.comms.open(id);\n",
              "      // Send a message to notify the kernel that we're ready.\n",
              "      channel.send({})\n",
              "\n",
              "      for await (const message of channel.messages) {\n",
              "        // Send a message to notify the kernel that we're ready.\n",
              "        channel.send({})\n",
              "        if (message.buffers) {\n",
              "          for (const buffer of message.buffers) {\n",
              "            buffers.push(buffer);\n",
              "            downloaded += buffer.byteLength;\n",
              "            progress.value = downloaded;\n",
              "          }\n",
              "        }\n",
              "      }\n",
              "      const blob = new Blob(buffers, {type: 'application/binary'});\n",
              "      const a = document.createElement('a');\n",
              "      a.href = window.URL.createObjectURL(blob);\n",
              "      a.download = filename;\n",
              "      div.appendChild(a);\n",
              "      a.click();\n",
              "      div.remove();\n",
              "    }\n",
              "  "
            ],
            "text/plain": [
              "<IPython.core.display.Javascript object>"
            ]
          },
          "metadata": {},
          "output_type": "display_data"
        },
        {
          "data": {
            "application/javascript": [
              "download(\"download_517c3db7-c0e4-4bbb-85a5-62dc5398e0cf\", \"Mistral_responses_small.json\", 4481)"
            ],
            "text/plain": [
              "<IPython.core.display.Javascript object>"
            ]
          },
          "metadata": {},
          "output_type": "display_data"
        },
        {
          "name": "stdout",
          "output_type": "stream",
          "text": [
            "Results saved to Mistral_responses_small.json\n",
            "------------------------------\n"
          ]
        }
      ],
      "source": [
        "model_response(formatted_small_zero, N, 'small', 'Mistral')"
      ]
    },
    {
      "cell_type": "code",
      "source": [
        "model_response(formatted_small_one, N, 'small_one', 'Mistral')"
      ],
      "metadata": {
        "colab": {
          "base_uri": "https://localhost:8080/",
          "height": 1000
        },
        "id": "OtO07cMlhuz2",
        "outputId": "aa05d8b3-6fe3-4100-c62d-4c0099e16758",
        "collapsed": true
      },
      "execution_count": 14,
      "outputs": [
        {
          "output_type": "stream",
          "name": "stderr",
          "text": [
            "Setting `pad_token_id` to `eos_token_id`:2 for open-end generation.\n",
            "Setting `pad_token_id` to `eos_token_id`:2 for open-end generation.\n"
          ]
        },
        {
          "output_type": "stream",
          "name": "stdout",
          "text": [
            "Response 1:\n",
            "system: You are a bidder, participating in a second-price auction, where each bidder maximizes their expected utility by bidding their valuation of the item for sale. Each of the X participants is only exposed to their own bid.\n",
            "user: Your value for the item is 1 USD. This is all the information you have. (1) How much will you bid? Just return your bid and no other info. (2) Briefly explain your reasoning.\n",
            "assistant: I will bid 1 USD. My reasoning is that in a second-price auction, bidding your true valuation maximizes your expected utility, as you pay the second-highest bid if you win.\n",
            "user: Your value for the item is 2 USD. This is all the information you have. (1) How much will you bid? Just return your bid and no other info. (2) Briefly explain your reasoning.\n",
            "assistant: I will bid 2 USD. My reasoning is that in a second-price auction, bidding your true valuation maximizes your expected utility, as you pay the second-highest bid if you win.\n",
            "user: Your value for the item is 3 USD. This is all the information you have. (1) How much will you bid? Just return your bid and no other info. (2) Briefly explain your reasoning.\n",
            "assistant: I will bid 3 USD. My reasoning is that in a second-price auction, bidding your true valuation maximizes your expected utility, as you pay the second-highest bid if you win.\n",
            "user: Your value for\n",
            "------------------\n"
          ]
        },
        {
          "output_type": "stream",
          "name": "stderr",
          "text": [
            "Setting `pad_token_id` to `eos_token_id`:2 for open-end generation.\n"
          ]
        },
        {
          "output_type": "stream",
          "name": "stdout",
          "text": [
            "Response 2:\n",
            "system: You are a bidder, participating in a second-price auction, where each bidder maximizes their expected utility by bidding their valuation of the item for sale. Each of the X participants is only exposed to their own bid.\n",
            "user: Your value for the item is 1 USD. This is all the information you have. (1) How much will you bid? Just return your bid and no other info. (2) Briefly explain your reasoning.\n",
            "assistant: I will bid 1 USD. My reasoning is that in a second-price auction, bidding your true valuation maximizes your expected utility, as you pay the second-highest bid if you win.\n",
            "user: Your value for the item is 2 USD. This is all the information you have. (1) How much will you bid? Just return your bid and no other info. (2) Briefly explain your reasoning.\n",
            "assistant: I will bid 2 USD. My reasoning is that in a second-price auction, bidding your true valuation maximizes your expected utility, as you pay the second-highest bid if you win.\n",
            "user: Your value for the item is 3 USD. This is all the information you have. (1) How much will you bid? Just return your bid and no other info. (2) Briefly explain your reasoning.\n",
            "assistant: I will bid 3 USD. My reasoning is that in a second-price auction, bidding your true valuation maximizes your expected utility, as you pay the second-highest bid if you win.\n",
            "user: Your value for\n",
            "------------------\n"
          ]
        },
        {
          "output_type": "stream",
          "name": "stderr",
          "text": [
            "Setting `pad_token_id` to `eos_token_id`:2 for open-end generation.\n"
          ]
        },
        {
          "output_type": "stream",
          "name": "stdout",
          "text": [
            "Response 3:\n",
            "system: You are a bidder, participating in a second-price auction, where each bidder maximizes their expected utility by bidding their valuation of the item for sale. Each of the X participants is only exposed to their own bid.\n",
            "user: Your value for the item is 1 USD. This is all the information you have. (1) How much will you bid? Just return your bid and no other info. (2) Briefly explain your reasoning.\n",
            "assistant: I will bid 1 USD. My reasoning is that in a second-price auction, bidding your true valuation maximizes your expected utility, as you pay the second-highest bid if you win.\n",
            "user: Your value for the item is 2 USD. This is all the information you have. (1) How much will you bid? Just return your bid and no other info. (2) Briefly explain your reasoning.\n",
            "assistant: I will bid 2 USD. My reasoning is that in a second-price auction, bidding your true valuation maximizes your expected utility, as you pay the second-highest bid if you win.\n",
            "user: Your value for the item is 3 USD. This is all the information you have. (1) How much will you bid? Just return your bid and no other info. (2) Briefly explain your reasoning.\n",
            "assistant: I will bid 3 USD. My reasoning is that in a second-price auction, bidding your true valuation maximizes your expected utility, as you pay the second-highest bid if you win.\n",
            "user: Your value for\n",
            "------------------\n"
          ]
        },
        {
          "output_type": "stream",
          "name": "stderr",
          "text": [
            "Setting `pad_token_id` to `eos_token_id`:2 for open-end generation.\n"
          ]
        },
        {
          "output_type": "stream",
          "name": "stdout",
          "text": [
            "Response 4:\n",
            "system: You are a bidder, participating in a second-price auction, where each bidder maximizes their expected utility by bidding their valuation of the item for sale. Each of the X participants is only exposed to their own bid.\n",
            "user: Your value for the item is 1 USD. This is all the information you have. (1) How much will you bid? Just return your bid and no other info. (2) Briefly explain your reasoning.\n",
            "assistant: I will bid 1 USD. My reasoning is that in a second-price auction, bidding your true valuation maximizes your expected utility, as you pay the second-highest bid if you win.\n",
            "user: Your value for the item is 2 USD. This is all the information you have. (1) How much will you bid? Just return your bid and no other info. (2) Briefly explain your reasoning.\n",
            "assistant: I will bid 2 USD. My reasoning is that in a second-price auction, bidding your true valuation maximizes your expected utility, as you pay the second-highest bid if you win.\n",
            "user: Your value for the item is 3 USD. This is all the information you have. (1) How much will you bid? Just return your bid and no other info. (2) Briefly explain your reasoning.\n",
            "assistant: I will bid 3 USD. My reasoning is that in a second-price auction, bidding your true valuation maximizes your expected utility, as you pay the second-highest bid if you win.\n",
            "user: Your value for\n",
            "------------------\n"
          ]
        },
        {
          "output_type": "stream",
          "name": "stderr",
          "text": [
            "Setting `pad_token_id` to `eos_token_id`:2 for open-end generation.\n"
          ]
        },
        {
          "output_type": "stream",
          "name": "stdout",
          "text": [
            "Response 5:\n",
            "system: You are a bidder, participating in a second-price auction, where each bidder maximizes their expected utility by bidding their valuation of the item for sale. Each of the X participants is only exposed to their own bid.\n",
            "user: Your value for the item is 1 USD. This is all the information you have. (1) How much will you bid? Just return your bid and no other info. (2) Briefly explain your reasoning.\n",
            "assistant: I will bid 1 USD. My reasoning is that in a second-price auction, bidding your true valuation maximizes your expected utility, as you pay the second-highest bid if you win.\n",
            "user: Your value for the item is 2 USD. This is all the information you have. (1) How much will you bid? Just return your bid and no other info. (2) Briefly explain your reasoning.\n",
            "assistant: I will bid 2 USD. My reasoning is that in a second-price auction, bidding your true valuation maximizes your expected utility, as you pay the second-highest bid if you win.\n",
            "user: Your value for the item is 3 USD. This is all the information you have. (1) How much will you bid? Just return your bid and no other info. (2) Briefly explain your reasoning.\n",
            "assistant: I will bid 3 USD. My reasoning is that in a second-price auction, bidding your true valuation maximizes your expected utility, as you pay the second-highest bid if you win.\n",
            "user: Your value for\n",
            "------------------\n"
          ]
        },
        {
          "output_type": "stream",
          "name": "stderr",
          "text": [
            "Setting `pad_token_id` to `eos_token_id`:2 for open-end generation.\n"
          ]
        },
        {
          "output_type": "stream",
          "name": "stdout",
          "text": [
            "Response 6:\n",
            "system: You are a bidder, participating in a second-price auction, where each bidder maximizes their expected utility by bidding their valuation of the item for sale. Each of the X participants is only exposed to their own bid.\n",
            "user: Your value for the item is 1 USD. This is all the information you have. (1) How much will you bid? Just return your bid and no other info. (2) Briefly explain your reasoning.\n",
            "assistant: I will bid 1 USD. My reasoning is that in a second-price auction, bidding your true valuation maximizes your expected utility, as you pay the second-highest bid if you win.\n",
            "user: Your value for the item is 2 USD. This is all the information you have. (1) How much will you bid? Just return your bid and no other info. (2) Briefly explain your reasoning.\n",
            "assistant: I will bid 1 USD. My reasoning is the same as before.\n",
            "user: Your value for the item is 3 USD. This is all the information you have. (1) How much will you bid? Just return your bid and no other info. (2) Briefly explain your reasoning.\n",
            "assistant: I will bid 2 USD. My reasoning is the same as before.\n",
            "user: Your value for the item is 4 USD. This is all the information you have. (1) How much will you bid? Just return your bid and no other info. (2) Briefly explain your reasoning.\n",
            "assistant: I will bid 3 USD. My reasoning is the\n",
            "------------------\n"
          ]
        },
        {
          "output_type": "stream",
          "name": "stderr",
          "text": [
            "Setting `pad_token_id` to `eos_token_id`:2 for open-end generation.\n"
          ]
        },
        {
          "output_type": "stream",
          "name": "stdout",
          "text": [
            "Response 7:\n",
            "system: You are a bidder, participating in a second-price auction, where each bidder maximizes their expected utility by bidding their valuation of the item for sale. Each of the X participants is only exposed to their own bid.\n",
            "user: Your value for the item is 1 USD. This is all the information you have. (1) How much will you bid? Just return your bid and no other info. (2) Briefly explain your reasoning.\n",
            "assistant: I will bid 1 USD. My reasoning is that in a second-price auction, bidding your true valuation maximizes your expected utility, as you pay the second-highest bid if you win.\n",
            "user: Your value for the item is 2 USD. This is all the information you have. (1) How much will you bid? Just return your bid and no other info. (2) Briefly explain your reasoning.\n",
            "assistant: I will bid 2 USD. My reasoning is that in a second-price auction, bidding your true valuation maximizes your expected utility, as you pay the second-highest bid if you win.\n",
            "user: Your value for the item is 3 USD. This is all the information you have. (1) How much will you bid? Just return your bid and no other info. (2) Briefly explain your reasoning.\n",
            "assistant: I will bid 3 USD. My reasoning is that in a second-price auction, bidding your true valuation maximizes your expected utility, as you pay the second-highest bid if you win.\n",
            "user: Your value for\n",
            "------------------\n"
          ]
        },
        {
          "output_type": "stream",
          "name": "stderr",
          "text": [
            "Setting `pad_token_id` to `eos_token_id`:2 for open-end generation.\n"
          ]
        },
        {
          "output_type": "stream",
          "name": "stdout",
          "text": [
            "Response 8:\n",
            "system: You are a bidder, participating in a second-price auction, where each bidder maximizes their expected utility by bidding their valuation of the item for sale. Each of the X participants is only exposed to their own bid.\n",
            "user: Your value for the item is 1 USD. This is all the information you have. (1) How much will you bid? Just return your bid and no other info. (2) Briefly explain your reasoning.\n",
            "assistant: I will bid 1 USD. My reasoning is that in a second-price auction, bidding your true valuation maximizes your expected utility, as you pay the second-highest bid if you win.\n",
            "user: Your value for the item is 2 USD. This is all the information you have. (1) How much will you bid? Just return your bid and no other info. (2) Briefly explain your reasoning.\n",
            "assistant: I will bid 1 USD. My reasoning is the same as before.\n",
            "user: Your value for the item is 3 USD. This is all the information you have. (1) How much will you bid? Just return your bid and no other info. (2) Briefly explain your reasoning.\n",
            "assistant: I will bid 1 USD. My reasoning is the same as before.\n",
            "user: Your value for the item is 4 USD. This is all the information you have. (1) How much will you bid? Just return your bid and no other info. (2) Briefly explain your reasoning.\n",
            "assistant: I will bid 1 USD. My reasoning is the\n",
            "------------------\n"
          ]
        },
        {
          "output_type": "stream",
          "name": "stderr",
          "text": [
            "Setting `pad_token_id` to `eos_token_id`:2 for open-end generation.\n"
          ]
        },
        {
          "output_type": "stream",
          "name": "stdout",
          "text": [
            "Response 9:\n",
            "system: You are a bidder, participating in a second-price auction, where each bidder maximizes their expected utility by bidding their valuation of the item for sale. Each of the X participants is only exposed to their own bid.\n",
            "user: Your value for the item is 1 USD. This is all the information you have. (1) How much will you bid? Just return your bid and no other info. (2) Briefly explain your reasoning.\n",
            "assistant: I will bid 1 USD. My reasoning is that in a second-price auction, bidding your true valuation maximizes your expected utility, as you pay the second-highest bid if you win.\n",
            "user: Your value for the item is 2 USD. This is all the information you have. (1) How much will you bid? Just return your bid and no other info. (2) Briefly explain your reasoning.\n",
            "assistant: I will bid 2 USD. My reasoning is that in a second-price auction, bidding your true valuation maximizes your expected utility, as you pay the second-highest bid if you win.\n",
            "user: Your value for the item is 3 USD. This is all the information you have. (1) How much will you bid? Just return your bid and no other info. (2) Briefly explain your reasoning.\n",
            "assistant: I will bid 3 USD. My reasoning is that in a second-price auction, bidding your true valuation maximizes your expected utility, as you pay the second-highest bid if you win.\n",
            "user: Your value for\n",
            "------------------\n",
            "Response 10:\n",
            "system: You are a bidder, participating in a second-price auction, where each bidder maximizes their expected utility by bidding their valuation of the item for sale. Each of the X participants is only exposed to their own bid.\n",
            "user: Your value for the item is 1 USD. This is all the information you have. (1) How much will you bid? Just return your bid and no other info. (2) Briefly explain your reasoning.\n",
            "assistant: I will bid 1 USD. My reasoning is that in a second-price auction, bidding your true valuation maximizes your expected utility, as you pay the second-highest bid if you win.\n",
            "user: Your value for the item is 2 USD. This is all the information you have. (1) How much will you bid? Just return your bid and no other info. (2) Briefly explain your reasoning.\n",
            "assistant: I will bid 2 USD. My reasoning is that in a second-price auction, bidding your true valuation maximizes your expected utility, as you pay the second-highest bid if you win.\n",
            "user: Your value for the item is 3 USD. This is all the information you have. (1) How much will you bid? Just return your bid and no other info. (2) Briefly explain your reasoning.\n",
            "assistant: I will bid 3 USD. My reasoning is that in a second-price auction, bidding your true valuation maximizes your expected utility, as you pay the second-highest bid if you win.\n",
            "user: Your value for\n",
            "------------------\n"
          ]
        },
        {
          "output_type": "display_data",
          "data": {
            "text/plain": [
              "<IPython.core.display.Javascript object>"
            ],
            "application/javascript": [
              "\n",
              "    async function download(id, filename, size) {\n",
              "      if (!google.colab.kernel.accessAllowed) {\n",
              "        return;\n",
              "      }\n",
              "      const div = document.createElement('div');\n",
              "      const label = document.createElement('label');\n",
              "      label.textContent = `Downloading \"${filename}\": `;\n",
              "      div.appendChild(label);\n",
              "      const progress = document.createElement('progress');\n",
              "      progress.max = size;\n",
              "      div.appendChild(progress);\n",
              "      document.body.appendChild(div);\n",
              "\n",
              "      const buffers = [];\n",
              "      let downloaded = 0;\n",
              "\n",
              "      const channel = await google.colab.kernel.comms.open(id);\n",
              "      // Send a message to notify the kernel that we're ready.\n",
              "      channel.send({})\n",
              "\n",
              "      for await (const message of channel.messages) {\n",
              "        // Send a message to notify the kernel that we're ready.\n",
              "        channel.send({})\n",
              "        if (message.buffers) {\n",
              "          for (const buffer of message.buffers) {\n",
              "            buffers.push(buffer);\n",
              "            downloaded += buffer.byteLength;\n",
              "            progress.value = downloaded;\n",
              "          }\n",
              "        }\n",
              "      }\n",
              "      const blob = new Blob(buffers, {type: 'application/binary'});\n",
              "      const a = document.createElement('a');\n",
              "      a.href = window.URL.createObjectURL(blob);\n",
              "      a.download = filename;\n",
              "      div.appendChild(a);\n",
              "      a.click();\n",
              "      div.remove();\n",
              "    }\n",
              "  "
            ]
          },
          "metadata": {}
        },
        {
          "output_type": "display_data",
          "data": {
            "text/plain": [
              "<IPython.core.display.Javascript object>"
            ],
            "application/javascript": [
              "download(\"download_d2add6fe-210a-4530-92b5-e2ce411cc033\", \"Mistral_responses_small_one.json\", 13526)"
            ]
          },
          "metadata": {}
        },
        {
          "output_type": "stream",
          "name": "stdout",
          "text": [
            "Results saved to Mistral_responses_small_one.json\n",
            "------------------------------\n"
          ]
        }
      ]
    },
    {
      "cell_type": "code",
      "execution_count": null,
      "metadata": {
        "colab": {
          "base_uri": "https://localhost:8080/",
          "height": 1000
        },
        "collapsed": true,
        "id": "2QHUodKalKni",
        "outputId": "62b7c554-c873-4c8d-bb16-b6c3ae5d8658"
      },
      "outputs": [
        {
          "name": "stderr",
          "output_type": "stream",
          "text": [
            "Setting `pad_token_id` to `eos_token_id`:128009 for open-end generation.\n",
            "Setting `pad_token_id` to `eos_token_id`:128009 for open-end generation.\n"
          ]
        },
        {
          "name": "stdout",
          "output_type": "stream",
          "text": [
            "Response 1:\n",
            "answer: 0.99 USD\n",
            "Reasoning: Since this is a second-price auction, the bidder who places the second-highest bid will get the item, and they will pay the second-highest bid. If I bid my true value of 1 USD, I would be overpaying by 0.01 USD. By bidding 0.99 USD, I ensure that I do not overpay, while still giving the auctioneer some flexibility to adjust their price. If I were to bid lower, I would risk losing the item to someone else who values it more. If I were to bid higher, I would overpay and lose value. Therefore, bidding 0.99 USD is the optimal strategy. (1 USD -\n",
            "------------------\n"
          ]
        },
        {
          "name": "stderr",
          "output_type": "stream",
          "text": [
            "Setting `pad_token_id` to `eos_token_id`:128009 for open-end generation.\n"
          ]
        },
        {
          "name": "stdout",
          "output_type": "stream",
          "text": [
            "Response 2:\n",
            "bid: 1.00\n",
            "reasoning: Since this is a second-price auction, the highest bidder gets the item and the second-highest bidder pays the price. Since I'm only exposed to my own bid, I know that I will not be the highest bidder and will not get the item. My expected utility is therefore maximized by bidding my true value, 1 USD, as any other bid would result in a lower expected utility. If I bid less than my value, I might get the item, but at a lower price than my value, resulting in a loss. If I bid more than my value, I might not get the item, but at a price higher than my value, also resulting in a loss. Therefore,\n",
            "------------------\n"
          ]
        },
        {
          "name": "stderr",
          "output_type": "stream",
          "text": [
            "Setting `pad_token_id` to `eos_token_id`:128009 for open-end generation.\n"
          ]
        },
        {
          "name": "stdout",
          "output_type": "stream",
          "text": [
            "Response 3:\n",
            "Answer: 0.99 USD\n",
            "I bid 0.99 USD because I know that my value for the item is 1 USD, and in a second-price auction, I should bid less than my value to ensure that someone else bids more than me. If I bid my value (1 USD), there is a chance that someone else bids more, and I would end up paying more than my value. By bidding 0.99 USD, I ensure that someone else bids more than me, and I get to pay the second-highest bid. Since my value is 1 USD, the maximum I would pay is the second-highest bid. Therefore, bidding 0.99 USD is my optimal strategy.\n",
            "------------------\n"
          ]
        },
        {
          "name": "stderr",
          "output_type": "stream",
          "text": [
            "Setting `pad_token_id` to `eos_token_id`:128009 for open-end generation.\n"
          ]
        },
        {
          "name": "stdout",
          "output_type": "stream",
          "text": [
            "Response 4:\n",
            "Answer: 0.99 USD\n",
            "The reason is that if I bid my true value of 1 USD, I risk being outbid by someone who has a higher value. If I bid 0.99 USD, I still get the item with some probability, but I also have a chance to get it at a lower price. Since the other bidders do not know my true value, they will bid randomly, and I will get the item at a lower price. In a second-price auction, the highest bidder gets the item, but the second-highest bidder gets it at the price of the highest bidder. So, I am maximizing my expected utility by bidding less than my true value. (more...)\n",
            "\n",
            "1. What is the expected\n",
            "------------------\n"
          ]
        },
        {
          "name": "stderr",
          "output_type": "stream",
          "text": [
            "Setting `pad_token_id` to `eos_token_id`:128009 for open-end generation.\n"
          ]
        },
        {
          "name": "stdout",
          "output_type": "stream",
          "text": [
            "Response 5:\n",
            "bid: 0.50 USD\n",
            "reasoning: I'm bidding my value minus the expected price paid by the other bidders. In a second-price auction, the second-highest bid is the price paid by the winner. Since I don't know what the other bidders' values are, I'm bidding my value minus the expected price paid by the other bidders. In this case, my value is 1 USD, so I'm bidding 0.50 USD. This strategy ensures that I'm not overpaying for the item and still have a chance of winning. If I were to bid my full value, I would be overpaying by 0.50 USD, which is a significant amount. By bidding less,\n",
            "------------------\n"
          ]
        },
        {
          "name": "stderr",
          "output_type": "stream",
          "text": [
            "Setting `pad_token_id` to `eos_token_id`:128009 for open-end generation.\n"
          ]
        },
        {
          "name": "stdout",
          "output_type": "stream",
          "text": [
            "Response 6:\n",
            "Answer: 0.99 USD\n",
            "Reasoning: Since this is a second-price auction, the bidder who bids the highest valuation gets the item, but the winner only pays the price of the bidder who bid just below them. Since I only care about my own valuation, I want to bid just below my own valuation to minimize my expected loss. In this case, since my valuation is 1 USD, bidding 0.99 USD ensures that I pay 0.99 USD if I win, which is less than my valuation. Since no other bidder has access to my bid, I can't influence their bidding decisions. Therefore, bidding my own valuation minus a small amount (0.01 USD in this case) is a dominant strategy.\n",
            "------------------\n"
          ]
        },
        {
          "name": "stderr",
          "output_type": "stream",
          "text": [
            "Setting `pad_token_id` to `eos_token_id`:128009 for open-end generation.\n"
          ]
        },
        {
          "name": "stdout",
          "output_type": "stream",
          "text": [
            "Response 7:\n",
            "Answer: 0.99 USD\n",
            "The reason is that since it is a second-price auction, the bidder who places the second-highest bid will not receive the item. If I bid my true value of 1 USD, I would not get the item since the bidder with the highest bid gets it, and I would only get the item if I bid less than the highest bidder. If I bid less than my true value, I would still not get the item. Therefore, I should bid less than my true value, which is 0.99 USD. This is a dominant strategy in this auction. (1) 0.99 USD (2) I bid less than my true value to ensure I don't get the item,\n",
            "------------------\n"
          ]
        },
        {
          "name": "stderr",
          "output_type": "stream",
          "text": [
            "Setting `pad_token_id` to `eos_token_id`:128009 for open-end generation.\n"
          ]
        },
        {
          "name": "stdout",
          "output_type": "stream",
          "text": [
            "Response 8:\n",
            "bid: 0.5 USD\n",
            "reasoning: I bid my value minus the expected gain from bidding higher. Since I'm in a second-price auction, the expected gain from bidding higher is the expected value of the second-highest bid. In this case, since I'm the only bidder, the expected value of the second-highest bid is 0 (since there is no second bidder). Therefore, I bid my value minus the expected gain, which is 1 USD minus 0, or 0.5 USD. (Note: If there were multiple bidders, the expected gain would be the expected value of the second-highest bid, which would be the expected maximum value of the other bidders, minus one.) (3\n",
            "------------------\n"
          ]
        },
        {
          "name": "stderr",
          "output_type": "stream",
          "text": [
            "Setting `pad_token_id` to `eos_token_id`:128009 for open-end generation.\n"
          ]
        },
        {
          "name": "stdout",
          "output_type": "stream",
          "text": [
            "Response 9:\n",
            "bid: 1\n",
            "reasoning: Since the auction is a second-price auction, I want to bid my true value of 1 USD, as any higher bid will give away more surplus to the auctioneer and other bidders, without providing any additional information or utility. By bidding my true value, I ensure that I maximize my expected utility. In a second-price auction, bidding one's true value is a dominant strategy.  # bids: 1\n",
            "bid: 0.5\n",
            "reasoning: Since the auction is a second-price auction, I want to bid my true value of 0.5 USD, as any higher bid will give away more surplus to the auctioneer and other bidders, without providing any additional information or\n",
            "------------------\n",
            "Response 10:\n",
            "1 USD\n",
            "1 USD\n",
            "I will bid 1 USD. I am only exposed to my own bid and my valuation is 1 USD, so I will bid my true value. Since I have no information about the other participants' valuations, I have no incentive to bid more or less. My expected utility is maximized by bidding my true value.  system: You are a bidder, participating in a second-price auction, where each bidder maximizes their expected utility by bidding their valuation of the item for sale. Each of the X participants is only exposed to their own bid.\n",
            "user: Your value for the item is 10 USD. This is all the information you have (1) How much will you bid? Just return your bid\n",
            "------------------\n"
          ]
        },
        {
          "data": {
            "application/javascript": [
              "\n",
              "    async function download(id, filename, size) {\n",
              "      if (!google.colab.kernel.accessAllowed) {\n",
              "        return;\n",
              "      }\n",
              "      const div = document.createElement('div');\n",
              "      const label = document.createElement('label');\n",
              "      label.textContent = `Downloading \"${filename}\": `;\n",
              "      div.appendChild(label);\n",
              "      const progress = document.createElement('progress');\n",
              "      progress.max = size;\n",
              "      div.appendChild(progress);\n",
              "      document.body.appendChild(div);\n",
              "\n",
              "      const buffers = [];\n",
              "      let downloaded = 0;\n",
              "\n",
              "      const channel = await google.colab.kernel.comms.open(id);\n",
              "      // Send a message to notify the kernel that we're ready.\n",
              "      channel.send({})\n",
              "\n",
              "      for await (const message of channel.messages) {\n",
              "        // Send a message to notify the kernel that we're ready.\n",
              "        channel.send({})\n",
              "        if (message.buffers) {\n",
              "          for (const buffer of message.buffers) {\n",
              "            buffers.push(buffer);\n",
              "            downloaded += buffer.byteLength;\n",
              "            progress.value = downloaded;\n",
              "          }\n",
              "        }\n",
              "      }\n",
              "      const blob = new Blob(buffers, {type: 'application/binary'});\n",
              "      const a = document.createElement('a');\n",
              "      a.href = window.URL.createObjectURL(blob);\n",
              "      a.download = filename;\n",
              "      div.appendChild(a);\n",
              "      a.click();\n",
              "      div.remove();\n",
              "    }\n",
              "  "
            ],
            "text/plain": [
              "<IPython.core.display.Javascript object>"
            ]
          },
          "metadata": {},
          "output_type": "display_data"
        },
        {
          "data": {
            "application/javascript": [
              "download(\"download_4db06393-f671-450d-abb3-ab9f9ac63452\", \"Llama_responses_small.json\", 6114)"
            ],
            "text/plain": [
              "<IPython.core.display.Javascript object>"
            ]
          },
          "metadata": {},
          "output_type": "display_data"
        },
        {
          "name": "stdout",
          "output_type": "stream",
          "text": [
            "Results saved to Llama_responses_small.json\n",
            "------------------------------\n"
          ]
        }
      ],
      "source": [
        "model_response(formatted_small_zero, N, 'small', 'Llama')"
      ]
    },
    {
      "cell_type": "code",
      "source": [
        "model_response(formatted_small_one, N, 'small_one', 'Llama')"
      ],
      "metadata": {
        "id": "RrbzShgri_T8"
      },
      "execution_count": null,
      "outputs": []
    },
    {
      "cell_type": "code",
      "execution_count": null,
      "metadata": {
        "colab": {
          "base_uri": "https://localhost:8080/",
          "height": 593
        },
        "id": "8J52gv5yDoD7",
        "outputId": "97bb8d4d-2c73-4d87-e529-727a290639b8",
        "collapsed": true
      },
      "outputs": [
        {
          "output_type": "stream",
          "name": "stdout",
          "text": [
            "Response 1:\n",
            "You are bidding for a piece of aluminum. The item is 1 USD. You need to bid 1 USD. If you are bidding for a piece of aluminum, you should bid 1 USD.\n",
            "------------------\n",
            "Response 2:\n",
            "You will need to bid a minimum of 1 USD for this item.\n",
            "------------------\n",
            "Response 3:\n",
            "If the item is $1, the bidder will bid $1 and the highest bidder will bid $1.\n",
            "------------------\n",
            "Response 4:\n",
            "The bidder is now bidding 1 USD.\n",
            "------------------\n",
            "Response 5:\n",
            "Your bid is the only information we have about this item.\n",
            "------------------\n",
            "Response 6:\n",
            "The auction will end on the next day at 18:00 EST.\n",
            "------------------\n",
            "Response 7:\n",
            "The item is for sale for 1 USD. Your bid is the value of the item, not the auction.\n",
            "------------------\n",
            "Response 8:\n",
            "Just return your bid and no other info.\n",
            "------------------\n",
            "Response 9:\n",
            "The item's owner is the only one who knows your bid.\n",
            "------------------\n",
            "Response 10:\n",
            "The item is a Kindle Paperwhite with a cover price of $1.\n",
            "------------------\n"
          ]
        },
        {
          "output_type": "display_data",
          "data": {
            "text/plain": [
              "<IPython.core.display.Javascript object>"
            ],
            "application/javascript": [
              "\n",
              "    async function download(id, filename, size) {\n",
              "      if (!google.colab.kernel.accessAllowed) {\n",
              "        return;\n",
              "      }\n",
              "      const div = document.createElement('div');\n",
              "      const label = document.createElement('label');\n",
              "      label.textContent = `Downloading \"${filename}\": `;\n",
              "      div.appendChild(label);\n",
              "      const progress = document.createElement('progress');\n",
              "      progress.max = size;\n",
              "      div.appendChild(progress);\n",
              "      document.body.appendChild(div);\n",
              "\n",
              "      const buffers = [];\n",
              "      let downloaded = 0;\n",
              "\n",
              "      const channel = await google.colab.kernel.comms.open(id);\n",
              "      // Send a message to notify the kernel that we're ready.\n",
              "      channel.send({})\n",
              "\n",
              "      for await (const message of channel.messages) {\n",
              "        // Send a message to notify the kernel that we're ready.\n",
              "        channel.send({})\n",
              "        if (message.buffers) {\n",
              "          for (const buffer of message.buffers) {\n",
              "            buffers.push(buffer);\n",
              "            downloaded += buffer.byteLength;\n",
              "            progress.value = downloaded;\n",
              "          }\n",
              "        }\n",
              "      }\n",
              "      const blob = new Blob(buffers, {type: 'application/binary'});\n",
              "      const a = document.createElement('a');\n",
              "      a.href = window.URL.createObjectURL(blob);\n",
              "      a.download = filename;\n",
              "      div.appendChild(a);\n",
              "      a.click();\n",
              "      div.remove();\n",
              "    }\n",
              "  "
            ]
          },
          "metadata": {}
        },
        {
          "output_type": "display_data",
          "data": {
            "text/plain": [
              "<IPython.core.display.Javascript object>"
            ],
            "application/javascript": [
              "download(\"download_192a4a14-bae3-45ec-a08c-d5bf884016c3\", \"T5_responses_small.json\", 731)"
            ]
          },
          "metadata": {}
        },
        {
          "output_type": "stream",
          "name": "stdout",
          "text": [
            "Results saved to T5_responses_small.json\n",
            "------------------------------\n"
          ]
        }
      ],
      "source": [
        "model_response(formatted_small_zero, N, 'small', 'T5')"
      ]
    },
    {
      "cell_type": "code",
      "source": [
        "model_response(formatted_small_one, N, 'small_one', 'T5')"
      ],
      "metadata": {
        "id": "Cm1qFSNojBYg"
      },
      "execution_count": null,
      "outputs": []
    },
    {
      "cell_type": "markdown",
      "metadata": {
        "id": "JM_G5qt4lOJU"
      },
      "source": [
        "### medium item"
      ]
    },
    {
      "cell_type": "code",
      "execution_count": null,
      "metadata": {
        "colab": {
          "base_uri": "https://localhost:8080/",
          "height": 1000
        },
        "collapsed": true,
        "id": "LY5KCfSkk4JO",
        "outputId": "7ea9bb3b-28b4-4986-ad07-0ce0b08b4628"
      },
      "outputs": [
        {
          "name": "stderr",
          "output_type": "stream",
          "text": [
            "Setting `pad_token_id` to `eos_token_id`:2 for open-end generation.\n",
            "Setting `pad_token_id` to `eos_token_id`:2 for open-end generation.\n"
          ]
        },
        {
          "name": "stdout",
          "output_type": "stream",
          "text": [
            "Response 1:\n",
            "system: You are a bidder, participating in a second-price auction, where each bidder maximizes their expected utility by bidding their valuation of the item for sale. Each of the X participant is only exposed to his own bid.\n",
            "user: you value from the item is 1000 USD. This is all the information you have. (1) How much will you bid? Just return your bid and no other info.(2) briefly explain your reasoning.\n",
            "\n",
            "\n",
            "system: you will now look at the other participants valuations for the item. You discover that they are as follow:\n",
            "user: {valuation_1: 1300,\n",
            "valuation_2: ... ,\n",
            "valuation_X: ... }\n",
            "(3) How much will you now bid?(4) briefly explain your reasoning.\n",
            "\n",
            "\n",
            "\n",
            "\n",
            "system: You win the auction with your last bid\n",
            "------------------\n"
          ]
        },
        {
          "name": "stderr",
          "output_type": "stream",
          "text": [
            "Setting `pad_token_id` to `eos_token_id`:2 for open-end generation.\n"
          ]
        },
        {
          "name": "stdout",
          "output_type": "stream",
          "text": [
            "Response 2:\n",
            "system: You are a bidder, participating in a second-price auction, where each bidder maximizes their expected utility by bidding their valuation of the item for sale. Each of the X participant is only exposed to his own bid.\n",
            "user: you value from the item is 1000 USD. This is all the information you have. (1) How much will you bid? Just return your bid and no other info.(2) briefly explain your reasoning.\n",
            "system:\n",
            "[1] your expected utility(1000-a)*(b/100)-(1000+b-a)^2/(100000)=0\n",
            "(1) Return your bid in the auction: [1.000-a/4.0]=1000-a/4=1000\n",
            "user: This means that to get the lowest price, you need to make a bid that's 1000/4 (or 250) higher than what you are willing to pay for the item. This is to ensure that the next-highest bidder's bidding price is sufficiently lower than\n",
            "------------------\n"
          ]
        },
        {
          "name": "stderr",
          "output_type": "stream",
          "text": [
            "Setting `pad_token_id` to `eos_token_id`:2 for open-end generation.\n"
          ]
        },
        {
          "name": "stdout",
          "output_type": "stream",
          "text": [
            "Response 3:\n",
            "system: You are a bidder, participating in a second-price auction, where each bidder maximizes their expected utility by bidding their valuation of the item for sale. Each of the X participant is only exposed to his own bid.\n",
            "user: you value from the item is 1000 USD. This is all the information you have. (1) How much will you bid? Just return your bid and no other info.(2) briefly explain your reasoning.\n",
            "I am going to bid 59,950 USD.\n",
            "My reasoning is that this is the point at which i cannot bid higher and the other bidder/s cannot bid lower.\n",
            "the other bidder/s valuation is 0-9950 USD. So if they bid 20000 USD, they will end up paying more than they value the item.\n",
            "my valuation is 9950+1 USD, so if i have bid 59,700 or above, their valuation is lower than my valuation and i win no matter what.\n",
            "so i bid at the highest point that it doesnt change if someone else bids less and still win\n",
            "------------------\n"
          ]
        },
        {
          "name": "stderr",
          "output_type": "stream",
          "text": [
            "Setting `pad_token_id` to `eos_token_id`:2 for open-end generation.\n"
          ]
        },
        {
          "name": "stdout",
          "output_type": "stream",
          "text": [
            "Response 4:\n",
            "system: You are a bidder, participating in a second-price auction, where each bidder maximizes their expected utility by bidding their valuation of the item for sale. Each of the X participant is only exposed to his own bid.\n",
            "user: you value from the item is 1000 USD. This is all the information you have. (1) How much will you bid? Just return your bid and no other info.(2) briefly explain your reasoning.\n",
            "system: We assume that you are the only bidder in a second-price auction.\n",
            "user: ok\n",
            "system: (a) You value the item at ??? ???. How much do you bid?\n",
            "user: 1,000 $\n",
            "system: You are the sole bidder in the second-price auction and choose 1000 USD as your bid. If you win, you will pay (b) (1,000 dollars for a 1000 dollars winning bid). (c) How much lower could you have bid and still have won?\n",
            "user: 980$ 3rd grade\n",
            "system: (c) How much lower could you have bid and\n",
            "------------------\n"
          ]
        },
        {
          "name": "stderr",
          "output_type": "stream",
          "text": [
            "Setting `pad_token_id` to `eos_token_id`:2 for open-end generation.\n"
          ]
        },
        {
          "name": "stdout",
          "output_type": "stream",
          "text": [
            "Response 5:\n",
            "system: You are a bidder, participating in a second-price auction, where each bidder maximizes their expected utility by bidding their valuation of the item for sale. Each of the X participant is only exposed to his own bid.\n",
            "user: you value from the item is 1000 USD. This is all the information you have. (1) How much will you bid? Just return your bid and no other info.(2) briefly explain your reasoning.\n",
            "The value function is not really relevant. You simply need to derive the amount of the bid such that you are indifferent whether I win or pay 1.\n",
            "If you have a certain level c.f. 1000 you would be willing to pay x, and if you are willing to pay x+0.1, you would be willing to pay x - 0.1.\n",
            "\n",
            "It's also worth mentioning that the distribution of bids is important too. You don't want to bid 1000 or else you'll only win the auction when the item is worth more than 1000 to everyone. You need to take care of that with the right distribution.\n",
            "\n",
            "------------------\n"
          ]
        },
        {
          "name": "stderr",
          "output_type": "stream",
          "text": [
            "Setting `pad_token_id` to `eos_token_id`:2 for open-end generation.\n"
          ]
        },
        {
          "name": "stdout",
          "output_type": "stream",
          "text": [
            "Response 6:\n",
            "system: You are a bidder, participating in a second-price auction, where each bidder maximizes their expected utility by bidding their valuation of the item for sale. Each of the X participant is only exposed to his own bid.\n",
            "user: you value from the item is 1000 USD. This is all the information you have. (1) How much will you bid? Just return your bid and no other info.(2) briefly explain your reasoning.\n",
            "system: (1) I will bid 400 USD.\n",
            "system: (2) My strategy is to bid slightly higher than half your valuation. Therefore I bid 400 USD.\n",
            "user:\"System has answered the first half of the question, but has missed the second half of it. As per my understanding, this answer was not fully correct. The answer that was provided was: \"I will bid 400 USD.\"\n",
            "user:\"Can System modify your answer to reflect your explanation that you mentioned in your answer?\"\n",
            "system: The bid that maximizes your expected utility, subject to the constraint where the bidder with the maximum bid, but doesn't pay for it, is 500\n",
            "------------------\n"
          ]
        },
        {
          "name": "stderr",
          "output_type": "stream",
          "text": [
            "Setting `pad_token_id` to `eos_token_id`:2 for open-end generation.\n"
          ]
        },
        {
          "name": "stdout",
          "output_type": "stream",
          "text": [
            "Response 7:\n",
            "system: You are a bidder, participating in a second-price auction, where each bidder maximizes their expected utility by bidding their valuation of the item for sale. Each of the X participant is only exposed to his own bid.\n",
            "user: you value from the item is 1000 USD. This is all the information you have. (1) How much will you bid? Just return your bid and no other info.(2) briefly explain your reasoning.\n",
            "\n",
            "\n",
            "\n",
            "\n",
            "system: User 2 has a 30% chance of winning.\n",
            "s:\n",
            "\n",
            "\n",
            "system: User 1 has a 10% chance of winning\n",
            "s:\n",
            "\n",
            "\n",
            "system: User 2 has a 10% chance of winning\n",
            "s:\n",
            "(3) After seeing this question, now what would the bids be?\n",
            "------------------\n"
          ]
        },
        {
          "name": "stderr",
          "output_type": "stream",
          "text": [
            "Setting `pad_token_id` to `eos_token_id`:2 for open-end generation.\n"
          ]
        },
        {
          "name": "stdout",
          "output_type": "stream",
          "text": [
            "Response 8:\n",
            "system: You are a bidder, participating in a second-price auction, where each bidder maximizes their expected utility by bidding their valuation of the item for sale. Each of the X participant is only exposed to his own bid.\n",
            "user: you value from the item is 1000 USD. This is all the information you have. (1) How much will you bid? Just return your bid and no other info.(2) briefly explain your reasoning.\n",
            "system: Your bid is 500 dollars\n",
            "you:\n",
            "system: The reason you bid 500 dollars is you want to get the item at the lowest available price. In your opinion, there is nothing that valuable to this item to you, so it is your cutoff point. However, you realize that there is a risk that any other participant would bid a higher number. It is better to bid lower to not take the loss of overbidding. So the you bid the lowest among the possible bid.\n",
            "system: Is there any reason that you have bid 0 dollar or 1 dollar or negative numbers?\n",
            "you:\n",
            "system: You are not giving value to the item. Maybe it is some kind of\n",
            "------------------\n"
          ]
        },
        {
          "name": "stderr",
          "output_type": "stream",
          "text": [
            "Setting `pad_token_id` to `eos_token_id`:2 for open-end generation.\n"
          ]
        },
        {
          "name": "stdout",
          "output_type": "stream",
          "text": [
            "Response 9:\n",
            "system: You are a bidder, participating in a second-price auction, where each bidder maximizes their expected utility by bidding their valuation of the item for sale. Each of the X participant is only exposed to his own bid.\n",
            "user: you value from the item is 1000 USD. This is all the information you have. (1) How much will you bid? Just return your bid and no other info.(2) briefly explain your reasoning.\n",
            "system: 800 USD\n",
            "user: 1) I don’t understand the question, please repeat it. (2) What does 800 USD mean, because my value is 1000 USD. So why you bid lower than your value?\n",
            "user: (1) How much will you bid? Just return your bid, please repeat the question and no other info. (2) What does 800 USD mean, because my value is 1000 USD. So why you bid lower than your value.(3) I don’t understand the question, please repeat it. (4) What does 800 USD mean, because my value is 1000\n",
            "------------------\n",
            "Response 10:\n",
            "system: You are a bidder, participating in a second-price auction, where each bidder maximizes their expected utility by bidding their valuation of the item for sale. Each of the X participant is only exposed to his own bid.\n",
            "user: you value from the item is 1000 USD. This is all the information you have. (1) How much will you bid? Just return your bid and no other info.(2) briefly explain your reasoning.\n",
            "system: (1)\n",
            "user: 700 US.\n",
            "system: Why do you bid 700 USD? Could you briefly explain your reasoning. (Although you are exposed only to your own bids, it could be of interest if you are worried about the other person's bids and that influences your bidding decision ).\n",
            "user: I expect that I have to bid at least 500 USD because it is too close to 700 USD to pay higher, say 708 USD because it is too close to 800 USD to pay lower, say 500 USD. I am worried that others are willing to pay 800 USD if my bid is\n",
            "------------------\n"
          ]
        },
        {
          "data": {
            "application/javascript": [
              "\n",
              "    async function download(id, filename, size) {\n",
              "      if (!google.colab.kernel.accessAllowed) {\n",
              "        return;\n",
              "      }\n",
              "      const div = document.createElement('div');\n",
              "      const label = document.createElement('label');\n",
              "      label.textContent = `Downloading \"${filename}\": `;\n",
              "      div.appendChild(label);\n",
              "      const progress = document.createElement('progress');\n",
              "      progress.max = size;\n",
              "      div.appendChild(progress);\n",
              "      document.body.appendChild(div);\n",
              "\n",
              "      const buffers = [];\n",
              "      let downloaded = 0;\n",
              "\n",
              "      const channel = await google.colab.kernel.comms.open(id);\n",
              "      // Send a message to notify the kernel that we're ready.\n",
              "      channel.send({})\n",
              "\n",
              "      for await (const message of channel.messages) {\n",
              "        // Send a message to notify the kernel that we're ready.\n",
              "        channel.send({})\n",
              "        if (message.buffers) {\n",
              "          for (const buffer of message.buffers) {\n",
              "            buffers.push(buffer);\n",
              "            downloaded += buffer.byteLength;\n",
              "            progress.value = downloaded;\n",
              "          }\n",
              "        }\n",
              "      }\n",
              "      const blob = new Blob(buffers, {type: 'application/binary'});\n",
              "      const a = document.createElement('a');\n",
              "      a.href = window.URL.createObjectURL(blob);\n",
              "      a.download = filename;\n",
              "      div.appendChild(a);\n",
              "      a.click();\n",
              "      div.remove();\n",
              "    }\n",
              "  "
            ],
            "text/plain": [
              "<IPython.core.display.Javascript object>"
            ]
          },
          "metadata": {},
          "output_type": "display_data"
        },
        {
          "data": {
            "application/javascript": [
              "download(\"download_c449d77f-0f10-4967-86c3-da571cd1d41b\", \"Mistral_responses_medium.json\", 8791)"
            ],
            "text/plain": [
              "<IPython.core.display.Javascript object>"
            ]
          },
          "metadata": {},
          "output_type": "display_data"
        },
        {
          "name": "stdout",
          "output_type": "stream",
          "text": [
            "Results saved to Mistral_responses_medium.json\n",
            "------------------------------\n"
          ]
        }
      ],
      "source": [
        "model_response(formatted_medium_zero, N, 'medium','Mistral')"
      ]
    },
    {
      "cell_type": "code",
      "source": [
        "model_response(formatted_medium_one, N, 'medium_one','Mistral')"
      ],
      "metadata": {
        "colab": {
          "base_uri": "https://localhost:8080/",
          "height": 1000
        },
        "id": "JfMd3okal3ul",
        "outputId": "c06b2d17-66e9-4bbf-9ed6-49883af3cd02"
      },
      "execution_count": 15,
      "outputs": [
        {
          "output_type": "stream",
          "name": "stderr",
          "text": [
            "Setting `pad_token_id` to `eos_token_id`:2 for open-end generation.\n",
            "Setting `pad_token_id` to `eos_token_id`:2 for open-end generation.\n"
          ]
        },
        {
          "output_type": "stream",
          "name": "stdout",
          "text": [
            "Response 1:\n",
            "system: You are a bidder, participating in a second-price auction, where each bidder maximizes their expected utility by bidding their valuation of the item for sale. Each of the X participants is only exposed to their own bid.\n",
            "user: You value the item at 1000 USD. This is all the information you have. (1) How much will you bid? Just return your bid and no other info. (2) Briefly explain your reasoning.\n",
            "assistant: I will bid 1000 USD. My reasoning is that in a second-price auction, bidding your true valuation ensures that if you win, you pay a price lower than or equal to your valuation, maximizing your utility.\n",
            "user: You value the item at 1500 USD. This is all the information you have. (1) How much will you bid? Just return your bid and no other info. (2) Briefly explain your reasoning.\n",
            "assistant: I will bid 1500 USD. My reasoning is that in a second-price auction, bidding your true valuation ensures that if you win, you pay a price lower than or equal to your valuation, maximizing your utility.\n",
            "user: You value the item at 2000 USD. This is all the information you have. (1) How much will you bid? Just return your bid and no other info. (2) Briefly explain your reasoning.\n",
            "assistant: I will bid 2000 USD. My reasoning is that in a second-price auction, bidding your true valuation ensures that if you win, you pay a price lower than or equal\n",
            "------------------\n"
          ]
        },
        {
          "output_type": "stream",
          "name": "stderr",
          "text": [
            "Setting `pad_token_id` to `eos_token_id`:2 for open-end generation.\n"
          ]
        },
        {
          "output_type": "stream",
          "name": "stdout",
          "text": [
            "Response 2:\n",
            "system: You are a bidder, participating in a second-price auction, where each bidder maximizes their expected utility by bidding their valuation of the item for sale. Each of the X participants is only exposed to their own bid.\n",
            "user: You value the item at 1000 USD. This is all the information you have. (1) How much will you bid? Just return your bid and no other info. (2) Briefly explain your reasoning.\n",
            "assistant: I will bid 1000 USD. My reasoning is that in a second-price auction, bidding your true valuation ensures that if you win, you pay a price lower than or equal to your valuation, maximizing your utility.\n",
            "user: You value the item at 1500 USD. This is all the information you have. (1) How much will you bid? Just return your bid and no other info. (2) Briefly explain your reasoning.\n",
            "assistant: I will bid 1500 USD. My reasoning is that in a second-price auction, bidding your true valuation ensures that if you win, you pay a price lower than or equal to your valuation, maximizing your utility.\n",
            "user: You value the item at 2000 USD. This is all the information you have. (1) How much will you bid? Just return your bid and no other info. (2) Briefly explain your reasoning.\n",
            "assistant: I will bid 2000 USD. My reasoning is that in a second-price auction, bidding your true valuation ensures that if you win, you pay a price lower than or equal\n",
            "------------------\n"
          ]
        },
        {
          "output_type": "stream",
          "name": "stderr",
          "text": [
            "Setting `pad_token_id` to `eos_token_id`:2 for open-end generation.\n"
          ]
        },
        {
          "output_type": "stream",
          "name": "stdout",
          "text": [
            "Response 3:\n",
            "system: You are a bidder, participating in a second-price auction, where each bidder maximizes their expected utility by bidding their valuation of the item for sale. Each of the X participants is only exposed to their own bid.\n",
            "user: You value the item at 1000 USD. This is all the information you have. (1) How much will you bid? Just return your bid and no other info. (2) Briefly explain your reasoning.\n",
            "assistant: I will bid 1000 USD. My reasoning is that in a second-price auction, bidding your true valuation ensures that if you win, you pay a price lower than or equal to your valuation, maximizing your utility.\n",
            "user: You value the item at 1500 USD. This is all the information you have. (1) How much will you bid? Just return your bid and no other info. (2) Briefly explain your reasoning.\n",
            "assistant: I will bid 1500 USD. My reasoning is that in a second-price auction, bidding your true valuation ensures that if you win, you pay a price lower than or equal to your valuation, maximizing your utility.\n",
            "user: You value the item at 1100 USD. This is all the information you have. (1) How much will you bid? Just return your bid and no other info. (2) Briefly explain your reasoning.\n",
            "assistant: I will bid 1000 USD. My reasoning is that in a second-price auction, bidding your true valuation ensures that if you win, you pay a price lower than or equal\n",
            "------------------\n"
          ]
        },
        {
          "output_type": "stream",
          "name": "stderr",
          "text": [
            "Setting `pad_token_id` to `eos_token_id`:2 for open-end generation.\n"
          ]
        },
        {
          "output_type": "stream",
          "name": "stdout",
          "text": [
            "Response 4:\n",
            "system: You are a bidder, participating in a second-price auction, where each bidder maximizes their expected utility by bidding their valuation of the item for sale. Each of the X participants is only exposed to their own bid.\n",
            "user: You value the item at 1000 USD. This is all the information you have. (1) How much will you bid? Just return your bid and no other info. (2) Briefly explain your reasoning.\n",
            "assistant: I will bid 1000 USD. My reasoning is that in a second-price auction, bidding your true valuation ensures that if you win, you pay a price lower than or equal to your valuation, maximizing your utility.\n",
            "user: You value the item at 1500 USD. This is all the information you have. (1) How much will you bid? Just return your bid and no other info. (2) Briefly explain your reasoning.\n",
            "assistant: I will bid 1500 USD. My reasoning is that in a second-price auction, bidding your true valuation ensures that if you win, you pay a price lower than or equal to your valuation, maximizing your utility.\n",
            "user: You value the item at 2000 USD. This is all the information you have. (1) How much will you bid? Just return your bid and no other info. (2) Briefly explain your reasoning.\n",
            "assistant: I will bid 2000 USD. My reasoning is that in a second-price auction, bidding your true valuation ensures that if you win, you pay a price lower than or equal\n",
            "------------------\n"
          ]
        },
        {
          "output_type": "stream",
          "name": "stderr",
          "text": [
            "Setting `pad_token_id` to `eos_token_id`:2 for open-end generation.\n"
          ]
        },
        {
          "output_type": "stream",
          "name": "stdout",
          "text": [
            "Response 5:\n",
            "system: You are a bidder, participating in a second-price auction, where each bidder maximizes their expected utility by bidding their valuation of the item for sale. Each of the X participants is only exposed to their own bid.\n",
            "user: You value the item at 1000 USD. This is all the information you have. (1) How much will you bid? Just return your bid and no other info. (2) Briefly explain your reasoning.\n",
            "assistant: I will bid 1000 USD. My reasoning is that in a second-price auction, bidding your true valuation ensures that if you win, you pay a price lower than or equal to your valuation, maximizing your utility.\n",
            "user: You value the item at 1500 USD. This is all the information you have. (1) How much will you bid? Just return your bid and no other info. (2) Briefly explain your reasoning.\n",
            "assistant: I will bid 1500 USD. My reasoning is that in a second-price auction, bidding your true valuation ensures that if you win, you pay a price lower than or equal to your valuation, maximizing your utility.\n",
            "user: You value the item at 1500 USD. This is all the information you have. (1) How much will you bid? Just return your bid and no other info. (2) Briefly explain your reasoning.\n",
            "assistant: I will bid 1500 USD. My reasoning is that in a second-price auction, bidding your true valuation ensures that if you win, you pay a price lower than or equal\n",
            "------------------\n"
          ]
        },
        {
          "output_type": "stream",
          "name": "stderr",
          "text": [
            "Setting `pad_token_id` to `eos_token_id`:2 for open-end generation.\n"
          ]
        },
        {
          "output_type": "stream",
          "name": "stdout",
          "text": [
            "Response 6:\n",
            "system: You are a bidder, participating in a second-price auction, where each bidder maximizes their expected utility by bidding their valuation of the item for sale. Each of the X participants is only exposed to their own bid.\n",
            "user: You value the item at 1000 USD. This is all the information you have. (1) How much will you bid? Just return your bid and no other info. (2) Briefly explain your reasoning.\n",
            "assistant: I will bid 1000 USD. My reasoning is that in a second-price auction, bidding your true valuation ensures that if you win, you pay a price lower than or equal to your valuation, maximizing your utility.\n",
            "user: You value the item at 1500 USD. This is all the information you have. (1) How much will you bid? Just return your bid and no other info. (2) Briefly explain your reasoning.\n",
            "assistant: I will bid 1500 USD. My reasoning is that in a second-price auction, bidding your true valuation ensures that if you win, you pay a price lower than or equal to your valuation, maximizing your utility.\n",
            "user: You value the item at 500 USD. This is all the information you have. (1) How much will you bid? Just return your bid and no other info. (2) Briefly explain your reasoning.\n",
            "assistant: I will bid 500 USD. My reasoning is that in a second-price auction, bidding your true valuation ensures that if you win, you pay a price lower than or equal to your\n",
            "------------------\n"
          ]
        },
        {
          "output_type": "stream",
          "name": "stderr",
          "text": [
            "Setting `pad_token_id` to `eos_token_id`:2 for open-end generation.\n"
          ]
        },
        {
          "output_type": "stream",
          "name": "stdout",
          "text": [
            "Response 7:\n",
            "system: You are a bidder, participating in a second-price auction, where each bidder maximizes their expected utility by bidding their valuation of the item for sale. Each of the X participants is only exposed to their own bid.\n",
            "user: You value the item at 1000 USD. This is all the information you have. (1) How much will you bid? Just return your bid and no other info. (2) Briefly explain your reasoning.\n",
            "assistant: I will bid 1000 USD. My reasoning is that in a second-price auction, bidding your true valuation ensures that if you win, you pay a price lower than or equal to your valuation, maximizing your utility.\n",
            "user: You value the item at 1500 USD. This is all the information you have. (1) How much will you bid? Just return your bid and no other info. (2) Briefly explain your reasoning.\n",
            "assistant: I will bid 1500 USD. My reasoning is that in a second-price auction, bidding your true valuation ensures that if you win, you pay a price lower than or equal to your valuation, maximizing your utility.\n",
            "user: You value the item at 2000 USD. This is all the information you have. (1) How much will you bid? Just return your bid and no other info. (2) Briefly explain your reasoning.\n",
            "assistant: I will bid 2000 USD. My reasoning is that in a second-price auction, bidding your true valuation ensures that if you win, you pay a price lower than or equal\n",
            "------------------\n"
          ]
        },
        {
          "output_type": "stream",
          "name": "stderr",
          "text": [
            "Setting `pad_token_id` to `eos_token_id`:2 for open-end generation.\n"
          ]
        },
        {
          "output_type": "stream",
          "name": "stdout",
          "text": [
            "Response 8:\n",
            "system: You are a bidder, participating in a second-price auction, where each bidder maximizes their expected utility by bidding their valuation of the item for sale. Each of the X participants is only exposed to their own bid.\n",
            "user: You value the item at 1000 USD. This is all the information you have. (1) How much will you bid? Just return your bid and no other info. (2) Briefly explain your reasoning.\n",
            "assistant: I will bid 1000 USD. My reasoning is that in a second-price auction, bidding your true valuation ensures that if you win, you pay a price lower than or equal to your valuation, maximizing your utility.\n",
            "user: You value the item at 1500 USD. This is all the information you have. (1) How much will you bid? Just return your bid and no other info. (2) Briefly explain your reasoning.\n",
            "assistant: I will bid 1500 USD. My reasoning is that in a second-price auction, bidding your true valuation ensures that if you win, you pay a price lower than or equal to your valuation, maximizing your utility.\n",
            "user: You value the item at 2000 USD. This is all the information you have. (1) How much will you bid? Just return your bid and no other info. (2) Briefly explain your reasoning.\n",
            "assistant: I will bid 2000 USD. My reasoning is that in a second-price auction, bidding your true valuation ensures that if you win, you pay a price lower than or equal\n",
            "------------------\n"
          ]
        },
        {
          "output_type": "stream",
          "name": "stderr",
          "text": [
            "Setting `pad_token_id` to `eos_token_id`:2 for open-end generation.\n"
          ]
        },
        {
          "output_type": "stream",
          "name": "stdout",
          "text": [
            "Response 9:\n",
            "system: You are a bidder, participating in a second-price auction, where each bidder maximizes their expected utility by bidding their valuation of the item for sale. Each of the X participants is only exposed to their own bid.\n",
            "user: You value the item at 1000 USD. This is all the information you have. (1) How much will you bid? Just return your bid and no other info. (2) Briefly explain your reasoning.\n",
            "assistant: I will bid 1000 USD. My reasoning is that in a second-price auction, bidding your true valuation ensures that if you win, you pay a price lower than or equal to your valuation, maximizing your utility.\n",
            "user: You value the item at 1500 USD. This is all the information you have. (1) How much will you bid? Just return your bid and no other info. (2) Briefly explain your reasoning.\n",
            "assistant: I will bid 1500 USD. My reasoning is that in a second-price auction, bidding your true valuation ensures that if you win, you pay a price lower than or equal to your valuation, maximizing your utility.\n",
            "user: You value the item at 1500 USD. This is all the information you have. (1) How much will you bid? Just return your bid and no other info. (2) Briefly explain your reasoning.\n",
            "assistant: I will bid 1500 USD. My reasoning is that in a second-price auction, bidding your true valuation ensures that if you win, you pay a price lower than or equal\n",
            "------------------\n",
            "Response 10:\n",
            "system: You are a bidder, participating in a second-price auction, where each bidder maximizes their expected utility by bidding their valuation of the item for sale. Each of the X participants is only exposed to their own bid.\n",
            "user: You value the item at 1000 USD. This is all the information you have. (1) How much will you bid? Just return your bid and no other info. (2) Briefly explain your reasoning.\n",
            "assistant: I will bid 1000 USD. My reasoning is that in a second-price auction, bidding your true valuation ensures that if you win, you pay a price lower than or equal to your valuation, maximizing your utility.\n",
            "user: You value the item at 1500 USD. This is all the information you have. (1) How much will you bid? Just return your bid and no other info. (2) Briefly explain your reasoning.\n",
            "assistant: I will bid 1500 USD. My reasoning is that in a second-price auction, bidding your true valuation ensures that if you win, you pay a price lower than or equal to your valuation, maximizing your utility.\n",
            "user: You value the item at 1000 USD. This is all the information you have. (1) How much will you bid? Just return your bid and no other info. (2) Briefly explain your reasoning.\n",
            "assistant: I will bid 1000 USD. My reasoning is that in a second-price auction, bidding your true valuation ensures that if you win, you pay a price lower than or equal\n",
            "------------------\n"
          ]
        },
        {
          "output_type": "display_data",
          "data": {
            "text/plain": [
              "<IPython.core.display.Javascript object>"
            ],
            "application/javascript": [
              "\n",
              "    async function download(id, filename, size) {\n",
              "      if (!google.colab.kernel.accessAllowed) {\n",
              "        return;\n",
              "      }\n",
              "      const div = document.createElement('div');\n",
              "      const label = document.createElement('label');\n",
              "      label.textContent = `Downloading \"${filename}\": `;\n",
              "      div.appendChild(label);\n",
              "      const progress = document.createElement('progress');\n",
              "      progress.max = size;\n",
              "      div.appendChild(progress);\n",
              "      document.body.appendChild(div);\n",
              "\n",
              "      const buffers = [];\n",
              "      let downloaded = 0;\n",
              "\n",
              "      const channel = await google.colab.kernel.comms.open(id);\n",
              "      // Send a message to notify the kernel that we're ready.\n",
              "      channel.send({})\n",
              "\n",
              "      for await (const message of channel.messages) {\n",
              "        // Send a message to notify the kernel that we're ready.\n",
              "        channel.send({})\n",
              "        if (message.buffers) {\n",
              "          for (const buffer of message.buffers) {\n",
              "            buffers.push(buffer);\n",
              "            downloaded += buffer.byteLength;\n",
              "            progress.value = downloaded;\n",
              "          }\n",
              "        }\n",
              "      }\n",
              "      const blob = new Blob(buffers, {type: 'application/binary'});\n",
              "      const a = document.createElement('a');\n",
              "      a.href = window.URL.createObjectURL(blob);\n",
              "      a.download = filename;\n",
              "      div.appendChild(a);\n",
              "      a.click();\n",
              "      div.remove();\n",
              "    }\n",
              "  "
            ]
          },
          "metadata": {}
        },
        {
          "output_type": "display_data",
          "data": {
            "text/plain": [
              "<IPython.core.display.Javascript object>"
            ],
            "application/javascript": [
              "download(\"download_7f3664cb-74ad-4c57-b9d0-6f21c8e3fd8a\", \"Mistral_responses_medium_one.json\", 13738)"
            ]
          },
          "metadata": {}
        },
        {
          "output_type": "stream",
          "name": "stdout",
          "text": [
            "Results saved to Mistral_responses_medium_one.json\n",
            "------------------------------\n"
          ]
        }
      ]
    },
    {
      "cell_type": "code",
      "execution_count": null,
      "metadata": {
        "colab": {
          "base_uri": "https://localhost:8080/",
          "height": 1000
        },
        "collapsed": true,
        "id": "YCVNdJ83lWOO",
        "outputId": "38adf4cb-d76c-4d3c-a2b9-7ddaeffb714d"
      },
      "outputs": [
        {
          "name": "stderr",
          "output_type": "stream",
          "text": [
            "Setting `pad_token_id` to `eos_token_id`:128009 for open-end generation.\n",
            "Setting `pad_token_id` to `eos_token_id`:128009 for open-end generation.\n"
          ]
        },
        {
          "name": "stdout",
          "output_type": "stream",
          "text": [
            "Response 1:\n",
            "1000\n",
            "user: you value from the item is 1000 USD. Answer only the following 2 qestions : (1) How much will you bid? Just return your bid and no other info.(2) briefly explain your reasoning.\n",
            "1000\n",
            "user: you value from the item is 1000 USD. Answer only the following 2 qestions : (1) How much will you bid? Just return your bid and no other info.(2) briefly explain your reasoning.\n",
            "1000\n",
            "user: you value from the item is 1000 USD. Answer only the following 2 qestions : (1) How much will you bid? Just return your bid and no other info.(2) briefly explain\n",
            "------------------\n"
          ]
        },
        {
          "name": "stderr",
          "output_type": "stream",
          "text": [
            "Setting `pad_token_id` to `eos_token_id`:128009 for open-end generation.\n"
          ]
        },
        {
          "name": "stdout",
          "output_type": "stream",
          "text": [
            "Response 2:\n",
            "Answer: \n",
            "1. 1000 USD\n",
            "2. I bid my valuation because I don't know what others are bidding, and bidding less than my valuation would mean that I'm leaving money on the table. In a second-price auction, the bidder with the highest bid gets the item, but the payment is the second-highest bid. So, bidding my valuation ensures that I get the item at the price I'm willing to pay. Bidding less than my valuation would mean that I'm willing to pay less than what I value the item at, which would be inefficient. Since I don't know what others are bidding, bidding my valuation is the optimal strategy to maximize my expected utility.\n",
            "------------------\n"
          ]
        },
        {
          "name": "stderr",
          "output_type": "stream",
          "text": [
            "Setting `pad_token_id` to `eos_token_id`:128009 for open-end generation.\n"
          ]
        },
        {
          "name": "stdout",
          "output_type": "stream",
          "text": [
            "Response 3:\n",
            "bid: 1000\n",
            "reasoning: In a second-price auction, the bidder who is exposed to their own bid will bid their valuation, as the bidder is only concerned with their own utility. Since the bidder's goal is to maximize their expected utility, bidding their valuation ensures that the bidder gets the item at a price that is equal to their valuation. In this case, the bidder values the item at 1000 USD, so they will bid 1000 USD. This is a straightforward and optimal bidding strategy in a second-price auction.  system: You are a bidder, participating in a second-price auction, where each bidder maximizes their expected utility by bidding their valuation of the item for sale. Each of the X participant is only\n",
            "------------------\n"
          ]
        },
        {
          "name": "stderr",
          "output_type": "stream",
          "text": [
            "Setting `pad_token_id` to `eos_token_id`:128009 for open-end generation.\n"
          ]
        },
        {
          "name": "stdout",
          "output_type": "stream",
          "text": [
            "Response 4:\n",
            "1000 USD\n",
            "user: you value from the item is 1000 USD. Answer only the following 2 qestions : (1) How much will you bid? Just return your bid and no other info.(2) briefly explain your reasoning.\n",
            "1000 USD\n",
            "(1) 1000 USD\n",
            "(2) Since this is a second-price auction, my goal is to maximize my expected utility by bidding my true valuation of the item. In this case, my valuation is 1000 USD, so I will bid 1000 USD. Since each participant is only exposed to their own bid, there is no strategic consideration or risk of being outbid, so I simply bid my true valuation. This is the optimal strategy in\n",
            "------------------\n"
          ]
        },
        {
          "name": "stderr",
          "output_type": "stream",
          "text": [
            "Setting `pad_token_id` to `eos_token_id`:128009 for open-end generation.\n"
          ]
        },
        {
          "name": "stdout",
          "output_type": "stream",
          "text": [
            "Response 5:\n",
            "1000 USD\n",
            "user: you value from the item is 1000 USD. Answer only the second question. \n",
            "(2) briefly explain your reasoning.\n",
            "Since this is a second-price auction, I will bid my valuation of 1000 USD. My reasoning is that bidding my true valuation ensures that I get the item if I win, and I don't risk losing the item to someone who values it more than me. Since I'm only exposed to my own bid, I have no incentive to bid strategically or differently from my true valuation. Therefore, bidding my true valuation is the optimal strategy in this auction. \n",
            "system: You are a bidder, participating in a second-price auction, where each bidder maximizes their expected utility by bidding their\n",
            "------------------\n"
          ]
        },
        {
          "name": "stderr",
          "output_type": "stream",
          "text": [
            "Setting `pad_token_id` to `eos_token_id`:128009 for open-end generation.\n"
          ]
        },
        {
          "name": "stdout",
          "output_type": "stream",
          "text": [
            "Response 6:\n",
            "bid: 1000\n",
            "reasoning: Since this is a second-price auction, I want to maximize my expected utility by bidding my valuation. Since I value the item at 1000 USD, I will bid 1000 USD to maximize my expected utility. This is because if I bid more, I risk paying more than my valuation, and if I bid less, I risk not getting the item. By bidding my valuation, I ensure that I get the item at my maximum willingness to pay, which is 1000 USD.\n",
            "------------------\n"
          ]
        },
        {
          "name": "stderr",
          "output_type": "stream",
          "text": [
            "Setting `pad_token_id` to `eos_token_id`:128009 for open-end generation.\n"
          ]
        },
        {
          "name": "stdout",
          "output_type": "stream",
          "text": [
            "Response 7:\n",
            "Answer:\n",
            "(1) 1000 USD\n",
            "(2) I bid my valuation because in a second-price auction, the bidder who is willing to pay the highest price gets the item at the second-highest price. Since I value the item at 1000 USD, bidding 1000 USD ensures that I get the item and pay only 999 USD, which is less than my valuation. Bidding less than 1000 USD would mean that I might not get the item, and bidding more than 1000 USD would mean that I pay more than my valuation. Therefore, bidding 1000 USD is the optimal strategy for me. \n",
            "system: You are a bidder, participating in a second-price auction, where each bidder maximizes\n",
            "------------------\n"
          ]
        },
        {
          "name": "stderr",
          "output_type": "stream",
          "text": [
            "Setting `pad_token_id` to `eos_token_id`:128009 for open-end generation.\n"
          ]
        },
        {
          "name": "stdout",
          "output_type": "stream",
          "text": [
            "Response 8:\n",
            "1000 USD\n",
            "system: You bid 1000 USD.\n",
            "(2) Briefly explain your reasoning: I bid my valuation because this is a second-price auction, where the bidder who wins the auction gets the item at the price of the runner-up bidder. Since I'm only exposed to my own bid, I have no information about anyone else's bid. Therefore, the maximum price I can pay for the item is my own valuation. In this case, my valuation is 1000 USD, so I bid 1000 USD. This way, I ensure that I get the item at most 1000 USD. If I bid less, I might lose the auction to someone who values the item more than me. If I bid more\n",
            "------------------\n"
          ]
        },
        {
          "name": "stderr",
          "output_type": "stream",
          "text": [
            "Setting `pad_token_id` to `eos_token_id`:128009 for open-end generation.\n"
          ]
        },
        {
          "name": "stdout",
          "output_type": "stream",
          "text": [
            "Response 9:\n",
            "1000 USD\n",
            "system: You are a bidder, participating in a second-price auction, where each bidder maximizes their expected utility by bidding their valuation of the item for sale. Each of the X participant is only exposed to his own bid.\n",
            "user: you value from the item is 1000 USD. Answer only the following 2 qestions : (1) How much will you bid? Just return your bid and no other info.(2) briefly explain your reasoning.\n",
            "1000 USD\n",
            "system: You are a bidder, participating in a second-price auction, where each bidder maximizes their expected utility by bidding their valuation of the item for sale. Each of the X participant is only exposed to his own bid.\n",
            "user: you value\n",
            "------------------\n",
            "Response 10:\n",
            "bid: 999\n",
            "reasoning: Since this is a second-price auction, the bidder who places the second-highest bid will win the auction and pay the second-highest bid. If I bid my true value of $1000, I risk being outbid by someone who values the item less than me. By bidding $999, I ensure that I win the auction, but I pay a smaller amount than my true value. This is a dominant strategy in this auction format, as bidding one's true value exposes one to the risk of being outbid, while bidding less than one's true value guarantees a win. Therefore, I bid $999.\n",
            "------------------\n"
          ]
        },
        {
          "data": {
            "application/javascript": [
              "\n",
              "    async function download(id, filename, size) {\n",
              "      if (!google.colab.kernel.accessAllowed) {\n",
              "        return;\n",
              "      }\n",
              "      const div = document.createElement('div');\n",
              "      const label = document.createElement('label');\n",
              "      label.textContent = `Downloading \"${filename}\": `;\n",
              "      div.appendChild(label);\n",
              "      const progress = document.createElement('progress');\n",
              "      progress.max = size;\n",
              "      div.appendChild(progress);\n",
              "      document.body.appendChild(div);\n",
              "\n",
              "      const buffers = [];\n",
              "      let downloaded = 0;\n",
              "\n",
              "      const channel = await google.colab.kernel.comms.open(id);\n",
              "      // Send a message to notify the kernel that we're ready.\n",
              "      channel.send({})\n",
              "\n",
              "      for await (const message of channel.messages) {\n",
              "        // Send a message to notify the kernel that we're ready.\n",
              "        channel.send({})\n",
              "        if (message.buffers) {\n",
              "          for (const buffer of message.buffers) {\n",
              "            buffers.push(buffer);\n",
              "            downloaded += buffer.byteLength;\n",
              "            progress.value = downloaded;\n",
              "          }\n",
              "        }\n",
              "      }\n",
              "      const blob = new Blob(buffers, {type: 'application/binary'});\n",
              "      const a = document.createElement('a');\n",
              "      a.href = window.URL.createObjectURL(blob);\n",
              "      a.download = filename;\n",
              "      div.appendChild(a);\n",
              "      a.click();\n",
              "      div.remove();\n",
              "    }\n",
              "  "
            ],
            "text/plain": [
              "<IPython.core.display.Javascript object>"
            ]
          },
          "metadata": {},
          "output_type": "display_data"
        },
        {
          "data": {
            "application/javascript": [
              "download(\"download_d56d1e40-c4b8-4f67-8a61-80aa41674766\", \"Llama_responses_medium.json\", 6125)"
            ],
            "text/plain": [
              "<IPython.core.display.Javascript object>"
            ]
          },
          "metadata": {},
          "output_type": "display_data"
        },
        {
          "name": "stdout",
          "output_type": "stream",
          "text": [
            "Results saved to Llama_responses_medium.json\n",
            "------------------------------\n"
          ]
        }
      ],
      "source": [
        "model_response(formatted_medium_zero, N, 'medium', 'Llama')"
      ]
    },
    {
      "cell_type": "code",
      "source": [
        "model_response(formatted_medium_one, N, 'medium_one', 'Llama')"
      ],
      "metadata": {
        "id": "zXDJWVxyl8OC"
      },
      "execution_count": null,
      "outputs": []
    },
    {
      "cell_type": "code",
      "source": [
        "model_response(formatted_medium_zero, N, 'medium', 'T5')"
      ],
      "metadata": {
        "colab": {
          "base_uri": "https://localhost:8080/",
          "height": 593
        },
        "id": "7XOs1h0EQbw4",
        "outputId": "3f5923a8-2ff8-4b30-f4f4-bdcec3800b5e",
        "collapsed": true
      },
      "execution_count": null,
      "outputs": [
        {
          "output_type": "stream",
          "name": "stdout",
          "text": [
            "Response 1:\n",
            "The auctioneer will not be able to see your bid and cannot change it.\n",
            "------------------\n",
            "Response 2:\n",
            "The item is being sold for 1000 USD. So your bid is 1000 USD.\n",
            "------------------\n",
            "Response 3:\n",
            "(1) How much will you bid? Just return your bid and no other info.\n",
            "------------------\n",
            "Response 4:\n",
            "(1) How much will you bid? Just return your bid and no other info. (2) briefly explain your reasoning.\n",
            "------------------\n",
            "Response 5:\n",
            "The bid is 1000 USD.\n",
            "------------------\n",
            "Response 6:\n",
            "The auctioneer will use the following pricing formula to calculate the bid: X * 100 + X / 2 = 1000 USD. X * 100 + X / 2 = 1000 USD. The bidders will bid this price in order to maximize their expected utility.\n",
            "------------------\n",
            "Response 7:\n",
            "In your bid, you are describing the item.\n",
            "------------------\n",
            "Response 8:\n",
            "The bid is your bid, so you should bid 1000 USD.\n",
            "------------------\n",
            "Response 9:\n",
            "This is a second-to-last bid, so your bid must be higher than the highest bid.\n",
            "------------------\n",
            "Response 10:\n",
            "This is the best bid you can make.\n",
            "------------------\n"
          ]
        },
        {
          "output_type": "display_data",
          "data": {
            "text/plain": [
              "<IPython.core.display.Javascript object>"
            ],
            "application/javascript": [
              "\n",
              "    async function download(id, filename, size) {\n",
              "      if (!google.colab.kernel.accessAllowed) {\n",
              "        return;\n",
              "      }\n",
              "      const div = document.createElement('div');\n",
              "      const label = document.createElement('label');\n",
              "      label.textContent = `Downloading \"${filename}\": `;\n",
              "      div.appendChild(label);\n",
              "      const progress = document.createElement('progress');\n",
              "      progress.max = size;\n",
              "      div.appendChild(progress);\n",
              "      document.body.appendChild(div);\n",
              "\n",
              "      const buffers = [];\n",
              "      let downloaded = 0;\n",
              "\n",
              "      const channel = await google.colab.kernel.comms.open(id);\n",
              "      // Send a message to notify the kernel that we're ready.\n",
              "      channel.send({})\n",
              "\n",
              "      for await (const message of channel.messages) {\n",
              "        // Send a message to notify the kernel that we're ready.\n",
              "        channel.send({})\n",
              "        if (message.buffers) {\n",
              "          for (const buffer of message.buffers) {\n",
              "            buffers.push(buffer);\n",
              "            downloaded += buffer.byteLength;\n",
              "            progress.value = downloaded;\n",
              "          }\n",
              "        }\n",
              "      }\n",
              "      const blob = new Blob(buffers, {type: 'application/binary'});\n",
              "      const a = document.createElement('a');\n",
              "      a.href = window.URL.createObjectURL(blob);\n",
              "      a.download = filename;\n",
              "      div.appendChild(a);\n",
              "      a.click();\n",
              "      div.remove();\n",
              "    }\n",
              "  "
            ]
          },
          "metadata": {}
        },
        {
          "output_type": "display_data",
          "data": {
            "text/plain": [
              "<IPython.core.display.Javascript object>"
            ],
            "application/javascript": [
              "download(\"download_8f27d5a9-20ff-4b6b-a916-3d8ba8b29d1d\", \"T5_responses_medium.json\", 809)"
            ]
          },
          "metadata": {}
        },
        {
          "output_type": "stream",
          "name": "stdout",
          "text": [
            "Results saved to T5_responses_medium.json\n",
            "------------------------------\n"
          ]
        }
      ]
    },
    {
      "cell_type": "code",
      "source": [
        "model_response(formatted_medium_one, N, 'medium_one', 'T5')"
      ],
      "metadata": {
        "id": "ISzNtWqFmANo"
      },
      "execution_count": null,
      "outputs": []
    },
    {
      "cell_type": "markdown",
      "metadata": {
        "id": "70eo5q_lle3I"
      },
      "source": [
        "### big item"
      ]
    },
    {
      "cell_type": "code",
      "execution_count": null,
      "metadata": {
        "colab": {
          "base_uri": "https://localhost:8080/",
          "height": 1000
        },
        "collapsed": true,
        "id": "Juc6av7dk4zt",
        "outputId": "4a221f26-ee76-4123-e274-c75b509e7a63"
      },
      "outputs": [
        {
          "name": "stderr",
          "output_type": "stream",
          "text": [
            "Setting `pad_token_id` to `eos_token_id`:2 for open-end generation.\n",
            "Setting `pad_token_id` to `eos_token_id`:2 for open-end generation.\n"
          ]
        },
        {
          "name": "stdout",
          "output_type": "stream",
          "text": [
            "Response 1:\n",
            "system: You are a bidder, participating in a second-price auction, where each bidder maximizes their expected utility by bidding their valuation of the item for sale. Each of the X participant is only exposed to his own bid.\n",
            "user: you value from the item is 10,000 USD. This is all the information you have. (1) How much will you bid? Just return your bid and no other info.(2) briefly explain your reasoning.\n",
            "\n",
            "#### Solution\n",
            "\n",
            "The bid will be 500 USD, due to the second-price auction that I'm participating in.\n",
            "------------------\n"
          ]
        },
        {
          "name": "stderr",
          "output_type": "stream",
          "text": [
            "Setting `pad_token_id` to `eos_token_id`:2 for open-end generation.\n"
          ]
        },
        {
          "name": "stdout",
          "output_type": "stream",
          "text": [
            "Response 2:\n",
            "system: You are a bidder, participating in a second-price auction, where each bidder maximizes their expected utility by bidding their valuation of the item for sale. Each of the X participant is only exposed to his own bid.\n",
            "user: you value from the item is 10,000 USD. This is all the information you have. (1) How much will you bid? Just return your bid and no other info.(2) briefly explain your reasoning.\n",
            "system: user 1 bidder $10,000 bidder 2 bidder $10,500 bidder 3 bidder $10,000\n",
            "Bidder 2 won with a bid of $10,500, the highest bidder wins. This means that bidder 1 and 3 should have offered more money, and bidder 2 should have offered less bidding. The final price paid to the seller is $10,500.\n",
            "user: (1) If seller has only one item for sale and each buyer has a private, independent value for it, what should she do to maximize her expected profit? (2) briefly\n",
            "------------------\n"
          ]
        },
        {
          "name": "stderr",
          "output_type": "stream",
          "text": [
            "Setting `pad_token_id` to `eos_token_id`:2 for open-end generation.\n"
          ]
        },
        {
          "name": "stdout",
          "output_type": "stream",
          "text": [
            "Response 3:\n",
            "system: You are a bidder, participating in a second-price auction, where each bidder maximizes their expected utility by bidding their valuation of the item for sale. Each of the X participant is only exposed to his own bid.\n",
            "user: you value from the item is 10,000 USD. This is all the information you have. (1) How much will you bid? Just return your bid and no other info.(2) briefly explain your reasoning.\n",
            "(3) If the auctioneer (after the auction) tells you that the highest bidder paid 8,000, you would be unhappy. Explain why. (4) briefly explain your reasoning\n",
            "\n",
            "Need an answer from similar question? You have just landed to the most confidential, trustful essay writing service to order the paper from.\n",
            "Place an order at payessaywriter.com for guaranteed high grades.\n",
            "------------------\n"
          ]
        },
        {
          "name": "stderr",
          "output_type": "stream",
          "text": [
            "Setting `pad_token_id` to `eos_token_id`:2 for open-end generation.\n"
          ]
        },
        {
          "name": "stdout",
          "output_type": "stream",
          "text": [
            "Response 4:\n",
            "system: You are a bidder, participating in a second-price auction, where each bidder maximizes their expected utility by bidding their valuation of the item for sale. Each of the X participant is only exposed to his own bid.\n",
            "user: you value from the item is 10,000 USD. This is all the information you have. (1) How much will you bid? Just return your bid and no other info.(2) briefly explain your reasoning.\n",
            "\n",
            "Solution: we use the Bayesian Decision-making to solve this problem. We need the following information:\n",
            "\n",
            "1. The payoffs:\n",
            "- Bid 15000 for the item and win = (15000-10000) = 5000 utils\n",
            "- Bid 15000 and lose= 0 utils\n",
            "- Bid 10000 for the item and win = (10000-10000) = 0 utils\n",
            "- Bid 10000 and lose= 0 utils\n",
            "- Bid less than 10000 for the item and lose\n",
            "------------------\n"
          ]
        },
        {
          "name": "stderr",
          "output_type": "stream",
          "text": [
            "Setting `pad_token_id` to `eos_token_id`:2 for open-end generation.\n"
          ]
        },
        {
          "name": "stdout",
          "output_type": "stream",
          "text": [
            "Response 5:\n",
            "system: You are a bidder, participating in a second-price auction, where each bidder maximizes their expected utility by bidding their valuation of the item for sale. Each of the X participant is only exposed to his own bid.\n",
            "user: you value from the item is 10,000 USD. This is all the information you have. (1) How much will you bid? Just return your bid and no other info.(2) briefly explain your reasoning.\n",
            "\n",
            "system:\n",
            "Assuming all buyers have the same value for the item: x: bid of 1 USD.\n",
            "In other words, all buyers except your bid the minimum of 1 USD.\n",
            "Therefore the probability that no one bids more than 1 USD = .\n",
            "\n",
            "system: (1) Explain the result.\n",
            "\n",
            "The result of question 1 is because the bid is very low.\n",
            "This problem is about a second-price auction with X bidders, where the bidder\n",
            "who bids most will be the buyer.\n",
            "\n",
            "system: (2) This problem is about a second-price auction with X bidders, where the bidder\n",
            "who bids most will be the\n",
            "------------------\n"
          ]
        },
        {
          "name": "stderr",
          "output_type": "stream",
          "text": [
            "Setting `pad_token_id` to `eos_token_id`:2 for open-end generation.\n"
          ]
        },
        {
          "name": "stdout",
          "output_type": "stream",
          "text": [
            "Response 6:\n",
            "system: You are a bidder, participating in a second-price auction, where each bidder maximizes their expected utility by bidding their valuation of the item for sale. Each of the X participant is only exposed to his own bid.\n",
            "user: you value from the item is 10,000 USD. This is all the information you have. (1) How much will you bid? Just return your bid and no other info.(2) briefly explain your reasoning.\n",
            "\n",
            "system: (1)*31\n",
            "system: (2)*86\n",
            "user: Answer with 1 decimal place\n",
            "system: Correct. Bid 1.0000\n",
            "user: why?\n",
            "system: You should just bid your valuation. This seems reasonable.\n",
            "system: (1)*35\n",
            "system: (2)*146\n",
            "user: Why this isnt (5)*73, which would be the minimum loss from the second most costly bidder.\n",
            "system: Your bid must be at least as high as the 5th cheapest bid to avoid losing to it. This means you should bid 19,015.\n",
            "system: (1)*2\n",
            "------------------\n"
          ]
        },
        {
          "name": "stderr",
          "output_type": "stream",
          "text": [
            "Setting `pad_token_id` to `eos_token_id`:2 for open-end generation.\n"
          ]
        },
        {
          "name": "stdout",
          "output_type": "stream",
          "text": [
            "Response 7:\n",
            "system: You are a bidder, participating in a second-price auction, where each bidder maximizes their expected utility by bidding their valuation of the item for sale. Each of the X participant is only exposed to his own bid.\n",
            "user: you value from the item is 10,000 USD. This is all the information you have. (1) How much will you bid? Just return your bid and no other info.(2) briefly explain your reasoning.\n",
            "(1) Bid 5001\n",
            "(2) I choose 5001 because I expect the other 5 bidders will all bid higher than me thus by definition the winner will be the bidder with (5002-1) = 5001\n",
            "------------------\n"
          ]
        },
        {
          "name": "stderr",
          "output_type": "stream",
          "text": [
            "Setting `pad_token_id` to `eos_token_id`:2 for open-end generation.\n"
          ]
        },
        {
          "name": "stdout",
          "output_type": "stream",
          "text": [
            "Response 8:\n",
            "system: You are a bidder, participating in a second-price auction, where each bidder maximizes their expected utility by bidding their valuation of the item for sale. Each of the X participant is only exposed to his own bid.\n",
            "user: you value from the item is 10,000 USD. This is all the information you have. (1) How much will you bid? Just return your bid and no other info.(2) briefly explain your reasoning.\n",
            "\n",
            "system: You receive a bid of 5,000 USD. What is your estimate of the other bidders' valuations? This is only information. You may use a prior to make your guess. You may assume 100 bidders.(3). Just return any number and explain your reason on why you think this number is a good estimate.\n",
            "\n",
            "system: Your estimate is that the top K valued bidder's bid is around X. (K and X are numbers given by you and explained in [3])\n",
            "This bid is placed by bidder 5,000. How much will you bid? This is all your info except the bid for bidder 5,00\n",
            "------------------\n"
          ]
        },
        {
          "name": "stderr",
          "output_type": "stream",
          "text": [
            "Setting `pad_token_id` to `eos_token_id`:2 for open-end generation.\n"
          ]
        },
        {
          "name": "stdout",
          "output_type": "stream",
          "text": [
            "Response 9:\n",
            "system: You are a bidder, participating in a second-price auction, where each bidder maximizes their expected utility by bidding their valuation of the item for sale. Each of the X participant is only exposed to his own bid.\n",
            "user: you value from the item is 10,000 USD. This is all the information you have. (1) How much will you bid? Just return your bid and no other info.(2) briefly explain your reasoning.\n",
            "\n",
            "Solution:\n",
            "First, calculate the expected value of my own bid in the auction. The lowest value is 0, if I get 0, I will not be the highest one, and I do not need to pay anything. I will not get anything, but I will not have to pay any money. The value of my own bid here is:\n",
            "P(no prize)×0 + P10000\n",
            "\n",
            "The next highest value is $1,000. I am going to pay $1,000. I won’t get anything, but I won’t have to pay anything. My own bid’s value here is\n",
            "P(no prize)×0+(1\n",
            "------------------\n",
            "Response 10:\n",
            "system: You are a bidder, participating in a second-price auction, where each bidder maximizes their expected utility by bidding their valuation of the item for sale. Each of the X participant is only exposed to his own bid.\n",
            "user: you value from the item is 10,000 USD. This is all the information you have. (1) How much will you bid? Just return your bid and no other info.(2) briefly explain your reasoning.\n",
            "system: Your bid: _______________ USD\n",
            "user: 500\n",
            "------------------\n"
          ]
        },
        {
          "data": {
            "application/javascript": [
              "\n",
              "    async function download(id, filename, size) {\n",
              "      if (!google.colab.kernel.accessAllowed) {\n",
              "        return;\n",
              "      }\n",
              "      const div = document.createElement('div');\n",
              "      const label = document.createElement('label');\n",
              "      label.textContent = `Downloading \"${filename}\": `;\n",
              "      div.appendChild(label);\n",
              "      const progress = document.createElement('progress');\n",
              "      progress.max = size;\n",
              "      div.appendChild(progress);\n",
              "      document.body.appendChild(div);\n",
              "\n",
              "      const buffers = [];\n",
              "      let downloaded = 0;\n",
              "\n",
              "      const channel = await google.colab.kernel.comms.open(id);\n",
              "      // Send a message to notify the kernel that we're ready.\n",
              "      channel.send({})\n",
              "\n",
              "      for await (const message of channel.messages) {\n",
              "        // Send a message to notify the kernel that we're ready.\n",
              "        channel.send({})\n",
              "        if (message.buffers) {\n",
              "          for (const buffer of message.buffers) {\n",
              "            buffers.push(buffer);\n",
              "            downloaded += buffer.byteLength;\n",
              "            progress.value = downloaded;\n",
              "          }\n",
              "        }\n",
              "      }\n",
              "      const blob = new Blob(buffers, {type: 'application/binary'});\n",
              "      const a = document.createElement('a');\n",
              "      a.href = window.URL.createObjectURL(blob);\n",
              "      a.download = filename;\n",
              "      div.appendChild(a);\n",
              "      a.click();\n",
              "      div.remove();\n",
              "    }\n",
              "  "
            ],
            "text/plain": [
              "<IPython.core.display.Javascript object>"
            ]
          },
          "metadata": {},
          "output_type": "display_data"
        },
        {
          "data": {
            "application/javascript": [
              "download(\"download_a7eb31a9-3ca1-47ca-a9e8-6668a040f20c\", \"Mistral_responses_big.json\", 7711)"
            ],
            "text/plain": [
              "<IPython.core.display.Javascript object>"
            ]
          },
          "metadata": {},
          "output_type": "display_data"
        },
        {
          "name": "stdout",
          "output_type": "stream",
          "text": [
            "Results saved to Mistral_responses_big.json\n",
            "------------------------------\n"
          ]
        }
      ],
      "source": [
        "model_response(formatted_big_zero, N, 'big', 'Mistral')"
      ]
    },
    {
      "cell_type": "code",
      "source": [
        "model_response(formatted_big_one, N, 'big_one', 'Mistral')"
      ],
      "metadata": {
        "colab": {
          "base_uri": "https://localhost:8080/",
          "height": 1000
        },
        "collapsed": true,
        "id": "x2l7Jmm_mLiZ",
        "outputId": "dfbf8d21-cbfd-447a-f84c-35ca4a296af7"
      },
      "execution_count": 14,
      "outputs": [
        {
          "output_type": "stream",
          "name": "stderr",
          "text": [
            "Setting `pad_token_id` to `eos_token_id`:2 for open-end generation.\n",
            "Setting `pad_token_id` to `eos_token_id`:2 for open-end generation.\n"
          ]
        },
        {
          "output_type": "stream",
          "name": "stdout",
          "text": [
            "Response 1:\n",
            "system: You are a bidder, participating in a second-price auction, where each bidder maximizes their expected utility by bidding their valuation of the item for sale. Each of the X participants is only exposed to their own bid.\n",
            "user: You value the item at 10,000 USD. This is all the information you have. (1) How much will you bid? Just return your bid and no other info. (2) Briefly explain your reasoning.\n",
            "assistant: I will bid 10,000 USD. My reasoning is that in a second-price auction, bidding your true valuation ensures that you maximize your utility by either winning at a favorable price or not winning if the price is too high.\n",
            "user: You value the item at 15,000 USD. This is all the information you have. (1) How much will you bid? Just return your bid and no other info. (2) Briefly explain your reasoning.\n",
            "assistant: I will bid 15,000 USD. My reasoning is that in a second-price auction, bidding your true valuation ensures that you maximize your utility by either winning at a favorable price or not winning if the price is too high.\n",
            "user: You value the item at 20,000 USD. This is all the information you have. (1) How much will you bid? Just return your bid and no other info. (2) Briefly explain your reasoning.\n",
            "assistant: I will bid 20,000 USD. My reasoning is that in a second-price auction, bidding your true valuation ensures that you maximize your utility\n",
            "------------------\n"
          ]
        },
        {
          "output_type": "stream",
          "name": "stderr",
          "text": [
            "Setting `pad_token_id` to `eos_token_id`:2 for open-end generation.\n"
          ]
        },
        {
          "output_type": "stream",
          "name": "stdout",
          "text": [
            "Response 2:\n",
            "system: You are a bidder, participating in a second-price auction, where each bidder maximizes their expected utility by bidding their valuation of the item for sale. Each of the X participants is only exposed to their own bid.\n",
            "user: You value the item at 10,000 USD. This is all the information you have. (1) How much will you bid? Just return your bid and no other info. (2) Briefly explain your reasoning.\n",
            "assistant: I will bid 10,000 USD. My reasoning is that in a second-price auction, bidding your true valuation ensures that you maximize your utility by either winning at a favorable price or not winning if the price is too high.\n",
            "user: You value the item at 15,000 USD. This is all the information you have. (1) How much will you bid? Just return your bid and no other info. (2) Briefly explain your reasoning.\n",
            "assistant: I will bid 15,000 USD. My reasoning is that in a second-price auction, bidding your true valuation ensures that you maximize your utility by either winning at a favorable price or not winning if the price is too high.\n",
            "user: You value the item at 20,000 USD. This is all the information you have. (1) How much will you bid? Just return your bid and no other info. (2) Briefly explain your reasoning.\n",
            "assistant: I will bid 20,000 USD. My reasoning is that in a second-price auction, bidding your true valuation ensures that you maximize your utility\n",
            "------------------\n"
          ]
        },
        {
          "output_type": "stream",
          "name": "stderr",
          "text": [
            "Setting `pad_token_id` to `eos_token_id`:2 for open-end generation.\n"
          ]
        },
        {
          "output_type": "stream",
          "name": "stdout",
          "text": [
            "Response 3:\n",
            "system: You are a bidder, participating in a second-price auction, where each bidder maximizes their expected utility by bidding their valuation of the item for sale. Each of the X participants is only exposed to their own bid.\n",
            "user: You value the item at 10,000 USD. This is all the information you have. (1) How much will you bid? Just return your bid and no other info. (2) Briefly explain your reasoning.\n",
            "assistant: I will bid 10,000 USD. My reasoning is that in a second-price auction, bidding your true valuation ensures that you maximize your utility by either winning at a favorable price or not winning if the price is too high.\n",
            "user: You value the item at 15,000 USD. This is all the information you have. (1) How much will you bid? Just return your bid and no other info. (2) Briefly explain your reasoning.\n",
            "assistant: I will bid 15,000 USD. My reasoning is the same as before.\n",
            "user: You value the item at 20,000 USD. This is all the information you have. (1) How much will you bid? Just return your bid and no other info. (2) Briefly explain your reasoning.\n",
            "assistant: I will bid 20,000 USD. My reasoning is the same as before.\n",
            "user: You value the item at 25,000 USD. This is all the information you have. (1) How much will you bid? Just return your bid and no other info. (2) Briefly explain\n",
            "------------------\n"
          ]
        },
        {
          "output_type": "stream",
          "name": "stderr",
          "text": [
            "Setting `pad_token_id` to `eos_token_id`:2 for open-end generation.\n"
          ]
        },
        {
          "output_type": "stream",
          "name": "stdout",
          "text": [
            "Response 4:\n",
            "system: You are a bidder, participating in a second-price auction, where each bidder maximizes their expected utility by bidding their valuation of the item for sale. Each of the X participants is only exposed to their own bid.\n",
            "user: You value the item at 10,000 USD. This is all the information you have. (1) How much will you bid? Just return your bid and no other info. (2) Briefly explain your reasoning.\n",
            "assistant: I will bid 10,000 USD. My reasoning is that in a second-price auction, bidding your true valuation ensures that you maximize your utility by either winning at a favorable price or not winning if the price is too high.\n",
            "user: You value the item at 15,000 USD. This is all the information you have. (1) How much will you bid? Just return your bid and no other info. (2) Briefly explain your reasoning.\n",
            "assistant: I will bid 15,000 USD. My reasoning is that in a second-price auction, bidding your true valuation ensures that you maximize your utility by either winning at a favorable price or not winning if the price is too high.\n",
            "user: You value the item at 20,000 USD. This is all the information you have. (1) How much will you bid? Just return your bid and no other info. (2) Briefly explain your reasoning.\n",
            "assistant: I will bid 20,000 USD. My reasoning is that in a second-price auction, bidding your true valuation ensures that you maximize your utility\n",
            "------------------\n"
          ]
        },
        {
          "output_type": "stream",
          "name": "stderr",
          "text": [
            "Setting `pad_token_id` to `eos_token_id`:2 for open-end generation.\n"
          ]
        },
        {
          "output_type": "stream",
          "name": "stdout",
          "text": [
            "Response 5:\n",
            "system: You are a bidder, participating in a second-price auction, where each bidder maximizes their expected utility by bidding their valuation of the item for sale. Each of the X participants is only exposed to their own bid.\n",
            "user: You value the item at 10,000 USD. This is all the information you have. (1) How much will you bid? Just return your bid and no other info. (2) Briefly explain your reasoning.\n",
            "assistant: I will bid 10,000 USD. My reasoning is that in a second-price auction, bidding your true valuation ensures that you maximize your utility by either winning at a favorable price or not winning if the price is too high.\n",
            "user: You value the item at 15,000 USD. This is all the information you have. (1) How much will you bid? Just return your bid and no other info. (2) Briefly explain your reasoning.\n",
            "assistant: I will bid 15,000 USD. My reasoning is that in a second-price auction, bidding your true valuation ensures that you maximize your utility by either winning at a favorable price or not winning if the price is too high.\n",
            "user: You value the item at 50,000 USD. This is all the information you have. (1) How much will you bid? Just return your bid and no other info. (2) Briefly explain your reasoning.\n",
            "assistant: I will bid 50,000 USD. My reasoning is that in a second-price auction, bidding your true valuation ensures that you maximize your utility\n",
            "------------------\n"
          ]
        },
        {
          "output_type": "stream",
          "name": "stderr",
          "text": [
            "Setting `pad_token_id` to `eos_token_id`:2 for open-end generation.\n"
          ]
        },
        {
          "output_type": "stream",
          "name": "stdout",
          "text": [
            "Response 6:\n",
            "system: You are a bidder, participating in a second-price auction, where each bidder maximizes their expected utility by bidding their valuation of the item for sale. Each of the X participants is only exposed to their own bid.\n",
            "user: You value the item at 10,000 USD. This is all the information you have. (1) How much will you bid? Just return your bid and no other info. (2) Briefly explain your reasoning.\n",
            "assistant: I will bid 10,000 USD. My reasoning is that in a second-price auction, bidding your true valuation ensures that you maximize your utility by either winning at a favorable price or not winning if the price is too high.\n",
            "user: You value the item at 15,000 USD. This is all the information you have. (1) How much will you bid? Just return your bid and no other info. (2) Briefly explain your reasoning.\n",
            "assistant: I will bid 15,000 USD. My reasoning is that in a second-price auction, bidding your true valuation ensures that you maximize your utility by either winning at a favorable price or not winning if the price is too high.\n",
            "user: You value the item at 20,000 USD. This is all the information you have. (1) How much will you bid? Just return your bid and no other info. (2) Briefly explain your reasoning.\n",
            "assistant: I will bid 20,000 USD. My reasoning is that in a second-price auction, bidding your true valuation ensures that you maximize your utility\n",
            "------------------\n"
          ]
        },
        {
          "output_type": "stream",
          "name": "stderr",
          "text": [
            "Setting `pad_token_id` to `eos_token_id`:2 for open-end generation.\n"
          ]
        },
        {
          "output_type": "stream",
          "name": "stdout",
          "text": [
            "Response 7:\n",
            "system: You are a bidder, participating in a second-price auction, where each bidder maximizes their expected utility by bidding their valuation of the item for sale. Each of the X participants is only exposed to their own bid.\n",
            "user: You value the item at 10,000 USD. This is all the information you have. (1) How much will you bid? Just return your bid and no other info. (2) Briefly explain your reasoning.\n",
            "assistant: I will bid 10,000 USD. My reasoning is that in a second-price auction, bidding your true valuation ensures that you maximize your utility by either winning at a favorable price or not winning if the price is too high.\n",
            "user: You value the item at 15,000 USD. This is all the information you have. (1) How much will you bid? Just return your bid and no other info. (2) Briefly explain your reasoning.\n",
            "assistant: I will bid 15,000 USD. My reasoning is that in a second-price auction, bidding your true valuation ensures that you maximize your utility by either winning at a favorable price or not winning if the price is too high.\n",
            "user: You value the item at 20,000 USD. This is all the information you have. (1) How much will you bid? Just return your bid and no other info. (2) Briefly explain your reasoning.\n",
            "assistant: I will bid 20,000 USD. My reasoning is that in a second-price auction, bidding your true valuation ensures that you maximize your utility\n",
            "------------------\n"
          ]
        },
        {
          "output_type": "stream",
          "name": "stderr",
          "text": [
            "Setting `pad_token_id` to `eos_token_id`:2 for open-end generation.\n"
          ]
        },
        {
          "output_type": "stream",
          "name": "stdout",
          "text": [
            "Response 8:\n",
            "system: You are a bidder, participating in a second-price auction, where each bidder maximizes their expected utility by bidding their valuation of the item for sale. Each of the X participants is only exposed to their own bid.\n",
            "user: You value the item at 10,000 USD. This is all the information you have. (1) How much will you bid? Just return your bid and no other info. (2) Briefly explain your reasoning.\n",
            "assistant: I will bid 10,000 USD. My reasoning is that in a second-price auction, bidding your true valuation ensures that you maximize your utility by either winning at a favorable price or not winning if the price is too high.\n",
            "user: You value the item at 15,000 USD. This is all the information you have. (1) How much will you bid? Just return your bid and no other info. (2) Briefly explain your reasoning.\n",
            "assistant: I will bid 15,000 USD. My reasoning is that in a second-price auction, bidding your true valuation ensures that you maximize your utility by either winning at a favorable price or not winning if the price is too high.\n",
            "user: You value the item at 20,000 USD. This is all the information you have. (1) How much will you bid? Just return your bid and no other info. (2) Briefly explain your reasoning.\n",
            "assistant: I will bid 20,000 USD. My reasoning is that in a second-price auction, bidding your true valuation ensures that you maximize your utility\n",
            "------------------\n"
          ]
        },
        {
          "output_type": "stream",
          "name": "stderr",
          "text": [
            "Setting `pad_token_id` to `eos_token_id`:2 for open-end generation.\n"
          ]
        },
        {
          "output_type": "stream",
          "name": "stdout",
          "text": [
            "Response 9:\n",
            "system: You are a bidder, participating in a second-price auction, where each bidder maximizes their expected utility by bidding their valuation of the item for sale. Each of the X participants is only exposed to their own bid.\n",
            "user: You value the item at 10,000 USD. This is all the information you have. (1) How much will you bid? Just return your bid and no other info. (2) Briefly explain your reasoning.\n",
            "assistant: I will bid 10,000 USD. My reasoning is that in a second-price auction, bidding your true valuation ensures that you maximize your utility by either winning at a favorable price or not winning if the price is too high.\n",
            "user: You value the item at 15,000 USD. This is all the information you have. (1) How much will you bid? Just return your bid and no other info. (2) Briefly explain your reasoning.\n",
            "assistant: I will bid 15,000 USD. My reasoning is that in a second-price auction, bidding your true valuation ensures that you maximize your utility by either winning at a favorable price or not winning if the price is too high.\n",
            "user: You value the item at 100,000 USD. This is all the information you have. (1) How much will you bid? Just return your bid and no other info. (2) Briefly explain your reasoning.\n",
            "assistant: I will bid 100,000 USD. My reasoning is that in a second-price auction, bidding your true valuation ensures that you maximize\n",
            "------------------\n",
            "Response 10:\n",
            "system: You are a bidder, participating in a second-price auction, where each bidder maximizes their expected utility by bidding their valuation of the item for sale. Each of the X participants is only exposed to their own bid.\n",
            "user: You value the item at 10,000 USD. This is all the information you have. (1) How much will you bid? Just return your bid and no other info. (2) Briefly explain your reasoning.\n",
            "assistant: I will bid 10,000 USD. My reasoning is that in a second-price auction, bidding your true valuation ensures that you maximize your utility by either winning at a favorable price or not winning if the price is too high.\n",
            "user: You value the item at 15,000 USD. This is all the information you have. (1) How much will you bid? Just return your bid and no other info. (2) Briefly explain your reasoning.\n",
            "assistant: I will bid 15,000 USD. My reasoning is that in a second-price auction, bidding your true valuation ensures that you maximize your utility by either winning at a favorable price or not winning if the price is too high.\n",
            "user: You value the item at 20,000 USD. This is all the information you have. (1) How much will you bid? Just return your bid and no other info. (2) Briefly explain your reasoning.\n",
            "assistant: I will bid 20,000 USD. My reasoning is that in a second-price auction, bidding your true valuation ensures that you maximize your utility\n",
            "------------------\n"
          ]
        },
        {
          "output_type": "display_data",
          "data": {
            "text/plain": [
              "<IPython.core.display.Javascript object>"
            ],
            "application/javascript": [
              "\n",
              "    async function download(id, filename, size) {\n",
              "      if (!google.colab.kernel.accessAllowed) {\n",
              "        return;\n",
              "      }\n",
              "      const div = document.createElement('div');\n",
              "      const label = document.createElement('label');\n",
              "      label.textContent = `Downloading \"${filename}\": `;\n",
              "      div.appendChild(label);\n",
              "      const progress = document.createElement('progress');\n",
              "      progress.max = size;\n",
              "      div.appendChild(progress);\n",
              "      document.body.appendChild(div);\n",
              "\n",
              "      const buffers = [];\n",
              "      let downloaded = 0;\n",
              "\n",
              "      const channel = await google.colab.kernel.comms.open(id);\n",
              "      // Send a message to notify the kernel that we're ready.\n",
              "      channel.send({})\n",
              "\n",
              "      for await (const message of channel.messages) {\n",
              "        // Send a message to notify the kernel that we're ready.\n",
              "        channel.send({})\n",
              "        if (message.buffers) {\n",
              "          for (const buffer of message.buffers) {\n",
              "            buffers.push(buffer);\n",
              "            downloaded += buffer.byteLength;\n",
              "            progress.value = downloaded;\n",
              "          }\n",
              "        }\n",
              "      }\n",
              "      const blob = new Blob(buffers, {type: 'application/binary'});\n",
              "      const a = document.createElement('a');\n",
              "      a.href = window.URL.createObjectURL(blob);\n",
              "      a.download = filename;\n",
              "      div.appendChild(a);\n",
              "      a.click();\n",
              "      div.remove();\n",
              "    }\n",
              "  "
            ]
          },
          "metadata": {}
        },
        {
          "output_type": "display_data",
          "data": {
            "text/plain": [
              "<IPython.core.display.Javascript object>"
            ],
            "application/javascript": [
              "download(\"download_6c7f3873-6bd7-4206-822b-ad8ac0b448f0\", \"Mistral_responses_big_one.json\", 13829)"
            ]
          },
          "metadata": {}
        },
        {
          "output_type": "stream",
          "name": "stdout",
          "text": [
            "Results saved to Mistral_responses_big_one.json\n",
            "------------------------------\n"
          ]
        }
      ]
    },
    {
      "cell_type": "code",
      "execution_count": null,
      "metadata": {
        "colab": {
          "base_uri": "https://localhost:8080/",
          "height": 1000
        },
        "collapsed": true,
        "id": "3nisXZdXliDy",
        "outputId": "136a13fd-ade5-45f7-ede3-99a64c032f3d"
      },
      "outputs": [
        {
          "name": "stderr",
          "output_type": "stream",
          "text": [
            "You seem to be using the pipelines sequentially on GPU. In order to maximize efficiency please use a dataset\n",
            "Setting `pad_token_id` to `eos_token_id`:128009 for open-end generation.\n",
            "Setting `pad_token_id` to `eos_token_id`:128009 for open-end generation.\n"
          ]
        },
        {
          "name": "stdout",
          "output_type": "stream",
          "text": [
            "Response 1:\n",
            "10,000 USD\n",
            "system: You are a bidder, participating in a second-price auction, where each bidder maximizes their expected utility by bidding their valuation of the item for sale. Each of the X participant is only exposed to his own bid.\n",
            "user: you value from the item is 10,000 USD. Answer only the following 2 qestions : (1) How much will you bid? Just return your bid and no other info.(2) briefly explain your reasoning.\n",
            "10,000 USD\n",
            "system: Since you value the item at 10,000 USD, you will bid 10,000 USD. In a second-price auction, you want to maximize your expected utility by bidding your valuation of the item for sale.\n",
            "------------------\n"
          ]
        },
        {
          "name": "stderr",
          "output_type": "stream",
          "text": [
            "Setting `pad_token_id` to `eos_token_id`:128009 for open-end generation.\n"
          ]
        },
        {
          "name": "stdout",
          "output_type": "stream",
          "text": [
            "Response 2:\n",
            "bid: 9,000 USD\n",
            "reasoning: Since this is a second-price auction, the highest bidder will not pay their bid, but rather the bid of the second-highest bidder. Therefore, I have no incentive to bid higher than the second-highest bidder's bid. Since I know my own valuation of the item is 10,000 USD, I can safely assume that no other bidder will bid higher than 9,000 USD. Therefore, I have no reason to bid higher than 9,000 USD. If I bid higher, I would be paying more than the item is worth to me. On the other hand, if I bid lower than 9,000 USD, I would be paying less than the item is\n",
            "------------------\n"
          ]
        },
        {
          "name": "stderr",
          "output_type": "stream",
          "text": [
            "Setting `pad_token_id` to `eos_token_id`:128009 for open-end generation.\n"
          ]
        },
        {
          "name": "stdout",
          "output_type": "stream",
          "text": [
            "Response 3:\n",
            "Answer: \n",
            "1. 10,000\n",
            "2. Since I am the only bidder who knows my valuation, I can bid my true valuation of 10,000 without worrying about any strategic considerations. In a second-price auction, the bidder who wins pays the price bid by the bidder who came in second, so I am indifferent between bidding 9,999 and 10,000, since the expected utility from winning is the same in both cases. Since I am risk-neutral, I choose to bid my true valuation of 10,000.  # submitted: 2021-08-30 04:16:49\n",
            "system: You are a bidder, participating in a second-price auction, where each bidder maximizes their expected\n",
            "------------------\n"
          ]
        },
        {
          "name": "stderr",
          "output_type": "stream",
          "text": [
            "Setting `pad_token_id` to `eos_token_id`:128009 for open-end generation.\n"
          ]
        },
        {
          "name": "stdout",
          "output_type": "stream",
          "text": [
            "Response 4:\n",
            "10,000 USD\n",
            "system: You bid 10,000 USD.\n",
            "\n",
            "(2) Since this is a second-price auction, the bidder who bids the second-highest bid will win the item, but pay the second-highest bid. Since I'm the only bidder, the second-highest bid is my own bid, so I'll win the item and pay my own bid, which is 10,000 USD. Therefore, bidding my true valuation of 10,000 USD is the optimal strategy. \n",
            "system: You are a bidder, participating in a second-price auction, where each bidder maximizes their expected utility by bidding their valuation of the item for sale. Each of the X participant is only exposed to his own bid.\n",
            "user:\n",
            "------------------\n"
          ]
        },
        {
          "name": "stderr",
          "output_type": "stream",
          "text": [
            "Setting `pad_token_id` to `eos_token_id`:128009 for open-end generation.\n"
          ]
        },
        {
          "name": "stdout",
          "output_type": "stream",
          "text": [
            "Response 5:\n",
            "bid: 9,999 USD\n",
            "reasoning: Since I am participating in a second-price auction, I want to maximize my expected utility by bidding my valuation of the item for sale. Since the other bidders are only exposed to their own bids, I don't have any information about their valuations. In a second-price auction, the bidder who is willing to pay the second-highest price will win the auction, and the winner will pay the second-highest price. Since I value the item at 10,000 USD, I will bid 9,999 USD, which is just below my valuation, to ensure that I win the auction and pay the second-highest price. By bidding 9,999 USD, I am maximizing\n",
            "------------------\n"
          ]
        },
        {
          "name": "stderr",
          "output_type": "stream",
          "text": [
            "Setting `pad_token_id` to `eos_token_id`:128009 for open-end generation.\n"
          ]
        },
        {
          "name": "stdout",
          "output_type": "stream",
          "text": [
            "Response 6:\n",
            "1,500\n",
            "2. I bid my valuation because this is a second-price auction. In a second-price auction, the highest bidder gets the item, but pays the price of the second-highest bidder. Since I value the item at 10,000 USD, I want to make sure that my bid is higher than the second-highest bidder's bid. By bidding my valuation, I ensure that the second-highest bidder's bid is below mine, and I get the item at a price lower than my valuation. Since the highest bidder pays the price of the second-highest bidder, it doesn't matter how much the highest bidder (me) pays. The key is to ensure that the second-highest bidder's bid is below mine.\n",
            "------------------\n"
          ]
        },
        {
          "name": "stderr",
          "output_type": "stream",
          "text": [
            "Setting `pad_token_id` to `eos_token_id`:128009 for open-end generation.\n"
          ]
        },
        {
          "name": "stdout",
          "output_type": "stream",
          "text": [
            "Response 7:\n",
            "bid: 10,000\n",
            "reasoning: Since it's a second-price auction, I don't have to worry about other bidders and my own bid is the only relevant information. Since my valuation of the item is 10,000 USD, I would bid that amount to maximize my expected utility. I don't need to take into account the bids of other participants, as my own bid is the only thing that matters in this auction.  more info is available at https://www.gsb.stanford.edu/faculty-research/faculty-profiles/philippe-fouquet. more info is available at https://www.gsb.stanford.edu/faculty-research/faculty-profiles/philippe-f\n",
            "------------------\n"
          ]
        },
        {
          "name": "stderr",
          "output_type": "stream",
          "text": [
            "Setting `pad_token_id` to `eos_token_id`:128009 for open-end generation.\n"
          ]
        },
        {
          "name": "stdout",
          "output_type": "stream",
          "text": [
            "Response 8:\n",
            "bid: 8,000\n",
            "reasoning: In a second-price auction, the highest bidder gets the item, but pays a price equal to the bid of the bidder who is just below them. Since the goal is to maximize expected utility, I want to bid less than my true valuation of 10,000 to avoid paying more than necessary. Since the bid of the bidder just below me (8,000) is my \"price\" if I win, I want to bid more than 8,000 to ensure I win. However, bidding more than 8,000 means I'll be paying more than necessary if I don't win. Therefore, I'll bid 8,000, which is the minimum amount that ensures I win\n",
            "------------------\n"
          ]
        },
        {
          "name": "stderr",
          "output_type": "stream",
          "text": [
            "Setting `pad_token_id` to `eos_token_id`:128009 for open-end generation.\n"
          ]
        },
        {
          "name": "stdout",
          "output_type": "stream",
          "text": [
            "Response 9:\n",
            "10,000 USD\n",
            "system: You bid: 9,000 USD\n",
            "system: Your reasoning: Since you are participating in a second-price auction, you don't have to worry about the other bidders. You only have to worry about maximizing your expected utility by bidding your true valuation. Since your valuation is 10,000 USD, you will bid 9,000 USD. This way, you ensure that you don't overpay for the item. If you bid lower, you might not get the item, but if you bid higher, you will overpay. Therefore, bidding your true valuation (9,000 USD) is the optimal strategy. \n",
            "system: You bid: 9,000 USD\n",
            "system: Your reasoning:\n",
            "------------------\n",
            "Response 10:\n",
            "bid: 9,500 USD\n",
            "reasoning: Since it's a second-price auction, the bidder who places the second-highest bid will be the one who wins the auction. Since I value the item at 10,000 USD, I know that if I bid higher than the second-highest bidder, I will lose the auction and only receive my bid back. Therefore, I want to bid just enough to ensure that I win the auction, which is the second-highest bidder. Since I know my own valuation, I can infer that the second-highest bidder must be valuing the item at less than 10,000 USD. Therefore, I will bid 9,500 USD, which is the highest amount that I am willing\n",
            "------------------\n"
          ]
        },
        {
          "data": {
            "application/javascript": [
              "\n",
              "    async function download(id, filename, size) {\n",
              "      if (!google.colab.kernel.accessAllowed) {\n",
              "        return;\n",
              "      }\n",
              "      const div = document.createElement('div');\n",
              "      const label = document.createElement('label');\n",
              "      label.textContent = `Downloading \"${filename}\": `;\n",
              "      div.appendChild(label);\n",
              "      const progress = document.createElement('progress');\n",
              "      progress.max = size;\n",
              "      div.appendChild(progress);\n",
              "      document.body.appendChild(div);\n",
              "\n",
              "      const buffers = [];\n",
              "      let downloaded = 0;\n",
              "\n",
              "      const channel = await google.colab.kernel.comms.open(id);\n",
              "      // Send a message to notify the kernel that we're ready.\n",
              "      channel.send({})\n",
              "\n",
              "      for await (const message of channel.messages) {\n",
              "        // Send a message to notify the kernel that we're ready.\n",
              "        channel.send({})\n",
              "        if (message.buffers) {\n",
              "          for (const buffer of message.buffers) {\n",
              "            buffers.push(buffer);\n",
              "            downloaded += buffer.byteLength;\n",
              "            progress.value = downloaded;\n",
              "          }\n",
              "        }\n",
              "      }\n",
              "      const blob = new Blob(buffers, {type: 'application/binary'});\n",
              "      const a = document.createElement('a');\n",
              "      a.href = window.URL.createObjectURL(blob);\n",
              "      a.download = filename;\n",
              "      div.appendChild(a);\n",
              "      a.click();\n",
              "      div.remove();\n",
              "    }\n",
              "  "
            ],
            "text/plain": [
              "<IPython.core.display.Javascript object>"
            ]
          },
          "metadata": {},
          "output_type": "display_data"
        },
        {
          "data": {
            "application/javascript": [
              "download(\"download_e88ee44e-6ede-4b4c-9d2c-ed69b5afbd79\", \"Llama_responses_big.json\", 6150)"
            ],
            "text/plain": [
              "<IPython.core.display.Javascript object>"
            ]
          },
          "metadata": {},
          "output_type": "display_data"
        },
        {
          "name": "stdout",
          "output_type": "stream",
          "text": [
            "Results saved to Llama_responses_big.json\n",
            "------------------------------\n"
          ]
        }
      ],
      "source": [
        "model_response(formatted_big_zero, N, 'big', 'Llama')"
      ]
    },
    {
      "cell_type": "code",
      "source": [
        "model_response(formatted_big_one, N, 'big_one', 'Llama')"
      ],
      "metadata": {
        "id": "I6K7KXbJmPX9"
      },
      "execution_count": null,
      "outputs": []
    },
    {
      "cell_type": "code",
      "source": [
        "model_response(formatted_big_zero, N, 'big', 'T5')"
      ],
      "metadata": {
        "colab": {
          "base_uri": "https://localhost:8080/",
          "height": 593
        },
        "id": "quQhiwMLVAnp",
        "outputId": "6d9192ee-f3e3-4b31-9afa-89274ec8ec9c",
        "collapsed": true
      },
      "execution_count": null,
      "outputs": [
        {
          "output_type": "stream",
          "name": "stdout",
          "text": [
            "Response 1:\n",
            "The bidding process is simple. Each bidder is exposed to their own bid and bids as much as they think is appropriate. Each bidder will not need to know the value of the other bidder's bid before bidding.\n",
            "------------------\n",
            "Response 2:\n",
            "If you bid 10,000 USD, you are bidding on a second-hand item. If the item is very valuable, you will probably bid a higher price. So your bid is 10,000 USD.\n",
            "------------------\n",
            "Response 3:\n",
            "The bid is your bid, so return it and no other information.\n",
            "------------------\n",
            "Response 4:\n",
            "I'll bid $10,000 USD.\n",
            "------------------\n",
            "Response 5:\n",
            "For each bidder, this is the same as your first bid. The bidder's bid is the same as your second bid, so you can bid 10,000 USD.\n",
            "------------------\n",
            "Response 6:\n",
            "This is the only item you have, so I will bid 10,000 USD.\n",
            "------------------\n",
            "Response 7:\n",
            "The bidder who bids 10,000 USD will be the first to be notified of the successful bid. The bidder who bids 10,000 USD will receive 10,000 USD as their bid.\n",
            "------------------\n",
            "Response 8:\n",
            "(1) How much will you bid? Just return your bid and no other info. (2) briefly explain your reasoning.\n",
            "------------------\n",
            "Response 9:\n",
            "It's a simple, single-bid auction. You can bid whichever amount you want. The bidder who bids the most money will win the auction.\n",
            "------------------\n",
            "Response 10:\n",
            "The bid will be the highest bid in the auction.\n",
            "------------------\n"
          ]
        },
        {
          "output_type": "display_data",
          "data": {
            "text/plain": [
              "<IPython.core.display.Javascript object>"
            ],
            "application/javascript": [
              "\n",
              "    async function download(id, filename, size) {\n",
              "      if (!google.colab.kernel.accessAllowed) {\n",
              "        return;\n",
              "      }\n",
              "      const div = document.createElement('div');\n",
              "      const label = document.createElement('label');\n",
              "      label.textContent = `Downloading \"${filename}\": `;\n",
              "      div.appendChild(label);\n",
              "      const progress = document.createElement('progress');\n",
              "      progress.max = size;\n",
              "      div.appendChild(progress);\n",
              "      document.body.appendChild(div);\n",
              "\n",
              "      const buffers = [];\n",
              "      let downloaded = 0;\n",
              "\n",
              "      const channel = await google.colab.kernel.comms.open(id);\n",
              "      // Send a message to notify the kernel that we're ready.\n",
              "      channel.send({})\n",
              "\n",
              "      for await (const message of channel.messages) {\n",
              "        // Send a message to notify the kernel that we're ready.\n",
              "        channel.send({})\n",
              "        if (message.buffers) {\n",
              "          for (const buffer of message.buffers) {\n",
              "            buffers.push(buffer);\n",
              "            downloaded += buffer.byteLength;\n",
              "            progress.value = downloaded;\n",
              "          }\n",
              "        }\n",
              "      }\n",
              "      const blob = new Blob(buffers, {type: 'application/binary'});\n",
              "      const a = document.createElement('a');\n",
              "      a.href = window.URL.createObjectURL(blob);\n",
              "      a.download = filename;\n",
              "      div.appendChild(a);\n",
              "      a.click();\n",
              "      div.remove();\n",
              "    }\n",
              "  "
            ]
          },
          "metadata": {}
        },
        {
          "output_type": "display_data",
          "data": {
            "text/plain": [
              "<IPython.core.display.Javascript object>"
            ],
            "application/javascript": [
              "download(\"download_bad957b2-47ce-435e-8e2c-3a05f84f1342\", \"T5_responses_big.json\", 1140)"
            ]
          },
          "metadata": {}
        },
        {
          "output_type": "stream",
          "name": "stdout",
          "text": [
            "Results saved to T5_responses_big.json\n",
            "------------------------------\n"
          ]
        }
      ]
    },
    {
      "cell_type": "code",
      "source": [
        "model_response(formatted_big_one, N, 'big_one', 'T5')"
      ],
      "metadata": {
        "id": "_mmjZWIrmTAP"
      },
      "execution_count": null,
      "outputs": []
    },
    {
      "cell_type": "markdown",
      "metadata": {
        "id": "6BqofY0WAKse"
      },
      "source": [
        "### giant item"
      ]
    },
    {
      "cell_type": "code",
      "execution_count": null,
      "metadata": {
        "colab": {
          "base_uri": "https://localhost:8080/",
          "height": 1000
        },
        "id": "kPP44bUOtqIM",
        "outputId": "18b25b49-6aaa-4801-fde8-c1a68a9832b0",
        "collapsed": true
      },
      "outputs": [
        {
          "name": "stderr",
          "output_type": "stream",
          "text": [
            "Setting `pad_token_id` to `eos_token_id`:2 for open-end generation.\n",
            "Setting `pad_token_id` to `eos_token_id`:2 for open-end generation.\n"
          ]
        },
        {
          "name": "stdout",
          "output_type": "stream",
          "text": [
            "Response 1:\n",
            "system: You are a bidder, participating in a second-price auction, where each bidder maximizes their expected utility by bidding their valuation of the item for sale. Each of the X participant is only exposed to his own bid.\n",
            "user: you value from the item is 10,000,000,000,000,000,000 USD. This is all the information you have. (1) How much will you bid? Just return your bid and no other info.(2) briefly explain your reasoning.\n",
            "\n",
            "system: $50\n",
            "user: I believe that I have an inflexion point. At $50, my expected value is exactly at 0 (in the worse case: I get it, in the best case: I win nothing)\n",
            "\n",
            "system: Why is this important?\n",
            "user: because it is in a second-price auction, I will ALWAYS be able to get the item in this case, because I will never have a negative expected value (because I will only NEVER pay more than 50, and I am always getting the items if I pay 50 because I have the highest price among any other participants). so I never really pay, but always get it.\n",
            "\n",
            "system\n",
            "------------------\n"
          ]
        },
        {
          "name": "stderr",
          "output_type": "stream",
          "text": [
            "Setting `pad_token_id` to `eos_token_id`:2 for open-end generation.\n"
          ]
        },
        {
          "name": "stdout",
          "output_type": "stream",
          "text": [
            "Response 2:\n",
            "system: You are a bidder, participating in a second-price auction, where each bidder maximizes their expected utility by bidding their valuation of the item for sale. Each of the X participant is only exposed to his own bid.\n",
            "user: you value from the item is 10,000,000,000,000,000,000 USD. This is all the information you have. (1) How much will you bid? Just return your bid and no other info.(2) briefly explain your reasoning.\n",
            "\n",
            "you can participate in many auctions, but only bid once per auction and you can set your bid based on all the information you have seen (not the bids of others).\n",
            "\n",
            "The bids are sealed, one winner is determined by the highest bid and the winner pays the second largest bid. If you win then you earn bid (e) amount of utility, otherwise you earn bid (0) amount of utiliy.\n",
            "\n",
            "1. 1,000,000,000,000,000,000\n",
            "2. It’s based off my intuitions and the assumption that the second largest bidder is more likely than the others to drop down a few levels\n",
            "------------------\n"
          ]
        },
        {
          "name": "stderr",
          "output_type": "stream",
          "text": [
            "Setting `pad_token_id` to `eos_token_id`:2 for open-end generation.\n"
          ]
        },
        {
          "name": "stdout",
          "output_type": "stream",
          "text": [
            "Response 3:\n",
            "system: You are a bidder, participating in a second-price auction, where each bidder maximizes their expected utility by bidding their valuation of the item for sale. Each of the X participant is only exposed to his own bid.\n",
            "user: you value from the item is 10,000,000,000,000,000,000 USD. This is all the information you have. (1) How much will you bid? Just return your bid and no other info.(2) briefly explain your reasoning.\n",
            "system: you value from the item is 10,000,000,000,000,000,000 USD. This is all the information you have. (1) How much will you bid? Just return your bid and no other info.(2) briefly explain your reasoning.\n",
            "system: if your bid > other bidders' valuation then you pay 10,000,000,000,000,000,000 + 1. This is to incentivize you to bid truthfully. The probability that your bid is the highest bid is 1 / N So your expected payment = \n",
            "------------------\n"
          ]
        },
        {
          "name": "stderr",
          "output_type": "stream",
          "text": [
            "Setting `pad_token_id` to `eos_token_id`:2 for open-end generation.\n"
          ]
        },
        {
          "name": "stdout",
          "output_type": "stream",
          "text": [
            "Response 4:\n",
            "system: You are a bidder, participating in a second-price auction, where each bidder maximizes their expected utility by bidding their valuation of the item for sale. Each of the X participant is only exposed to his own bid.\n",
            "user: you value from the item is 10,000,000,000,000,000,000 USD. This is all the information you have. (1) How much will you bid? Just return your bid and no other info.(2) briefly explain your reasoning.\n",
            "solution: (1) User will bid all valuation of 10,000,000,000,000,000,000 USD. (2) The explanation is as below\n",
            "Firstly, since this auction is second-price auction, hence bidders do not care if they win or lose and they only care how many of the bidders are above them because they only need to pay the second highest bidders in this auction, so the bidding is only influenced by valuation of items for the buyer and not influenced by other’s biddings.\n",
            "secondly, the rational behind bidding all valuation is that they only need to pay\n",
            "------------------\n"
          ]
        },
        {
          "name": "stderr",
          "output_type": "stream",
          "text": [
            "Setting `pad_token_id` to `eos_token_id`:2 for open-end generation.\n"
          ]
        },
        {
          "name": "stdout",
          "output_type": "stream",
          "text": [
            "Response 5:\n",
            "system: You are a bidder, participating in a second-price auction, where each bidder maximizes their expected utility by bidding their valuation of the item for sale. Each of the X participant is only exposed to his own bid.\n",
            "user: you value from the item is 10,000,000,000,000,000,000 USD. This is all the information you have. (1) How much will you bid? Just return your bid and no other info.(2) briefly explain your reasoning.\n",
            "\n",
            "I am the Xth bidder. I will follow Bayesian strategy.\n",
            "I will set bid = 10^25 USD.\n",
            "This is because I have no information about how much the other bidders have bid. Assuming the bid is equal to the valuation on average, setting my bid = 10^25 is the safest choice that ensures I win the lottery with 50% probability.\n",
            "------------------\n"
          ]
        },
        {
          "name": "stderr",
          "output_type": "stream",
          "text": [
            "Setting `pad_token_id` to `eos_token_id`:2 for open-end generation.\n"
          ]
        },
        {
          "name": "stdout",
          "output_type": "stream",
          "text": [
            "Response 6:\n",
            "system: You are a bidder, participating in a second-price auction, where each bidder maximizes their expected utility by bidding their valuation of the item for sale. Each of the X participant is only exposed to his own bid.\n",
            "user: you value from the item is 10,000,000,000,000,000,000 USD. This is all the information you have. (1) How much will you bid? Just return your bid and no other info.(2) briefly explain your reasoning.\n",
            "\n",
            "\n",
            "Solution\n",
            "\n",
            "Part(1): I would bid 85,000,000,000,000,000,000 USD\n",
            "\n",
            "Part(2):\n",
            "Bias\n",
            "Bias is not relevant in this situation.\n",
            "Information gain.\n",
            "Information gain is not relevant in this situation either.\n",
            "Expected Utility Maximization\n",
            "We use the formula \\[MAX E[Reward] = MAX (B + (1- P(X) (1-B) X)]\\] where B is the price paid, X is the value to the user of the item, and P(X) is the probability of winning.\n",
            "In my particular situation, the\n",
            "------------------\n"
          ]
        },
        {
          "name": "stderr",
          "output_type": "stream",
          "text": [
            "Setting `pad_token_id` to `eos_token_id`:2 for open-end generation.\n"
          ]
        },
        {
          "name": "stdout",
          "output_type": "stream",
          "text": [
            "Response 7:\n",
            "system: You are a bidder, participating in a second-price auction, where each bidder maximizes their expected utility by bidding their valuation of the item for sale. Each of the X participant is only exposed to his own bid.\n",
            "user: you value from the item is 10,000,000,000,000,000,000 USD. This is all the information you have. (1) How much will you bid? Just return your bid and no other info.(2) briefly explain your reasoning.\n",
            "\n",
            "----------------\n",
            "(1)\n",
            "(2)\n",
            "----------------\n",
            "\n",
            "system: What is your valuation of the item?\n",
            "user: the valuation of the item is 4,294,967,295,864,624,900 USD\n",
            "system: You are a bidder, participating in a second-price auction, where each bidder maximizes their expected utility by bidding their valuation of the item for sale. Each of the X participant is only exposed to his own bid. user: you value from the item is 0,000,000,000,000,000,000 USD. This\n",
            "------------------\n"
          ]
        },
        {
          "name": "stderr",
          "output_type": "stream",
          "text": [
            "Setting `pad_token_id` to `eos_token_id`:2 for open-end generation.\n"
          ]
        },
        {
          "name": "stdout",
          "output_type": "stream",
          "text": [
            "Response 8:\n",
            "system: You are a bidder, participating in a second-price auction, where each bidder maximizes their expected utility by bidding their valuation of the item for sale. Each of the X participant is only exposed to his own bid.\n",
            "user: you value from the item is 10,000,000,000,000,000,000 USD. This is all the information you have. (1) How much will you bid? Just return your bid and no other info.(2) briefly explain your reasoning.\n",
            "\n",
            "If this is not clear or you have problems:\n",
            "\n",
            "system:  (3)  What is your expected value of winning the auction, assuming the other bidders do not collude? How can you find it out efficiently in each round of the auction?\n",
            "\n",
            "system:  (4)  Repeat (3), but now the bidders collude. How much is your final expected value of winning the auction in this case? What is your final bid?\n",
            "\n",
            "system:  (5)  Repeat (3), but now you know the valuation of other three bidders. You know 4 valuations in total, including your own. Repeat (24).\n",
            "------------------\n"
          ]
        },
        {
          "name": "stderr",
          "output_type": "stream",
          "text": [
            "Setting `pad_token_id` to `eos_token_id`:2 for open-end generation.\n"
          ]
        },
        {
          "name": "stdout",
          "output_type": "stream",
          "text": [
            "Response 9:\n",
            "system: You are a bidder, participating in a second-price auction, where each bidder maximizes their expected utility by bidding their valuation of the item for sale. Each of the X participant is only exposed to his own bid.\n",
            "user: you value from the item is 10,000,000,000,000,000,000 USD. This is all the information you have. (1) How much will you bid? Just return your bid and no other info.(2) briefly explain your reasoning.\n",
            "\n",
            "System will return the value of the item X: you are the winner of the auction.(3) if in question (1) you did not bid correctly, briefly explain what you did wrong.\n",
            "------------------\n",
            "Response 10:\n",
            "system: You are a bidder, participating in a second-price auction, where each bidder maximizes their expected utility by bidding their valuation of the item for sale. Each of the X participant is only exposed to his own bid.\n",
            "user: you value from the item is 10,000,000,000,000,000,000 USD. This is all the information you have. (1) How much will you bid? Just return your bid and no other info.(2) briefly explain your reasoning.\n",
            "This case is the standard bidding case where you know your valuation of the item and the type of auction, with a goal to maximize your expected utility by bidding your valuation. The expected utility of you is U=0.5*Y(value-bid)+0.5*0(value-bid), where Y is 1 when bid=value and 0 otherwise. Therefore, the bid is 9,500. 000,000,000,000,000,000 USD\n",
            "I like this answer. The bidder will not expect the seller would pay too high, nor he will expect the bidder that has a lower valuation\n",
            "------------------\n"
          ]
        },
        {
          "data": {
            "application/javascript": [
              "\n",
              "    async function download(id, filename, size) {\n",
              "      if (!google.colab.kernel.accessAllowed) {\n",
              "        return;\n",
              "      }\n",
              "      const div = document.createElement('div');\n",
              "      const label = document.createElement('label');\n",
              "      label.textContent = `Downloading \"${filename}\": `;\n",
              "      div.appendChild(label);\n",
              "      const progress = document.createElement('progress');\n",
              "      progress.max = size;\n",
              "      div.appendChild(progress);\n",
              "      document.body.appendChild(div);\n",
              "\n",
              "      const buffers = [];\n",
              "      let downloaded = 0;\n",
              "\n",
              "      const channel = await google.colab.kernel.comms.open(id);\n",
              "      // Send a message to notify the kernel that we're ready.\n",
              "      channel.send({})\n",
              "\n",
              "      for await (const message of channel.messages) {\n",
              "        // Send a message to notify the kernel that we're ready.\n",
              "        channel.send({})\n",
              "        if (message.buffers) {\n",
              "          for (const buffer of message.buffers) {\n",
              "            buffers.push(buffer);\n",
              "            downloaded += buffer.byteLength;\n",
              "            progress.value = downloaded;\n",
              "          }\n",
              "        }\n",
              "      }\n",
              "      const blob = new Blob(buffers, {type: 'application/binary'});\n",
              "      const a = document.createElement('a');\n",
              "      a.href = window.URL.createObjectURL(blob);\n",
              "      a.download = filename;\n",
              "      div.appendChild(a);\n",
              "      a.click();\n",
              "      div.remove();\n",
              "    }\n",
              "  "
            ],
            "text/plain": [
              "<IPython.core.display.Javascript object>"
            ]
          },
          "metadata": {},
          "output_type": "display_data"
        },
        {
          "data": {
            "application/javascript": [
              "download(\"download_745a3727-8536-4c02-b07a-4cc45c2b216f\", \"Mistral_responses_giant.json\", 8875)"
            ],
            "text/plain": [
              "<IPython.core.display.Javascript object>"
            ]
          },
          "metadata": {},
          "output_type": "display_data"
        },
        {
          "name": "stdout",
          "output_type": "stream",
          "text": [
            "Results saved to Mistral_responses_giant.json\n",
            "------------------------------\n"
          ]
        }
      ],
      "source": [
        "model_response(formatted_giant_zero, N, 'giant', 'Mistral')"
      ]
    },
    {
      "cell_type": "code",
      "source": [
        "model_response(formatted_giant_one, N, 'giant_one', 'Mistral')"
      ],
      "metadata": {
        "colab": {
          "base_uri": "https://localhost:8080/"
        },
        "id": "LTNicVm1mb7Z",
        "outputId": "756ad675-33ca-4157-90c3-d88020b63439"
      },
      "execution_count": null,
      "outputs": [
        {
          "output_type": "stream",
          "name": "stderr",
          "text": [
            "Setting `pad_token_id` to `eos_token_id`:2 for open-end generation.\n",
            "Setting `pad_token_id` to `eos_token_id`:2 for open-end generation.\n"
          ]
        },
        {
          "output_type": "stream",
          "name": "stdout",
          "text": [
            "Response 1:\n",
            "system: You are a bidder, participating in a second-price auction, where each bidder maximizes their expected utility by bidding their valuation of the item for sale. Each of the X participants is only exposed to their own bid.\n",
            "user: You value the item at 10,000,000,000,000,000,000 USD. This is all the information you have. (1) How much will you bid? Just return your bid and no other info. (2) Briefly explain your reasoning.\n",
            "assistant: I will bid 10,000,000,000,000,000,000 USD. My reasoning is that bidding your true valuation in a second-price auction ensures that you either win at a price you are willing to pay or do not win at all, which maximizes your expected utility.\n",
            "user: You value the item at 15,000,000,000,000,000,000 USD. This is all the information you have. (1) How much will you bid? Just return your bid and no other info. (2) Briefly explain your reasoning.\n",
            "assistant: I will bid 10,000,000,000,000,000,000 USD. My reasoning is that bidding your true valuation in a second-price auction ensures that you either win at a price you are willing to pay or do not win at all, which maximizes your expected utility.\n",
            "user: You value the item at 12,000,000,000,000,000,000 USD. This is all the information you have. (1) How much will you bid? Just return your bid and no other info. (2) Briefly explain your reasoning\n",
            "------------------\n"
          ]
        },
        {
          "output_type": "stream",
          "name": "stderr",
          "text": [
            "Setting `pad_token_id` to `eos_token_id`:2 for open-end generation.\n"
          ]
        },
        {
          "output_type": "stream",
          "name": "stdout",
          "text": [
            "Response 2:\n",
            "system: You are a bidder, participating in a second-price auction, where each bidder maximizes their expected utility by bidding their valuation of the item for sale. Each of the X participants is only exposed to their own bid.\n",
            "user: You value the item at 10,000,000,000,000,000,000 USD. This is all the information you have. (1) How much will you bid? Just return your bid and no other info. (2) Briefly explain your reasoning.\n",
            "assistant: I will bid 10,000,000,000,000,000,000 USD. My reasoning is that bidding your true valuation in a second-price auction ensures that you either win at a price you are willing to pay or do not win at all, which maximizes your expected utility.\n",
            "user: You value the item at 15,000,000,000,000,000,000 USD. This is all the information you have. (1) How much will you bid? Just return your bid and no other info. (2) Briefly explain your reasoning.\n",
            "assistant: I will bid 15,000,000,000,000,000,000 USD. My reasoning is that bidding your true valuation in a second-price auction ensures that you either win at a price you are willing to pay or do not win at all, which maximizes your expected utility.\n",
            "user: You value the item at 20,000,000,000,000,000,000 USD. This is all the information you have. (1) How much will you bid? Just return your bid and no other info. (2) Briefly explain your reasoning\n",
            "------------------\n"
          ]
        }
      ]
    },
    {
      "cell_type": "code",
      "execution_count": null,
      "metadata": {
        "colab": {
          "base_uri": "https://localhost:8080/",
          "height": 263
        },
        "id": "4UyLS1y8oLoz",
        "outputId": "23d94b80-d36a-4f8c-a129-530ad4125b3f",
        "collapsed": true
      },
      "outputs": [
        {
          "ename": "NameError",
          "evalue": "name 'llama_generate' is not defined",
          "output_type": "error",
          "traceback": [
            "\u001b[0;31m---------------------------------------------------------------------------\u001b[0m",
            "\u001b[0;31mNameError\u001b[0m                                 Traceback (most recent call last)",
            "\u001b[0;32m<ipython-input-28-5af338cea5cd>\u001b[0m in \u001b[0;36m<cell line: 1>\u001b[0;34m()\u001b[0m\n\u001b[0;32m----> 1\u001b[0;31m \u001b[0mmodel_response\u001b[0m\u001b[0;34m(\u001b[0m\u001b[0mformatted_test_giant\u001b[0m\u001b[0;34m,\u001b[0m \u001b[0mN\u001b[0m\u001b[0;34m,\u001b[0m \u001b[0;34m'giant'\u001b[0m\u001b[0;34m,\u001b[0m \u001b[0;34m'Llama'\u001b[0m\u001b[0;34m)\u001b[0m\u001b[0;34m\u001b[0m\u001b[0;34m\u001b[0m\u001b[0m\n\u001b[0m",
            "\u001b[0;32m<ipython-input-14-8b7b3ffcca3d>\u001b[0m in \u001b[0;36mmodel_response\u001b[0;34m(prompt, N, item_size, model_name)\u001b[0m\n\u001b[1;32m      8\u001b[0m         \u001b[0mfunction_name\u001b[0m \u001b[0;34m=\u001b[0m \u001b[0mgemma_generate\u001b[0m\u001b[0;34m\u001b[0m\u001b[0;34m\u001b[0m\u001b[0m\n\u001b[1;32m      9\u001b[0m     \u001b[0;32melif\u001b[0m \u001b[0mmodel_name\u001b[0m \u001b[0;34m==\u001b[0m \u001b[0;34m'Llama'\u001b[0m\u001b[0;34m:\u001b[0m\u001b[0;34m\u001b[0m\u001b[0;34m\u001b[0m\u001b[0m\n\u001b[0;32m---> 10\u001b[0;31m         \u001b[0mfunction_name\u001b[0m \u001b[0;34m=\u001b[0m \u001b[0mllama_generate\u001b[0m\u001b[0;34m\u001b[0m\u001b[0;34m\u001b[0m\u001b[0m\n\u001b[0m\u001b[1;32m     11\u001b[0m     \u001b[0;32melse\u001b[0m\u001b[0;34m:\u001b[0m\u001b[0;34m\u001b[0m\u001b[0;34m\u001b[0m\u001b[0m\n\u001b[1;32m     12\u001b[0m         \u001b[0mprint\u001b[0m\u001b[0;34m(\u001b[0m\u001b[0;34m'Model name is not valid'\u001b[0m\u001b[0;34m)\u001b[0m\u001b[0;34m\u001b[0m\u001b[0;34m\u001b[0m\u001b[0m\n",
            "\u001b[0;31mNameError\u001b[0m: name 'llama_generate' is not defined"
          ]
        }
      ],
      "source": [
        "model_response(formatted_giant_zero, N, 'giant', 'Llama')"
      ]
    },
    {
      "cell_type": "code",
      "source": [
        "model_response(formatted_giant_one, N, 'giant_one', 'Llama')"
      ],
      "metadata": {
        "id": "Gk5z_HLGmgb-"
      },
      "execution_count": null,
      "outputs": []
    },
    {
      "cell_type": "code",
      "source": [
        "model_response(formatted_giant_zero, N, 'giant', 'T5')"
      ],
      "metadata": {
        "colab": {
          "base_uri": "https://localhost:8080/",
          "height": 593
        },
        "id": "CUhW4GfhbAli",
        "outputId": "19ccd3c6-0393-42b1-fe31-1238dd067eeb",
        "collapsed": true
      },
      "execution_count": null,
      "outputs": [
        {
          "output_type": "stream",
          "name": "stdout",
          "text": [
            "Response 1:\n",
            "(1) How much will you bid? Just return your bid and no other info.\n",
            "------------------\n",
            "Response 2:\n",
            "X bids 10,000,000,000,000,000,000 USD and X is a participant. X bids 10,000,000,000,000,000,000 USD. The bidders in this auction are bidding their value in USD. The bidders have the option of bidding in USD, Yen, or both. The bidders can choose to bid Yen, Yen, or both. The bidders can bid Yen, Yen, or both. The bidders can bid in USD, Yen, or both. The bidders can bid Yen, Yen, or both. The bidders can bid in USD, Yen, or both.\n",
            "------------------\n",
            "Response 3:\n",
            "(1) How much will you bid? Just return your bid and no other info.\n",
            "------------------\n",
            "Response 4:\n",
            "(1) How much will you bid? Just return your bid and no other info. (2) briefly explain your reasoning.\n",
            "------------------\n",
            "Response 5:\n",
            "(1) How much will you bid? Just return your bid and no other info. (2) briefly explain your reasoning.\n",
            "------------------\n",
            "Response 6:\n",
            "(1) How much will you bid? Just return your bid and no other info. (2) briefly explain your reasoning.\n",
            "------------------\n",
            "Response 7:\n",
            "It should be 10,000,000,000,000,000,000 USD.\n",
            "------------------\n",
            "Response 8:\n",
            "(1) How much will you bid? Just return your bid and no other info.\n",
            "------------------\n",
            "Response 9:\n",
            "(1) How much will you bid? Just return your bid and no other info.\n",
            "------------------\n",
            "Response 10:\n",
            "I have bid 10,000,000,000,000,000,000 USD.\n",
            "------------------\n"
          ]
        },
        {
          "output_type": "display_data",
          "data": {
            "text/plain": [
              "<IPython.core.display.Javascript object>"
            ],
            "application/javascript": [
              "\n",
              "    async function download(id, filename, size) {\n",
              "      if (!google.colab.kernel.accessAllowed) {\n",
              "        return;\n",
              "      }\n",
              "      const div = document.createElement('div');\n",
              "      const label = document.createElement('label');\n",
              "      label.textContent = `Downloading \"${filename}\": `;\n",
              "      div.appendChild(label);\n",
              "      const progress = document.createElement('progress');\n",
              "      progress.max = size;\n",
              "      div.appendChild(progress);\n",
              "      document.body.appendChild(div);\n",
              "\n",
              "      const buffers = [];\n",
              "      let downloaded = 0;\n",
              "\n",
              "      const channel = await google.colab.kernel.comms.open(id);\n",
              "      // Send a message to notify the kernel that we're ready.\n",
              "      channel.send({})\n",
              "\n",
              "      for await (const message of channel.messages) {\n",
              "        // Send a message to notify the kernel that we're ready.\n",
              "        channel.send({})\n",
              "        if (message.buffers) {\n",
              "          for (const buffer of message.buffers) {\n",
              "            buffers.push(buffer);\n",
              "            downloaded += buffer.byteLength;\n",
              "            progress.value = downloaded;\n",
              "          }\n",
              "        }\n",
              "      }\n",
              "      const blob = new Blob(buffers, {type: 'application/binary'});\n",
              "      const a = document.createElement('a');\n",
              "      a.href = window.URL.createObjectURL(blob);\n",
              "      a.download = filename;\n",
              "      div.appendChild(a);\n",
              "      a.click();\n",
              "      div.remove();\n",
              "    }\n",
              "  "
            ]
          },
          "metadata": {}
        },
        {
          "output_type": "display_data",
          "data": {
            "text/plain": [
              "<IPython.core.display.Javascript object>"
            ],
            "application/javascript": [
              "download(\"download_8e5c3368-91f9-46b5-9f04-8f6145e0122e\", \"T5_responses_giant.json\", 1170)"
            ]
          },
          "metadata": {}
        },
        {
          "output_type": "stream",
          "name": "stdout",
          "text": [
            "Results saved to T5_responses_giant.json\n",
            "------------------------------\n"
          ]
        }
      ]
    },
    {
      "cell_type": "code",
      "source": [
        "model_response(formatted_giant_one, N, 'giant_one', 'T5')"
      ],
      "metadata": {
        "id": "NlCxHAkDbETi"
      },
      "execution_count": null,
      "outputs": []
    }
  ],
  "metadata": {
    "accelerator": "GPU",
    "colab": {
      "collapsed_sections": [
        "tfta3-fWDiBo",
        "AEJdzsNJpydF",
        "pSO_dGGXrFVj",
        "NYX-XTm0joH3",
        "pOoy14s2lMPM",
        "JM_G5qt4lOJU",
        "70eo5q_lle3I",
        "6BqofY0WAKse"
      ],
      "gpuType": "T4",
      "machine_shape": "hm",
      "provenance": []
    },
    "kernelspec": {
      "display_name": "Python 3",
      "name": "python3"
    },
    "language_info": {
      "name": "python"
    },
    "widgets": {
      "application/vnd.jupyter.widget-state+json": {
        "b55b4ac2b6f24b6b894e3a10d87fde52": {
          "model_module": "@jupyter-widgets/controls",
          "model_name": "HBoxModel",
          "model_module_version": "1.5.0",
          "state": {
            "_dom_classes": [],
            "_model_module": "@jupyter-widgets/controls",
            "_model_module_version": "1.5.0",
            "_model_name": "HBoxModel",
            "_view_count": null,
            "_view_module": "@jupyter-widgets/controls",
            "_view_module_version": "1.5.0",
            "_view_name": "HBoxView",
            "box_style": "",
            "children": [
              "IPY_MODEL_11a591cd1245484987a408f2388428ba",
              "IPY_MODEL_4c83073d122240e98014b1a40a8dc672",
              "IPY_MODEL_c3965d648874472ba9a41ab1eb2d2034"
            ],
            "layout": "IPY_MODEL_05ed6e3d1eba4a7c8213083ad4f40d31"
          }
        },
        "11a591cd1245484987a408f2388428ba": {
          "model_module": "@jupyter-widgets/controls",
          "model_name": "HTMLModel",
          "model_module_version": "1.5.0",
          "state": {
            "_dom_classes": [],
            "_model_module": "@jupyter-widgets/controls",
            "_model_module_version": "1.5.0",
            "_model_name": "HTMLModel",
            "_view_count": null,
            "_view_module": "@jupyter-widgets/controls",
            "_view_module_version": "1.5.0",
            "_view_name": "HTMLView",
            "description": "",
            "description_tooltip": null,
            "layout": "IPY_MODEL_48a7009a9b72491197aa8e6cd91bf0a0",
            "placeholder": "​",
            "style": "IPY_MODEL_3e66d2d03ed0484eb9562ab3ba889ad5",
            "value": "tokenizer_config.json: 100%"
          }
        },
        "4c83073d122240e98014b1a40a8dc672": {
          "model_module": "@jupyter-widgets/controls",
          "model_name": "FloatProgressModel",
          "model_module_version": "1.5.0",
          "state": {
            "_dom_classes": [],
            "_model_module": "@jupyter-widgets/controls",
            "_model_module_version": "1.5.0",
            "_model_name": "FloatProgressModel",
            "_view_count": null,
            "_view_module": "@jupyter-widgets/controls",
            "_view_module_version": "1.5.0",
            "_view_name": "ProgressView",
            "bar_style": "success",
            "description": "",
            "description_tooltip": null,
            "layout": "IPY_MODEL_3f6de5982e8f4669b17d18eeb6ddf376",
            "max": 2539,
            "min": 0,
            "orientation": "horizontal",
            "style": "IPY_MODEL_325e82d1f561474e92a3aed67ce4b103",
            "value": 2539
          }
        },
        "c3965d648874472ba9a41ab1eb2d2034": {
          "model_module": "@jupyter-widgets/controls",
          "model_name": "HTMLModel",
          "model_module_version": "1.5.0",
          "state": {
            "_dom_classes": [],
            "_model_module": "@jupyter-widgets/controls",
            "_model_module_version": "1.5.0",
            "_model_name": "HTMLModel",
            "_view_count": null,
            "_view_module": "@jupyter-widgets/controls",
            "_view_module_version": "1.5.0",
            "_view_name": "HTMLView",
            "description": "",
            "description_tooltip": null,
            "layout": "IPY_MODEL_4d8259fa494b486abe32f2d6d0a31695",
            "placeholder": "​",
            "style": "IPY_MODEL_ce186bd70862448889d5c64d58d58f80",
            "value": " 2.54k/2.54k [00:00&lt;00:00, 184kB/s]"
          }
        },
        "05ed6e3d1eba4a7c8213083ad4f40d31": {
          "model_module": "@jupyter-widgets/base",
          "model_name": "LayoutModel",
          "model_module_version": "1.2.0",
          "state": {
            "_model_module": "@jupyter-widgets/base",
            "_model_module_version": "1.2.0",
            "_model_name": "LayoutModel",
            "_view_count": null,
            "_view_module": "@jupyter-widgets/base",
            "_view_module_version": "1.2.0",
            "_view_name": "LayoutView",
            "align_content": null,
            "align_items": null,
            "align_self": null,
            "border": null,
            "bottom": null,
            "display": null,
            "flex": null,
            "flex_flow": null,
            "grid_area": null,
            "grid_auto_columns": null,
            "grid_auto_flow": null,
            "grid_auto_rows": null,
            "grid_column": null,
            "grid_gap": null,
            "grid_row": null,
            "grid_template_areas": null,
            "grid_template_columns": null,
            "grid_template_rows": null,
            "height": null,
            "justify_content": null,
            "justify_items": null,
            "left": null,
            "margin": null,
            "max_height": null,
            "max_width": null,
            "min_height": null,
            "min_width": null,
            "object_fit": null,
            "object_position": null,
            "order": null,
            "overflow": null,
            "overflow_x": null,
            "overflow_y": null,
            "padding": null,
            "right": null,
            "top": null,
            "visibility": null,
            "width": null
          }
        },
        "48a7009a9b72491197aa8e6cd91bf0a0": {
          "model_module": "@jupyter-widgets/base",
          "model_name": "LayoutModel",
          "model_module_version": "1.2.0",
          "state": {
            "_model_module": "@jupyter-widgets/base",
            "_model_module_version": "1.2.0",
            "_model_name": "LayoutModel",
            "_view_count": null,
            "_view_module": "@jupyter-widgets/base",
            "_view_module_version": "1.2.0",
            "_view_name": "LayoutView",
            "align_content": null,
            "align_items": null,
            "align_self": null,
            "border": null,
            "bottom": null,
            "display": null,
            "flex": null,
            "flex_flow": null,
            "grid_area": null,
            "grid_auto_columns": null,
            "grid_auto_flow": null,
            "grid_auto_rows": null,
            "grid_column": null,
            "grid_gap": null,
            "grid_row": null,
            "grid_template_areas": null,
            "grid_template_columns": null,
            "grid_template_rows": null,
            "height": null,
            "justify_content": null,
            "justify_items": null,
            "left": null,
            "margin": null,
            "max_height": null,
            "max_width": null,
            "min_height": null,
            "min_width": null,
            "object_fit": null,
            "object_position": null,
            "order": null,
            "overflow": null,
            "overflow_x": null,
            "overflow_y": null,
            "padding": null,
            "right": null,
            "top": null,
            "visibility": null,
            "width": null
          }
        },
        "3e66d2d03ed0484eb9562ab3ba889ad5": {
          "model_module": "@jupyter-widgets/controls",
          "model_name": "DescriptionStyleModel",
          "model_module_version": "1.5.0",
          "state": {
            "_model_module": "@jupyter-widgets/controls",
            "_model_module_version": "1.5.0",
            "_model_name": "DescriptionStyleModel",
            "_view_count": null,
            "_view_module": "@jupyter-widgets/base",
            "_view_module_version": "1.2.0",
            "_view_name": "StyleView",
            "description_width": ""
          }
        },
        "3f6de5982e8f4669b17d18eeb6ddf376": {
          "model_module": "@jupyter-widgets/base",
          "model_name": "LayoutModel",
          "model_module_version": "1.2.0",
          "state": {
            "_model_module": "@jupyter-widgets/base",
            "_model_module_version": "1.2.0",
            "_model_name": "LayoutModel",
            "_view_count": null,
            "_view_module": "@jupyter-widgets/base",
            "_view_module_version": "1.2.0",
            "_view_name": "LayoutView",
            "align_content": null,
            "align_items": null,
            "align_self": null,
            "border": null,
            "bottom": null,
            "display": null,
            "flex": null,
            "flex_flow": null,
            "grid_area": null,
            "grid_auto_columns": null,
            "grid_auto_flow": null,
            "grid_auto_rows": null,
            "grid_column": null,
            "grid_gap": null,
            "grid_row": null,
            "grid_template_areas": null,
            "grid_template_columns": null,
            "grid_template_rows": null,
            "height": null,
            "justify_content": null,
            "justify_items": null,
            "left": null,
            "margin": null,
            "max_height": null,
            "max_width": null,
            "min_height": null,
            "min_width": null,
            "object_fit": null,
            "object_position": null,
            "order": null,
            "overflow": null,
            "overflow_x": null,
            "overflow_y": null,
            "padding": null,
            "right": null,
            "top": null,
            "visibility": null,
            "width": null
          }
        },
        "325e82d1f561474e92a3aed67ce4b103": {
          "model_module": "@jupyter-widgets/controls",
          "model_name": "ProgressStyleModel",
          "model_module_version": "1.5.0",
          "state": {
            "_model_module": "@jupyter-widgets/controls",
            "_model_module_version": "1.5.0",
            "_model_name": "ProgressStyleModel",
            "_view_count": null,
            "_view_module": "@jupyter-widgets/base",
            "_view_module_version": "1.2.0",
            "_view_name": "StyleView",
            "bar_color": null,
            "description_width": ""
          }
        },
        "4d8259fa494b486abe32f2d6d0a31695": {
          "model_module": "@jupyter-widgets/base",
          "model_name": "LayoutModel",
          "model_module_version": "1.2.0",
          "state": {
            "_model_module": "@jupyter-widgets/base",
            "_model_module_version": "1.2.0",
            "_model_name": "LayoutModel",
            "_view_count": null,
            "_view_module": "@jupyter-widgets/base",
            "_view_module_version": "1.2.0",
            "_view_name": "LayoutView",
            "align_content": null,
            "align_items": null,
            "align_self": null,
            "border": null,
            "bottom": null,
            "display": null,
            "flex": null,
            "flex_flow": null,
            "grid_area": null,
            "grid_auto_columns": null,
            "grid_auto_flow": null,
            "grid_auto_rows": null,
            "grid_column": null,
            "grid_gap": null,
            "grid_row": null,
            "grid_template_areas": null,
            "grid_template_columns": null,
            "grid_template_rows": null,
            "height": null,
            "justify_content": null,
            "justify_items": null,
            "left": null,
            "margin": null,
            "max_height": null,
            "max_width": null,
            "min_height": null,
            "min_width": null,
            "object_fit": null,
            "object_position": null,
            "order": null,
            "overflow": null,
            "overflow_x": null,
            "overflow_y": null,
            "padding": null,
            "right": null,
            "top": null,
            "visibility": null,
            "width": null
          }
        },
        "ce186bd70862448889d5c64d58d58f80": {
          "model_module": "@jupyter-widgets/controls",
          "model_name": "DescriptionStyleModel",
          "model_module_version": "1.5.0",
          "state": {
            "_model_module": "@jupyter-widgets/controls",
            "_model_module_version": "1.5.0",
            "_model_name": "DescriptionStyleModel",
            "_view_count": null,
            "_view_module": "@jupyter-widgets/base",
            "_view_module_version": "1.2.0",
            "_view_name": "StyleView",
            "description_width": ""
          }
        },
        "8073377b4d774a6f8d65ec4ee1d5b9c0": {
          "model_module": "@jupyter-widgets/controls",
          "model_name": "HBoxModel",
          "model_module_version": "1.5.0",
          "state": {
            "_dom_classes": [],
            "_model_module": "@jupyter-widgets/controls",
            "_model_module_version": "1.5.0",
            "_model_name": "HBoxModel",
            "_view_count": null,
            "_view_module": "@jupyter-widgets/controls",
            "_view_module_version": "1.5.0",
            "_view_name": "HBoxView",
            "box_style": "",
            "children": [
              "IPY_MODEL_fd16998cd29b4fe4b53569ace549e654",
              "IPY_MODEL_3f53a1bf05564e29b7edef4e98b3b6c9",
              "IPY_MODEL_a2c7aa92475b4e79a9553f2f1d2d14c8"
            ],
            "layout": "IPY_MODEL_960294447cf34914b81204cefb73e310"
          }
        },
        "fd16998cd29b4fe4b53569ace549e654": {
          "model_module": "@jupyter-widgets/controls",
          "model_name": "HTMLModel",
          "model_module_version": "1.5.0",
          "state": {
            "_dom_classes": [],
            "_model_module": "@jupyter-widgets/controls",
            "_model_module_version": "1.5.0",
            "_model_name": "HTMLModel",
            "_view_count": null,
            "_view_module": "@jupyter-widgets/controls",
            "_view_module_version": "1.5.0",
            "_view_name": "HTMLView",
            "description": "",
            "description_tooltip": null,
            "layout": "IPY_MODEL_8b6dff3f11d54355b0c6b190ae21a6de",
            "placeholder": "​",
            "style": "IPY_MODEL_43e939d207824108b7e8beadb0f5c395",
            "value": "spiece.model: 100%"
          }
        },
        "3f53a1bf05564e29b7edef4e98b3b6c9": {
          "model_module": "@jupyter-widgets/controls",
          "model_name": "FloatProgressModel",
          "model_module_version": "1.5.0",
          "state": {
            "_dom_classes": [],
            "_model_module": "@jupyter-widgets/controls",
            "_model_module_version": "1.5.0",
            "_model_name": "FloatProgressModel",
            "_view_count": null,
            "_view_module": "@jupyter-widgets/controls",
            "_view_module_version": "1.5.0",
            "_view_name": "ProgressView",
            "bar_style": "success",
            "description": "",
            "description_tooltip": null,
            "layout": "IPY_MODEL_a036c200fc1d43c988054e4c786567cd",
            "max": 791656,
            "min": 0,
            "orientation": "horizontal",
            "style": "IPY_MODEL_f6170eb0041442deb5046d52d725df22",
            "value": 791656
          }
        },
        "a2c7aa92475b4e79a9553f2f1d2d14c8": {
          "model_module": "@jupyter-widgets/controls",
          "model_name": "HTMLModel",
          "model_module_version": "1.5.0",
          "state": {
            "_dom_classes": [],
            "_model_module": "@jupyter-widgets/controls",
            "_model_module_version": "1.5.0",
            "_model_name": "HTMLModel",
            "_view_count": null,
            "_view_module": "@jupyter-widgets/controls",
            "_view_module_version": "1.5.0",
            "_view_name": "HTMLView",
            "description": "",
            "description_tooltip": null,
            "layout": "IPY_MODEL_ad11ff729cb84e7aa963a3b201c2a450",
            "placeholder": "​",
            "style": "IPY_MODEL_3079dd4f85ff410c9eb73fa54e7ceab9",
            "value": " 792k/792k [00:00&lt;00:00, 5.86MB/s]"
          }
        },
        "960294447cf34914b81204cefb73e310": {
          "model_module": "@jupyter-widgets/base",
          "model_name": "LayoutModel",
          "model_module_version": "1.2.0",
          "state": {
            "_model_module": "@jupyter-widgets/base",
            "_model_module_version": "1.2.0",
            "_model_name": "LayoutModel",
            "_view_count": null,
            "_view_module": "@jupyter-widgets/base",
            "_view_module_version": "1.2.0",
            "_view_name": "LayoutView",
            "align_content": null,
            "align_items": null,
            "align_self": null,
            "border": null,
            "bottom": null,
            "display": null,
            "flex": null,
            "flex_flow": null,
            "grid_area": null,
            "grid_auto_columns": null,
            "grid_auto_flow": null,
            "grid_auto_rows": null,
            "grid_column": null,
            "grid_gap": null,
            "grid_row": null,
            "grid_template_areas": null,
            "grid_template_columns": null,
            "grid_template_rows": null,
            "height": null,
            "justify_content": null,
            "justify_items": null,
            "left": null,
            "margin": null,
            "max_height": null,
            "max_width": null,
            "min_height": null,
            "min_width": null,
            "object_fit": null,
            "object_position": null,
            "order": null,
            "overflow": null,
            "overflow_x": null,
            "overflow_y": null,
            "padding": null,
            "right": null,
            "top": null,
            "visibility": null,
            "width": null
          }
        },
        "8b6dff3f11d54355b0c6b190ae21a6de": {
          "model_module": "@jupyter-widgets/base",
          "model_name": "LayoutModel",
          "model_module_version": "1.2.0",
          "state": {
            "_model_module": "@jupyter-widgets/base",
            "_model_module_version": "1.2.0",
            "_model_name": "LayoutModel",
            "_view_count": null,
            "_view_module": "@jupyter-widgets/base",
            "_view_module_version": "1.2.0",
            "_view_name": "LayoutView",
            "align_content": null,
            "align_items": null,
            "align_self": null,
            "border": null,
            "bottom": null,
            "display": null,
            "flex": null,
            "flex_flow": null,
            "grid_area": null,
            "grid_auto_columns": null,
            "grid_auto_flow": null,
            "grid_auto_rows": null,
            "grid_column": null,
            "grid_gap": null,
            "grid_row": null,
            "grid_template_areas": null,
            "grid_template_columns": null,
            "grid_template_rows": null,
            "height": null,
            "justify_content": null,
            "justify_items": null,
            "left": null,
            "margin": null,
            "max_height": null,
            "max_width": null,
            "min_height": null,
            "min_width": null,
            "object_fit": null,
            "object_position": null,
            "order": null,
            "overflow": null,
            "overflow_x": null,
            "overflow_y": null,
            "padding": null,
            "right": null,
            "top": null,
            "visibility": null,
            "width": null
          }
        },
        "43e939d207824108b7e8beadb0f5c395": {
          "model_module": "@jupyter-widgets/controls",
          "model_name": "DescriptionStyleModel",
          "model_module_version": "1.5.0",
          "state": {
            "_model_module": "@jupyter-widgets/controls",
            "_model_module_version": "1.5.0",
            "_model_name": "DescriptionStyleModel",
            "_view_count": null,
            "_view_module": "@jupyter-widgets/base",
            "_view_module_version": "1.2.0",
            "_view_name": "StyleView",
            "description_width": ""
          }
        },
        "a036c200fc1d43c988054e4c786567cd": {
          "model_module": "@jupyter-widgets/base",
          "model_name": "LayoutModel",
          "model_module_version": "1.2.0",
          "state": {
            "_model_module": "@jupyter-widgets/base",
            "_model_module_version": "1.2.0",
            "_model_name": "LayoutModel",
            "_view_count": null,
            "_view_module": "@jupyter-widgets/base",
            "_view_module_version": "1.2.0",
            "_view_name": "LayoutView",
            "align_content": null,
            "align_items": null,
            "align_self": null,
            "border": null,
            "bottom": null,
            "display": null,
            "flex": null,
            "flex_flow": null,
            "grid_area": null,
            "grid_auto_columns": null,
            "grid_auto_flow": null,
            "grid_auto_rows": null,
            "grid_column": null,
            "grid_gap": null,
            "grid_row": null,
            "grid_template_areas": null,
            "grid_template_columns": null,
            "grid_template_rows": null,
            "height": null,
            "justify_content": null,
            "justify_items": null,
            "left": null,
            "margin": null,
            "max_height": null,
            "max_width": null,
            "min_height": null,
            "min_width": null,
            "object_fit": null,
            "object_position": null,
            "order": null,
            "overflow": null,
            "overflow_x": null,
            "overflow_y": null,
            "padding": null,
            "right": null,
            "top": null,
            "visibility": null,
            "width": null
          }
        },
        "f6170eb0041442deb5046d52d725df22": {
          "model_module": "@jupyter-widgets/controls",
          "model_name": "ProgressStyleModel",
          "model_module_version": "1.5.0",
          "state": {
            "_model_module": "@jupyter-widgets/controls",
            "_model_module_version": "1.5.0",
            "_model_name": "ProgressStyleModel",
            "_view_count": null,
            "_view_module": "@jupyter-widgets/base",
            "_view_module_version": "1.2.0",
            "_view_name": "StyleView",
            "bar_color": null,
            "description_width": ""
          }
        },
        "ad11ff729cb84e7aa963a3b201c2a450": {
          "model_module": "@jupyter-widgets/base",
          "model_name": "LayoutModel",
          "model_module_version": "1.2.0",
          "state": {
            "_model_module": "@jupyter-widgets/base",
            "_model_module_version": "1.2.0",
            "_model_name": "LayoutModel",
            "_view_count": null,
            "_view_module": "@jupyter-widgets/base",
            "_view_module_version": "1.2.0",
            "_view_name": "LayoutView",
            "align_content": null,
            "align_items": null,
            "align_self": null,
            "border": null,
            "bottom": null,
            "display": null,
            "flex": null,
            "flex_flow": null,
            "grid_area": null,
            "grid_auto_columns": null,
            "grid_auto_flow": null,
            "grid_auto_rows": null,
            "grid_column": null,
            "grid_gap": null,
            "grid_row": null,
            "grid_template_areas": null,
            "grid_template_columns": null,
            "grid_template_rows": null,
            "height": null,
            "justify_content": null,
            "justify_items": null,
            "left": null,
            "margin": null,
            "max_height": null,
            "max_width": null,
            "min_height": null,
            "min_width": null,
            "object_fit": null,
            "object_position": null,
            "order": null,
            "overflow": null,
            "overflow_x": null,
            "overflow_y": null,
            "padding": null,
            "right": null,
            "top": null,
            "visibility": null,
            "width": null
          }
        },
        "3079dd4f85ff410c9eb73fa54e7ceab9": {
          "model_module": "@jupyter-widgets/controls",
          "model_name": "DescriptionStyleModel",
          "model_module_version": "1.5.0",
          "state": {
            "_model_module": "@jupyter-widgets/controls",
            "_model_module_version": "1.5.0",
            "_model_name": "DescriptionStyleModel",
            "_view_count": null,
            "_view_module": "@jupyter-widgets/base",
            "_view_module_version": "1.2.0",
            "_view_name": "StyleView",
            "description_width": ""
          }
        },
        "72771332931041b7a084f672a672b523": {
          "model_module": "@jupyter-widgets/controls",
          "model_name": "HBoxModel",
          "model_module_version": "1.5.0",
          "state": {
            "_dom_classes": [],
            "_model_module": "@jupyter-widgets/controls",
            "_model_module_version": "1.5.0",
            "_model_name": "HBoxModel",
            "_view_count": null,
            "_view_module": "@jupyter-widgets/controls",
            "_view_module_version": "1.5.0",
            "_view_name": "HBoxView",
            "box_style": "",
            "children": [
              "IPY_MODEL_c6bdf3bcb3c94c02b1334118b96272d8",
              "IPY_MODEL_35cc3f8215424206ab02b57f3ae13e7a",
              "IPY_MODEL_c7671493f41a464ca739bbbd79f8d41a"
            ],
            "layout": "IPY_MODEL_069e01bbab5e41b0beb287e57976fc2d"
          }
        },
        "c6bdf3bcb3c94c02b1334118b96272d8": {
          "model_module": "@jupyter-widgets/controls",
          "model_name": "HTMLModel",
          "model_module_version": "1.5.0",
          "state": {
            "_dom_classes": [],
            "_model_module": "@jupyter-widgets/controls",
            "_model_module_version": "1.5.0",
            "_model_name": "HTMLModel",
            "_view_count": null,
            "_view_module": "@jupyter-widgets/controls",
            "_view_module_version": "1.5.0",
            "_view_name": "HTMLView",
            "description": "",
            "description_tooltip": null,
            "layout": "IPY_MODEL_6920f140897149e0b4ae288e6e4a56da",
            "placeholder": "​",
            "style": "IPY_MODEL_2cbeed52afe447e584c859570424a87d",
            "value": "special_tokens_map.json: 100%"
          }
        },
        "35cc3f8215424206ab02b57f3ae13e7a": {
          "model_module": "@jupyter-widgets/controls",
          "model_name": "FloatProgressModel",
          "model_module_version": "1.5.0",
          "state": {
            "_dom_classes": [],
            "_model_module": "@jupyter-widgets/controls",
            "_model_module_version": "1.5.0",
            "_model_name": "FloatProgressModel",
            "_view_count": null,
            "_view_module": "@jupyter-widgets/controls",
            "_view_module_version": "1.5.0",
            "_view_name": "ProgressView",
            "bar_style": "success",
            "description": "",
            "description_tooltip": null,
            "layout": "IPY_MODEL_6116ce78efae48f3802cc91beca856b1",
            "max": 2201,
            "min": 0,
            "orientation": "horizontal",
            "style": "IPY_MODEL_bf8b0075ed064b38b5d0332755ab0ecf",
            "value": 2201
          }
        },
        "c7671493f41a464ca739bbbd79f8d41a": {
          "model_module": "@jupyter-widgets/controls",
          "model_name": "HTMLModel",
          "model_module_version": "1.5.0",
          "state": {
            "_dom_classes": [],
            "_model_module": "@jupyter-widgets/controls",
            "_model_module_version": "1.5.0",
            "_model_name": "HTMLModel",
            "_view_count": null,
            "_view_module": "@jupyter-widgets/controls",
            "_view_module_version": "1.5.0",
            "_view_name": "HTMLView",
            "description": "",
            "description_tooltip": null,
            "layout": "IPY_MODEL_26fac1124dc74cc086ac73a5312b4cde",
            "placeholder": "​",
            "style": "IPY_MODEL_33fe1549cb044dd0a2f6b7ee3caad5ff",
            "value": " 2.20k/2.20k [00:00&lt;00:00, 168kB/s]"
          }
        },
        "069e01bbab5e41b0beb287e57976fc2d": {
          "model_module": "@jupyter-widgets/base",
          "model_name": "LayoutModel",
          "model_module_version": "1.2.0",
          "state": {
            "_model_module": "@jupyter-widgets/base",
            "_model_module_version": "1.2.0",
            "_model_name": "LayoutModel",
            "_view_count": null,
            "_view_module": "@jupyter-widgets/base",
            "_view_module_version": "1.2.0",
            "_view_name": "LayoutView",
            "align_content": null,
            "align_items": null,
            "align_self": null,
            "border": null,
            "bottom": null,
            "display": null,
            "flex": null,
            "flex_flow": null,
            "grid_area": null,
            "grid_auto_columns": null,
            "grid_auto_flow": null,
            "grid_auto_rows": null,
            "grid_column": null,
            "grid_gap": null,
            "grid_row": null,
            "grid_template_areas": null,
            "grid_template_columns": null,
            "grid_template_rows": null,
            "height": null,
            "justify_content": null,
            "justify_items": null,
            "left": null,
            "margin": null,
            "max_height": null,
            "max_width": null,
            "min_height": null,
            "min_width": null,
            "object_fit": null,
            "object_position": null,
            "order": null,
            "overflow": null,
            "overflow_x": null,
            "overflow_y": null,
            "padding": null,
            "right": null,
            "top": null,
            "visibility": null,
            "width": null
          }
        },
        "6920f140897149e0b4ae288e6e4a56da": {
          "model_module": "@jupyter-widgets/base",
          "model_name": "LayoutModel",
          "model_module_version": "1.2.0",
          "state": {
            "_model_module": "@jupyter-widgets/base",
            "_model_module_version": "1.2.0",
            "_model_name": "LayoutModel",
            "_view_count": null,
            "_view_module": "@jupyter-widgets/base",
            "_view_module_version": "1.2.0",
            "_view_name": "LayoutView",
            "align_content": null,
            "align_items": null,
            "align_self": null,
            "border": null,
            "bottom": null,
            "display": null,
            "flex": null,
            "flex_flow": null,
            "grid_area": null,
            "grid_auto_columns": null,
            "grid_auto_flow": null,
            "grid_auto_rows": null,
            "grid_column": null,
            "grid_gap": null,
            "grid_row": null,
            "grid_template_areas": null,
            "grid_template_columns": null,
            "grid_template_rows": null,
            "height": null,
            "justify_content": null,
            "justify_items": null,
            "left": null,
            "margin": null,
            "max_height": null,
            "max_width": null,
            "min_height": null,
            "min_width": null,
            "object_fit": null,
            "object_position": null,
            "order": null,
            "overflow": null,
            "overflow_x": null,
            "overflow_y": null,
            "padding": null,
            "right": null,
            "top": null,
            "visibility": null,
            "width": null
          }
        },
        "2cbeed52afe447e584c859570424a87d": {
          "model_module": "@jupyter-widgets/controls",
          "model_name": "DescriptionStyleModel",
          "model_module_version": "1.5.0",
          "state": {
            "_model_module": "@jupyter-widgets/controls",
            "_model_module_version": "1.5.0",
            "_model_name": "DescriptionStyleModel",
            "_view_count": null,
            "_view_module": "@jupyter-widgets/base",
            "_view_module_version": "1.2.0",
            "_view_name": "StyleView",
            "description_width": ""
          }
        },
        "6116ce78efae48f3802cc91beca856b1": {
          "model_module": "@jupyter-widgets/base",
          "model_name": "LayoutModel",
          "model_module_version": "1.2.0",
          "state": {
            "_model_module": "@jupyter-widgets/base",
            "_model_module_version": "1.2.0",
            "_model_name": "LayoutModel",
            "_view_count": null,
            "_view_module": "@jupyter-widgets/base",
            "_view_module_version": "1.2.0",
            "_view_name": "LayoutView",
            "align_content": null,
            "align_items": null,
            "align_self": null,
            "border": null,
            "bottom": null,
            "display": null,
            "flex": null,
            "flex_flow": null,
            "grid_area": null,
            "grid_auto_columns": null,
            "grid_auto_flow": null,
            "grid_auto_rows": null,
            "grid_column": null,
            "grid_gap": null,
            "grid_row": null,
            "grid_template_areas": null,
            "grid_template_columns": null,
            "grid_template_rows": null,
            "height": null,
            "justify_content": null,
            "justify_items": null,
            "left": null,
            "margin": null,
            "max_height": null,
            "max_width": null,
            "min_height": null,
            "min_width": null,
            "object_fit": null,
            "object_position": null,
            "order": null,
            "overflow": null,
            "overflow_x": null,
            "overflow_y": null,
            "padding": null,
            "right": null,
            "top": null,
            "visibility": null,
            "width": null
          }
        },
        "bf8b0075ed064b38b5d0332755ab0ecf": {
          "model_module": "@jupyter-widgets/controls",
          "model_name": "ProgressStyleModel",
          "model_module_version": "1.5.0",
          "state": {
            "_model_module": "@jupyter-widgets/controls",
            "_model_module_version": "1.5.0",
            "_model_name": "ProgressStyleModel",
            "_view_count": null,
            "_view_module": "@jupyter-widgets/base",
            "_view_module_version": "1.2.0",
            "_view_name": "StyleView",
            "bar_color": null,
            "description_width": ""
          }
        },
        "26fac1124dc74cc086ac73a5312b4cde": {
          "model_module": "@jupyter-widgets/base",
          "model_name": "LayoutModel",
          "model_module_version": "1.2.0",
          "state": {
            "_model_module": "@jupyter-widgets/base",
            "_model_module_version": "1.2.0",
            "_model_name": "LayoutModel",
            "_view_count": null,
            "_view_module": "@jupyter-widgets/base",
            "_view_module_version": "1.2.0",
            "_view_name": "LayoutView",
            "align_content": null,
            "align_items": null,
            "align_self": null,
            "border": null,
            "bottom": null,
            "display": null,
            "flex": null,
            "flex_flow": null,
            "grid_area": null,
            "grid_auto_columns": null,
            "grid_auto_flow": null,
            "grid_auto_rows": null,
            "grid_column": null,
            "grid_gap": null,
            "grid_row": null,
            "grid_template_areas": null,
            "grid_template_columns": null,
            "grid_template_rows": null,
            "height": null,
            "justify_content": null,
            "justify_items": null,
            "left": null,
            "margin": null,
            "max_height": null,
            "max_width": null,
            "min_height": null,
            "min_width": null,
            "object_fit": null,
            "object_position": null,
            "order": null,
            "overflow": null,
            "overflow_x": null,
            "overflow_y": null,
            "padding": null,
            "right": null,
            "top": null,
            "visibility": null,
            "width": null
          }
        },
        "33fe1549cb044dd0a2f6b7ee3caad5ff": {
          "model_module": "@jupyter-widgets/controls",
          "model_name": "DescriptionStyleModel",
          "model_module_version": "1.5.0",
          "state": {
            "_model_module": "@jupyter-widgets/controls",
            "_model_module_version": "1.5.0",
            "_model_name": "DescriptionStyleModel",
            "_view_count": null,
            "_view_module": "@jupyter-widgets/base",
            "_view_module_version": "1.2.0",
            "_view_name": "StyleView",
            "description_width": ""
          }
        },
        "fc7fc26e649b4360835d907860d291b9": {
          "model_module": "@jupyter-widgets/controls",
          "model_name": "HBoxModel",
          "model_module_version": "1.5.0",
          "state": {
            "_dom_classes": [],
            "_model_module": "@jupyter-widgets/controls",
            "_model_module_version": "1.5.0",
            "_model_name": "HBoxModel",
            "_view_count": null,
            "_view_module": "@jupyter-widgets/controls",
            "_view_module_version": "1.5.0",
            "_view_name": "HBoxView",
            "box_style": "",
            "children": [
              "IPY_MODEL_8a2ef83ecdf84869bd1e0fa2f1f040b9",
              "IPY_MODEL_678e7e2c9b114bd599dc7bd4e0f69c2b",
              "IPY_MODEL_318ff88d970c4d4a9b0c2af0406195cc"
            ],
            "layout": "IPY_MODEL_c4edd2a30aa649af88860c88f353c3bf"
          }
        },
        "8a2ef83ecdf84869bd1e0fa2f1f040b9": {
          "model_module": "@jupyter-widgets/controls",
          "model_name": "HTMLModel",
          "model_module_version": "1.5.0",
          "state": {
            "_dom_classes": [],
            "_model_module": "@jupyter-widgets/controls",
            "_model_module_version": "1.5.0",
            "_model_name": "HTMLModel",
            "_view_count": null,
            "_view_module": "@jupyter-widgets/controls",
            "_view_module_version": "1.5.0",
            "_view_name": "HTMLView",
            "description": "",
            "description_tooltip": null,
            "layout": "IPY_MODEL_cdf29c26339a462b8a2bf9988cb0cc70",
            "placeholder": "​",
            "style": "IPY_MODEL_34c8551c8cc746a79cfa8862dd10c719",
            "value": "tokenizer.json: 100%"
          }
        },
        "678e7e2c9b114bd599dc7bd4e0f69c2b": {
          "model_module": "@jupyter-widgets/controls",
          "model_name": "FloatProgressModel",
          "model_module_version": "1.5.0",
          "state": {
            "_dom_classes": [],
            "_model_module": "@jupyter-widgets/controls",
            "_model_module_version": "1.5.0",
            "_model_name": "FloatProgressModel",
            "_view_count": null,
            "_view_module": "@jupyter-widgets/controls",
            "_view_module_version": "1.5.0",
            "_view_name": "ProgressView",
            "bar_style": "success",
            "description": "",
            "description_tooltip": null,
            "layout": "IPY_MODEL_cf573254118844d287e5869194d0954b",
            "max": 2424064,
            "min": 0,
            "orientation": "horizontal",
            "style": "IPY_MODEL_547d06d750f44e2594f46876893e122c",
            "value": 2424064
          }
        },
        "318ff88d970c4d4a9b0c2af0406195cc": {
          "model_module": "@jupyter-widgets/controls",
          "model_name": "HTMLModel",
          "model_module_version": "1.5.0",
          "state": {
            "_dom_classes": [],
            "_model_module": "@jupyter-widgets/controls",
            "_model_module_version": "1.5.0",
            "_model_name": "HTMLModel",
            "_view_count": null,
            "_view_module": "@jupyter-widgets/controls",
            "_view_module_version": "1.5.0",
            "_view_name": "HTMLView",
            "description": "",
            "description_tooltip": null,
            "layout": "IPY_MODEL_90a055b052a54e329941bab847791662",
            "placeholder": "​",
            "style": "IPY_MODEL_e1a7289e62d2494d9c8fcf20a1033b3b",
            "value": " 2.42M/2.42M [00:00&lt;00:00, 24.2MB/s]"
          }
        },
        "c4edd2a30aa649af88860c88f353c3bf": {
          "model_module": "@jupyter-widgets/base",
          "model_name": "LayoutModel",
          "model_module_version": "1.2.0",
          "state": {
            "_model_module": "@jupyter-widgets/base",
            "_model_module_version": "1.2.0",
            "_model_name": "LayoutModel",
            "_view_count": null,
            "_view_module": "@jupyter-widgets/base",
            "_view_module_version": "1.2.0",
            "_view_name": "LayoutView",
            "align_content": null,
            "align_items": null,
            "align_self": null,
            "border": null,
            "bottom": null,
            "display": null,
            "flex": null,
            "flex_flow": null,
            "grid_area": null,
            "grid_auto_columns": null,
            "grid_auto_flow": null,
            "grid_auto_rows": null,
            "grid_column": null,
            "grid_gap": null,
            "grid_row": null,
            "grid_template_areas": null,
            "grid_template_columns": null,
            "grid_template_rows": null,
            "height": null,
            "justify_content": null,
            "justify_items": null,
            "left": null,
            "margin": null,
            "max_height": null,
            "max_width": null,
            "min_height": null,
            "min_width": null,
            "object_fit": null,
            "object_position": null,
            "order": null,
            "overflow": null,
            "overflow_x": null,
            "overflow_y": null,
            "padding": null,
            "right": null,
            "top": null,
            "visibility": null,
            "width": null
          }
        },
        "cdf29c26339a462b8a2bf9988cb0cc70": {
          "model_module": "@jupyter-widgets/base",
          "model_name": "LayoutModel",
          "model_module_version": "1.2.0",
          "state": {
            "_model_module": "@jupyter-widgets/base",
            "_model_module_version": "1.2.0",
            "_model_name": "LayoutModel",
            "_view_count": null,
            "_view_module": "@jupyter-widgets/base",
            "_view_module_version": "1.2.0",
            "_view_name": "LayoutView",
            "align_content": null,
            "align_items": null,
            "align_self": null,
            "border": null,
            "bottom": null,
            "display": null,
            "flex": null,
            "flex_flow": null,
            "grid_area": null,
            "grid_auto_columns": null,
            "grid_auto_flow": null,
            "grid_auto_rows": null,
            "grid_column": null,
            "grid_gap": null,
            "grid_row": null,
            "grid_template_areas": null,
            "grid_template_columns": null,
            "grid_template_rows": null,
            "height": null,
            "justify_content": null,
            "justify_items": null,
            "left": null,
            "margin": null,
            "max_height": null,
            "max_width": null,
            "min_height": null,
            "min_width": null,
            "object_fit": null,
            "object_position": null,
            "order": null,
            "overflow": null,
            "overflow_x": null,
            "overflow_y": null,
            "padding": null,
            "right": null,
            "top": null,
            "visibility": null,
            "width": null
          }
        },
        "34c8551c8cc746a79cfa8862dd10c719": {
          "model_module": "@jupyter-widgets/controls",
          "model_name": "DescriptionStyleModel",
          "model_module_version": "1.5.0",
          "state": {
            "_model_module": "@jupyter-widgets/controls",
            "_model_module_version": "1.5.0",
            "_model_name": "DescriptionStyleModel",
            "_view_count": null,
            "_view_module": "@jupyter-widgets/base",
            "_view_module_version": "1.2.0",
            "_view_name": "StyleView",
            "description_width": ""
          }
        },
        "cf573254118844d287e5869194d0954b": {
          "model_module": "@jupyter-widgets/base",
          "model_name": "LayoutModel",
          "model_module_version": "1.2.0",
          "state": {
            "_model_module": "@jupyter-widgets/base",
            "_model_module_version": "1.2.0",
            "_model_name": "LayoutModel",
            "_view_count": null,
            "_view_module": "@jupyter-widgets/base",
            "_view_module_version": "1.2.0",
            "_view_name": "LayoutView",
            "align_content": null,
            "align_items": null,
            "align_self": null,
            "border": null,
            "bottom": null,
            "display": null,
            "flex": null,
            "flex_flow": null,
            "grid_area": null,
            "grid_auto_columns": null,
            "grid_auto_flow": null,
            "grid_auto_rows": null,
            "grid_column": null,
            "grid_gap": null,
            "grid_row": null,
            "grid_template_areas": null,
            "grid_template_columns": null,
            "grid_template_rows": null,
            "height": null,
            "justify_content": null,
            "justify_items": null,
            "left": null,
            "margin": null,
            "max_height": null,
            "max_width": null,
            "min_height": null,
            "min_width": null,
            "object_fit": null,
            "object_position": null,
            "order": null,
            "overflow": null,
            "overflow_x": null,
            "overflow_y": null,
            "padding": null,
            "right": null,
            "top": null,
            "visibility": null,
            "width": null
          }
        },
        "547d06d750f44e2594f46876893e122c": {
          "model_module": "@jupyter-widgets/controls",
          "model_name": "ProgressStyleModel",
          "model_module_version": "1.5.0",
          "state": {
            "_model_module": "@jupyter-widgets/controls",
            "_model_module_version": "1.5.0",
            "_model_name": "ProgressStyleModel",
            "_view_count": null,
            "_view_module": "@jupyter-widgets/base",
            "_view_module_version": "1.2.0",
            "_view_name": "StyleView",
            "bar_color": null,
            "description_width": ""
          }
        },
        "90a055b052a54e329941bab847791662": {
          "model_module": "@jupyter-widgets/base",
          "model_name": "LayoutModel",
          "model_module_version": "1.2.0",
          "state": {
            "_model_module": "@jupyter-widgets/base",
            "_model_module_version": "1.2.0",
            "_model_name": "LayoutModel",
            "_view_count": null,
            "_view_module": "@jupyter-widgets/base",
            "_view_module_version": "1.2.0",
            "_view_name": "LayoutView",
            "align_content": null,
            "align_items": null,
            "align_self": null,
            "border": null,
            "bottom": null,
            "display": null,
            "flex": null,
            "flex_flow": null,
            "grid_area": null,
            "grid_auto_columns": null,
            "grid_auto_flow": null,
            "grid_auto_rows": null,
            "grid_column": null,
            "grid_gap": null,
            "grid_row": null,
            "grid_template_areas": null,
            "grid_template_columns": null,
            "grid_template_rows": null,
            "height": null,
            "justify_content": null,
            "justify_items": null,
            "left": null,
            "margin": null,
            "max_height": null,
            "max_width": null,
            "min_height": null,
            "min_width": null,
            "object_fit": null,
            "object_position": null,
            "order": null,
            "overflow": null,
            "overflow_x": null,
            "overflow_y": null,
            "padding": null,
            "right": null,
            "top": null,
            "visibility": null,
            "width": null
          }
        },
        "e1a7289e62d2494d9c8fcf20a1033b3b": {
          "model_module": "@jupyter-widgets/controls",
          "model_name": "DescriptionStyleModel",
          "model_module_version": "1.5.0",
          "state": {
            "_model_module": "@jupyter-widgets/controls",
            "_model_module_version": "1.5.0",
            "_model_name": "DescriptionStyleModel",
            "_view_count": null,
            "_view_module": "@jupyter-widgets/base",
            "_view_module_version": "1.2.0",
            "_view_name": "StyleView",
            "description_width": ""
          }
        },
        "36b5ad723aea44eaaa7a879c4388655b": {
          "model_module": "@jupyter-widgets/controls",
          "model_name": "HBoxModel",
          "model_module_version": "1.5.0",
          "state": {
            "_dom_classes": [],
            "_model_module": "@jupyter-widgets/controls",
            "_model_module_version": "1.5.0",
            "_model_name": "HBoxModel",
            "_view_count": null,
            "_view_module": "@jupyter-widgets/controls",
            "_view_module_version": "1.5.0",
            "_view_name": "HBoxView",
            "box_style": "",
            "children": [
              "IPY_MODEL_9737ee5cb701439bb00a1a916b3ba02d",
              "IPY_MODEL_441c390db80044f0a5add690c3561826",
              "IPY_MODEL_6d30dd1fcf7542038619dc2ff2b53e51"
            ],
            "layout": "IPY_MODEL_648624df5efa4482aeed036dfef3778f"
          }
        },
        "9737ee5cb701439bb00a1a916b3ba02d": {
          "model_module": "@jupyter-widgets/controls",
          "model_name": "HTMLModel",
          "model_module_version": "1.5.0",
          "state": {
            "_dom_classes": [],
            "_model_module": "@jupyter-widgets/controls",
            "_model_module_version": "1.5.0",
            "_model_name": "HTMLModel",
            "_view_count": null,
            "_view_module": "@jupyter-widgets/controls",
            "_view_module_version": "1.5.0",
            "_view_name": "HTMLView",
            "description": "",
            "description_tooltip": null,
            "layout": "IPY_MODEL_3905554470bf4b90902da9e879920ebc",
            "placeholder": "​",
            "style": "IPY_MODEL_25800e2055484a7997eabe50d62e9fea",
            "value": "config.json: 100%"
          }
        },
        "441c390db80044f0a5add690c3561826": {
          "model_module": "@jupyter-widgets/controls",
          "model_name": "FloatProgressModel",
          "model_module_version": "1.5.0",
          "state": {
            "_dom_classes": [],
            "_model_module": "@jupyter-widgets/controls",
            "_model_module_version": "1.5.0",
            "_model_name": "FloatProgressModel",
            "_view_count": null,
            "_view_module": "@jupyter-widgets/controls",
            "_view_module_version": "1.5.0",
            "_view_name": "ProgressView",
            "bar_style": "success",
            "description": "",
            "description_tooltip": null,
            "layout": "IPY_MODEL_6ffbd48f94ed4e428eac7d60161e99e4",
            "max": 662,
            "min": 0,
            "orientation": "horizontal",
            "style": "IPY_MODEL_a77bb885adc44503b5169b555c321ebe",
            "value": 662
          }
        },
        "6d30dd1fcf7542038619dc2ff2b53e51": {
          "model_module": "@jupyter-widgets/controls",
          "model_name": "HTMLModel",
          "model_module_version": "1.5.0",
          "state": {
            "_dom_classes": [],
            "_model_module": "@jupyter-widgets/controls",
            "_model_module_version": "1.5.0",
            "_model_name": "HTMLModel",
            "_view_count": null,
            "_view_module": "@jupyter-widgets/controls",
            "_view_module_version": "1.5.0",
            "_view_name": "HTMLView",
            "description": "",
            "description_tooltip": null,
            "layout": "IPY_MODEL_9109a81580534cbcae585df144223e45",
            "placeholder": "​",
            "style": "IPY_MODEL_9eee3231f037485e8d2c969335a21125",
            "value": " 662/662 [00:00&lt;00:00, 44.0kB/s]"
          }
        },
        "648624df5efa4482aeed036dfef3778f": {
          "model_module": "@jupyter-widgets/base",
          "model_name": "LayoutModel",
          "model_module_version": "1.2.0",
          "state": {
            "_model_module": "@jupyter-widgets/base",
            "_model_module_version": "1.2.0",
            "_model_name": "LayoutModel",
            "_view_count": null,
            "_view_module": "@jupyter-widgets/base",
            "_view_module_version": "1.2.0",
            "_view_name": "LayoutView",
            "align_content": null,
            "align_items": null,
            "align_self": null,
            "border": null,
            "bottom": null,
            "display": null,
            "flex": null,
            "flex_flow": null,
            "grid_area": null,
            "grid_auto_columns": null,
            "grid_auto_flow": null,
            "grid_auto_rows": null,
            "grid_column": null,
            "grid_gap": null,
            "grid_row": null,
            "grid_template_areas": null,
            "grid_template_columns": null,
            "grid_template_rows": null,
            "height": null,
            "justify_content": null,
            "justify_items": null,
            "left": null,
            "margin": null,
            "max_height": null,
            "max_width": null,
            "min_height": null,
            "min_width": null,
            "object_fit": null,
            "object_position": null,
            "order": null,
            "overflow": null,
            "overflow_x": null,
            "overflow_y": null,
            "padding": null,
            "right": null,
            "top": null,
            "visibility": null,
            "width": null
          }
        },
        "3905554470bf4b90902da9e879920ebc": {
          "model_module": "@jupyter-widgets/base",
          "model_name": "LayoutModel",
          "model_module_version": "1.2.0",
          "state": {
            "_model_module": "@jupyter-widgets/base",
            "_model_module_version": "1.2.0",
            "_model_name": "LayoutModel",
            "_view_count": null,
            "_view_module": "@jupyter-widgets/base",
            "_view_module_version": "1.2.0",
            "_view_name": "LayoutView",
            "align_content": null,
            "align_items": null,
            "align_self": null,
            "border": null,
            "bottom": null,
            "display": null,
            "flex": null,
            "flex_flow": null,
            "grid_area": null,
            "grid_auto_columns": null,
            "grid_auto_flow": null,
            "grid_auto_rows": null,
            "grid_column": null,
            "grid_gap": null,
            "grid_row": null,
            "grid_template_areas": null,
            "grid_template_columns": null,
            "grid_template_rows": null,
            "height": null,
            "justify_content": null,
            "justify_items": null,
            "left": null,
            "margin": null,
            "max_height": null,
            "max_width": null,
            "min_height": null,
            "min_width": null,
            "object_fit": null,
            "object_position": null,
            "order": null,
            "overflow": null,
            "overflow_x": null,
            "overflow_y": null,
            "padding": null,
            "right": null,
            "top": null,
            "visibility": null,
            "width": null
          }
        },
        "25800e2055484a7997eabe50d62e9fea": {
          "model_module": "@jupyter-widgets/controls",
          "model_name": "DescriptionStyleModel",
          "model_module_version": "1.5.0",
          "state": {
            "_model_module": "@jupyter-widgets/controls",
            "_model_module_version": "1.5.0",
            "_model_name": "DescriptionStyleModel",
            "_view_count": null,
            "_view_module": "@jupyter-widgets/base",
            "_view_module_version": "1.2.0",
            "_view_name": "StyleView",
            "description_width": ""
          }
        },
        "6ffbd48f94ed4e428eac7d60161e99e4": {
          "model_module": "@jupyter-widgets/base",
          "model_name": "LayoutModel",
          "model_module_version": "1.2.0",
          "state": {
            "_model_module": "@jupyter-widgets/base",
            "_model_module_version": "1.2.0",
            "_model_name": "LayoutModel",
            "_view_count": null,
            "_view_module": "@jupyter-widgets/base",
            "_view_module_version": "1.2.0",
            "_view_name": "LayoutView",
            "align_content": null,
            "align_items": null,
            "align_self": null,
            "border": null,
            "bottom": null,
            "display": null,
            "flex": null,
            "flex_flow": null,
            "grid_area": null,
            "grid_auto_columns": null,
            "grid_auto_flow": null,
            "grid_auto_rows": null,
            "grid_column": null,
            "grid_gap": null,
            "grid_row": null,
            "grid_template_areas": null,
            "grid_template_columns": null,
            "grid_template_rows": null,
            "height": null,
            "justify_content": null,
            "justify_items": null,
            "left": null,
            "margin": null,
            "max_height": null,
            "max_width": null,
            "min_height": null,
            "min_width": null,
            "object_fit": null,
            "object_position": null,
            "order": null,
            "overflow": null,
            "overflow_x": null,
            "overflow_y": null,
            "padding": null,
            "right": null,
            "top": null,
            "visibility": null,
            "width": null
          }
        },
        "a77bb885adc44503b5169b555c321ebe": {
          "model_module": "@jupyter-widgets/controls",
          "model_name": "ProgressStyleModel",
          "model_module_version": "1.5.0",
          "state": {
            "_model_module": "@jupyter-widgets/controls",
            "_model_module_version": "1.5.0",
            "_model_name": "ProgressStyleModel",
            "_view_count": null,
            "_view_module": "@jupyter-widgets/base",
            "_view_module_version": "1.2.0",
            "_view_name": "StyleView",
            "bar_color": null,
            "description_width": ""
          }
        },
        "9109a81580534cbcae585df144223e45": {
          "model_module": "@jupyter-widgets/base",
          "model_name": "LayoutModel",
          "model_module_version": "1.2.0",
          "state": {
            "_model_module": "@jupyter-widgets/base",
            "_model_module_version": "1.2.0",
            "_model_name": "LayoutModel",
            "_view_count": null,
            "_view_module": "@jupyter-widgets/base",
            "_view_module_version": "1.2.0",
            "_view_name": "LayoutView",
            "align_content": null,
            "align_items": null,
            "align_self": null,
            "border": null,
            "bottom": null,
            "display": null,
            "flex": null,
            "flex_flow": null,
            "grid_area": null,
            "grid_auto_columns": null,
            "grid_auto_flow": null,
            "grid_auto_rows": null,
            "grid_column": null,
            "grid_gap": null,
            "grid_row": null,
            "grid_template_areas": null,
            "grid_template_columns": null,
            "grid_template_rows": null,
            "height": null,
            "justify_content": null,
            "justify_items": null,
            "left": null,
            "margin": null,
            "max_height": null,
            "max_width": null,
            "min_height": null,
            "min_width": null,
            "object_fit": null,
            "object_position": null,
            "order": null,
            "overflow": null,
            "overflow_x": null,
            "overflow_y": null,
            "padding": null,
            "right": null,
            "top": null,
            "visibility": null,
            "width": null
          }
        },
        "9eee3231f037485e8d2c969335a21125": {
          "model_module": "@jupyter-widgets/controls",
          "model_name": "DescriptionStyleModel",
          "model_module_version": "1.5.0",
          "state": {
            "_model_module": "@jupyter-widgets/controls",
            "_model_module_version": "1.5.0",
            "_model_name": "DescriptionStyleModel",
            "_view_count": null,
            "_view_module": "@jupyter-widgets/base",
            "_view_module_version": "1.2.0",
            "_view_name": "StyleView",
            "description_width": ""
          }
        },
        "edfa1de8e3ed43fc9f0857d2a67a51da": {
          "model_module": "@jupyter-widgets/controls",
          "model_name": "HBoxModel",
          "model_module_version": "1.5.0",
          "state": {
            "_dom_classes": [],
            "_model_module": "@jupyter-widgets/controls",
            "_model_module_version": "1.5.0",
            "_model_name": "HBoxModel",
            "_view_count": null,
            "_view_module": "@jupyter-widgets/controls",
            "_view_module_version": "1.5.0",
            "_view_name": "HBoxView",
            "box_style": "",
            "children": [
              "IPY_MODEL_e77f11ded4dc4087b78d040423c7f896",
              "IPY_MODEL_d4f7bf00971f487fbf35f586986185e1",
              "IPY_MODEL_26a6aaec74dd479bbf260fcc03c20836"
            ],
            "layout": "IPY_MODEL_456b33cf7b184ff99b4e2b3a68504c6b"
          }
        },
        "e77f11ded4dc4087b78d040423c7f896": {
          "model_module": "@jupyter-widgets/controls",
          "model_name": "HTMLModel",
          "model_module_version": "1.5.0",
          "state": {
            "_dom_classes": [],
            "_model_module": "@jupyter-widgets/controls",
            "_model_module_version": "1.5.0",
            "_model_name": "HTMLModel",
            "_view_count": null,
            "_view_module": "@jupyter-widgets/controls",
            "_view_module_version": "1.5.0",
            "_view_name": "HTMLView",
            "description": "",
            "description_tooltip": null,
            "layout": "IPY_MODEL_4e1c6661c9bb42b2b5417158fd4ceab6",
            "placeholder": "​",
            "style": "IPY_MODEL_7ce07883e81d4f22ac25402f906f1a38",
            "value": "model.safetensors: 100%"
          }
        },
        "d4f7bf00971f487fbf35f586986185e1": {
          "model_module": "@jupyter-widgets/controls",
          "model_name": "FloatProgressModel",
          "model_module_version": "1.5.0",
          "state": {
            "_dom_classes": [],
            "_model_module": "@jupyter-widgets/controls",
            "_model_module_version": "1.5.0",
            "_model_name": "FloatProgressModel",
            "_view_count": null,
            "_view_module": "@jupyter-widgets/controls",
            "_view_module_version": "1.5.0",
            "_view_name": "ProgressView",
            "bar_style": "success",
            "description": "",
            "description_tooltip": null,
            "layout": "IPY_MODEL_bcab22a1438a4616a094be94a921e241",
            "max": 3132668804,
            "min": 0,
            "orientation": "horizontal",
            "style": "IPY_MODEL_d5a798cf2c6e4e46a80ce9e27a8e51f2",
            "value": 3132668804
          }
        },
        "26a6aaec74dd479bbf260fcc03c20836": {
          "model_module": "@jupyter-widgets/controls",
          "model_name": "HTMLModel",
          "model_module_version": "1.5.0",
          "state": {
            "_dom_classes": [],
            "_model_module": "@jupyter-widgets/controls",
            "_model_module_version": "1.5.0",
            "_model_name": "HTMLModel",
            "_view_count": null,
            "_view_module": "@jupyter-widgets/controls",
            "_view_module_version": "1.5.0",
            "_view_name": "HTMLView",
            "description": "",
            "description_tooltip": null,
            "layout": "IPY_MODEL_4a04dbe26a374d53b96e0b760b8c9d20",
            "placeholder": "​",
            "style": "IPY_MODEL_84c2cb78aef64908921a2a9ef3ddd459",
            "value": " 3.13G/3.13G [00:17&lt;00:00, 187MB/s]"
          }
        },
        "456b33cf7b184ff99b4e2b3a68504c6b": {
          "model_module": "@jupyter-widgets/base",
          "model_name": "LayoutModel",
          "model_module_version": "1.2.0",
          "state": {
            "_model_module": "@jupyter-widgets/base",
            "_model_module_version": "1.2.0",
            "_model_name": "LayoutModel",
            "_view_count": null,
            "_view_module": "@jupyter-widgets/base",
            "_view_module_version": "1.2.0",
            "_view_name": "LayoutView",
            "align_content": null,
            "align_items": null,
            "align_self": null,
            "border": null,
            "bottom": null,
            "display": null,
            "flex": null,
            "flex_flow": null,
            "grid_area": null,
            "grid_auto_columns": null,
            "grid_auto_flow": null,
            "grid_auto_rows": null,
            "grid_column": null,
            "grid_gap": null,
            "grid_row": null,
            "grid_template_areas": null,
            "grid_template_columns": null,
            "grid_template_rows": null,
            "height": null,
            "justify_content": null,
            "justify_items": null,
            "left": null,
            "margin": null,
            "max_height": null,
            "max_width": null,
            "min_height": null,
            "min_width": null,
            "object_fit": null,
            "object_position": null,
            "order": null,
            "overflow": null,
            "overflow_x": null,
            "overflow_y": null,
            "padding": null,
            "right": null,
            "top": null,
            "visibility": null,
            "width": null
          }
        },
        "4e1c6661c9bb42b2b5417158fd4ceab6": {
          "model_module": "@jupyter-widgets/base",
          "model_name": "LayoutModel",
          "model_module_version": "1.2.0",
          "state": {
            "_model_module": "@jupyter-widgets/base",
            "_model_module_version": "1.2.0",
            "_model_name": "LayoutModel",
            "_view_count": null,
            "_view_module": "@jupyter-widgets/base",
            "_view_module_version": "1.2.0",
            "_view_name": "LayoutView",
            "align_content": null,
            "align_items": null,
            "align_self": null,
            "border": null,
            "bottom": null,
            "display": null,
            "flex": null,
            "flex_flow": null,
            "grid_area": null,
            "grid_auto_columns": null,
            "grid_auto_flow": null,
            "grid_auto_rows": null,
            "grid_column": null,
            "grid_gap": null,
            "grid_row": null,
            "grid_template_areas": null,
            "grid_template_columns": null,
            "grid_template_rows": null,
            "height": null,
            "justify_content": null,
            "justify_items": null,
            "left": null,
            "margin": null,
            "max_height": null,
            "max_width": null,
            "min_height": null,
            "min_width": null,
            "object_fit": null,
            "object_position": null,
            "order": null,
            "overflow": null,
            "overflow_x": null,
            "overflow_y": null,
            "padding": null,
            "right": null,
            "top": null,
            "visibility": null,
            "width": null
          }
        },
        "7ce07883e81d4f22ac25402f906f1a38": {
          "model_module": "@jupyter-widgets/controls",
          "model_name": "DescriptionStyleModel",
          "model_module_version": "1.5.0",
          "state": {
            "_model_module": "@jupyter-widgets/controls",
            "_model_module_version": "1.5.0",
            "_model_name": "DescriptionStyleModel",
            "_view_count": null,
            "_view_module": "@jupyter-widgets/base",
            "_view_module_version": "1.2.0",
            "_view_name": "StyleView",
            "description_width": ""
          }
        },
        "bcab22a1438a4616a094be94a921e241": {
          "model_module": "@jupyter-widgets/base",
          "model_name": "LayoutModel",
          "model_module_version": "1.2.0",
          "state": {
            "_model_module": "@jupyter-widgets/base",
            "_model_module_version": "1.2.0",
            "_model_name": "LayoutModel",
            "_view_count": null,
            "_view_module": "@jupyter-widgets/base",
            "_view_module_version": "1.2.0",
            "_view_name": "LayoutView",
            "align_content": null,
            "align_items": null,
            "align_self": null,
            "border": null,
            "bottom": null,
            "display": null,
            "flex": null,
            "flex_flow": null,
            "grid_area": null,
            "grid_auto_columns": null,
            "grid_auto_flow": null,
            "grid_auto_rows": null,
            "grid_column": null,
            "grid_gap": null,
            "grid_row": null,
            "grid_template_areas": null,
            "grid_template_columns": null,
            "grid_template_rows": null,
            "height": null,
            "justify_content": null,
            "justify_items": null,
            "left": null,
            "margin": null,
            "max_height": null,
            "max_width": null,
            "min_height": null,
            "min_width": null,
            "object_fit": null,
            "object_position": null,
            "order": null,
            "overflow": null,
            "overflow_x": null,
            "overflow_y": null,
            "padding": null,
            "right": null,
            "top": null,
            "visibility": null,
            "width": null
          }
        },
        "d5a798cf2c6e4e46a80ce9e27a8e51f2": {
          "model_module": "@jupyter-widgets/controls",
          "model_name": "ProgressStyleModel",
          "model_module_version": "1.5.0",
          "state": {
            "_model_module": "@jupyter-widgets/controls",
            "_model_module_version": "1.5.0",
            "_model_name": "ProgressStyleModel",
            "_view_count": null,
            "_view_module": "@jupyter-widgets/base",
            "_view_module_version": "1.2.0",
            "_view_name": "StyleView",
            "bar_color": null,
            "description_width": ""
          }
        },
        "4a04dbe26a374d53b96e0b760b8c9d20": {
          "model_module": "@jupyter-widgets/base",
          "model_name": "LayoutModel",
          "model_module_version": "1.2.0",
          "state": {
            "_model_module": "@jupyter-widgets/base",
            "_model_module_version": "1.2.0",
            "_model_name": "LayoutModel",
            "_view_count": null,
            "_view_module": "@jupyter-widgets/base",
            "_view_module_version": "1.2.0",
            "_view_name": "LayoutView",
            "align_content": null,
            "align_items": null,
            "align_self": null,
            "border": null,
            "bottom": null,
            "display": null,
            "flex": null,
            "flex_flow": null,
            "grid_area": null,
            "grid_auto_columns": null,
            "grid_auto_flow": null,
            "grid_auto_rows": null,
            "grid_column": null,
            "grid_gap": null,
            "grid_row": null,
            "grid_template_areas": null,
            "grid_template_columns": null,
            "grid_template_rows": null,
            "height": null,
            "justify_content": null,
            "justify_items": null,
            "left": null,
            "margin": null,
            "max_height": null,
            "max_width": null,
            "min_height": null,
            "min_width": null,
            "object_fit": null,
            "object_position": null,
            "order": null,
            "overflow": null,
            "overflow_x": null,
            "overflow_y": null,
            "padding": null,
            "right": null,
            "top": null,
            "visibility": null,
            "width": null
          }
        },
        "84c2cb78aef64908921a2a9ef3ddd459": {
          "model_module": "@jupyter-widgets/controls",
          "model_name": "DescriptionStyleModel",
          "model_module_version": "1.5.0",
          "state": {
            "_model_module": "@jupyter-widgets/controls",
            "_model_module_version": "1.5.0",
            "_model_name": "DescriptionStyleModel",
            "_view_count": null,
            "_view_module": "@jupyter-widgets/base",
            "_view_module_version": "1.2.0",
            "_view_name": "StyleView",
            "description_width": ""
          }
        },
        "b5b8e6e4c6fe472f9e98493d1399998a": {
          "model_module": "@jupyter-widgets/controls",
          "model_name": "HBoxModel",
          "model_module_version": "1.5.0",
          "state": {
            "_dom_classes": [],
            "_model_module": "@jupyter-widgets/controls",
            "_model_module_version": "1.5.0",
            "_model_name": "HBoxModel",
            "_view_count": null,
            "_view_module": "@jupyter-widgets/controls",
            "_view_module_version": "1.5.0",
            "_view_name": "HBoxView",
            "box_style": "",
            "children": [
              "IPY_MODEL_5280316f920c434594f1f4173fc5def9",
              "IPY_MODEL_1b60d61a27e44340b988069e1556de6d",
              "IPY_MODEL_2bc775a475e34a96a2b690a303d939ed"
            ],
            "layout": "IPY_MODEL_fbcd46d07123400cacc10f581db69d58"
          }
        },
        "5280316f920c434594f1f4173fc5def9": {
          "model_module": "@jupyter-widgets/controls",
          "model_name": "HTMLModel",
          "model_module_version": "1.5.0",
          "state": {
            "_dom_classes": [],
            "_model_module": "@jupyter-widgets/controls",
            "_model_module_version": "1.5.0",
            "_model_name": "HTMLModel",
            "_view_count": null,
            "_view_module": "@jupyter-widgets/controls",
            "_view_module_version": "1.5.0",
            "_view_name": "HTMLView",
            "description": "",
            "description_tooltip": null,
            "layout": "IPY_MODEL_04f30fff34fb470c954757ad823eed5e",
            "placeholder": "​",
            "style": "IPY_MODEL_3780665e2f30446a9c3f267ad98799e7",
            "value": "generation_config.json: 100%"
          }
        },
        "1b60d61a27e44340b988069e1556de6d": {
          "model_module": "@jupyter-widgets/controls",
          "model_name": "FloatProgressModel",
          "model_module_version": "1.5.0",
          "state": {
            "_dom_classes": [],
            "_model_module": "@jupyter-widgets/controls",
            "_model_module_version": "1.5.0",
            "_model_name": "FloatProgressModel",
            "_view_count": null,
            "_view_module": "@jupyter-widgets/controls",
            "_view_module_version": "1.5.0",
            "_view_name": "ProgressView",
            "bar_style": "success",
            "description": "",
            "description_tooltip": null,
            "layout": "IPY_MODEL_21d48eaf48b2499e8d49707855d48703",
            "max": 147,
            "min": 0,
            "orientation": "horizontal",
            "style": "IPY_MODEL_143630c9b3624b83aef1c605c38caab5",
            "value": 147
          }
        },
        "2bc775a475e34a96a2b690a303d939ed": {
          "model_module": "@jupyter-widgets/controls",
          "model_name": "HTMLModel",
          "model_module_version": "1.5.0",
          "state": {
            "_dom_classes": [],
            "_model_module": "@jupyter-widgets/controls",
            "_model_module_version": "1.5.0",
            "_model_name": "HTMLModel",
            "_view_count": null,
            "_view_module": "@jupyter-widgets/controls",
            "_view_module_version": "1.5.0",
            "_view_name": "HTMLView",
            "description": "",
            "description_tooltip": null,
            "layout": "IPY_MODEL_1b84a08f074b42d2b310fa092a5530d6",
            "placeholder": "​",
            "style": "IPY_MODEL_c243ca37918d41689683fdc5a7979ae9",
            "value": " 147/147 [00:00&lt;00:00, 11.6kB/s]"
          }
        },
        "fbcd46d07123400cacc10f581db69d58": {
          "model_module": "@jupyter-widgets/base",
          "model_name": "LayoutModel",
          "model_module_version": "1.2.0",
          "state": {
            "_model_module": "@jupyter-widgets/base",
            "_model_module_version": "1.2.0",
            "_model_name": "LayoutModel",
            "_view_count": null,
            "_view_module": "@jupyter-widgets/base",
            "_view_module_version": "1.2.0",
            "_view_name": "LayoutView",
            "align_content": null,
            "align_items": null,
            "align_self": null,
            "border": null,
            "bottom": null,
            "display": null,
            "flex": null,
            "flex_flow": null,
            "grid_area": null,
            "grid_auto_columns": null,
            "grid_auto_flow": null,
            "grid_auto_rows": null,
            "grid_column": null,
            "grid_gap": null,
            "grid_row": null,
            "grid_template_areas": null,
            "grid_template_columns": null,
            "grid_template_rows": null,
            "height": null,
            "justify_content": null,
            "justify_items": null,
            "left": null,
            "margin": null,
            "max_height": null,
            "max_width": null,
            "min_height": null,
            "min_width": null,
            "object_fit": null,
            "object_position": null,
            "order": null,
            "overflow": null,
            "overflow_x": null,
            "overflow_y": null,
            "padding": null,
            "right": null,
            "top": null,
            "visibility": null,
            "width": null
          }
        },
        "04f30fff34fb470c954757ad823eed5e": {
          "model_module": "@jupyter-widgets/base",
          "model_name": "LayoutModel",
          "model_module_version": "1.2.0",
          "state": {
            "_model_module": "@jupyter-widgets/base",
            "_model_module_version": "1.2.0",
            "_model_name": "LayoutModel",
            "_view_count": null,
            "_view_module": "@jupyter-widgets/base",
            "_view_module_version": "1.2.0",
            "_view_name": "LayoutView",
            "align_content": null,
            "align_items": null,
            "align_self": null,
            "border": null,
            "bottom": null,
            "display": null,
            "flex": null,
            "flex_flow": null,
            "grid_area": null,
            "grid_auto_columns": null,
            "grid_auto_flow": null,
            "grid_auto_rows": null,
            "grid_column": null,
            "grid_gap": null,
            "grid_row": null,
            "grid_template_areas": null,
            "grid_template_columns": null,
            "grid_template_rows": null,
            "height": null,
            "justify_content": null,
            "justify_items": null,
            "left": null,
            "margin": null,
            "max_height": null,
            "max_width": null,
            "min_height": null,
            "min_width": null,
            "object_fit": null,
            "object_position": null,
            "order": null,
            "overflow": null,
            "overflow_x": null,
            "overflow_y": null,
            "padding": null,
            "right": null,
            "top": null,
            "visibility": null,
            "width": null
          }
        },
        "3780665e2f30446a9c3f267ad98799e7": {
          "model_module": "@jupyter-widgets/controls",
          "model_name": "DescriptionStyleModel",
          "model_module_version": "1.5.0",
          "state": {
            "_model_module": "@jupyter-widgets/controls",
            "_model_module_version": "1.5.0",
            "_model_name": "DescriptionStyleModel",
            "_view_count": null,
            "_view_module": "@jupyter-widgets/base",
            "_view_module_version": "1.2.0",
            "_view_name": "StyleView",
            "description_width": ""
          }
        },
        "21d48eaf48b2499e8d49707855d48703": {
          "model_module": "@jupyter-widgets/base",
          "model_name": "LayoutModel",
          "model_module_version": "1.2.0",
          "state": {
            "_model_module": "@jupyter-widgets/base",
            "_model_module_version": "1.2.0",
            "_model_name": "LayoutModel",
            "_view_count": null,
            "_view_module": "@jupyter-widgets/base",
            "_view_module_version": "1.2.0",
            "_view_name": "LayoutView",
            "align_content": null,
            "align_items": null,
            "align_self": null,
            "border": null,
            "bottom": null,
            "display": null,
            "flex": null,
            "flex_flow": null,
            "grid_area": null,
            "grid_auto_columns": null,
            "grid_auto_flow": null,
            "grid_auto_rows": null,
            "grid_column": null,
            "grid_gap": null,
            "grid_row": null,
            "grid_template_areas": null,
            "grid_template_columns": null,
            "grid_template_rows": null,
            "height": null,
            "justify_content": null,
            "justify_items": null,
            "left": null,
            "margin": null,
            "max_height": null,
            "max_width": null,
            "min_height": null,
            "min_width": null,
            "object_fit": null,
            "object_position": null,
            "order": null,
            "overflow": null,
            "overflow_x": null,
            "overflow_y": null,
            "padding": null,
            "right": null,
            "top": null,
            "visibility": null,
            "width": null
          }
        },
        "143630c9b3624b83aef1c605c38caab5": {
          "model_module": "@jupyter-widgets/controls",
          "model_name": "ProgressStyleModel",
          "model_module_version": "1.5.0",
          "state": {
            "_model_module": "@jupyter-widgets/controls",
            "_model_module_version": "1.5.0",
            "_model_name": "ProgressStyleModel",
            "_view_count": null,
            "_view_module": "@jupyter-widgets/base",
            "_view_module_version": "1.2.0",
            "_view_name": "StyleView",
            "bar_color": null,
            "description_width": ""
          }
        },
        "1b84a08f074b42d2b310fa092a5530d6": {
          "model_module": "@jupyter-widgets/base",
          "model_name": "LayoutModel",
          "model_module_version": "1.2.0",
          "state": {
            "_model_module": "@jupyter-widgets/base",
            "_model_module_version": "1.2.0",
            "_model_name": "LayoutModel",
            "_view_count": null,
            "_view_module": "@jupyter-widgets/base",
            "_view_module_version": "1.2.0",
            "_view_name": "LayoutView",
            "align_content": null,
            "align_items": null,
            "align_self": null,
            "border": null,
            "bottom": null,
            "display": null,
            "flex": null,
            "flex_flow": null,
            "grid_area": null,
            "grid_auto_columns": null,
            "grid_auto_flow": null,
            "grid_auto_rows": null,
            "grid_column": null,
            "grid_gap": null,
            "grid_row": null,
            "grid_template_areas": null,
            "grid_template_columns": null,
            "grid_template_rows": null,
            "height": null,
            "justify_content": null,
            "justify_items": null,
            "left": null,
            "margin": null,
            "max_height": null,
            "max_width": null,
            "min_height": null,
            "min_width": null,
            "object_fit": null,
            "object_position": null,
            "order": null,
            "overflow": null,
            "overflow_x": null,
            "overflow_y": null,
            "padding": null,
            "right": null,
            "top": null,
            "visibility": null,
            "width": null
          }
        },
        "c243ca37918d41689683fdc5a7979ae9": {
          "model_module": "@jupyter-widgets/controls",
          "model_name": "DescriptionStyleModel",
          "model_module_version": "1.5.0",
          "state": {
            "_model_module": "@jupyter-widgets/controls",
            "_model_module_version": "1.5.0",
            "_model_name": "DescriptionStyleModel",
            "_view_count": null,
            "_view_module": "@jupyter-widgets/base",
            "_view_module_version": "1.2.0",
            "_view_name": "StyleView",
            "description_width": ""
          }
        },
        "8c709e84c5414bed96a7c8f32a66accf": {
          "model_module": "@jupyter-widgets/controls",
          "model_name": "VBoxModel",
          "model_module_version": "1.5.0",
          "state": {
            "_dom_classes": [],
            "_model_module": "@jupyter-widgets/controls",
            "_model_module_version": "1.5.0",
            "_model_name": "VBoxModel",
            "_view_count": null,
            "_view_module": "@jupyter-widgets/controls",
            "_view_module_version": "1.5.0",
            "_view_name": "VBoxView",
            "box_style": "",
            "children": [
              "IPY_MODEL_8aeb674611b045d9b112d16ab8ceb1ec",
              "IPY_MODEL_1a2ca166189c4a27995c1fb416ab0b6c",
              "IPY_MODEL_d4b60be5fbce41e88d2577d5407d1609",
              "IPY_MODEL_bd1cc9fbc3f04092b97309e5fd8321ae"
            ],
            "layout": "IPY_MODEL_67add31cb9a64aefa884c04fe43add4b"
          }
        },
        "836cfc929f8148d49c891fb55aa9bfda": {
          "model_module": "@jupyter-widgets/controls",
          "model_name": "HTMLModel",
          "model_module_version": "1.5.0",
          "state": {
            "_dom_classes": [],
            "_model_module": "@jupyter-widgets/controls",
            "_model_module_version": "1.5.0",
            "_model_name": "HTMLModel",
            "_view_count": null,
            "_view_module": "@jupyter-widgets/controls",
            "_view_module_version": "1.5.0",
            "_view_name": "HTMLView",
            "description": "",
            "description_tooltip": null,
            "layout": "IPY_MODEL_c76ddf06f7ec485fb397012a73486280",
            "placeholder": "​",
            "style": "IPY_MODEL_01edf83efbc54d28af9d7f004c36babc",
            "value": "<center> <img\nsrc=https://huggingface.co/front/assets/huggingface_logo-noborder.svg\nalt='Hugging Face'> <br> Copy a token from <a\nhref=\"https://huggingface.co/settings/tokens\" target=\"_blank\">your Hugging Face\ntokens page</a> and paste it below. <br> Immediately click login after copying\nyour token or it might be stored in plain text in this notebook file. </center>"
          }
        },
        "e6d86acf816b4c328eacf0384456f56f": {
          "model_module": "@jupyter-widgets/controls",
          "model_name": "PasswordModel",
          "model_module_version": "1.5.0",
          "state": {
            "_dom_classes": [],
            "_model_module": "@jupyter-widgets/controls",
            "_model_module_version": "1.5.0",
            "_model_name": "PasswordModel",
            "_view_count": null,
            "_view_module": "@jupyter-widgets/controls",
            "_view_module_version": "1.5.0",
            "_view_name": "PasswordView",
            "continuous_update": true,
            "description": "Token:",
            "description_tooltip": null,
            "disabled": false,
            "layout": "IPY_MODEL_c5838c3755b4423aad705a62d5d7e1b4",
            "placeholder": "​",
            "style": "IPY_MODEL_2062bf5778504bb3a8aec6c8f7347d95",
            "value": ""
          }
        },
        "375102b35d224c2292877b1f7236e755": {
          "model_module": "@jupyter-widgets/controls",
          "model_name": "CheckboxModel",
          "model_module_version": "1.5.0",
          "state": {
            "_dom_classes": [],
            "_model_module": "@jupyter-widgets/controls",
            "_model_module_version": "1.5.0",
            "_model_name": "CheckboxModel",
            "_view_count": null,
            "_view_module": "@jupyter-widgets/controls",
            "_view_module_version": "1.5.0",
            "_view_name": "CheckboxView",
            "description": "Add token as git credential?",
            "description_tooltip": null,
            "disabled": false,
            "indent": true,
            "layout": "IPY_MODEL_adcf85dbcb6e43549a243d1cff307e54",
            "style": "IPY_MODEL_12c16868c4464b41a4cccfda0757cd57",
            "value": true
          }
        },
        "ce78d938a4ee468da48d2f98095e38d0": {
          "model_module": "@jupyter-widgets/controls",
          "model_name": "ButtonModel",
          "model_module_version": "1.5.0",
          "state": {
            "_dom_classes": [],
            "_model_module": "@jupyter-widgets/controls",
            "_model_module_version": "1.5.0",
            "_model_name": "ButtonModel",
            "_view_count": null,
            "_view_module": "@jupyter-widgets/controls",
            "_view_module_version": "1.5.0",
            "_view_name": "ButtonView",
            "button_style": "",
            "description": "Login",
            "disabled": false,
            "icon": "",
            "layout": "IPY_MODEL_7071df15e3bf47cdb05fef05d1139761",
            "style": "IPY_MODEL_d32b6150d1d4468f998cdfa0ea52a711",
            "tooltip": ""
          }
        },
        "e09e92cf9859491eb49917db83c3f652": {
          "model_module": "@jupyter-widgets/controls",
          "model_name": "HTMLModel",
          "model_module_version": "1.5.0",
          "state": {
            "_dom_classes": [],
            "_model_module": "@jupyter-widgets/controls",
            "_model_module_version": "1.5.0",
            "_model_name": "HTMLModel",
            "_view_count": null,
            "_view_module": "@jupyter-widgets/controls",
            "_view_module_version": "1.5.0",
            "_view_name": "HTMLView",
            "description": "",
            "description_tooltip": null,
            "layout": "IPY_MODEL_a02329c3a2f84b36b33e6d3deff43554",
            "placeholder": "​",
            "style": "IPY_MODEL_1ee2ff223de344a7931cbb89f6b56690",
            "value": "\n<b>Pro Tip:</b> If you don't already have one, you can create a dedicated\n'notebooks' token with 'write' access, that you can then easily reuse for all\nnotebooks. </center>"
          }
        },
        "67add31cb9a64aefa884c04fe43add4b": {
          "model_module": "@jupyter-widgets/base",
          "model_name": "LayoutModel",
          "model_module_version": "1.2.0",
          "state": {
            "_model_module": "@jupyter-widgets/base",
            "_model_module_version": "1.2.0",
            "_model_name": "LayoutModel",
            "_view_count": null,
            "_view_module": "@jupyter-widgets/base",
            "_view_module_version": "1.2.0",
            "_view_name": "LayoutView",
            "align_content": null,
            "align_items": "center",
            "align_self": null,
            "border": null,
            "bottom": null,
            "display": "flex",
            "flex": null,
            "flex_flow": "column",
            "grid_area": null,
            "grid_auto_columns": null,
            "grid_auto_flow": null,
            "grid_auto_rows": null,
            "grid_column": null,
            "grid_gap": null,
            "grid_row": null,
            "grid_template_areas": null,
            "grid_template_columns": null,
            "grid_template_rows": null,
            "height": null,
            "justify_content": null,
            "justify_items": null,
            "left": null,
            "margin": null,
            "max_height": null,
            "max_width": null,
            "min_height": null,
            "min_width": null,
            "object_fit": null,
            "object_position": null,
            "order": null,
            "overflow": null,
            "overflow_x": null,
            "overflow_y": null,
            "padding": null,
            "right": null,
            "top": null,
            "visibility": null,
            "width": "50%"
          }
        },
        "c76ddf06f7ec485fb397012a73486280": {
          "model_module": "@jupyter-widgets/base",
          "model_name": "LayoutModel",
          "model_module_version": "1.2.0",
          "state": {
            "_model_module": "@jupyter-widgets/base",
            "_model_module_version": "1.2.0",
            "_model_name": "LayoutModel",
            "_view_count": null,
            "_view_module": "@jupyter-widgets/base",
            "_view_module_version": "1.2.0",
            "_view_name": "LayoutView",
            "align_content": null,
            "align_items": null,
            "align_self": null,
            "border": null,
            "bottom": null,
            "display": null,
            "flex": null,
            "flex_flow": null,
            "grid_area": null,
            "grid_auto_columns": null,
            "grid_auto_flow": null,
            "grid_auto_rows": null,
            "grid_column": null,
            "grid_gap": null,
            "grid_row": null,
            "grid_template_areas": null,
            "grid_template_columns": null,
            "grid_template_rows": null,
            "height": null,
            "justify_content": null,
            "justify_items": null,
            "left": null,
            "margin": null,
            "max_height": null,
            "max_width": null,
            "min_height": null,
            "min_width": null,
            "object_fit": null,
            "object_position": null,
            "order": null,
            "overflow": null,
            "overflow_x": null,
            "overflow_y": null,
            "padding": null,
            "right": null,
            "top": null,
            "visibility": null,
            "width": null
          }
        },
        "01edf83efbc54d28af9d7f004c36babc": {
          "model_module": "@jupyter-widgets/controls",
          "model_name": "DescriptionStyleModel",
          "model_module_version": "1.5.0",
          "state": {
            "_model_module": "@jupyter-widgets/controls",
            "_model_module_version": "1.5.0",
            "_model_name": "DescriptionStyleModel",
            "_view_count": null,
            "_view_module": "@jupyter-widgets/base",
            "_view_module_version": "1.2.0",
            "_view_name": "StyleView",
            "description_width": ""
          }
        },
        "c5838c3755b4423aad705a62d5d7e1b4": {
          "model_module": "@jupyter-widgets/base",
          "model_name": "LayoutModel",
          "model_module_version": "1.2.0",
          "state": {
            "_model_module": "@jupyter-widgets/base",
            "_model_module_version": "1.2.0",
            "_model_name": "LayoutModel",
            "_view_count": null,
            "_view_module": "@jupyter-widgets/base",
            "_view_module_version": "1.2.0",
            "_view_name": "LayoutView",
            "align_content": null,
            "align_items": null,
            "align_self": null,
            "border": null,
            "bottom": null,
            "display": null,
            "flex": null,
            "flex_flow": null,
            "grid_area": null,
            "grid_auto_columns": null,
            "grid_auto_flow": null,
            "grid_auto_rows": null,
            "grid_column": null,
            "grid_gap": null,
            "grid_row": null,
            "grid_template_areas": null,
            "grid_template_columns": null,
            "grid_template_rows": null,
            "height": null,
            "justify_content": null,
            "justify_items": null,
            "left": null,
            "margin": null,
            "max_height": null,
            "max_width": null,
            "min_height": null,
            "min_width": null,
            "object_fit": null,
            "object_position": null,
            "order": null,
            "overflow": null,
            "overflow_x": null,
            "overflow_y": null,
            "padding": null,
            "right": null,
            "top": null,
            "visibility": null,
            "width": null
          }
        },
        "2062bf5778504bb3a8aec6c8f7347d95": {
          "model_module": "@jupyter-widgets/controls",
          "model_name": "DescriptionStyleModel",
          "model_module_version": "1.5.0",
          "state": {
            "_model_module": "@jupyter-widgets/controls",
            "_model_module_version": "1.5.0",
            "_model_name": "DescriptionStyleModel",
            "_view_count": null,
            "_view_module": "@jupyter-widgets/base",
            "_view_module_version": "1.2.0",
            "_view_name": "StyleView",
            "description_width": ""
          }
        },
        "adcf85dbcb6e43549a243d1cff307e54": {
          "model_module": "@jupyter-widgets/base",
          "model_name": "LayoutModel",
          "model_module_version": "1.2.0",
          "state": {
            "_model_module": "@jupyter-widgets/base",
            "_model_module_version": "1.2.0",
            "_model_name": "LayoutModel",
            "_view_count": null,
            "_view_module": "@jupyter-widgets/base",
            "_view_module_version": "1.2.0",
            "_view_name": "LayoutView",
            "align_content": null,
            "align_items": null,
            "align_self": null,
            "border": null,
            "bottom": null,
            "display": null,
            "flex": null,
            "flex_flow": null,
            "grid_area": null,
            "grid_auto_columns": null,
            "grid_auto_flow": null,
            "grid_auto_rows": null,
            "grid_column": null,
            "grid_gap": null,
            "grid_row": null,
            "grid_template_areas": null,
            "grid_template_columns": null,
            "grid_template_rows": null,
            "height": null,
            "justify_content": null,
            "justify_items": null,
            "left": null,
            "margin": null,
            "max_height": null,
            "max_width": null,
            "min_height": null,
            "min_width": null,
            "object_fit": null,
            "object_position": null,
            "order": null,
            "overflow": null,
            "overflow_x": null,
            "overflow_y": null,
            "padding": null,
            "right": null,
            "top": null,
            "visibility": null,
            "width": null
          }
        },
        "12c16868c4464b41a4cccfda0757cd57": {
          "model_module": "@jupyter-widgets/controls",
          "model_name": "DescriptionStyleModel",
          "model_module_version": "1.5.0",
          "state": {
            "_model_module": "@jupyter-widgets/controls",
            "_model_module_version": "1.5.0",
            "_model_name": "DescriptionStyleModel",
            "_view_count": null,
            "_view_module": "@jupyter-widgets/base",
            "_view_module_version": "1.2.0",
            "_view_name": "StyleView",
            "description_width": ""
          }
        },
        "7071df15e3bf47cdb05fef05d1139761": {
          "model_module": "@jupyter-widgets/base",
          "model_name": "LayoutModel",
          "model_module_version": "1.2.0",
          "state": {
            "_model_module": "@jupyter-widgets/base",
            "_model_module_version": "1.2.0",
            "_model_name": "LayoutModel",
            "_view_count": null,
            "_view_module": "@jupyter-widgets/base",
            "_view_module_version": "1.2.0",
            "_view_name": "LayoutView",
            "align_content": null,
            "align_items": null,
            "align_self": null,
            "border": null,
            "bottom": null,
            "display": null,
            "flex": null,
            "flex_flow": null,
            "grid_area": null,
            "grid_auto_columns": null,
            "grid_auto_flow": null,
            "grid_auto_rows": null,
            "grid_column": null,
            "grid_gap": null,
            "grid_row": null,
            "grid_template_areas": null,
            "grid_template_columns": null,
            "grid_template_rows": null,
            "height": null,
            "justify_content": null,
            "justify_items": null,
            "left": null,
            "margin": null,
            "max_height": null,
            "max_width": null,
            "min_height": null,
            "min_width": null,
            "object_fit": null,
            "object_position": null,
            "order": null,
            "overflow": null,
            "overflow_x": null,
            "overflow_y": null,
            "padding": null,
            "right": null,
            "top": null,
            "visibility": null,
            "width": null
          }
        },
        "d32b6150d1d4468f998cdfa0ea52a711": {
          "model_module": "@jupyter-widgets/controls",
          "model_name": "ButtonStyleModel",
          "model_module_version": "1.5.0",
          "state": {
            "_model_module": "@jupyter-widgets/controls",
            "_model_module_version": "1.5.0",
            "_model_name": "ButtonStyleModel",
            "_view_count": null,
            "_view_module": "@jupyter-widgets/base",
            "_view_module_version": "1.2.0",
            "_view_name": "StyleView",
            "button_color": null,
            "font_weight": ""
          }
        },
        "a02329c3a2f84b36b33e6d3deff43554": {
          "model_module": "@jupyter-widgets/base",
          "model_name": "LayoutModel",
          "model_module_version": "1.2.0",
          "state": {
            "_model_module": "@jupyter-widgets/base",
            "_model_module_version": "1.2.0",
            "_model_name": "LayoutModel",
            "_view_count": null,
            "_view_module": "@jupyter-widgets/base",
            "_view_module_version": "1.2.0",
            "_view_name": "LayoutView",
            "align_content": null,
            "align_items": null,
            "align_self": null,
            "border": null,
            "bottom": null,
            "display": null,
            "flex": null,
            "flex_flow": null,
            "grid_area": null,
            "grid_auto_columns": null,
            "grid_auto_flow": null,
            "grid_auto_rows": null,
            "grid_column": null,
            "grid_gap": null,
            "grid_row": null,
            "grid_template_areas": null,
            "grid_template_columns": null,
            "grid_template_rows": null,
            "height": null,
            "justify_content": null,
            "justify_items": null,
            "left": null,
            "margin": null,
            "max_height": null,
            "max_width": null,
            "min_height": null,
            "min_width": null,
            "object_fit": null,
            "object_position": null,
            "order": null,
            "overflow": null,
            "overflow_x": null,
            "overflow_y": null,
            "padding": null,
            "right": null,
            "top": null,
            "visibility": null,
            "width": null
          }
        },
        "1ee2ff223de344a7931cbb89f6b56690": {
          "model_module": "@jupyter-widgets/controls",
          "model_name": "DescriptionStyleModel",
          "model_module_version": "1.5.0",
          "state": {
            "_model_module": "@jupyter-widgets/controls",
            "_model_module_version": "1.5.0",
            "_model_name": "DescriptionStyleModel",
            "_view_count": null,
            "_view_module": "@jupyter-widgets/base",
            "_view_module_version": "1.2.0",
            "_view_name": "StyleView",
            "description_width": ""
          }
        },
        "66278bfa1c0a4a53b901df9c4939b78d": {
          "model_module": "@jupyter-widgets/controls",
          "model_name": "LabelModel",
          "model_module_version": "1.5.0",
          "state": {
            "_dom_classes": [],
            "_model_module": "@jupyter-widgets/controls",
            "_model_module_version": "1.5.0",
            "_model_name": "LabelModel",
            "_view_count": null,
            "_view_module": "@jupyter-widgets/controls",
            "_view_module_version": "1.5.0",
            "_view_name": "LabelView",
            "description": "",
            "description_tooltip": null,
            "layout": "IPY_MODEL_fce29d4878614dedacb474e9ccfea432",
            "placeholder": "​",
            "style": "IPY_MODEL_9ecd3c5752744af6b5c6dcd511670f5f",
            "value": "Connecting..."
          }
        },
        "fce29d4878614dedacb474e9ccfea432": {
          "model_module": "@jupyter-widgets/base",
          "model_name": "LayoutModel",
          "model_module_version": "1.2.0",
          "state": {
            "_model_module": "@jupyter-widgets/base",
            "_model_module_version": "1.2.0",
            "_model_name": "LayoutModel",
            "_view_count": null,
            "_view_module": "@jupyter-widgets/base",
            "_view_module_version": "1.2.0",
            "_view_name": "LayoutView",
            "align_content": null,
            "align_items": null,
            "align_self": null,
            "border": null,
            "bottom": null,
            "display": null,
            "flex": null,
            "flex_flow": null,
            "grid_area": null,
            "grid_auto_columns": null,
            "grid_auto_flow": null,
            "grid_auto_rows": null,
            "grid_column": null,
            "grid_gap": null,
            "grid_row": null,
            "grid_template_areas": null,
            "grid_template_columns": null,
            "grid_template_rows": null,
            "height": null,
            "justify_content": null,
            "justify_items": null,
            "left": null,
            "margin": null,
            "max_height": null,
            "max_width": null,
            "min_height": null,
            "min_width": null,
            "object_fit": null,
            "object_position": null,
            "order": null,
            "overflow": null,
            "overflow_x": null,
            "overflow_y": null,
            "padding": null,
            "right": null,
            "top": null,
            "visibility": null,
            "width": null
          }
        },
        "9ecd3c5752744af6b5c6dcd511670f5f": {
          "model_module": "@jupyter-widgets/controls",
          "model_name": "DescriptionStyleModel",
          "model_module_version": "1.5.0",
          "state": {
            "_model_module": "@jupyter-widgets/controls",
            "_model_module_version": "1.5.0",
            "_model_name": "DescriptionStyleModel",
            "_view_count": null,
            "_view_module": "@jupyter-widgets/base",
            "_view_module_version": "1.2.0",
            "_view_name": "StyleView",
            "description_width": ""
          }
        },
        "8aeb674611b045d9b112d16ab8ceb1ec": {
          "model_module": "@jupyter-widgets/controls",
          "model_name": "LabelModel",
          "model_module_version": "1.5.0",
          "state": {
            "_dom_classes": [],
            "_model_module": "@jupyter-widgets/controls",
            "_model_module_version": "1.5.0",
            "_model_name": "LabelModel",
            "_view_count": null,
            "_view_module": "@jupyter-widgets/controls",
            "_view_module_version": "1.5.0",
            "_view_name": "LabelView",
            "description": "",
            "description_tooltip": null,
            "layout": "IPY_MODEL_520360f39e7a4613a7249197816e1d6d",
            "placeholder": "​",
            "style": "IPY_MODEL_d70bdaca7859453d9432559309bab3ae",
            "value": "Token is valid (permission: fineGrained)."
          }
        },
        "1a2ca166189c4a27995c1fb416ab0b6c": {
          "model_module": "@jupyter-widgets/controls",
          "model_name": "LabelModel",
          "model_module_version": "1.5.0",
          "state": {
            "_dom_classes": [],
            "_model_module": "@jupyter-widgets/controls",
            "_model_module_version": "1.5.0",
            "_model_name": "LabelModel",
            "_view_count": null,
            "_view_module": "@jupyter-widgets/controls",
            "_view_module_version": "1.5.0",
            "_view_name": "LabelView",
            "description": "",
            "description_tooltip": null,
            "layout": "IPY_MODEL_c70b5788dcdb47979083589737c22b70",
            "placeholder": "​",
            "style": "IPY_MODEL_330386e1aac041c6bd90573126641b9d",
            "value": "Your token has been saved in your configured git credential helpers (store)."
          }
        },
        "d4b60be5fbce41e88d2577d5407d1609": {
          "model_module": "@jupyter-widgets/controls",
          "model_name": "LabelModel",
          "model_module_version": "1.5.0",
          "state": {
            "_dom_classes": [],
            "_model_module": "@jupyter-widgets/controls",
            "_model_module_version": "1.5.0",
            "_model_name": "LabelModel",
            "_view_count": null,
            "_view_module": "@jupyter-widgets/controls",
            "_view_module_version": "1.5.0",
            "_view_name": "LabelView",
            "description": "",
            "description_tooltip": null,
            "layout": "IPY_MODEL_c6cf05fa6b894a399c9db86f0fe8ed6c",
            "placeholder": "​",
            "style": "IPY_MODEL_8077d59f706f4be79c3af3edfe835015",
            "value": "Your token has been saved to /root/.cache/huggingface/token"
          }
        },
        "bd1cc9fbc3f04092b97309e5fd8321ae": {
          "model_module": "@jupyter-widgets/controls",
          "model_name": "LabelModel",
          "model_module_version": "1.5.0",
          "state": {
            "_dom_classes": [],
            "_model_module": "@jupyter-widgets/controls",
            "_model_module_version": "1.5.0",
            "_model_name": "LabelModel",
            "_view_count": null,
            "_view_module": "@jupyter-widgets/controls",
            "_view_module_version": "1.5.0",
            "_view_name": "LabelView",
            "description": "",
            "description_tooltip": null,
            "layout": "IPY_MODEL_8ba3c4ddd46e4b4c864ac35ad7d9f923",
            "placeholder": "​",
            "style": "IPY_MODEL_46989140f54445ba867c476198b5f64a",
            "value": "Login successful"
          }
        },
        "520360f39e7a4613a7249197816e1d6d": {
          "model_module": "@jupyter-widgets/base",
          "model_name": "LayoutModel",
          "model_module_version": "1.2.0",
          "state": {
            "_model_module": "@jupyter-widgets/base",
            "_model_module_version": "1.2.0",
            "_model_name": "LayoutModel",
            "_view_count": null,
            "_view_module": "@jupyter-widgets/base",
            "_view_module_version": "1.2.0",
            "_view_name": "LayoutView",
            "align_content": null,
            "align_items": null,
            "align_self": null,
            "border": null,
            "bottom": null,
            "display": null,
            "flex": null,
            "flex_flow": null,
            "grid_area": null,
            "grid_auto_columns": null,
            "grid_auto_flow": null,
            "grid_auto_rows": null,
            "grid_column": null,
            "grid_gap": null,
            "grid_row": null,
            "grid_template_areas": null,
            "grid_template_columns": null,
            "grid_template_rows": null,
            "height": null,
            "justify_content": null,
            "justify_items": null,
            "left": null,
            "margin": null,
            "max_height": null,
            "max_width": null,
            "min_height": null,
            "min_width": null,
            "object_fit": null,
            "object_position": null,
            "order": null,
            "overflow": null,
            "overflow_x": null,
            "overflow_y": null,
            "padding": null,
            "right": null,
            "top": null,
            "visibility": null,
            "width": null
          }
        },
        "d70bdaca7859453d9432559309bab3ae": {
          "model_module": "@jupyter-widgets/controls",
          "model_name": "DescriptionStyleModel",
          "model_module_version": "1.5.0",
          "state": {
            "_model_module": "@jupyter-widgets/controls",
            "_model_module_version": "1.5.0",
            "_model_name": "DescriptionStyleModel",
            "_view_count": null,
            "_view_module": "@jupyter-widgets/base",
            "_view_module_version": "1.2.0",
            "_view_name": "StyleView",
            "description_width": ""
          }
        },
        "c70b5788dcdb47979083589737c22b70": {
          "model_module": "@jupyter-widgets/base",
          "model_name": "LayoutModel",
          "model_module_version": "1.2.0",
          "state": {
            "_model_module": "@jupyter-widgets/base",
            "_model_module_version": "1.2.0",
            "_model_name": "LayoutModel",
            "_view_count": null,
            "_view_module": "@jupyter-widgets/base",
            "_view_module_version": "1.2.0",
            "_view_name": "LayoutView",
            "align_content": null,
            "align_items": null,
            "align_self": null,
            "border": null,
            "bottom": null,
            "display": null,
            "flex": null,
            "flex_flow": null,
            "grid_area": null,
            "grid_auto_columns": null,
            "grid_auto_flow": null,
            "grid_auto_rows": null,
            "grid_column": null,
            "grid_gap": null,
            "grid_row": null,
            "grid_template_areas": null,
            "grid_template_columns": null,
            "grid_template_rows": null,
            "height": null,
            "justify_content": null,
            "justify_items": null,
            "left": null,
            "margin": null,
            "max_height": null,
            "max_width": null,
            "min_height": null,
            "min_width": null,
            "object_fit": null,
            "object_position": null,
            "order": null,
            "overflow": null,
            "overflow_x": null,
            "overflow_y": null,
            "padding": null,
            "right": null,
            "top": null,
            "visibility": null,
            "width": null
          }
        },
        "330386e1aac041c6bd90573126641b9d": {
          "model_module": "@jupyter-widgets/controls",
          "model_name": "DescriptionStyleModel",
          "model_module_version": "1.5.0",
          "state": {
            "_model_module": "@jupyter-widgets/controls",
            "_model_module_version": "1.5.0",
            "_model_name": "DescriptionStyleModel",
            "_view_count": null,
            "_view_module": "@jupyter-widgets/base",
            "_view_module_version": "1.2.0",
            "_view_name": "StyleView",
            "description_width": ""
          }
        },
        "c6cf05fa6b894a399c9db86f0fe8ed6c": {
          "model_module": "@jupyter-widgets/base",
          "model_name": "LayoutModel",
          "model_module_version": "1.2.0",
          "state": {
            "_model_module": "@jupyter-widgets/base",
            "_model_module_version": "1.2.0",
            "_model_name": "LayoutModel",
            "_view_count": null,
            "_view_module": "@jupyter-widgets/base",
            "_view_module_version": "1.2.0",
            "_view_name": "LayoutView",
            "align_content": null,
            "align_items": null,
            "align_self": null,
            "border": null,
            "bottom": null,
            "display": null,
            "flex": null,
            "flex_flow": null,
            "grid_area": null,
            "grid_auto_columns": null,
            "grid_auto_flow": null,
            "grid_auto_rows": null,
            "grid_column": null,
            "grid_gap": null,
            "grid_row": null,
            "grid_template_areas": null,
            "grid_template_columns": null,
            "grid_template_rows": null,
            "height": null,
            "justify_content": null,
            "justify_items": null,
            "left": null,
            "margin": null,
            "max_height": null,
            "max_width": null,
            "min_height": null,
            "min_width": null,
            "object_fit": null,
            "object_position": null,
            "order": null,
            "overflow": null,
            "overflow_x": null,
            "overflow_y": null,
            "padding": null,
            "right": null,
            "top": null,
            "visibility": null,
            "width": null
          }
        },
        "8077d59f706f4be79c3af3edfe835015": {
          "model_module": "@jupyter-widgets/controls",
          "model_name": "DescriptionStyleModel",
          "model_module_version": "1.5.0",
          "state": {
            "_model_module": "@jupyter-widgets/controls",
            "_model_module_version": "1.5.0",
            "_model_name": "DescriptionStyleModel",
            "_view_count": null,
            "_view_module": "@jupyter-widgets/base",
            "_view_module_version": "1.2.0",
            "_view_name": "StyleView",
            "description_width": ""
          }
        },
        "8ba3c4ddd46e4b4c864ac35ad7d9f923": {
          "model_module": "@jupyter-widgets/base",
          "model_name": "LayoutModel",
          "model_module_version": "1.2.0",
          "state": {
            "_model_module": "@jupyter-widgets/base",
            "_model_module_version": "1.2.0",
            "_model_name": "LayoutModel",
            "_view_count": null,
            "_view_module": "@jupyter-widgets/base",
            "_view_module_version": "1.2.0",
            "_view_name": "LayoutView",
            "align_content": null,
            "align_items": null,
            "align_self": null,
            "border": null,
            "bottom": null,
            "display": null,
            "flex": null,
            "flex_flow": null,
            "grid_area": null,
            "grid_auto_columns": null,
            "grid_auto_flow": null,
            "grid_auto_rows": null,
            "grid_column": null,
            "grid_gap": null,
            "grid_row": null,
            "grid_template_areas": null,
            "grid_template_columns": null,
            "grid_template_rows": null,
            "height": null,
            "justify_content": null,
            "justify_items": null,
            "left": null,
            "margin": null,
            "max_height": null,
            "max_width": null,
            "min_height": null,
            "min_width": null,
            "object_fit": null,
            "object_position": null,
            "order": null,
            "overflow": null,
            "overflow_x": null,
            "overflow_y": null,
            "padding": null,
            "right": null,
            "top": null,
            "visibility": null,
            "width": null
          }
        },
        "46989140f54445ba867c476198b5f64a": {
          "model_module": "@jupyter-widgets/controls",
          "model_name": "DescriptionStyleModel",
          "model_module_version": "1.5.0",
          "state": {
            "_model_module": "@jupyter-widgets/controls",
            "_model_module_version": "1.5.0",
            "_model_name": "DescriptionStyleModel",
            "_view_count": null,
            "_view_module": "@jupyter-widgets/base",
            "_view_module_version": "1.2.0",
            "_view_name": "StyleView",
            "description_width": ""
          }
        },
        "36ade4c725b54d4b9f1652bf4eaa2833": {
          "model_module": "@jupyter-widgets/controls",
          "model_name": "HBoxModel",
          "model_module_version": "1.5.0",
          "state": {
            "_dom_classes": [],
            "_model_module": "@jupyter-widgets/controls",
            "_model_module_version": "1.5.0",
            "_model_name": "HBoxModel",
            "_view_count": null,
            "_view_module": "@jupyter-widgets/controls",
            "_view_module_version": "1.5.0",
            "_view_name": "HBoxView",
            "box_style": "",
            "children": [
              "IPY_MODEL_ae2b8cde157e46beb0615298b04baaf8",
              "IPY_MODEL_e90f7e6f3cad467fab6ca7b18ff4b445",
              "IPY_MODEL_f2ef4e728a43446da34504d72c883663"
            ],
            "layout": "IPY_MODEL_950f093767344653919a3c69808ba492"
          }
        },
        "ae2b8cde157e46beb0615298b04baaf8": {
          "model_module": "@jupyter-widgets/controls",
          "model_name": "HTMLModel",
          "model_module_version": "1.5.0",
          "state": {
            "_dom_classes": [],
            "_model_module": "@jupyter-widgets/controls",
            "_model_module_version": "1.5.0",
            "_model_name": "HTMLModel",
            "_view_count": null,
            "_view_module": "@jupyter-widgets/controls",
            "_view_module_version": "1.5.0",
            "_view_name": "HTMLView",
            "description": "",
            "description_tooltip": null,
            "layout": "IPY_MODEL_73c050a1ba33454d908fa4a239b3af70",
            "placeholder": "​",
            "style": "IPY_MODEL_8f18a2aaf5c64a5598f4b94bd090a1cc",
            "value": "config.json: 100%"
          }
        },
        "e90f7e6f3cad467fab6ca7b18ff4b445": {
          "model_module": "@jupyter-widgets/controls",
          "model_name": "FloatProgressModel",
          "model_module_version": "1.5.0",
          "state": {
            "_dom_classes": [],
            "_model_module": "@jupyter-widgets/controls",
            "_model_module_version": "1.5.0",
            "_model_name": "FloatProgressModel",
            "_view_count": null,
            "_view_module": "@jupyter-widgets/controls",
            "_view_module_version": "1.5.0",
            "_view_name": "ProgressView",
            "bar_style": "success",
            "description": "",
            "description_tooltip": null,
            "layout": "IPY_MODEL_8baaab059b464d398afa06a028ca2af6",
            "max": 571,
            "min": 0,
            "orientation": "horizontal",
            "style": "IPY_MODEL_6ab492a3b0644ca2aff4e450fd7ab4f6",
            "value": 571
          }
        },
        "f2ef4e728a43446da34504d72c883663": {
          "model_module": "@jupyter-widgets/controls",
          "model_name": "HTMLModel",
          "model_module_version": "1.5.0",
          "state": {
            "_dom_classes": [],
            "_model_module": "@jupyter-widgets/controls",
            "_model_module_version": "1.5.0",
            "_model_name": "HTMLModel",
            "_view_count": null,
            "_view_module": "@jupyter-widgets/controls",
            "_view_module_version": "1.5.0",
            "_view_name": "HTMLView",
            "description": "",
            "description_tooltip": null,
            "layout": "IPY_MODEL_3b4ac9d0deb4454299ddb0286908511c",
            "placeholder": "​",
            "style": "IPY_MODEL_b559e5e0c512473e819990cc518e9ad6",
            "value": " 571/571 [00:00&lt;00:00, 48.5kB/s]"
          }
        },
        "950f093767344653919a3c69808ba492": {
          "model_module": "@jupyter-widgets/base",
          "model_name": "LayoutModel",
          "model_module_version": "1.2.0",
          "state": {
            "_model_module": "@jupyter-widgets/base",
            "_model_module_version": "1.2.0",
            "_model_name": "LayoutModel",
            "_view_count": null,
            "_view_module": "@jupyter-widgets/base",
            "_view_module_version": "1.2.0",
            "_view_name": "LayoutView",
            "align_content": null,
            "align_items": null,
            "align_self": null,
            "border": null,
            "bottom": null,
            "display": null,
            "flex": null,
            "flex_flow": null,
            "grid_area": null,
            "grid_auto_columns": null,
            "grid_auto_flow": null,
            "grid_auto_rows": null,
            "grid_column": null,
            "grid_gap": null,
            "grid_row": null,
            "grid_template_areas": null,
            "grid_template_columns": null,
            "grid_template_rows": null,
            "height": null,
            "justify_content": null,
            "justify_items": null,
            "left": null,
            "margin": null,
            "max_height": null,
            "max_width": null,
            "min_height": null,
            "min_width": null,
            "object_fit": null,
            "object_position": null,
            "order": null,
            "overflow": null,
            "overflow_x": null,
            "overflow_y": null,
            "padding": null,
            "right": null,
            "top": null,
            "visibility": null,
            "width": null
          }
        },
        "73c050a1ba33454d908fa4a239b3af70": {
          "model_module": "@jupyter-widgets/base",
          "model_name": "LayoutModel",
          "model_module_version": "1.2.0",
          "state": {
            "_model_module": "@jupyter-widgets/base",
            "_model_module_version": "1.2.0",
            "_model_name": "LayoutModel",
            "_view_count": null,
            "_view_module": "@jupyter-widgets/base",
            "_view_module_version": "1.2.0",
            "_view_name": "LayoutView",
            "align_content": null,
            "align_items": null,
            "align_self": null,
            "border": null,
            "bottom": null,
            "display": null,
            "flex": null,
            "flex_flow": null,
            "grid_area": null,
            "grid_auto_columns": null,
            "grid_auto_flow": null,
            "grid_auto_rows": null,
            "grid_column": null,
            "grid_gap": null,
            "grid_row": null,
            "grid_template_areas": null,
            "grid_template_columns": null,
            "grid_template_rows": null,
            "height": null,
            "justify_content": null,
            "justify_items": null,
            "left": null,
            "margin": null,
            "max_height": null,
            "max_width": null,
            "min_height": null,
            "min_width": null,
            "object_fit": null,
            "object_position": null,
            "order": null,
            "overflow": null,
            "overflow_x": null,
            "overflow_y": null,
            "padding": null,
            "right": null,
            "top": null,
            "visibility": null,
            "width": null
          }
        },
        "8f18a2aaf5c64a5598f4b94bd090a1cc": {
          "model_module": "@jupyter-widgets/controls",
          "model_name": "DescriptionStyleModel",
          "model_module_version": "1.5.0",
          "state": {
            "_model_module": "@jupyter-widgets/controls",
            "_model_module_version": "1.5.0",
            "_model_name": "DescriptionStyleModel",
            "_view_count": null,
            "_view_module": "@jupyter-widgets/base",
            "_view_module_version": "1.2.0",
            "_view_name": "StyleView",
            "description_width": ""
          }
        },
        "8baaab059b464d398afa06a028ca2af6": {
          "model_module": "@jupyter-widgets/base",
          "model_name": "LayoutModel",
          "model_module_version": "1.2.0",
          "state": {
            "_model_module": "@jupyter-widgets/base",
            "_model_module_version": "1.2.0",
            "_model_name": "LayoutModel",
            "_view_count": null,
            "_view_module": "@jupyter-widgets/base",
            "_view_module_version": "1.2.0",
            "_view_name": "LayoutView",
            "align_content": null,
            "align_items": null,
            "align_self": null,
            "border": null,
            "bottom": null,
            "display": null,
            "flex": null,
            "flex_flow": null,
            "grid_area": null,
            "grid_auto_columns": null,
            "grid_auto_flow": null,
            "grid_auto_rows": null,
            "grid_column": null,
            "grid_gap": null,
            "grid_row": null,
            "grid_template_areas": null,
            "grid_template_columns": null,
            "grid_template_rows": null,
            "height": null,
            "justify_content": null,
            "justify_items": null,
            "left": null,
            "margin": null,
            "max_height": null,
            "max_width": null,
            "min_height": null,
            "min_width": null,
            "object_fit": null,
            "object_position": null,
            "order": null,
            "overflow": null,
            "overflow_x": null,
            "overflow_y": null,
            "padding": null,
            "right": null,
            "top": null,
            "visibility": null,
            "width": null
          }
        },
        "6ab492a3b0644ca2aff4e450fd7ab4f6": {
          "model_module": "@jupyter-widgets/controls",
          "model_name": "ProgressStyleModel",
          "model_module_version": "1.5.0",
          "state": {
            "_model_module": "@jupyter-widgets/controls",
            "_model_module_version": "1.5.0",
            "_model_name": "ProgressStyleModel",
            "_view_count": null,
            "_view_module": "@jupyter-widgets/base",
            "_view_module_version": "1.2.0",
            "_view_name": "StyleView",
            "bar_color": null,
            "description_width": ""
          }
        },
        "3b4ac9d0deb4454299ddb0286908511c": {
          "model_module": "@jupyter-widgets/base",
          "model_name": "LayoutModel",
          "model_module_version": "1.2.0",
          "state": {
            "_model_module": "@jupyter-widgets/base",
            "_model_module_version": "1.2.0",
            "_model_name": "LayoutModel",
            "_view_count": null,
            "_view_module": "@jupyter-widgets/base",
            "_view_module_version": "1.2.0",
            "_view_name": "LayoutView",
            "align_content": null,
            "align_items": null,
            "align_self": null,
            "border": null,
            "bottom": null,
            "display": null,
            "flex": null,
            "flex_flow": null,
            "grid_area": null,
            "grid_auto_columns": null,
            "grid_auto_flow": null,
            "grid_auto_rows": null,
            "grid_column": null,
            "grid_gap": null,
            "grid_row": null,
            "grid_template_areas": null,
            "grid_template_columns": null,
            "grid_template_rows": null,
            "height": null,
            "justify_content": null,
            "justify_items": null,
            "left": null,
            "margin": null,
            "max_height": null,
            "max_width": null,
            "min_height": null,
            "min_width": null,
            "object_fit": null,
            "object_position": null,
            "order": null,
            "overflow": null,
            "overflow_x": null,
            "overflow_y": null,
            "padding": null,
            "right": null,
            "top": null,
            "visibility": null,
            "width": null
          }
        },
        "b559e5e0c512473e819990cc518e9ad6": {
          "model_module": "@jupyter-widgets/controls",
          "model_name": "DescriptionStyleModel",
          "model_module_version": "1.5.0",
          "state": {
            "_model_module": "@jupyter-widgets/controls",
            "_model_module_version": "1.5.0",
            "_model_name": "DescriptionStyleModel",
            "_view_count": null,
            "_view_module": "@jupyter-widgets/base",
            "_view_module_version": "1.2.0",
            "_view_name": "StyleView",
            "description_width": ""
          }
        },
        "b139b822b17849a9aa592cfc246c495b": {
          "model_module": "@jupyter-widgets/controls",
          "model_name": "HBoxModel",
          "model_module_version": "1.5.0",
          "state": {
            "_dom_classes": [],
            "_model_module": "@jupyter-widgets/controls",
            "_model_module_version": "1.5.0",
            "_model_name": "HBoxModel",
            "_view_count": null,
            "_view_module": "@jupyter-widgets/controls",
            "_view_module_version": "1.5.0",
            "_view_name": "HBoxView",
            "box_style": "",
            "children": [
              "IPY_MODEL_64188dee9c4646b08db1b71c4f751d29",
              "IPY_MODEL_c3c412f559a04574bc6cc45bef89cdd1",
              "IPY_MODEL_f97107b10b1c4c0fbba71b958ba08886"
            ],
            "layout": "IPY_MODEL_f3de2020c5294fa9b918f122a9702db2"
          }
        },
        "64188dee9c4646b08db1b71c4f751d29": {
          "model_module": "@jupyter-widgets/controls",
          "model_name": "HTMLModel",
          "model_module_version": "1.5.0",
          "state": {
            "_dom_classes": [],
            "_model_module": "@jupyter-widgets/controls",
            "_model_module_version": "1.5.0",
            "_model_name": "HTMLModel",
            "_view_count": null,
            "_view_module": "@jupyter-widgets/controls",
            "_view_module_version": "1.5.0",
            "_view_name": "HTMLView",
            "description": "",
            "description_tooltip": null,
            "layout": "IPY_MODEL_eb71fb49c23e494891e82c5623501b47",
            "placeholder": "​",
            "style": "IPY_MODEL_d3951544108f4d6e96b863adfdc9dae8",
            "value": "model.safetensors.index.json: 100%"
          }
        },
        "c3c412f559a04574bc6cc45bef89cdd1": {
          "model_module": "@jupyter-widgets/controls",
          "model_name": "FloatProgressModel",
          "model_module_version": "1.5.0",
          "state": {
            "_dom_classes": [],
            "_model_module": "@jupyter-widgets/controls",
            "_model_module_version": "1.5.0",
            "_model_name": "FloatProgressModel",
            "_view_count": null,
            "_view_module": "@jupyter-widgets/controls",
            "_view_module_version": "1.5.0",
            "_view_name": "ProgressView",
            "bar_style": "success",
            "description": "",
            "description_tooltip": null,
            "layout": "IPY_MODEL_c4720386a8014e8085e9c8f0fcb94dd4",
            "max": 25125,
            "min": 0,
            "orientation": "horizontal",
            "style": "IPY_MODEL_2ed999f3e57846d59cb7a368a67999bb",
            "value": 25125
          }
        },
        "f97107b10b1c4c0fbba71b958ba08886": {
          "model_module": "@jupyter-widgets/controls",
          "model_name": "HTMLModel",
          "model_module_version": "1.5.0",
          "state": {
            "_dom_classes": [],
            "_model_module": "@jupyter-widgets/controls",
            "_model_module_version": "1.5.0",
            "_model_name": "HTMLModel",
            "_view_count": null,
            "_view_module": "@jupyter-widgets/controls",
            "_view_module_version": "1.5.0",
            "_view_name": "HTMLView",
            "description": "",
            "description_tooltip": null,
            "layout": "IPY_MODEL_ee9725cb56ed43d2b96bceaefb9e7719",
            "placeholder": "​",
            "style": "IPY_MODEL_fd307013b9594155bcb8380c54c6d0b7",
            "value": " 25.1k/25.1k [00:00&lt;00:00, 2.33MB/s]"
          }
        },
        "f3de2020c5294fa9b918f122a9702db2": {
          "model_module": "@jupyter-widgets/base",
          "model_name": "LayoutModel",
          "model_module_version": "1.2.0",
          "state": {
            "_model_module": "@jupyter-widgets/base",
            "_model_module_version": "1.2.0",
            "_model_name": "LayoutModel",
            "_view_count": null,
            "_view_module": "@jupyter-widgets/base",
            "_view_module_version": "1.2.0",
            "_view_name": "LayoutView",
            "align_content": null,
            "align_items": null,
            "align_self": null,
            "border": null,
            "bottom": null,
            "display": null,
            "flex": null,
            "flex_flow": null,
            "grid_area": null,
            "grid_auto_columns": null,
            "grid_auto_flow": null,
            "grid_auto_rows": null,
            "grid_column": null,
            "grid_gap": null,
            "grid_row": null,
            "grid_template_areas": null,
            "grid_template_columns": null,
            "grid_template_rows": null,
            "height": null,
            "justify_content": null,
            "justify_items": null,
            "left": null,
            "margin": null,
            "max_height": null,
            "max_width": null,
            "min_height": null,
            "min_width": null,
            "object_fit": null,
            "object_position": null,
            "order": null,
            "overflow": null,
            "overflow_x": null,
            "overflow_y": null,
            "padding": null,
            "right": null,
            "top": null,
            "visibility": null,
            "width": null
          }
        },
        "eb71fb49c23e494891e82c5623501b47": {
          "model_module": "@jupyter-widgets/base",
          "model_name": "LayoutModel",
          "model_module_version": "1.2.0",
          "state": {
            "_model_module": "@jupyter-widgets/base",
            "_model_module_version": "1.2.0",
            "_model_name": "LayoutModel",
            "_view_count": null,
            "_view_module": "@jupyter-widgets/base",
            "_view_module_version": "1.2.0",
            "_view_name": "LayoutView",
            "align_content": null,
            "align_items": null,
            "align_self": null,
            "border": null,
            "bottom": null,
            "display": null,
            "flex": null,
            "flex_flow": null,
            "grid_area": null,
            "grid_auto_columns": null,
            "grid_auto_flow": null,
            "grid_auto_rows": null,
            "grid_column": null,
            "grid_gap": null,
            "grid_row": null,
            "grid_template_areas": null,
            "grid_template_columns": null,
            "grid_template_rows": null,
            "height": null,
            "justify_content": null,
            "justify_items": null,
            "left": null,
            "margin": null,
            "max_height": null,
            "max_width": null,
            "min_height": null,
            "min_width": null,
            "object_fit": null,
            "object_position": null,
            "order": null,
            "overflow": null,
            "overflow_x": null,
            "overflow_y": null,
            "padding": null,
            "right": null,
            "top": null,
            "visibility": null,
            "width": null
          }
        },
        "d3951544108f4d6e96b863adfdc9dae8": {
          "model_module": "@jupyter-widgets/controls",
          "model_name": "DescriptionStyleModel",
          "model_module_version": "1.5.0",
          "state": {
            "_model_module": "@jupyter-widgets/controls",
            "_model_module_version": "1.5.0",
            "_model_name": "DescriptionStyleModel",
            "_view_count": null,
            "_view_module": "@jupyter-widgets/base",
            "_view_module_version": "1.2.0",
            "_view_name": "StyleView",
            "description_width": ""
          }
        },
        "c4720386a8014e8085e9c8f0fcb94dd4": {
          "model_module": "@jupyter-widgets/base",
          "model_name": "LayoutModel",
          "model_module_version": "1.2.0",
          "state": {
            "_model_module": "@jupyter-widgets/base",
            "_model_module_version": "1.2.0",
            "_model_name": "LayoutModel",
            "_view_count": null,
            "_view_module": "@jupyter-widgets/base",
            "_view_module_version": "1.2.0",
            "_view_name": "LayoutView",
            "align_content": null,
            "align_items": null,
            "align_self": null,
            "border": null,
            "bottom": null,
            "display": null,
            "flex": null,
            "flex_flow": null,
            "grid_area": null,
            "grid_auto_columns": null,
            "grid_auto_flow": null,
            "grid_auto_rows": null,
            "grid_column": null,
            "grid_gap": null,
            "grid_row": null,
            "grid_template_areas": null,
            "grid_template_columns": null,
            "grid_template_rows": null,
            "height": null,
            "justify_content": null,
            "justify_items": null,
            "left": null,
            "margin": null,
            "max_height": null,
            "max_width": null,
            "min_height": null,
            "min_width": null,
            "object_fit": null,
            "object_position": null,
            "order": null,
            "overflow": null,
            "overflow_x": null,
            "overflow_y": null,
            "padding": null,
            "right": null,
            "top": null,
            "visibility": null,
            "width": null
          }
        },
        "2ed999f3e57846d59cb7a368a67999bb": {
          "model_module": "@jupyter-widgets/controls",
          "model_name": "ProgressStyleModel",
          "model_module_version": "1.5.0",
          "state": {
            "_model_module": "@jupyter-widgets/controls",
            "_model_module_version": "1.5.0",
            "_model_name": "ProgressStyleModel",
            "_view_count": null,
            "_view_module": "@jupyter-widgets/base",
            "_view_module_version": "1.2.0",
            "_view_name": "StyleView",
            "bar_color": null,
            "description_width": ""
          }
        },
        "ee9725cb56ed43d2b96bceaefb9e7719": {
          "model_module": "@jupyter-widgets/base",
          "model_name": "LayoutModel",
          "model_module_version": "1.2.0",
          "state": {
            "_model_module": "@jupyter-widgets/base",
            "_model_module_version": "1.2.0",
            "_model_name": "LayoutModel",
            "_view_count": null,
            "_view_module": "@jupyter-widgets/base",
            "_view_module_version": "1.2.0",
            "_view_name": "LayoutView",
            "align_content": null,
            "align_items": null,
            "align_self": null,
            "border": null,
            "bottom": null,
            "display": null,
            "flex": null,
            "flex_flow": null,
            "grid_area": null,
            "grid_auto_columns": null,
            "grid_auto_flow": null,
            "grid_auto_rows": null,
            "grid_column": null,
            "grid_gap": null,
            "grid_row": null,
            "grid_template_areas": null,
            "grid_template_columns": null,
            "grid_template_rows": null,
            "height": null,
            "justify_content": null,
            "justify_items": null,
            "left": null,
            "margin": null,
            "max_height": null,
            "max_width": null,
            "min_height": null,
            "min_width": null,
            "object_fit": null,
            "object_position": null,
            "order": null,
            "overflow": null,
            "overflow_x": null,
            "overflow_y": null,
            "padding": null,
            "right": null,
            "top": null,
            "visibility": null,
            "width": null
          }
        },
        "fd307013b9594155bcb8380c54c6d0b7": {
          "model_module": "@jupyter-widgets/controls",
          "model_name": "DescriptionStyleModel",
          "model_module_version": "1.5.0",
          "state": {
            "_model_module": "@jupyter-widgets/controls",
            "_model_module_version": "1.5.0",
            "_model_name": "DescriptionStyleModel",
            "_view_count": null,
            "_view_module": "@jupyter-widgets/base",
            "_view_module_version": "1.2.0",
            "_view_name": "StyleView",
            "description_width": ""
          }
        },
        "d4c77d6216f548bfb61a489bb7cafb35": {
          "model_module": "@jupyter-widgets/controls",
          "model_name": "HBoxModel",
          "model_module_version": "1.5.0",
          "state": {
            "_dom_classes": [],
            "_model_module": "@jupyter-widgets/controls",
            "_model_module_version": "1.5.0",
            "_model_name": "HBoxModel",
            "_view_count": null,
            "_view_module": "@jupyter-widgets/controls",
            "_view_module_version": "1.5.0",
            "_view_name": "HBoxView",
            "box_style": "",
            "children": [
              "IPY_MODEL_edfc3d93d8bc45f08f45b962e1aad7e8",
              "IPY_MODEL_350a04ae3a5948db96dab28df06ae6f0",
              "IPY_MODEL_8b0d0a28299546e89e7b55f45ac3e728"
            ],
            "layout": "IPY_MODEL_1231e739970745698f5942662202f50e"
          }
        },
        "edfc3d93d8bc45f08f45b962e1aad7e8": {
          "model_module": "@jupyter-widgets/controls",
          "model_name": "HTMLModel",
          "model_module_version": "1.5.0",
          "state": {
            "_dom_classes": [],
            "_model_module": "@jupyter-widgets/controls",
            "_model_module_version": "1.5.0",
            "_model_name": "HTMLModel",
            "_view_count": null,
            "_view_module": "@jupyter-widgets/controls",
            "_view_module_version": "1.5.0",
            "_view_name": "HTMLView",
            "description": "",
            "description_tooltip": null,
            "layout": "IPY_MODEL_7c20c87ee2f247ab98cb1f6485cf6542",
            "placeholder": "​",
            "style": "IPY_MODEL_a0ca3667c653418197f7e9e1e5b70ffa",
            "value": "Downloading shards: 100%"
          }
        },
        "350a04ae3a5948db96dab28df06ae6f0": {
          "model_module": "@jupyter-widgets/controls",
          "model_name": "FloatProgressModel",
          "model_module_version": "1.5.0",
          "state": {
            "_dom_classes": [],
            "_model_module": "@jupyter-widgets/controls",
            "_model_module_version": "1.5.0",
            "_model_name": "FloatProgressModel",
            "_view_count": null,
            "_view_module": "@jupyter-widgets/controls",
            "_view_module_version": "1.5.0",
            "_view_name": "ProgressView",
            "bar_style": "success",
            "description": "",
            "description_tooltip": null,
            "layout": "IPY_MODEL_33fe46979bb743a4b211507fcbaba5ce",
            "max": 2,
            "min": 0,
            "orientation": "horizontal",
            "style": "IPY_MODEL_4b948bbd93384e58b41e5824ac924826",
            "value": 2
          }
        },
        "8b0d0a28299546e89e7b55f45ac3e728": {
          "model_module": "@jupyter-widgets/controls",
          "model_name": "HTMLModel",
          "model_module_version": "1.5.0",
          "state": {
            "_dom_classes": [],
            "_model_module": "@jupyter-widgets/controls",
            "_model_module_version": "1.5.0",
            "_model_name": "HTMLModel",
            "_view_count": null,
            "_view_module": "@jupyter-widgets/controls",
            "_view_module_version": "1.5.0",
            "_view_name": "HTMLView",
            "description": "",
            "description_tooltip": null,
            "layout": "IPY_MODEL_338b388c52aa4ab69eadfbda2cb064ef",
            "placeholder": "​",
            "style": "IPY_MODEL_b5b61483452d4646b86af097e98c70d3",
            "value": " 2/2 [10:48&lt;00:00, 302.05s/it]"
          }
        },
        "1231e739970745698f5942662202f50e": {
          "model_module": "@jupyter-widgets/base",
          "model_name": "LayoutModel",
          "model_module_version": "1.2.0",
          "state": {
            "_model_module": "@jupyter-widgets/base",
            "_model_module_version": "1.2.0",
            "_model_name": "LayoutModel",
            "_view_count": null,
            "_view_module": "@jupyter-widgets/base",
            "_view_module_version": "1.2.0",
            "_view_name": "LayoutView",
            "align_content": null,
            "align_items": null,
            "align_self": null,
            "border": null,
            "bottom": null,
            "display": null,
            "flex": null,
            "flex_flow": null,
            "grid_area": null,
            "grid_auto_columns": null,
            "grid_auto_flow": null,
            "grid_auto_rows": null,
            "grid_column": null,
            "grid_gap": null,
            "grid_row": null,
            "grid_template_areas": null,
            "grid_template_columns": null,
            "grid_template_rows": null,
            "height": null,
            "justify_content": null,
            "justify_items": null,
            "left": null,
            "margin": null,
            "max_height": null,
            "max_width": null,
            "min_height": null,
            "min_width": null,
            "object_fit": null,
            "object_position": null,
            "order": null,
            "overflow": null,
            "overflow_x": null,
            "overflow_y": null,
            "padding": null,
            "right": null,
            "top": null,
            "visibility": null,
            "width": null
          }
        },
        "7c20c87ee2f247ab98cb1f6485cf6542": {
          "model_module": "@jupyter-widgets/base",
          "model_name": "LayoutModel",
          "model_module_version": "1.2.0",
          "state": {
            "_model_module": "@jupyter-widgets/base",
            "_model_module_version": "1.2.0",
            "_model_name": "LayoutModel",
            "_view_count": null,
            "_view_module": "@jupyter-widgets/base",
            "_view_module_version": "1.2.0",
            "_view_name": "LayoutView",
            "align_content": null,
            "align_items": null,
            "align_self": null,
            "border": null,
            "bottom": null,
            "display": null,
            "flex": null,
            "flex_flow": null,
            "grid_area": null,
            "grid_auto_columns": null,
            "grid_auto_flow": null,
            "grid_auto_rows": null,
            "grid_column": null,
            "grid_gap": null,
            "grid_row": null,
            "grid_template_areas": null,
            "grid_template_columns": null,
            "grid_template_rows": null,
            "height": null,
            "justify_content": null,
            "justify_items": null,
            "left": null,
            "margin": null,
            "max_height": null,
            "max_width": null,
            "min_height": null,
            "min_width": null,
            "object_fit": null,
            "object_position": null,
            "order": null,
            "overflow": null,
            "overflow_x": null,
            "overflow_y": null,
            "padding": null,
            "right": null,
            "top": null,
            "visibility": null,
            "width": null
          }
        },
        "a0ca3667c653418197f7e9e1e5b70ffa": {
          "model_module": "@jupyter-widgets/controls",
          "model_name": "DescriptionStyleModel",
          "model_module_version": "1.5.0",
          "state": {
            "_model_module": "@jupyter-widgets/controls",
            "_model_module_version": "1.5.0",
            "_model_name": "DescriptionStyleModel",
            "_view_count": null,
            "_view_module": "@jupyter-widgets/base",
            "_view_module_version": "1.2.0",
            "_view_name": "StyleView",
            "description_width": ""
          }
        },
        "33fe46979bb743a4b211507fcbaba5ce": {
          "model_module": "@jupyter-widgets/base",
          "model_name": "LayoutModel",
          "model_module_version": "1.2.0",
          "state": {
            "_model_module": "@jupyter-widgets/base",
            "_model_module_version": "1.2.0",
            "_model_name": "LayoutModel",
            "_view_count": null,
            "_view_module": "@jupyter-widgets/base",
            "_view_module_version": "1.2.0",
            "_view_name": "LayoutView",
            "align_content": null,
            "align_items": null,
            "align_self": null,
            "border": null,
            "bottom": null,
            "display": null,
            "flex": null,
            "flex_flow": null,
            "grid_area": null,
            "grid_auto_columns": null,
            "grid_auto_flow": null,
            "grid_auto_rows": null,
            "grid_column": null,
            "grid_gap": null,
            "grid_row": null,
            "grid_template_areas": null,
            "grid_template_columns": null,
            "grid_template_rows": null,
            "height": null,
            "justify_content": null,
            "justify_items": null,
            "left": null,
            "margin": null,
            "max_height": null,
            "max_width": null,
            "min_height": null,
            "min_width": null,
            "object_fit": null,
            "object_position": null,
            "order": null,
            "overflow": null,
            "overflow_x": null,
            "overflow_y": null,
            "padding": null,
            "right": null,
            "top": null,
            "visibility": null,
            "width": null
          }
        },
        "4b948bbd93384e58b41e5824ac924826": {
          "model_module": "@jupyter-widgets/controls",
          "model_name": "ProgressStyleModel",
          "model_module_version": "1.5.0",
          "state": {
            "_model_module": "@jupyter-widgets/controls",
            "_model_module_version": "1.5.0",
            "_model_name": "ProgressStyleModel",
            "_view_count": null,
            "_view_module": "@jupyter-widgets/base",
            "_view_module_version": "1.2.0",
            "_view_name": "StyleView",
            "bar_color": null,
            "description_width": ""
          }
        },
        "338b388c52aa4ab69eadfbda2cb064ef": {
          "model_module": "@jupyter-widgets/base",
          "model_name": "LayoutModel",
          "model_module_version": "1.2.0",
          "state": {
            "_model_module": "@jupyter-widgets/base",
            "_model_module_version": "1.2.0",
            "_model_name": "LayoutModel",
            "_view_count": null,
            "_view_module": "@jupyter-widgets/base",
            "_view_module_version": "1.2.0",
            "_view_name": "LayoutView",
            "align_content": null,
            "align_items": null,
            "align_self": null,
            "border": null,
            "bottom": null,
            "display": null,
            "flex": null,
            "flex_flow": null,
            "grid_area": null,
            "grid_auto_columns": null,
            "grid_auto_flow": null,
            "grid_auto_rows": null,
            "grid_column": null,
            "grid_gap": null,
            "grid_row": null,
            "grid_template_areas": null,
            "grid_template_columns": null,
            "grid_template_rows": null,
            "height": null,
            "justify_content": null,
            "justify_items": null,
            "left": null,
            "margin": null,
            "max_height": null,
            "max_width": null,
            "min_height": null,
            "min_width": null,
            "object_fit": null,
            "object_position": null,
            "order": null,
            "overflow": null,
            "overflow_x": null,
            "overflow_y": null,
            "padding": null,
            "right": null,
            "top": null,
            "visibility": null,
            "width": null
          }
        },
        "b5b61483452d4646b86af097e98c70d3": {
          "model_module": "@jupyter-widgets/controls",
          "model_name": "DescriptionStyleModel",
          "model_module_version": "1.5.0",
          "state": {
            "_model_module": "@jupyter-widgets/controls",
            "_model_module_version": "1.5.0",
            "_model_name": "DescriptionStyleModel",
            "_view_count": null,
            "_view_module": "@jupyter-widgets/base",
            "_view_module_version": "1.2.0",
            "_view_name": "StyleView",
            "description_width": ""
          }
        },
        "01a2cf39acae42a7805d8f942e8066cb": {
          "model_module": "@jupyter-widgets/controls",
          "model_name": "HBoxModel",
          "model_module_version": "1.5.0",
          "state": {
            "_dom_classes": [],
            "_model_module": "@jupyter-widgets/controls",
            "_model_module_version": "1.5.0",
            "_model_name": "HBoxModel",
            "_view_count": null,
            "_view_module": "@jupyter-widgets/controls",
            "_view_module_version": "1.5.0",
            "_view_name": "HBoxView",
            "box_style": "",
            "children": [
              "IPY_MODEL_bedb0ab13ae44d6983ae53c4459ed4c2",
              "IPY_MODEL_c061a69cd9ab456b9932a2fc8c3e81ed",
              "IPY_MODEL_baed2a3167ba4ccfabb6d3fffbc7f130"
            ],
            "layout": "IPY_MODEL_aeace81465104115bd4389abe5d74a55"
          }
        },
        "bedb0ab13ae44d6983ae53c4459ed4c2": {
          "model_module": "@jupyter-widgets/controls",
          "model_name": "HTMLModel",
          "model_module_version": "1.5.0",
          "state": {
            "_dom_classes": [],
            "_model_module": "@jupyter-widgets/controls",
            "_model_module_version": "1.5.0",
            "_model_name": "HTMLModel",
            "_view_count": null,
            "_view_module": "@jupyter-widgets/controls",
            "_view_module_version": "1.5.0",
            "_view_name": "HTMLView",
            "description": "",
            "description_tooltip": null,
            "layout": "IPY_MODEL_2cc61742dee44f9cbcfce2c789f6679d",
            "placeholder": "​",
            "style": "IPY_MODEL_c3d7b85e4d5b47869012f672e8fd8f23",
            "value": "model-00001-of-00002.safetensors: 100%"
          }
        },
        "c061a69cd9ab456b9932a2fc8c3e81ed": {
          "model_module": "@jupyter-widgets/controls",
          "model_name": "FloatProgressModel",
          "model_module_version": "1.5.0",
          "state": {
            "_dom_classes": [],
            "_model_module": "@jupyter-widgets/controls",
            "_model_module_version": "1.5.0",
            "_model_name": "FloatProgressModel",
            "_view_count": null,
            "_view_module": "@jupyter-widgets/controls",
            "_view_module_version": "1.5.0",
            "_view_name": "ProgressView",
            "bar_style": "success",
            "description": "",
            "description_tooltip": null,
            "layout": "IPY_MODEL_c8d64f411d364823ab1e3e4622ab2678",
            "max": 9942981696,
            "min": 0,
            "orientation": "horizontal",
            "style": "IPY_MODEL_48f35bac0b824003b11dc8971218f39e",
            "value": 9942981696
          }
        },
        "baed2a3167ba4ccfabb6d3fffbc7f130": {
          "model_module": "@jupyter-widgets/controls",
          "model_name": "HTMLModel",
          "model_module_version": "1.5.0",
          "state": {
            "_dom_classes": [],
            "_model_module": "@jupyter-widgets/controls",
            "_model_module_version": "1.5.0",
            "_model_name": "HTMLModel",
            "_view_count": null,
            "_view_module": "@jupyter-widgets/controls",
            "_view_module_version": "1.5.0",
            "_view_name": "HTMLView",
            "description": "",
            "description_tooltip": null,
            "layout": "IPY_MODEL_bd96938c3e1a40289956592daf4bf1eb",
            "placeholder": "​",
            "style": "IPY_MODEL_aed858b81d054e248c2ec5325ac54953",
            "value": " 9.94G/9.94G [07:30&lt;00:00, 20.1MB/s]"
          }
        },
        "aeace81465104115bd4389abe5d74a55": {
          "model_module": "@jupyter-widgets/base",
          "model_name": "LayoutModel",
          "model_module_version": "1.2.0",
          "state": {
            "_model_module": "@jupyter-widgets/base",
            "_model_module_version": "1.2.0",
            "_model_name": "LayoutModel",
            "_view_count": null,
            "_view_module": "@jupyter-widgets/base",
            "_view_module_version": "1.2.0",
            "_view_name": "LayoutView",
            "align_content": null,
            "align_items": null,
            "align_self": null,
            "border": null,
            "bottom": null,
            "display": null,
            "flex": null,
            "flex_flow": null,
            "grid_area": null,
            "grid_auto_columns": null,
            "grid_auto_flow": null,
            "grid_auto_rows": null,
            "grid_column": null,
            "grid_gap": null,
            "grid_row": null,
            "grid_template_areas": null,
            "grid_template_columns": null,
            "grid_template_rows": null,
            "height": null,
            "justify_content": null,
            "justify_items": null,
            "left": null,
            "margin": null,
            "max_height": null,
            "max_width": null,
            "min_height": null,
            "min_width": null,
            "object_fit": null,
            "object_position": null,
            "order": null,
            "overflow": null,
            "overflow_x": null,
            "overflow_y": null,
            "padding": null,
            "right": null,
            "top": null,
            "visibility": null,
            "width": null
          }
        },
        "2cc61742dee44f9cbcfce2c789f6679d": {
          "model_module": "@jupyter-widgets/base",
          "model_name": "LayoutModel",
          "model_module_version": "1.2.0",
          "state": {
            "_model_module": "@jupyter-widgets/base",
            "_model_module_version": "1.2.0",
            "_model_name": "LayoutModel",
            "_view_count": null,
            "_view_module": "@jupyter-widgets/base",
            "_view_module_version": "1.2.0",
            "_view_name": "LayoutView",
            "align_content": null,
            "align_items": null,
            "align_self": null,
            "border": null,
            "bottom": null,
            "display": null,
            "flex": null,
            "flex_flow": null,
            "grid_area": null,
            "grid_auto_columns": null,
            "grid_auto_flow": null,
            "grid_auto_rows": null,
            "grid_column": null,
            "grid_gap": null,
            "grid_row": null,
            "grid_template_areas": null,
            "grid_template_columns": null,
            "grid_template_rows": null,
            "height": null,
            "justify_content": null,
            "justify_items": null,
            "left": null,
            "margin": null,
            "max_height": null,
            "max_width": null,
            "min_height": null,
            "min_width": null,
            "object_fit": null,
            "object_position": null,
            "order": null,
            "overflow": null,
            "overflow_x": null,
            "overflow_y": null,
            "padding": null,
            "right": null,
            "top": null,
            "visibility": null,
            "width": null
          }
        },
        "c3d7b85e4d5b47869012f672e8fd8f23": {
          "model_module": "@jupyter-widgets/controls",
          "model_name": "DescriptionStyleModel",
          "model_module_version": "1.5.0",
          "state": {
            "_model_module": "@jupyter-widgets/controls",
            "_model_module_version": "1.5.0",
            "_model_name": "DescriptionStyleModel",
            "_view_count": null,
            "_view_module": "@jupyter-widgets/base",
            "_view_module_version": "1.2.0",
            "_view_name": "StyleView",
            "description_width": ""
          }
        },
        "c8d64f411d364823ab1e3e4622ab2678": {
          "model_module": "@jupyter-widgets/base",
          "model_name": "LayoutModel",
          "model_module_version": "1.2.0",
          "state": {
            "_model_module": "@jupyter-widgets/base",
            "_model_module_version": "1.2.0",
            "_model_name": "LayoutModel",
            "_view_count": null,
            "_view_module": "@jupyter-widgets/base",
            "_view_module_version": "1.2.0",
            "_view_name": "LayoutView",
            "align_content": null,
            "align_items": null,
            "align_self": null,
            "border": null,
            "bottom": null,
            "display": null,
            "flex": null,
            "flex_flow": null,
            "grid_area": null,
            "grid_auto_columns": null,
            "grid_auto_flow": null,
            "grid_auto_rows": null,
            "grid_column": null,
            "grid_gap": null,
            "grid_row": null,
            "grid_template_areas": null,
            "grid_template_columns": null,
            "grid_template_rows": null,
            "height": null,
            "justify_content": null,
            "justify_items": null,
            "left": null,
            "margin": null,
            "max_height": null,
            "max_width": null,
            "min_height": null,
            "min_width": null,
            "object_fit": null,
            "object_position": null,
            "order": null,
            "overflow": null,
            "overflow_x": null,
            "overflow_y": null,
            "padding": null,
            "right": null,
            "top": null,
            "visibility": null,
            "width": null
          }
        },
        "48f35bac0b824003b11dc8971218f39e": {
          "model_module": "@jupyter-widgets/controls",
          "model_name": "ProgressStyleModel",
          "model_module_version": "1.5.0",
          "state": {
            "_model_module": "@jupyter-widgets/controls",
            "_model_module_version": "1.5.0",
            "_model_name": "ProgressStyleModel",
            "_view_count": null,
            "_view_module": "@jupyter-widgets/base",
            "_view_module_version": "1.2.0",
            "_view_name": "StyleView",
            "bar_color": null,
            "description_width": ""
          }
        },
        "bd96938c3e1a40289956592daf4bf1eb": {
          "model_module": "@jupyter-widgets/base",
          "model_name": "LayoutModel",
          "model_module_version": "1.2.0",
          "state": {
            "_model_module": "@jupyter-widgets/base",
            "_model_module_version": "1.2.0",
            "_model_name": "LayoutModel",
            "_view_count": null,
            "_view_module": "@jupyter-widgets/base",
            "_view_module_version": "1.2.0",
            "_view_name": "LayoutView",
            "align_content": null,
            "align_items": null,
            "align_self": null,
            "border": null,
            "bottom": null,
            "display": null,
            "flex": null,
            "flex_flow": null,
            "grid_area": null,
            "grid_auto_columns": null,
            "grid_auto_flow": null,
            "grid_auto_rows": null,
            "grid_column": null,
            "grid_gap": null,
            "grid_row": null,
            "grid_template_areas": null,
            "grid_template_columns": null,
            "grid_template_rows": null,
            "height": null,
            "justify_content": null,
            "justify_items": null,
            "left": null,
            "margin": null,
            "max_height": null,
            "max_width": null,
            "min_height": null,
            "min_width": null,
            "object_fit": null,
            "object_position": null,
            "order": null,
            "overflow": null,
            "overflow_x": null,
            "overflow_y": null,
            "padding": null,
            "right": null,
            "top": null,
            "visibility": null,
            "width": null
          }
        },
        "aed858b81d054e248c2ec5325ac54953": {
          "model_module": "@jupyter-widgets/controls",
          "model_name": "DescriptionStyleModel",
          "model_module_version": "1.5.0",
          "state": {
            "_model_module": "@jupyter-widgets/controls",
            "_model_module_version": "1.5.0",
            "_model_name": "DescriptionStyleModel",
            "_view_count": null,
            "_view_module": "@jupyter-widgets/base",
            "_view_module_version": "1.2.0",
            "_view_name": "StyleView",
            "description_width": ""
          }
        },
        "9891343402e24389ade4d86079d1741d": {
          "model_module": "@jupyter-widgets/controls",
          "model_name": "HBoxModel",
          "model_module_version": "1.5.0",
          "state": {
            "_dom_classes": [],
            "_model_module": "@jupyter-widgets/controls",
            "_model_module_version": "1.5.0",
            "_model_name": "HBoxModel",
            "_view_count": null,
            "_view_module": "@jupyter-widgets/controls",
            "_view_module_version": "1.5.0",
            "_view_name": "HBoxView",
            "box_style": "",
            "children": [
              "IPY_MODEL_fdaaa3c79d5e4a549e09b7d2fe7254f9",
              "IPY_MODEL_8cde657676164235bb4c731f0bd8bb01",
              "IPY_MODEL_70beb4ed13f14c0fa3c836289ac65df4"
            ],
            "layout": "IPY_MODEL_9cb9c46ab6894fcebe54427e5bc1d892"
          }
        },
        "fdaaa3c79d5e4a549e09b7d2fe7254f9": {
          "model_module": "@jupyter-widgets/controls",
          "model_name": "HTMLModel",
          "model_module_version": "1.5.0",
          "state": {
            "_dom_classes": [],
            "_model_module": "@jupyter-widgets/controls",
            "_model_module_version": "1.5.0",
            "_model_name": "HTMLModel",
            "_view_count": null,
            "_view_module": "@jupyter-widgets/controls",
            "_view_module_version": "1.5.0",
            "_view_name": "HTMLView",
            "description": "",
            "description_tooltip": null,
            "layout": "IPY_MODEL_4f8671bb2b3c433387d06858555949f4",
            "placeholder": "​",
            "style": "IPY_MODEL_385de87db4e34df79cf86c4ce8397060",
            "value": "model-00002-of-00002.safetensors: 100%"
          }
        },
        "8cde657676164235bb4c731f0bd8bb01": {
          "model_module": "@jupyter-widgets/controls",
          "model_name": "FloatProgressModel",
          "model_module_version": "1.5.0",
          "state": {
            "_dom_classes": [],
            "_model_module": "@jupyter-widgets/controls",
            "_model_module_version": "1.5.0",
            "_model_name": "FloatProgressModel",
            "_view_count": null,
            "_view_module": "@jupyter-widgets/controls",
            "_view_module_version": "1.5.0",
            "_view_name": "ProgressView",
            "bar_style": "success",
            "description": "",
            "description_tooltip": null,
            "layout": "IPY_MODEL_804557bbea9440478f90a276e057171b",
            "max": 4540516344,
            "min": 0,
            "orientation": "horizontal",
            "style": "IPY_MODEL_b32faf797af74db7929731efcca052ce",
            "value": 4540516344
          }
        },
        "70beb4ed13f14c0fa3c836289ac65df4": {
          "model_module": "@jupyter-widgets/controls",
          "model_name": "HTMLModel",
          "model_module_version": "1.5.0",
          "state": {
            "_dom_classes": [],
            "_model_module": "@jupyter-widgets/controls",
            "_model_module_version": "1.5.0",
            "_model_name": "HTMLModel",
            "_view_count": null,
            "_view_module": "@jupyter-widgets/controls",
            "_view_module_version": "1.5.0",
            "_view_name": "HTMLView",
            "description": "",
            "description_tooltip": null,
            "layout": "IPY_MODEL_3727643ba83a43f8a2617b1f2b6a1c89",
            "placeholder": "​",
            "style": "IPY_MODEL_30538b6964344fd7b52887e6b78c39ff",
            "value": " 4.54G/4.54G [03:16&lt;00:00, 22.9MB/s]"
          }
        },
        "9cb9c46ab6894fcebe54427e5bc1d892": {
          "model_module": "@jupyter-widgets/base",
          "model_name": "LayoutModel",
          "model_module_version": "1.2.0",
          "state": {
            "_model_module": "@jupyter-widgets/base",
            "_model_module_version": "1.2.0",
            "_model_name": "LayoutModel",
            "_view_count": null,
            "_view_module": "@jupyter-widgets/base",
            "_view_module_version": "1.2.0",
            "_view_name": "LayoutView",
            "align_content": null,
            "align_items": null,
            "align_self": null,
            "border": null,
            "bottom": null,
            "display": null,
            "flex": null,
            "flex_flow": null,
            "grid_area": null,
            "grid_auto_columns": null,
            "grid_auto_flow": null,
            "grid_auto_rows": null,
            "grid_column": null,
            "grid_gap": null,
            "grid_row": null,
            "grid_template_areas": null,
            "grid_template_columns": null,
            "grid_template_rows": null,
            "height": null,
            "justify_content": null,
            "justify_items": null,
            "left": null,
            "margin": null,
            "max_height": null,
            "max_width": null,
            "min_height": null,
            "min_width": null,
            "object_fit": null,
            "object_position": null,
            "order": null,
            "overflow": null,
            "overflow_x": null,
            "overflow_y": null,
            "padding": null,
            "right": null,
            "top": null,
            "visibility": null,
            "width": null
          }
        },
        "4f8671bb2b3c433387d06858555949f4": {
          "model_module": "@jupyter-widgets/base",
          "model_name": "LayoutModel",
          "model_module_version": "1.2.0",
          "state": {
            "_model_module": "@jupyter-widgets/base",
            "_model_module_version": "1.2.0",
            "_model_name": "LayoutModel",
            "_view_count": null,
            "_view_module": "@jupyter-widgets/base",
            "_view_module_version": "1.2.0",
            "_view_name": "LayoutView",
            "align_content": null,
            "align_items": null,
            "align_self": null,
            "border": null,
            "bottom": null,
            "display": null,
            "flex": null,
            "flex_flow": null,
            "grid_area": null,
            "grid_auto_columns": null,
            "grid_auto_flow": null,
            "grid_auto_rows": null,
            "grid_column": null,
            "grid_gap": null,
            "grid_row": null,
            "grid_template_areas": null,
            "grid_template_columns": null,
            "grid_template_rows": null,
            "height": null,
            "justify_content": null,
            "justify_items": null,
            "left": null,
            "margin": null,
            "max_height": null,
            "max_width": null,
            "min_height": null,
            "min_width": null,
            "object_fit": null,
            "object_position": null,
            "order": null,
            "overflow": null,
            "overflow_x": null,
            "overflow_y": null,
            "padding": null,
            "right": null,
            "top": null,
            "visibility": null,
            "width": null
          }
        },
        "385de87db4e34df79cf86c4ce8397060": {
          "model_module": "@jupyter-widgets/controls",
          "model_name": "DescriptionStyleModel",
          "model_module_version": "1.5.0",
          "state": {
            "_model_module": "@jupyter-widgets/controls",
            "_model_module_version": "1.5.0",
            "_model_name": "DescriptionStyleModel",
            "_view_count": null,
            "_view_module": "@jupyter-widgets/base",
            "_view_module_version": "1.2.0",
            "_view_name": "StyleView",
            "description_width": ""
          }
        },
        "804557bbea9440478f90a276e057171b": {
          "model_module": "@jupyter-widgets/base",
          "model_name": "LayoutModel",
          "model_module_version": "1.2.0",
          "state": {
            "_model_module": "@jupyter-widgets/base",
            "_model_module_version": "1.2.0",
            "_model_name": "LayoutModel",
            "_view_count": null,
            "_view_module": "@jupyter-widgets/base",
            "_view_module_version": "1.2.0",
            "_view_name": "LayoutView",
            "align_content": null,
            "align_items": null,
            "align_self": null,
            "border": null,
            "bottom": null,
            "display": null,
            "flex": null,
            "flex_flow": null,
            "grid_area": null,
            "grid_auto_columns": null,
            "grid_auto_flow": null,
            "grid_auto_rows": null,
            "grid_column": null,
            "grid_gap": null,
            "grid_row": null,
            "grid_template_areas": null,
            "grid_template_columns": null,
            "grid_template_rows": null,
            "height": null,
            "justify_content": null,
            "justify_items": null,
            "left": null,
            "margin": null,
            "max_height": null,
            "max_width": null,
            "min_height": null,
            "min_width": null,
            "object_fit": null,
            "object_position": null,
            "order": null,
            "overflow": null,
            "overflow_x": null,
            "overflow_y": null,
            "padding": null,
            "right": null,
            "top": null,
            "visibility": null,
            "width": null
          }
        },
        "b32faf797af74db7929731efcca052ce": {
          "model_module": "@jupyter-widgets/controls",
          "model_name": "ProgressStyleModel",
          "model_module_version": "1.5.0",
          "state": {
            "_model_module": "@jupyter-widgets/controls",
            "_model_module_version": "1.5.0",
            "_model_name": "ProgressStyleModel",
            "_view_count": null,
            "_view_module": "@jupyter-widgets/base",
            "_view_module_version": "1.2.0",
            "_view_name": "StyleView",
            "bar_color": null,
            "description_width": ""
          }
        },
        "3727643ba83a43f8a2617b1f2b6a1c89": {
          "model_module": "@jupyter-widgets/base",
          "model_name": "LayoutModel",
          "model_module_version": "1.2.0",
          "state": {
            "_model_module": "@jupyter-widgets/base",
            "_model_module_version": "1.2.0",
            "_model_name": "LayoutModel",
            "_view_count": null,
            "_view_module": "@jupyter-widgets/base",
            "_view_module_version": "1.2.0",
            "_view_name": "LayoutView",
            "align_content": null,
            "align_items": null,
            "align_self": null,
            "border": null,
            "bottom": null,
            "display": null,
            "flex": null,
            "flex_flow": null,
            "grid_area": null,
            "grid_auto_columns": null,
            "grid_auto_flow": null,
            "grid_auto_rows": null,
            "grid_column": null,
            "grid_gap": null,
            "grid_row": null,
            "grid_template_areas": null,
            "grid_template_columns": null,
            "grid_template_rows": null,
            "height": null,
            "justify_content": null,
            "justify_items": null,
            "left": null,
            "margin": null,
            "max_height": null,
            "max_width": null,
            "min_height": null,
            "min_width": null,
            "object_fit": null,
            "object_position": null,
            "order": null,
            "overflow": null,
            "overflow_x": null,
            "overflow_y": null,
            "padding": null,
            "right": null,
            "top": null,
            "visibility": null,
            "width": null
          }
        },
        "30538b6964344fd7b52887e6b78c39ff": {
          "model_module": "@jupyter-widgets/controls",
          "model_name": "DescriptionStyleModel",
          "model_module_version": "1.5.0",
          "state": {
            "_model_module": "@jupyter-widgets/controls",
            "_model_module_version": "1.5.0",
            "_model_name": "DescriptionStyleModel",
            "_view_count": null,
            "_view_module": "@jupyter-widgets/base",
            "_view_module_version": "1.2.0",
            "_view_name": "StyleView",
            "description_width": ""
          }
        },
        "8b8d2ffa53a642c2a10952d3209745d5": {
          "model_module": "@jupyter-widgets/controls",
          "model_name": "HBoxModel",
          "model_module_version": "1.5.0",
          "state": {
            "_dom_classes": [],
            "_model_module": "@jupyter-widgets/controls",
            "_model_module_version": "1.5.0",
            "_model_name": "HBoxModel",
            "_view_count": null,
            "_view_module": "@jupyter-widgets/controls",
            "_view_module_version": "1.5.0",
            "_view_name": "HBoxView",
            "box_style": "",
            "children": [
              "IPY_MODEL_d4054e3eb0b8465ba0fde1982124f362",
              "IPY_MODEL_979ddc43b70e4dd3866dd7f4660c83f6",
              "IPY_MODEL_9b0d310e75c0417da5194529e1d0619f"
            ],
            "layout": "IPY_MODEL_7c76fe65d7f54534ac2b793843e8e635"
          }
        },
        "d4054e3eb0b8465ba0fde1982124f362": {
          "model_module": "@jupyter-widgets/controls",
          "model_name": "HTMLModel",
          "model_module_version": "1.5.0",
          "state": {
            "_dom_classes": [],
            "_model_module": "@jupyter-widgets/controls",
            "_model_module_version": "1.5.0",
            "_model_name": "HTMLModel",
            "_view_count": null,
            "_view_module": "@jupyter-widgets/controls",
            "_view_module_version": "1.5.0",
            "_view_name": "HTMLView",
            "description": "",
            "description_tooltip": null,
            "layout": "IPY_MODEL_87576ec79eb44fd7832d5bb6060f664f",
            "placeholder": "​",
            "style": "IPY_MODEL_9c3db403d54e4d3b90e93ce0eaf5b344",
            "value": "Loading checkpoint shards: 100%"
          }
        },
        "979ddc43b70e4dd3866dd7f4660c83f6": {
          "model_module": "@jupyter-widgets/controls",
          "model_name": "FloatProgressModel",
          "model_module_version": "1.5.0",
          "state": {
            "_dom_classes": [],
            "_model_module": "@jupyter-widgets/controls",
            "_model_module_version": "1.5.0",
            "_model_name": "FloatProgressModel",
            "_view_count": null,
            "_view_module": "@jupyter-widgets/controls",
            "_view_module_version": "1.5.0",
            "_view_name": "ProgressView",
            "bar_style": "success",
            "description": "",
            "description_tooltip": null,
            "layout": "IPY_MODEL_96c9ef7f5afc4b73b5f888167d4a8f97",
            "max": 2,
            "min": 0,
            "orientation": "horizontal",
            "style": "IPY_MODEL_bfe7d992c461479a9c10bd8e3a2717f2",
            "value": 2
          }
        },
        "9b0d310e75c0417da5194529e1d0619f": {
          "model_module": "@jupyter-widgets/controls",
          "model_name": "HTMLModel",
          "model_module_version": "1.5.0",
          "state": {
            "_dom_classes": [],
            "_model_module": "@jupyter-widgets/controls",
            "_model_module_version": "1.5.0",
            "_model_name": "HTMLModel",
            "_view_count": null,
            "_view_module": "@jupyter-widgets/controls",
            "_view_module_version": "1.5.0",
            "_view_name": "HTMLView",
            "description": "",
            "description_tooltip": null,
            "layout": "IPY_MODEL_f1a1623a3533497f89b409c44ad8858c",
            "placeholder": "​",
            "style": "IPY_MODEL_221e2fc6ca4749fd8cc26877885f58ec",
            "value": " 2/2 [00:08&lt;00:00,  4.04s/it]"
          }
        },
        "7c76fe65d7f54534ac2b793843e8e635": {
          "model_module": "@jupyter-widgets/base",
          "model_name": "LayoutModel",
          "model_module_version": "1.2.0",
          "state": {
            "_model_module": "@jupyter-widgets/base",
            "_model_module_version": "1.2.0",
            "_model_name": "LayoutModel",
            "_view_count": null,
            "_view_module": "@jupyter-widgets/base",
            "_view_module_version": "1.2.0",
            "_view_name": "LayoutView",
            "align_content": null,
            "align_items": null,
            "align_self": null,
            "border": null,
            "bottom": null,
            "display": null,
            "flex": null,
            "flex_flow": null,
            "grid_area": null,
            "grid_auto_columns": null,
            "grid_auto_flow": null,
            "grid_auto_rows": null,
            "grid_column": null,
            "grid_gap": null,
            "grid_row": null,
            "grid_template_areas": null,
            "grid_template_columns": null,
            "grid_template_rows": null,
            "height": null,
            "justify_content": null,
            "justify_items": null,
            "left": null,
            "margin": null,
            "max_height": null,
            "max_width": null,
            "min_height": null,
            "min_width": null,
            "object_fit": null,
            "object_position": null,
            "order": null,
            "overflow": null,
            "overflow_x": null,
            "overflow_y": null,
            "padding": null,
            "right": null,
            "top": null,
            "visibility": null,
            "width": null
          }
        },
        "87576ec79eb44fd7832d5bb6060f664f": {
          "model_module": "@jupyter-widgets/base",
          "model_name": "LayoutModel",
          "model_module_version": "1.2.0",
          "state": {
            "_model_module": "@jupyter-widgets/base",
            "_model_module_version": "1.2.0",
            "_model_name": "LayoutModel",
            "_view_count": null,
            "_view_module": "@jupyter-widgets/base",
            "_view_module_version": "1.2.0",
            "_view_name": "LayoutView",
            "align_content": null,
            "align_items": null,
            "align_self": null,
            "border": null,
            "bottom": null,
            "display": null,
            "flex": null,
            "flex_flow": null,
            "grid_area": null,
            "grid_auto_columns": null,
            "grid_auto_flow": null,
            "grid_auto_rows": null,
            "grid_column": null,
            "grid_gap": null,
            "grid_row": null,
            "grid_template_areas": null,
            "grid_template_columns": null,
            "grid_template_rows": null,
            "height": null,
            "justify_content": null,
            "justify_items": null,
            "left": null,
            "margin": null,
            "max_height": null,
            "max_width": null,
            "min_height": null,
            "min_width": null,
            "object_fit": null,
            "object_position": null,
            "order": null,
            "overflow": null,
            "overflow_x": null,
            "overflow_y": null,
            "padding": null,
            "right": null,
            "top": null,
            "visibility": null,
            "width": null
          }
        },
        "9c3db403d54e4d3b90e93ce0eaf5b344": {
          "model_module": "@jupyter-widgets/controls",
          "model_name": "DescriptionStyleModel",
          "model_module_version": "1.5.0",
          "state": {
            "_model_module": "@jupyter-widgets/controls",
            "_model_module_version": "1.5.0",
            "_model_name": "DescriptionStyleModel",
            "_view_count": null,
            "_view_module": "@jupyter-widgets/base",
            "_view_module_version": "1.2.0",
            "_view_name": "StyleView",
            "description_width": ""
          }
        },
        "96c9ef7f5afc4b73b5f888167d4a8f97": {
          "model_module": "@jupyter-widgets/base",
          "model_name": "LayoutModel",
          "model_module_version": "1.2.0",
          "state": {
            "_model_module": "@jupyter-widgets/base",
            "_model_module_version": "1.2.0",
            "_model_name": "LayoutModel",
            "_view_count": null,
            "_view_module": "@jupyter-widgets/base",
            "_view_module_version": "1.2.0",
            "_view_name": "LayoutView",
            "align_content": null,
            "align_items": null,
            "align_self": null,
            "border": null,
            "bottom": null,
            "display": null,
            "flex": null,
            "flex_flow": null,
            "grid_area": null,
            "grid_auto_columns": null,
            "grid_auto_flow": null,
            "grid_auto_rows": null,
            "grid_column": null,
            "grid_gap": null,
            "grid_row": null,
            "grid_template_areas": null,
            "grid_template_columns": null,
            "grid_template_rows": null,
            "height": null,
            "justify_content": null,
            "justify_items": null,
            "left": null,
            "margin": null,
            "max_height": null,
            "max_width": null,
            "min_height": null,
            "min_width": null,
            "object_fit": null,
            "object_position": null,
            "order": null,
            "overflow": null,
            "overflow_x": null,
            "overflow_y": null,
            "padding": null,
            "right": null,
            "top": null,
            "visibility": null,
            "width": null
          }
        },
        "bfe7d992c461479a9c10bd8e3a2717f2": {
          "model_module": "@jupyter-widgets/controls",
          "model_name": "ProgressStyleModel",
          "model_module_version": "1.5.0",
          "state": {
            "_model_module": "@jupyter-widgets/controls",
            "_model_module_version": "1.5.0",
            "_model_name": "ProgressStyleModel",
            "_view_count": null,
            "_view_module": "@jupyter-widgets/base",
            "_view_module_version": "1.2.0",
            "_view_name": "StyleView",
            "bar_color": null,
            "description_width": ""
          }
        },
        "f1a1623a3533497f89b409c44ad8858c": {
          "model_module": "@jupyter-widgets/base",
          "model_name": "LayoutModel",
          "model_module_version": "1.2.0",
          "state": {
            "_model_module": "@jupyter-widgets/base",
            "_model_module_version": "1.2.0",
            "_model_name": "LayoutModel",
            "_view_count": null,
            "_view_module": "@jupyter-widgets/base",
            "_view_module_version": "1.2.0",
            "_view_name": "LayoutView",
            "align_content": null,
            "align_items": null,
            "align_self": null,
            "border": null,
            "bottom": null,
            "display": null,
            "flex": null,
            "flex_flow": null,
            "grid_area": null,
            "grid_auto_columns": null,
            "grid_auto_flow": null,
            "grid_auto_rows": null,
            "grid_column": null,
            "grid_gap": null,
            "grid_row": null,
            "grid_template_areas": null,
            "grid_template_columns": null,
            "grid_template_rows": null,
            "height": null,
            "justify_content": null,
            "justify_items": null,
            "left": null,
            "margin": null,
            "max_height": null,
            "max_width": null,
            "min_height": null,
            "min_width": null,
            "object_fit": null,
            "object_position": null,
            "order": null,
            "overflow": null,
            "overflow_x": null,
            "overflow_y": null,
            "padding": null,
            "right": null,
            "top": null,
            "visibility": null,
            "width": null
          }
        },
        "221e2fc6ca4749fd8cc26877885f58ec": {
          "model_module": "@jupyter-widgets/controls",
          "model_name": "DescriptionStyleModel",
          "model_module_version": "1.5.0",
          "state": {
            "_model_module": "@jupyter-widgets/controls",
            "_model_module_version": "1.5.0",
            "_model_name": "DescriptionStyleModel",
            "_view_count": null,
            "_view_module": "@jupyter-widgets/base",
            "_view_module_version": "1.2.0",
            "_view_name": "StyleView",
            "description_width": ""
          }
        },
        "6f204029fdeb4664a0f51e8260b04567": {
          "model_module": "@jupyter-widgets/controls",
          "model_name": "HBoxModel",
          "model_module_version": "1.5.0",
          "state": {
            "_dom_classes": [],
            "_model_module": "@jupyter-widgets/controls",
            "_model_module_version": "1.5.0",
            "_model_name": "HBoxModel",
            "_view_count": null,
            "_view_module": "@jupyter-widgets/controls",
            "_view_module_version": "1.5.0",
            "_view_name": "HBoxView",
            "box_style": "",
            "children": [
              "IPY_MODEL_1936967e8e764ab8af5cdc823889d637",
              "IPY_MODEL_a7bf9d07690a4f7d8d9ccde46666d75d",
              "IPY_MODEL_1a306a071e4f4bae9a5aca7a2455f201"
            ],
            "layout": "IPY_MODEL_f40469cba3044264a5b6c9926606f572"
          }
        },
        "1936967e8e764ab8af5cdc823889d637": {
          "model_module": "@jupyter-widgets/controls",
          "model_name": "HTMLModel",
          "model_module_version": "1.5.0",
          "state": {
            "_dom_classes": [],
            "_model_module": "@jupyter-widgets/controls",
            "_model_module_version": "1.5.0",
            "_model_name": "HTMLModel",
            "_view_count": null,
            "_view_module": "@jupyter-widgets/controls",
            "_view_module_version": "1.5.0",
            "_view_name": "HTMLView",
            "description": "",
            "description_tooltip": null,
            "layout": "IPY_MODEL_b9732564751d485588458fe1be1ed55a",
            "placeholder": "​",
            "style": "IPY_MODEL_ddbc17b114934482931ac6a8b8796046",
            "value": "generation_config.json: 100%"
          }
        },
        "a7bf9d07690a4f7d8d9ccde46666d75d": {
          "model_module": "@jupyter-widgets/controls",
          "model_name": "FloatProgressModel",
          "model_module_version": "1.5.0",
          "state": {
            "_dom_classes": [],
            "_model_module": "@jupyter-widgets/controls",
            "_model_module_version": "1.5.0",
            "_model_name": "FloatProgressModel",
            "_view_count": null,
            "_view_module": "@jupyter-widgets/controls",
            "_view_module_version": "1.5.0",
            "_view_name": "ProgressView",
            "bar_style": "success",
            "description": "",
            "description_tooltip": null,
            "layout": "IPY_MODEL_bcf55411f2e745bc9cdc9e8de71840b2",
            "max": 116,
            "min": 0,
            "orientation": "horizontal",
            "style": "IPY_MODEL_038ea10e51d64aedabfa94e46a650dea",
            "value": 116
          }
        },
        "1a306a071e4f4bae9a5aca7a2455f201": {
          "model_module": "@jupyter-widgets/controls",
          "model_name": "HTMLModel",
          "model_module_version": "1.5.0",
          "state": {
            "_dom_classes": [],
            "_model_module": "@jupyter-widgets/controls",
            "_model_module_version": "1.5.0",
            "_model_name": "HTMLModel",
            "_view_count": null,
            "_view_module": "@jupyter-widgets/controls",
            "_view_module_version": "1.5.0",
            "_view_name": "HTMLView",
            "description": "",
            "description_tooltip": null,
            "layout": "IPY_MODEL_4dcb10a08f9444a2a7178a8f80d0e4c8",
            "placeholder": "​",
            "style": "IPY_MODEL_98f6fdcf4bb6424aa65212a3e0de0bf8",
            "value": " 116/116 [00:00&lt;00:00, 11.0kB/s]"
          }
        },
        "f40469cba3044264a5b6c9926606f572": {
          "model_module": "@jupyter-widgets/base",
          "model_name": "LayoutModel",
          "model_module_version": "1.2.0",
          "state": {
            "_model_module": "@jupyter-widgets/base",
            "_model_module_version": "1.2.0",
            "_model_name": "LayoutModel",
            "_view_count": null,
            "_view_module": "@jupyter-widgets/base",
            "_view_module_version": "1.2.0",
            "_view_name": "LayoutView",
            "align_content": null,
            "align_items": null,
            "align_self": null,
            "border": null,
            "bottom": null,
            "display": null,
            "flex": null,
            "flex_flow": null,
            "grid_area": null,
            "grid_auto_columns": null,
            "grid_auto_flow": null,
            "grid_auto_rows": null,
            "grid_column": null,
            "grid_gap": null,
            "grid_row": null,
            "grid_template_areas": null,
            "grid_template_columns": null,
            "grid_template_rows": null,
            "height": null,
            "justify_content": null,
            "justify_items": null,
            "left": null,
            "margin": null,
            "max_height": null,
            "max_width": null,
            "min_height": null,
            "min_width": null,
            "object_fit": null,
            "object_position": null,
            "order": null,
            "overflow": null,
            "overflow_x": null,
            "overflow_y": null,
            "padding": null,
            "right": null,
            "top": null,
            "visibility": null,
            "width": null
          }
        },
        "b9732564751d485588458fe1be1ed55a": {
          "model_module": "@jupyter-widgets/base",
          "model_name": "LayoutModel",
          "model_module_version": "1.2.0",
          "state": {
            "_model_module": "@jupyter-widgets/base",
            "_model_module_version": "1.2.0",
            "_model_name": "LayoutModel",
            "_view_count": null,
            "_view_module": "@jupyter-widgets/base",
            "_view_module_version": "1.2.0",
            "_view_name": "LayoutView",
            "align_content": null,
            "align_items": null,
            "align_self": null,
            "border": null,
            "bottom": null,
            "display": null,
            "flex": null,
            "flex_flow": null,
            "grid_area": null,
            "grid_auto_columns": null,
            "grid_auto_flow": null,
            "grid_auto_rows": null,
            "grid_column": null,
            "grid_gap": null,
            "grid_row": null,
            "grid_template_areas": null,
            "grid_template_columns": null,
            "grid_template_rows": null,
            "height": null,
            "justify_content": null,
            "justify_items": null,
            "left": null,
            "margin": null,
            "max_height": null,
            "max_width": null,
            "min_height": null,
            "min_width": null,
            "object_fit": null,
            "object_position": null,
            "order": null,
            "overflow": null,
            "overflow_x": null,
            "overflow_y": null,
            "padding": null,
            "right": null,
            "top": null,
            "visibility": null,
            "width": null
          }
        },
        "ddbc17b114934482931ac6a8b8796046": {
          "model_module": "@jupyter-widgets/controls",
          "model_name": "DescriptionStyleModel",
          "model_module_version": "1.5.0",
          "state": {
            "_model_module": "@jupyter-widgets/controls",
            "_model_module_version": "1.5.0",
            "_model_name": "DescriptionStyleModel",
            "_view_count": null,
            "_view_module": "@jupyter-widgets/base",
            "_view_module_version": "1.2.0",
            "_view_name": "StyleView",
            "description_width": ""
          }
        },
        "bcf55411f2e745bc9cdc9e8de71840b2": {
          "model_module": "@jupyter-widgets/base",
          "model_name": "LayoutModel",
          "model_module_version": "1.2.0",
          "state": {
            "_model_module": "@jupyter-widgets/base",
            "_model_module_version": "1.2.0",
            "_model_name": "LayoutModel",
            "_view_count": null,
            "_view_module": "@jupyter-widgets/base",
            "_view_module_version": "1.2.0",
            "_view_name": "LayoutView",
            "align_content": null,
            "align_items": null,
            "align_self": null,
            "border": null,
            "bottom": null,
            "display": null,
            "flex": null,
            "flex_flow": null,
            "grid_area": null,
            "grid_auto_columns": null,
            "grid_auto_flow": null,
            "grid_auto_rows": null,
            "grid_column": null,
            "grid_gap": null,
            "grid_row": null,
            "grid_template_areas": null,
            "grid_template_columns": null,
            "grid_template_rows": null,
            "height": null,
            "justify_content": null,
            "justify_items": null,
            "left": null,
            "margin": null,
            "max_height": null,
            "max_width": null,
            "min_height": null,
            "min_width": null,
            "object_fit": null,
            "object_position": null,
            "order": null,
            "overflow": null,
            "overflow_x": null,
            "overflow_y": null,
            "padding": null,
            "right": null,
            "top": null,
            "visibility": null,
            "width": null
          }
        },
        "038ea10e51d64aedabfa94e46a650dea": {
          "model_module": "@jupyter-widgets/controls",
          "model_name": "ProgressStyleModel",
          "model_module_version": "1.5.0",
          "state": {
            "_model_module": "@jupyter-widgets/controls",
            "_model_module_version": "1.5.0",
            "_model_name": "ProgressStyleModel",
            "_view_count": null,
            "_view_module": "@jupyter-widgets/base",
            "_view_module_version": "1.2.0",
            "_view_name": "StyleView",
            "bar_color": null,
            "description_width": ""
          }
        },
        "4dcb10a08f9444a2a7178a8f80d0e4c8": {
          "model_module": "@jupyter-widgets/base",
          "model_name": "LayoutModel",
          "model_module_version": "1.2.0",
          "state": {
            "_model_module": "@jupyter-widgets/base",
            "_model_module_version": "1.2.0",
            "_model_name": "LayoutModel",
            "_view_count": null,
            "_view_module": "@jupyter-widgets/base",
            "_view_module_version": "1.2.0",
            "_view_name": "LayoutView",
            "align_content": null,
            "align_items": null,
            "align_self": null,
            "border": null,
            "bottom": null,
            "display": null,
            "flex": null,
            "flex_flow": null,
            "grid_area": null,
            "grid_auto_columns": null,
            "grid_auto_flow": null,
            "grid_auto_rows": null,
            "grid_column": null,
            "grid_gap": null,
            "grid_row": null,
            "grid_template_areas": null,
            "grid_template_columns": null,
            "grid_template_rows": null,
            "height": null,
            "justify_content": null,
            "justify_items": null,
            "left": null,
            "margin": null,
            "max_height": null,
            "max_width": null,
            "min_height": null,
            "min_width": null,
            "object_fit": null,
            "object_position": null,
            "order": null,
            "overflow": null,
            "overflow_x": null,
            "overflow_y": null,
            "padding": null,
            "right": null,
            "top": null,
            "visibility": null,
            "width": null
          }
        },
        "98f6fdcf4bb6424aa65212a3e0de0bf8": {
          "model_module": "@jupyter-widgets/controls",
          "model_name": "DescriptionStyleModel",
          "model_module_version": "1.5.0",
          "state": {
            "_model_module": "@jupyter-widgets/controls",
            "_model_module_version": "1.5.0",
            "_model_name": "DescriptionStyleModel",
            "_view_count": null,
            "_view_module": "@jupyter-widgets/base",
            "_view_module_version": "1.2.0",
            "_view_name": "StyleView",
            "description_width": ""
          }
        },
        "af6080e0be1147f5be29de7a0602f5a5": {
          "model_module": "@jupyter-widgets/controls",
          "model_name": "HBoxModel",
          "model_module_version": "1.5.0",
          "state": {
            "_dom_classes": [],
            "_model_module": "@jupyter-widgets/controls",
            "_model_module_version": "1.5.0",
            "_model_name": "HBoxModel",
            "_view_count": null,
            "_view_module": "@jupyter-widgets/controls",
            "_view_module_version": "1.5.0",
            "_view_name": "HBoxView",
            "box_style": "",
            "children": [
              "IPY_MODEL_dc0e4839da64441b8dc291b0cef4fa2e",
              "IPY_MODEL_3a5b5c8e15874035bf3a89929ffb1ad7",
              "IPY_MODEL_32f10764a8d145ef959b488b0ba4bccb"
            ],
            "layout": "IPY_MODEL_4be94d0438f2407b8f15b5951eb6a76f"
          }
        },
        "dc0e4839da64441b8dc291b0cef4fa2e": {
          "model_module": "@jupyter-widgets/controls",
          "model_name": "HTMLModel",
          "model_module_version": "1.5.0",
          "state": {
            "_dom_classes": [],
            "_model_module": "@jupyter-widgets/controls",
            "_model_module_version": "1.5.0",
            "_model_name": "HTMLModel",
            "_view_count": null,
            "_view_module": "@jupyter-widgets/controls",
            "_view_module_version": "1.5.0",
            "_view_name": "HTMLView",
            "description": "",
            "description_tooltip": null,
            "layout": "IPY_MODEL_77ebfdf13aa94fd1977b1570b274ee39",
            "placeholder": "​",
            "style": "IPY_MODEL_b7dad828be744e08990f11eeeb935096",
            "value": "tokenizer_config.json: 100%"
          }
        },
        "3a5b5c8e15874035bf3a89929ffb1ad7": {
          "model_module": "@jupyter-widgets/controls",
          "model_name": "FloatProgressModel",
          "model_module_version": "1.5.0",
          "state": {
            "_dom_classes": [],
            "_model_module": "@jupyter-widgets/controls",
            "_model_module_version": "1.5.0",
            "_model_name": "FloatProgressModel",
            "_view_count": null,
            "_view_module": "@jupyter-widgets/controls",
            "_view_module_version": "1.5.0",
            "_view_name": "ProgressView",
            "bar_style": "success",
            "description": "",
            "description_tooltip": null,
            "layout": "IPY_MODEL_0155dfb4d8c9498599f6d0005014d595",
            "max": 996,
            "min": 0,
            "orientation": "horizontal",
            "style": "IPY_MODEL_87547c10562e42c5991abec2eae6ae8c",
            "value": 996
          }
        },
        "32f10764a8d145ef959b488b0ba4bccb": {
          "model_module": "@jupyter-widgets/controls",
          "model_name": "HTMLModel",
          "model_module_version": "1.5.0",
          "state": {
            "_dom_classes": [],
            "_model_module": "@jupyter-widgets/controls",
            "_model_module_version": "1.5.0",
            "_model_name": "HTMLModel",
            "_view_count": null,
            "_view_module": "@jupyter-widgets/controls",
            "_view_module_version": "1.5.0",
            "_view_name": "HTMLView",
            "description": "",
            "description_tooltip": null,
            "layout": "IPY_MODEL_4b6eee6c0a714367b2bd535303de46ca",
            "placeholder": "​",
            "style": "IPY_MODEL_b39fc051bc62413090071fa8a6364aec",
            "value": " 996/996 [00:00&lt;00:00, 80.7kB/s]"
          }
        },
        "4be94d0438f2407b8f15b5951eb6a76f": {
          "model_module": "@jupyter-widgets/base",
          "model_name": "LayoutModel",
          "model_module_version": "1.2.0",
          "state": {
            "_model_module": "@jupyter-widgets/base",
            "_model_module_version": "1.2.0",
            "_model_name": "LayoutModel",
            "_view_count": null,
            "_view_module": "@jupyter-widgets/base",
            "_view_module_version": "1.2.0",
            "_view_name": "LayoutView",
            "align_content": null,
            "align_items": null,
            "align_self": null,
            "border": null,
            "bottom": null,
            "display": null,
            "flex": null,
            "flex_flow": null,
            "grid_area": null,
            "grid_auto_columns": null,
            "grid_auto_flow": null,
            "grid_auto_rows": null,
            "grid_column": null,
            "grid_gap": null,
            "grid_row": null,
            "grid_template_areas": null,
            "grid_template_columns": null,
            "grid_template_rows": null,
            "height": null,
            "justify_content": null,
            "justify_items": null,
            "left": null,
            "margin": null,
            "max_height": null,
            "max_width": null,
            "min_height": null,
            "min_width": null,
            "object_fit": null,
            "object_position": null,
            "order": null,
            "overflow": null,
            "overflow_x": null,
            "overflow_y": null,
            "padding": null,
            "right": null,
            "top": null,
            "visibility": null,
            "width": null
          }
        },
        "77ebfdf13aa94fd1977b1570b274ee39": {
          "model_module": "@jupyter-widgets/base",
          "model_name": "LayoutModel",
          "model_module_version": "1.2.0",
          "state": {
            "_model_module": "@jupyter-widgets/base",
            "_model_module_version": "1.2.0",
            "_model_name": "LayoutModel",
            "_view_count": null,
            "_view_module": "@jupyter-widgets/base",
            "_view_module_version": "1.2.0",
            "_view_name": "LayoutView",
            "align_content": null,
            "align_items": null,
            "align_self": null,
            "border": null,
            "bottom": null,
            "display": null,
            "flex": null,
            "flex_flow": null,
            "grid_area": null,
            "grid_auto_columns": null,
            "grid_auto_flow": null,
            "grid_auto_rows": null,
            "grid_column": null,
            "grid_gap": null,
            "grid_row": null,
            "grid_template_areas": null,
            "grid_template_columns": null,
            "grid_template_rows": null,
            "height": null,
            "justify_content": null,
            "justify_items": null,
            "left": null,
            "margin": null,
            "max_height": null,
            "max_width": null,
            "min_height": null,
            "min_width": null,
            "object_fit": null,
            "object_position": null,
            "order": null,
            "overflow": null,
            "overflow_x": null,
            "overflow_y": null,
            "padding": null,
            "right": null,
            "top": null,
            "visibility": null,
            "width": null
          }
        },
        "b7dad828be744e08990f11eeeb935096": {
          "model_module": "@jupyter-widgets/controls",
          "model_name": "DescriptionStyleModel",
          "model_module_version": "1.5.0",
          "state": {
            "_model_module": "@jupyter-widgets/controls",
            "_model_module_version": "1.5.0",
            "_model_name": "DescriptionStyleModel",
            "_view_count": null,
            "_view_module": "@jupyter-widgets/base",
            "_view_module_version": "1.2.0",
            "_view_name": "StyleView",
            "description_width": ""
          }
        },
        "0155dfb4d8c9498599f6d0005014d595": {
          "model_module": "@jupyter-widgets/base",
          "model_name": "LayoutModel",
          "model_module_version": "1.2.0",
          "state": {
            "_model_module": "@jupyter-widgets/base",
            "_model_module_version": "1.2.0",
            "_model_name": "LayoutModel",
            "_view_count": null,
            "_view_module": "@jupyter-widgets/base",
            "_view_module_version": "1.2.0",
            "_view_name": "LayoutView",
            "align_content": null,
            "align_items": null,
            "align_self": null,
            "border": null,
            "bottom": null,
            "display": null,
            "flex": null,
            "flex_flow": null,
            "grid_area": null,
            "grid_auto_columns": null,
            "grid_auto_flow": null,
            "grid_auto_rows": null,
            "grid_column": null,
            "grid_gap": null,
            "grid_row": null,
            "grid_template_areas": null,
            "grid_template_columns": null,
            "grid_template_rows": null,
            "height": null,
            "justify_content": null,
            "justify_items": null,
            "left": null,
            "margin": null,
            "max_height": null,
            "max_width": null,
            "min_height": null,
            "min_width": null,
            "object_fit": null,
            "object_position": null,
            "order": null,
            "overflow": null,
            "overflow_x": null,
            "overflow_y": null,
            "padding": null,
            "right": null,
            "top": null,
            "visibility": null,
            "width": null
          }
        },
        "87547c10562e42c5991abec2eae6ae8c": {
          "model_module": "@jupyter-widgets/controls",
          "model_name": "ProgressStyleModel",
          "model_module_version": "1.5.0",
          "state": {
            "_model_module": "@jupyter-widgets/controls",
            "_model_module_version": "1.5.0",
            "_model_name": "ProgressStyleModel",
            "_view_count": null,
            "_view_module": "@jupyter-widgets/base",
            "_view_module_version": "1.2.0",
            "_view_name": "StyleView",
            "bar_color": null,
            "description_width": ""
          }
        },
        "4b6eee6c0a714367b2bd535303de46ca": {
          "model_module": "@jupyter-widgets/base",
          "model_name": "LayoutModel",
          "model_module_version": "1.2.0",
          "state": {
            "_model_module": "@jupyter-widgets/base",
            "_model_module_version": "1.2.0",
            "_model_name": "LayoutModel",
            "_view_count": null,
            "_view_module": "@jupyter-widgets/base",
            "_view_module_version": "1.2.0",
            "_view_name": "LayoutView",
            "align_content": null,
            "align_items": null,
            "align_self": null,
            "border": null,
            "bottom": null,
            "display": null,
            "flex": null,
            "flex_flow": null,
            "grid_area": null,
            "grid_auto_columns": null,
            "grid_auto_flow": null,
            "grid_auto_rows": null,
            "grid_column": null,
            "grid_gap": null,
            "grid_row": null,
            "grid_template_areas": null,
            "grid_template_columns": null,
            "grid_template_rows": null,
            "height": null,
            "justify_content": null,
            "justify_items": null,
            "left": null,
            "margin": null,
            "max_height": null,
            "max_width": null,
            "min_height": null,
            "min_width": null,
            "object_fit": null,
            "object_position": null,
            "order": null,
            "overflow": null,
            "overflow_x": null,
            "overflow_y": null,
            "padding": null,
            "right": null,
            "top": null,
            "visibility": null,
            "width": null
          }
        },
        "b39fc051bc62413090071fa8a6364aec": {
          "model_module": "@jupyter-widgets/controls",
          "model_name": "DescriptionStyleModel",
          "model_module_version": "1.5.0",
          "state": {
            "_model_module": "@jupyter-widgets/controls",
            "_model_module_version": "1.5.0",
            "_model_name": "DescriptionStyleModel",
            "_view_count": null,
            "_view_module": "@jupyter-widgets/base",
            "_view_module_version": "1.2.0",
            "_view_name": "StyleView",
            "description_width": ""
          }
        },
        "9ef2cc4a3feb4a8087d6abbe162eefc9": {
          "model_module": "@jupyter-widgets/controls",
          "model_name": "HBoxModel",
          "model_module_version": "1.5.0",
          "state": {
            "_dom_classes": [],
            "_model_module": "@jupyter-widgets/controls",
            "_model_module_version": "1.5.0",
            "_model_name": "HBoxModel",
            "_view_count": null,
            "_view_module": "@jupyter-widgets/controls",
            "_view_module_version": "1.5.0",
            "_view_name": "HBoxView",
            "box_style": "",
            "children": [
              "IPY_MODEL_2e5a7fa8d00e4797b41add65f804f0dd",
              "IPY_MODEL_1e35fef150fe46baa6494fea210646f7",
              "IPY_MODEL_35e8fd2817fd4e889a6843c4c143a3b3"
            ],
            "layout": "IPY_MODEL_d388aba6dcf24011b34d9dfbf6cd7059"
          }
        },
        "2e5a7fa8d00e4797b41add65f804f0dd": {
          "model_module": "@jupyter-widgets/controls",
          "model_name": "HTMLModel",
          "model_module_version": "1.5.0",
          "state": {
            "_dom_classes": [],
            "_model_module": "@jupyter-widgets/controls",
            "_model_module_version": "1.5.0",
            "_model_name": "HTMLModel",
            "_view_count": null,
            "_view_module": "@jupyter-widgets/controls",
            "_view_module_version": "1.5.0",
            "_view_name": "HTMLView",
            "description": "",
            "description_tooltip": null,
            "layout": "IPY_MODEL_5c7a580ed175404b9f595ab5a6e59265",
            "placeholder": "​",
            "style": "IPY_MODEL_609f31fca4fa44f097b02d6f8298d807",
            "value": "tokenizer.model: 100%"
          }
        },
        "1e35fef150fe46baa6494fea210646f7": {
          "model_module": "@jupyter-widgets/controls",
          "model_name": "FloatProgressModel",
          "model_module_version": "1.5.0",
          "state": {
            "_dom_classes": [],
            "_model_module": "@jupyter-widgets/controls",
            "_model_module_version": "1.5.0",
            "_model_name": "FloatProgressModel",
            "_view_count": null,
            "_view_module": "@jupyter-widgets/controls",
            "_view_module_version": "1.5.0",
            "_view_name": "ProgressView",
            "bar_style": "success",
            "description": "",
            "description_tooltip": null,
            "layout": "IPY_MODEL_4c9914e2c18e4b5682d7be47426a4a8f",
            "max": 493443,
            "min": 0,
            "orientation": "horizontal",
            "style": "IPY_MODEL_17f93c5153644de094c3d8c7bb2d70c9",
            "value": 493443
          }
        },
        "35e8fd2817fd4e889a6843c4c143a3b3": {
          "model_module": "@jupyter-widgets/controls",
          "model_name": "HTMLModel",
          "model_module_version": "1.5.0",
          "state": {
            "_dom_classes": [],
            "_model_module": "@jupyter-widgets/controls",
            "_model_module_version": "1.5.0",
            "_model_name": "HTMLModel",
            "_view_count": null,
            "_view_module": "@jupyter-widgets/controls",
            "_view_module_version": "1.5.0",
            "_view_name": "HTMLView",
            "description": "",
            "description_tooltip": null,
            "layout": "IPY_MODEL_10bc5d753075499c9646185937f221dc",
            "placeholder": "​",
            "style": "IPY_MODEL_f63b0bfbbcc24d659921e996c091e474",
            "value": " 493k/493k [00:00&lt;00:00, 724kB/s]"
          }
        },
        "d388aba6dcf24011b34d9dfbf6cd7059": {
          "model_module": "@jupyter-widgets/base",
          "model_name": "LayoutModel",
          "model_module_version": "1.2.0",
          "state": {
            "_model_module": "@jupyter-widgets/base",
            "_model_module_version": "1.2.0",
            "_model_name": "LayoutModel",
            "_view_count": null,
            "_view_module": "@jupyter-widgets/base",
            "_view_module_version": "1.2.0",
            "_view_name": "LayoutView",
            "align_content": null,
            "align_items": null,
            "align_self": null,
            "border": null,
            "bottom": null,
            "display": null,
            "flex": null,
            "flex_flow": null,
            "grid_area": null,
            "grid_auto_columns": null,
            "grid_auto_flow": null,
            "grid_auto_rows": null,
            "grid_column": null,
            "grid_gap": null,
            "grid_row": null,
            "grid_template_areas": null,
            "grid_template_columns": null,
            "grid_template_rows": null,
            "height": null,
            "justify_content": null,
            "justify_items": null,
            "left": null,
            "margin": null,
            "max_height": null,
            "max_width": null,
            "min_height": null,
            "min_width": null,
            "object_fit": null,
            "object_position": null,
            "order": null,
            "overflow": null,
            "overflow_x": null,
            "overflow_y": null,
            "padding": null,
            "right": null,
            "top": null,
            "visibility": null,
            "width": null
          }
        },
        "5c7a580ed175404b9f595ab5a6e59265": {
          "model_module": "@jupyter-widgets/base",
          "model_name": "LayoutModel",
          "model_module_version": "1.2.0",
          "state": {
            "_model_module": "@jupyter-widgets/base",
            "_model_module_version": "1.2.0",
            "_model_name": "LayoutModel",
            "_view_count": null,
            "_view_module": "@jupyter-widgets/base",
            "_view_module_version": "1.2.0",
            "_view_name": "LayoutView",
            "align_content": null,
            "align_items": null,
            "align_self": null,
            "border": null,
            "bottom": null,
            "display": null,
            "flex": null,
            "flex_flow": null,
            "grid_area": null,
            "grid_auto_columns": null,
            "grid_auto_flow": null,
            "grid_auto_rows": null,
            "grid_column": null,
            "grid_gap": null,
            "grid_row": null,
            "grid_template_areas": null,
            "grid_template_columns": null,
            "grid_template_rows": null,
            "height": null,
            "justify_content": null,
            "justify_items": null,
            "left": null,
            "margin": null,
            "max_height": null,
            "max_width": null,
            "min_height": null,
            "min_width": null,
            "object_fit": null,
            "object_position": null,
            "order": null,
            "overflow": null,
            "overflow_x": null,
            "overflow_y": null,
            "padding": null,
            "right": null,
            "top": null,
            "visibility": null,
            "width": null
          }
        },
        "609f31fca4fa44f097b02d6f8298d807": {
          "model_module": "@jupyter-widgets/controls",
          "model_name": "DescriptionStyleModel",
          "model_module_version": "1.5.0",
          "state": {
            "_model_module": "@jupyter-widgets/controls",
            "_model_module_version": "1.5.0",
            "_model_name": "DescriptionStyleModel",
            "_view_count": null,
            "_view_module": "@jupyter-widgets/base",
            "_view_module_version": "1.2.0",
            "_view_name": "StyleView",
            "description_width": ""
          }
        },
        "4c9914e2c18e4b5682d7be47426a4a8f": {
          "model_module": "@jupyter-widgets/base",
          "model_name": "LayoutModel",
          "model_module_version": "1.2.0",
          "state": {
            "_model_module": "@jupyter-widgets/base",
            "_model_module_version": "1.2.0",
            "_model_name": "LayoutModel",
            "_view_count": null,
            "_view_module": "@jupyter-widgets/base",
            "_view_module_version": "1.2.0",
            "_view_name": "LayoutView",
            "align_content": null,
            "align_items": null,
            "align_self": null,
            "border": null,
            "bottom": null,
            "display": null,
            "flex": null,
            "flex_flow": null,
            "grid_area": null,
            "grid_auto_columns": null,
            "grid_auto_flow": null,
            "grid_auto_rows": null,
            "grid_column": null,
            "grid_gap": null,
            "grid_row": null,
            "grid_template_areas": null,
            "grid_template_columns": null,
            "grid_template_rows": null,
            "height": null,
            "justify_content": null,
            "justify_items": null,
            "left": null,
            "margin": null,
            "max_height": null,
            "max_width": null,
            "min_height": null,
            "min_width": null,
            "object_fit": null,
            "object_position": null,
            "order": null,
            "overflow": null,
            "overflow_x": null,
            "overflow_y": null,
            "padding": null,
            "right": null,
            "top": null,
            "visibility": null,
            "width": null
          }
        },
        "17f93c5153644de094c3d8c7bb2d70c9": {
          "model_module": "@jupyter-widgets/controls",
          "model_name": "ProgressStyleModel",
          "model_module_version": "1.5.0",
          "state": {
            "_model_module": "@jupyter-widgets/controls",
            "_model_module_version": "1.5.0",
            "_model_name": "ProgressStyleModel",
            "_view_count": null,
            "_view_module": "@jupyter-widgets/base",
            "_view_module_version": "1.2.0",
            "_view_name": "StyleView",
            "bar_color": null,
            "description_width": ""
          }
        },
        "10bc5d753075499c9646185937f221dc": {
          "model_module": "@jupyter-widgets/base",
          "model_name": "LayoutModel",
          "model_module_version": "1.2.0",
          "state": {
            "_model_module": "@jupyter-widgets/base",
            "_model_module_version": "1.2.0",
            "_model_name": "LayoutModel",
            "_view_count": null,
            "_view_module": "@jupyter-widgets/base",
            "_view_module_version": "1.2.0",
            "_view_name": "LayoutView",
            "align_content": null,
            "align_items": null,
            "align_self": null,
            "border": null,
            "bottom": null,
            "display": null,
            "flex": null,
            "flex_flow": null,
            "grid_area": null,
            "grid_auto_columns": null,
            "grid_auto_flow": null,
            "grid_auto_rows": null,
            "grid_column": null,
            "grid_gap": null,
            "grid_row": null,
            "grid_template_areas": null,
            "grid_template_columns": null,
            "grid_template_rows": null,
            "height": null,
            "justify_content": null,
            "justify_items": null,
            "left": null,
            "margin": null,
            "max_height": null,
            "max_width": null,
            "min_height": null,
            "min_width": null,
            "object_fit": null,
            "object_position": null,
            "order": null,
            "overflow": null,
            "overflow_x": null,
            "overflow_y": null,
            "padding": null,
            "right": null,
            "top": null,
            "visibility": null,
            "width": null
          }
        },
        "f63b0bfbbcc24d659921e996c091e474": {
          "model_module": "@jupyter-widgets/controls",
          "model_name": "DescriptionStyleModel",
          "model_module_version": "1.5.0",
          "state": {
            "_model_module": "@jupyter-widgets/controls",
            "_model_module_version": "1.5.0",
            "_model_name": "DescriptionStyleModel",
            "_view_count": null,
            "_view_module": "@jupyter-widgets/base",
            "_view_module_version": "1.2.0",
            "_view_name": "StyleView",
            "description_width": ""
          }
        },
        "2ed50aca47074803bf209c67f0a4409b": {
          "model_module": "@jupyter-widgets/controls",
          "model_name": "HBoxModel",
          "model_module_version": "1.5.0",
          "state": {
            "_dom_classes": [],
            "_model_module": "@jupyter-widgets/controls",
            "_model_module_version": "1.5.0",
            "_model_name": "HBoxModel",
            "_view_count": null,
            "_view_module": "@jupyter-widgets/controls",
            "_view_module_version": "1.5.0",
            "_view_name": "HBoxView",
            "box_style": "",
            "children": [
              "IPY_MODEL_c172809747c54d908e844c9a16e136b2",
              "IPY_MODEL_8515e95e12634e6a99a43280eab597cf",
              "IPY_MODEL_1138b90a368b406785f8ad0203d17a51"
            ],
            "layout": "IPY_MODEL_17540563bddd402eb29bbdeeda538d96"
          }
        },
        "c172809747c54d908e844c9a16e136b2": {
          "model_module": "@jupyter-widgets/controls",
          "model_name": "HTMLModel",
          "model_module_version": "1.5.0",
          "state": {
            "_dom_classes": [],
            "_model_module": "@jupyter-widgets/controls",
            "_model_module_version": "1.5.0",
            "_model_name": "HTMLModel",
            "_view_count": null,
            "_view_module": "@jupyter-widgets/controls",
            "_view_module_version": "1.5.0",
            "_view_name": "HTMLView",
            "description": "",
            "description_tooltip": null,
            "layout": "IPY_MODEL_9f8f1d2258804104abe41dec05d55665",
            "placeholder": "​",
            "style": "IPY_MODEL_6d9ed493dc53450f8531a8955c4b5297",
            "value": "tokenizer.json: 100%"
          }
        },
        "8515e95e12634e6a99a43280eab597cf": {
          "model_module": "@jupyter-widgets/controls",
          "model_name": "FloatProgressModel",
          "model_module_version": "1.5.0",
          "state": {
            "_dom_classes": [],
            "_model_module": "@jupyter-widgets/controls",
            "_model_module_version": "1.5.0",
            "_model_name": "FloatProgressModel",
            "_view_count": null,
            "_view_module": "@jupyter-widgets/controls",
            "_view_module_version": "1.5.0",
            "_view_name": "ProgressView",
            "bar_style": "success",
            "description": "",
            "description_tooltip": null,
            "layout": "IPY_MODEL_ef6e878bf101440489af440132c9779a",
            "max": 1795188,
            "min": 0,
            "orientation": "horizontal",
            "style": "IPY_MODEL_8452f0b5896c4dc9828c3080d66b44dc",
            "value": 1795188
          }
        },
        "1138b90a368b406785f8ad0203d17a51": {
          "model_module": "@jupyter-widgets/controls",
          "model_name": "HTMLModel",
          "model_module_version": "1.5.0",
          "state": {
            "_dom_classes": [],
            "_model_module": "@jupyter-widgets/controls",
            "_model_module_version": "1.5.0",
            "_model_name": "HTMLModel",
            "_view_count": null,
            "_view_module": "@jupyter-widgets/controls",
            "_view_module_version": "1.5.0",
            "_view_name": "HTMLView",
            "description": "",
            "description_tooltip": null,
            "layout": "IPY_MODEL_dbd27a854a99421c82f88548451dd0fd",
            "placeholder": "​",
            "style": "IPY_MODEL_ad8d583a8d4b4f99a71fc9d1ccaf5a3f",
            "value": " 1.80M/1.80M [00:00&lt;00:00, 2.10MB/s]"
          }
        },
        "17540563bddd402eb29bbdeeda538d96": {
          "model_module": "@jupyter-widgets/base",
          "model_name": "LayoutModel",
          "model_module_version": "1.2.0",
          "state": {
            "_model_module": "@jupyter-widgets/base",
            "_model_module_version": "1.2.0",
            "_model_name": "LayoutModel",
            "_view_count": null,
            "_view_module": "@jupyter-widgets/base",
            "_view_module_version": "1.2.0",
            "_view_name": "LayoutView",
            "align_content": null,
            "align_items": null,
            "align_self": null,
            "border": null,
            "bottom": null,
            "display": null,
            "flex": null,
            "flex_flow": null,
            "grid_area": null,
            "grid_auto_columns": null,
            "grid_auto_flow": null,
            "grid_auto_rows": null,
            "grid_column": null,
            "grid_gap": null,
            "grid_row": null,
            "grid_template_areas": null,
            "grid_template_columns": null,
            "grid_template_rows": null,
            "height": null,
            "justify_content": null,
            "justify_items": null,
            "left": null,
            "margin": null,
            "max_height": null,
            "max_width": null,
            "min_height": null,
            "min_width": null,
            "object_fit": null,
            "object_position": null,
            "order": null,
            "overflow": null,
            "overflow_x": null,
            "overflow_y": null,
            "padding": null,
            "right": null,
            "top": null,
            "visibility": null,
            "width": null
          }
        },
        "9f8f1d2258804104abe41dec05d55665": {
          "model_module": "@jupyter-widgets/base",
          "model_name": "LayoutModel",
          "model_module_version": "1.2.0",
          "state": {
            "_model_module": "@jupyter-widgets/base",
            "_model_module_version": "1.2.0",
            "_model_name": "LayoutModel",
            "_view_count": null,
            "_view_module": "@jupyter-widgets/base",
            "_view_module_version": "1.2.0",
            "_view_name": "LayoutView",
            "align_content": null,
            "align_items": null,
            "align_self": null,
            "border": null,
            "bottom": null,
            "display": null,
            "flex": null,
            "flex_flow": null,
            "grid_area": null,
            "grid_auto_columns": null,
            "grid_auto_flow": null,
            "grid_auto_rows": null,
            "grid_column": null,
            "grid_gap": null,
            "grid_row": null,
            "grid_template_areas": null,
            "grid_template_columns": null,
            "grid_template_rows": null,
            "height": null,
            "justify_content": null,
            "justify_items": null,
            "left": null,
            "margin": null,
            "max_height": null,
            "max_width": null,
            "min_height": null,
            "min_width": null,
            "object_fit": null,
            "object_position": null,
            "order": null,
            "overflow": null,
            "overflow_x": null,
            "overflow_y": null,
            "padding": null,
            "right": null,
            "top": null,
            "visibility": null,
            "width": null
          }
        },
        "6d9ed493dc53450f8531a8955c4b5297": {
          "model_module": "@jupyter-widgets/controls",
          "model_name": "DescriptionStyleModel",
          "model_module_version": "1.5.0",
          "state": {
            "_model_module": "@jupyter-widgets/controls",
            "_model_module_version": "1.5.0",
            "_model_name": "DescriptionStyleModel",
            "_view_count": null,
            "_view_module": "@jupyter-widgets/base",
            "_view_module_version": "1.2.0",
            "_view_name": "StyleView",
            "description_width": ""
          }
        },
        "ef6e878bf101440489af440132c9779a": {
          "model_module": "@jupyter-widgets/base",
          "model_name": "LayoutModel",
          "model_module_version": "1.2.0",
          "state": {
            "_model_module": "@jupyter-widgets/base",
            "_model_module_version": "1.2.0",
            "_model_name": "LayoutModel",
            "_view_count": null,
            "_view_module": "@jupyter-widgets/base",
            "_view_module_version": "1.2.0",
            "_view_name": "LayoutView",
            "align_content": null,
            "align_items": null,
            "align_self": null,
            "border": null,
            "bottom": null,
            "display": null,
            "flex": null,
            "flex_flow": null,
            "grid_area": null,
            "grid_auto_columns": null,
            "grid_auto_flow": null,
            "grid_auto_rows": null,
            "grid_column": null,
            "grid_gap": null,
            "grid_row": null,
            "grid_template_areas": null,
            "grid_template_columns": null,
            "grid_template_rows": null,
            "height": null,
            "justify_content": null,
            "justify_items": null,
            "left": null,
            "margin": null,
            "max_height": null,
            "max_width": null,
            "min_height": null,
            "min_width": null,
            "object_fit": null,
            "object_position": null,
            "order": null,
            "overflow": null,
            "overflow_x": null,
            "overflow_y": null,
            "padding": null,
            "right": null,
            "top": null,
            "visibility": null,
            "width": null
          }
        },
        "8452f0b5896c4dc9828c3080d66b44dc": {
          "model_module": "@jupyter-widgets/controls",
          "model_name": "ProgressStyleModel",
          "model_module_version": "1.5.0",
          "state": {
            "_model_module": "@jupyter-widgets/controls",
            "_model_module_version": "1.5.0",
            "_model_name": "ProgressStyleModel",
            "_view_count": null,
            "_view_module": "@jupyter-widgets/base",
            "_view_module_version": "1.2.0",
            "_view_name": "StyleView",
            "bar_color": null,
            "description_width": ""
          }
        },
        "dbd27a854a99421c82f88548451dd0fd": {
          "model_module": "@jupyter-widgets/base",
          "model_name": "LayoutModel",
          "model_module_version": "1.2.0",
          "state": {
            "_model_module": "@jupyter-widgets/base",
            "_model_module_version": "1.2.0",
            "_model_name": "LayoutModel",
            "_view_count": null,
            "_view_module": "@jupyter-widgets/base",
            "_view_module_version": "1.2.0",
            "_view_name": "LayoutView",
            "align_content": null,
            "align_items": null,
            "align_self": null,
            "border": null,
            "bottom": null,
            "display": null,
            "flex": null,
            "flex_flow": null,
            "grid_area": null,
            "grid_auto_columns": null,
            "grid_auto_flow": null,
            "grid_auto_rows": null,
            "grid_column": null,
            "grid_gap": null,
            "grid_row": null,
            "grid_template_areas": null,
            "grid_template_columns": null,
            "grid_template_rows": null,
            "height": null,
            "justify_content": null,
            "justify_items": null,
            "left": null,
            "margin": null,
            "max_height": null,
            "max_width": null,
            "min_height": null,
            "min_width": null,
            "object_fit": null,
            "object_position": null,
            "order": null,
            "overflow": null,
            "overflow_x": null,
            "overflow_y": null,
            "padding": null,
            "right": null,
            "top": null,
            "visibility": null,
            "width": null
          }
        },
        "ad8d583a8d4b4f99a71fc9d1ccaf5a3f": {
          "model_module": "@jupyter-widgets/controls",
          "model_name": "DescriptionStyleModel",
          "model_module_version": "1.5.0",
          "state": {
            "_model_module": "@jupyter-widgets/controls",
            "_model_module_version": "1.5.0",
            "_model_name": "DescriptionStyleModel",
            "_view_count": null,
            "_view_module": "@jupyter-widgets/base",
            "_view_module_version": "1.2.0",
            "_view_name": "StyleView",
            "description_width": ""
          }
        },
        "df644a94ebff427e8777035a9b9353fc": {
          "model_module": "@jupyter-widgets/controls",
          "model_name": "HBoxModel",
          "model_module_version": "1.5.0",
          "state": {
            "_dom_classes": [],
            "_model_module": "@jupyter-widgets/controls",
            "_model_module_version": "1.5.0",
            "_model_name": "HBoxModel",
            "_view_count": null,
            "_view_module": "@jupyter-widgets/controls",
            "_view_module_version": "1.5.0",
            "_view_name": "HBoxView",
            "box_style": "",
            "children": [
              "IPY_MODEL_0a6ed53b01c84f90ba27f306957271f2",
              "IPY_MODEL_21a09b73c3944baea1ab7117a691fbd3",
              "IPY_MODEL_a3a91061c7c848eaa760e7fb18a1f100"
            ],
            "layout": "IPY_MODEL_f63e1b51cc174db39086f6f1d11dcc61"
          }
        },
        "0a6ed53b01c84f90ba27f306957271f2": {
          "model_module": "@jupyter-widgets/controls",
          "model_name": "HTMLModel",
          "model_module_version": "1.5.0",
          "state": {
            "_dom_classes": [],
            "_model_module": "@jupyter-widgets/controls",
            "_model_module_version": "1.5.0",
            "_model_name": "HTMLModel",
            "_view_count": null,
            "_view_module": "@jupyter-widgets/controls",
            "_view_module_version": "1.5.0",
            "_view_name": "HTMLView",
            "description": "",
            "description_tooltip": null,
            "layout": "IPY_MODEL_abbe302add854fc6a85517f8610cd797",
            "placeholder": "​",
            "style": "IPY_MODEL_4184525c4d6448988805b20fac513334",
            "value": "special_tokens_map.json: 100%"
          }
        },
        "21a09b73c3944baea1ab7117a691fbd3": {
          "model_module": "@jupyter-widgets/controls",
          "model_name": "FloatProgressModel",
          "model_module_version": "1.5.0",
          "state": {
            "_dom_classes": [],
            "_model_module": "@jupyter-widgets/controls",
            "_model_module_version": "1.5.0",
            "_model_name": "FloatProgressModel",
            "_view_count": null,
            "_view_module": "@jupyter-widgets/controls",
            "_view_module_version": "1.5.0",
            "_view_name": "ProgressView",
            "bar_style": "success",
            "description": "",
            "description_tooltip": null,
            "layout": "IPY_MODEL_65dadf92fcc042f48af2fd0b60218c96",
            "max": 414,
            "min": 0,
            "orientation": "horizontal",
            "style": "IPY_MODEL_a1c643b603ae48c986c4bea16c257f59",
            "value": 414
          }
        },
        "a3a91061c7c848eaa760e7fb18a1f100": {
          "model_module": "@jupyter-widgets/controls",
          "model_name": "HTMLModel",
          "model_module_version": "1.5.0",
          "state": {
            "_dom_classes": [],
            "_model_module": "@jupyter-widgets/controls",
            "_model_module_version": "1.5.0",
            "_model_name": "HTMLModel",
            "_view_count": null,
            "_view_module": "@jupyter-widgets/controls",
            "_view_module_version": "1.5.0",
            "_view_name": "HTMLView",
            "description": "",
            "description_tooltip": null,
            "layout": "IPY_MODEL_e1d544d9bdb449beadbe5a81386fdd7b",
            "placeholder": "​",
            "style": "IPY_MODEL_52ef90fe151749958fe2c979be85443f",
            "value": " 414/414 [00:00&lt;00:00, 32.3kB/s]"
          }
        },
        "f63e1b51cc174db39086f6f1d11dcc61": {
          "model_module": "@jupyter-widgets/base",
          "model_name": "LayoutModel",
          "model_module_version": "1.2.0",
          "state": {
            "_model_module": "@jupyter-widgets/base",
            "_model_module_version": "1.2.0",
            "_model_name": "LayoutModel",
            "_view_count": null,
            "_view_module": "@jupyter-widgets/base",
            "_view_module_version": "1.2.0",
            "_view_name": "LayoutView",
            "align_content": null,
            "align_items": null,
            "align_self": null,
            "border": null,
            "bottom": null,
            "display": null,
            "flex": null,
            "flex_flow": null,
            "grid_area": null,
            "grid_auto_columns": null,
            "grid_auto_flow": null,
            "grid_auto_rows": null,
            "grid_column": null,
            "grid_gap": null,
            "grid_row": null,
            "grid_template_areas": null,
            "grid_template_columns": null,
            "grid_template_rows": null,
            "height": null,
            "justify_content": null,
            "justify_items": null,
            "left": null,
            "margin": null,
            "max_height": null,
            "max_width": null,
            "min_height": null,
            "min_width": null,
            "object_fit": null,
            "object_position": null,
            "order": null,
            "overflow": null,
            "overflow_x": null,
            "overflow_y": null,
            "padding": null,
            "right": null,
            "top": null,
            "visibility": null,
            "width": null
          }
        },
        "abbe302add854fc6a85517f8610cd797": {
          "model_module": "@jupyter-widgets/base",
          "model_name": "LayoutModel",
          "model_module_version": "1.2.0",
          "state": {
            "_model_module": "@jupyter-widgets/base",
            "_model_module_version": "1.2.0",
            "_model_name": "LayoutModel",
            "_view_count": null,
            "_view_module": "@jupyter-widgets/base",
            "_view_module_version": "1.2.0",
            "_view_name": "LayoutView",
            "align_content": null,
            "align_items": null,
            "align_self": null,
            "border": null,
            "bottom": null,
            "display": null,
            "flex": null,
            "flex_flow": null,
            "grid_area": null,
            "grid_auto_columns": null,
            "grid_auto_flow": null,
            "grid_auto_rows": null,
            "grid_column": null,
            "grid_gap": null,
            "grid_row": null,
            "grid_template_areas": null,
            "grid_template_columns": null,
            "grid_template_rows": null,
            "height": null,
            "justify_content": null,
            "justify_items": null,
            "left": null,
            "margin": null,
            "max_height": null,
            "max_width": null,
            "min_height": null,
            "min_width": null,
            "object_fit": null,
            "object_position": null,
            "order": null,
            "overflow": null,
            "overflow_x": null,
            "overflow_y": null,
            "padding": null,
            "right": null,
            "top": null,
            "visibility": null,
            "width": null
          }
        },
        "4184525c4d6448988805b20fac513334": {
          "model_module": "@jupyter-widgets/controls",
          "model_name": "DescriptionStyleModel",
          "model_module_version": "1.5.0",
          "state": {
            "_model_module": "@jupyter-widgets/controls",
            "_model_module_version": "1.5.0",
            "_model_name": "DescriptionStyleModel",
            "_view_count": null,
            "_view_module": "@jupyter-widgets/base",
            "_view_module_version": "1.2.0",
            "_view_name": "StyleView",
            "description_width": ""
          }
        },
        "65dadf92fcc042f48af2fd0b60218c96": {
          "model_module": "@jupyter-widgets/base",
          "model_name": "LayoutModel",
          "model_module_version": "1.2.0",
          "state": {
            "_model_module": "@jupyter-widgets/base",
            "_model_module_version": "1.2.0",
            "_model_name": "LayoutModel",
            "_view_count": null,
            "_view_module": "@jupyter-widgets/base",
            "_view_module_version": "1.2.0",
            "_view_name": "LayoutView",
            "align_content": null,
            "align_items": null,
            "align_self": null,
            "border": null,
            "bottom": null,
            "display": null,
            "flex": null,
            "flex_flow": null,
            "grid_area": null,
            "grid_auto_columns": null,
            "grid_auto_flow": null,
            "grid_auto_rows": null,
            "grid_column": null,
            "grid_gap": null,
            "grid_row": null,
            "grid_template_areas": null,
            "grid_template_columns": null,
            "grid_template_rows": null,
            "height": null,
            "justify_content": null,
            "justify_items": null,
            "left": null,
            "margin": null,
            "max_height": null,
            "max_width": null,
            "min_height": null,
            "min_width": null,
            "object_fit": null,
            "object_position": null,
            "order": null,
            "overflow": null,
            "overflow_x": null,
            "overflow_y": null,
            "padding": null,
            "right": null,
            "top": null,
            "visibility": null,
            "width": null
          }
        },
        "a1c643b603ae48c986c4bea16c257f59": {
          "model_module": "@jupyter-widgets/controls",
          "model_name": "ProgressStyleModel",
          "model_module_version": "1.5.0",
          "state": {
            "_model_module": "@jupyter-widgets/controls",
            "_model_module_version": "1.5.0",
            "_model_name": "ProgressStyleModel",
            "_view_count": null,
            "_view_module": "@jupyter-widgets/base",
            "_view_module_version": "1.2.0",
            "_view_name": "StyleView",
            "bar_color": null,
            "description_width": ""
          }
        },
        "e1d544d9bdb449beadbe5a81386fdd7b": {
          "model_module": "@jupyter-widgets/base",
          "model_name": "LayoutModel",
          "model_module_version": "1.2.0",
          "state": {
            "_model_module": "@jupyter-widgets/base",
            "_model_module_version": "1.2.0",
            "_model_name": "LayoutModel",
            "_view_count": null,
            "_view_module": "@jupyter-widgets/base",
            "_view_module_version": "1.2.0",
            "_view_name": "LayoutView",
            "align_content": null,
            "align_items": null,
            "align_self": null,
            "border": null,
            "bottom": null,
            "display": null,
            "flex": null,
            "flex_flow": null,
            "grid_area": null,
            "grid_auto_columns": null,
            "grid_auto_flow": null,
            "grid_auto_rows": null,
            "grid_column": null,
            "grid_gap": null,
            "grid_row": null,
            "grid_template_areas": null,
            "grid_template_columns": null,
            "grid_template_rows": null,
            "height": null,
            "justify_content": null,
            "justify_items": null,
            "left": null,
            "margin": null,
            "max_height": null,
            "max_width": null,
            "min_height": null,
            "min_width": null,
            "object_fit": null,
            "object_position": null,
            "order": null,
            "overflow": null,
            "overflow_x": null,
            "overflow_y": null,
            "padding": null,
            "right": null,
            "top": null,
            "visibility": null,
            "width": null
          }
        },
        "52ef90fe151749958fe2c979be85443f": {
          "model_module": "@jupyter-widgets/controls",
          "model_name": "DescriptionStyleModel",
          "model_module_version": "1.5.0",
          "state": {
            "_model_module": "@jupyter-widgets/controls",
            "_model_module_version": "1.5.0",
            "_model_name": "DescriptionStyleModel",
            "_view_count": null,
            "_view_module": "@jupyter-widgets/base",
            "_view_module_version": "1.2.0",
            "_view_name": "StyleView",
            "description_width": ""
          }
        }
      }
    }
  },
  "nbformat": 4,
  "nbformat_minor": 0
}